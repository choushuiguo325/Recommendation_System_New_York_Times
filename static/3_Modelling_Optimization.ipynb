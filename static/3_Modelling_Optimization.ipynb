{
 "cells": [
  {
   "cell_type": "markdown",
   "metadata": {},
   "source": [
    "# Model training and optimzation\n",
    "The recommendation model training and optimiation involves two parts as shown below: \n",
    "1. Data cleaning and processing <br>\n",
    "    a. Access the category information from new articles in validation set <br>\n",
    "    b. Get two feature TF-IDF matrixes for previous articles and new articels respectively <br>\n",
    "    c. Compute the cosine similarity bewtween previous articles and new articles <br>\n",
    "    d. Modelling <br>\n",
    "2. Model optimization <br>\n",
    "a. Optimization on category features using min_df and max_df in \"TfidfVectorizer\" process <br>\n",
    "b. Optimization on the total number of articles recommended <br>\n",
    "c. Optimization on the ratio of the number of new articles to previous articles <br>"
   ]
  },
  {
   "cell_type": "code",
   "execution_count": 585,
   "metadata": {},
   "outputs": [],
   "source": [
    "import random\n",
    "import pandas as pd\n",
    "import numpy as np\n",
    "import math\n",
    "import scipy.stats as st\n",
    "import matplotlib.pyplot as plt\n",
    "from wordcloud import WordCloud\n",
    "import seaborn as sns\n",
    "import re\n",
    "import string\n",
    "import nltk\n",
    "from nltk.corpus import stopwords\n",
    "from nltk.stem import WordNetLemmatizer\n",
    "from nltk.tag import pos_tag\n",
    "from nltk.tokenize import word_tokenize\n",
    "from nltk.corpus import wordnet\n",
    "from sklearn.feature_extraction.text import CountVectorizer,TfidfVectorizer,TfidfTransformer "
   ]
  },
  {
   "cell_type": "markdown",
   "metadata": {},
   "source": [
    "### Load the data"
   ]
  },
  {
   "cell_type": "code",
   "execution_count": 671,
   "metadata": {},
   "outputs": [],
   "source": [
    "%store -r train_df\n",
    "%store -r valid_df\n",
    "%store -r test_df\n",
    "\n",
    "%store -r val_articles_df\n",
    "%store -r train_articles_df\n",
    "\n",
    "%store -r end0\n",
    "%store -r end1\n",
    "%store -r end2\n",
    "%store -r end3\n",
    "%store -r end4\n",
    "%store -r end5\n",
    "%store -r end6\n",
    "%store -r end7"
   ]
  },
  {
   "cell_type": "markdown",
   "metadata": {},
   "source": [
    "### 1. Data cleaning and processing"
   ]
  },
  {
   "cell_type": "code",
   "execution_count": 650,
   "metadata": {},
   "outputs": [
    {
     "data": {
      "text/html": [
       "<div>\n",
       "<style scoped>\n",
       "    .dataframe tbody tr th:only-of-type {\n",
       "        vertical-align: middle;\n",
       "    }\n",
       "\n",
       "    .dataframe tbody tr th {\n",
       "        vertical-align: top;\n",
       "    }\n",
       "\n",
       "    .dataframe thead th {\n",
       "        text-align: right;\n",
       "    }\n",
       "</style>\n",
       "<table border=\"1\" class=\"dataframe\">\n",
       "  <thead>\n",
       "    <tr style=\"text-align: right;\">\n",
       "      <th></th>\n",
       "      <th>contentID</th>\n",
       "      <th>headline</th>\n",
       "      <th>categories</th>\n",
       "      <th>releaseDateTime</th>\n",
       "      <th>h_score</th>\n",
       "      <th>h_compound</th>\n",
       "    </tr>\n",
       "  </thead>\n",
       "  <tbody>\n",
       "    <tr>\n",
       "      <th>0</th>\n",
       "      <td>www.arkansasonline.com/news/2018/jun/30/arrest...</td>\n",
       "      <td>arrest state legislator urge quit post</td>\n",
       "      <td>News Arkansas   News Politics Arkansas</td>\n",
       "      <td>2018-06-30</td>\n",
       "      <td>-0.3400</td>\n",
       "      <td>negative</td>\n",
       "    </tr>\n",
       "    <tr>\n",
       "      <th>1</th>\n",
       "      <td>www.arkansasonline.com/news/2018/jun/30/suspec...</td>\n",
       "      <td>suspect arrest fatal shoot pulaski county</td>\n",
       "      <td>News Arkansas Crime</td>\n",
       "      <td>2018-06-30</td>\n",
       "      <td>-0.8591</td>\n",
       "      <td>negative</td>\n",
       "    </tr>\n",
       "    <tr>\n",
       "      <th>2</th>\n",
       "      <td>www.arkansasonline.com/news/2018/jun/30/police...</td>\n",
       "      <td>police officer fatal shoot self central arkans...</td>\n",
       "      <td>News Arkansas</td>\n",
       "      <td>2018-06-30</td>\n",
       "      <td>-0.7096</td>\n",
       "      <td>negative</td>\n",
       "    </tr>\n",
       "    <tr>\n",
       "      <th>3</th>\n",
       "      <td>www.arkansasonline.com/news/2018/jun/30/motorc...</td>\n",
       "      <td>motorcyclist kill headon crash little rock suv...</td>\n",
       "      <td>News Arkansas   News Arkansas Crime</td>\n",
       "      <td>2018-06-30</td>\n",
       "      <td>-0.8126</td>\n",
       "      <td>negative</td>\n",
       "    </tr>\n",
       "    <tr>\n",
       "      <th>4</th>\n",
       "      <td>www.arkansasonline.com/news/2018/jun/30/early-...</td>\n",
       "      <td>recruit guy early offer get high recruit wr ca...</td>\n",
       "      <td>None Recruiting   Sports College Razorbacks Ra...</td>\n",
       "      <td>2018-06-30</td>\n",
       "      <td>0.4588</td>\n",
       "      <td>positive</td>\n",
       "    </tr>\n",
       "  </tbody>\n",
       "</table>\n",
       "</div>"
      ],
      "text/plain": [
       "                                           contentID  \\\n",
       "0  www.arkansasonline.com/news/2018/jun/30/arrest...   \n",
       "1  www.arkansasonline.com/news/2018/jun/30/suspec...   \n",
       "2  www.arkansasonline.com/news/2018/jun/30/police...   \n",
       "3  www.arkansasonline.com/news/2018/jun/30/motorc...   \n",
       "4  www.arkansasonline.com/news/2018/jun/30/early-...   \n",
       "\n",
       "                                            headline  \\\n",
       "0             arrest state legislator urge quit post   \n",
       "1          suspect arrest fatal shoot pulaski county   \n",
       "2  police officer fatal shoot self central arkans...   \n",
       "3  motorcyclist kill headon crash little rock suv...   \n",
       "4  recruit guy early offer get high recruit wr ca...   \n",
       "\n",
       "                                          categories releaseDateTime  h_score  \\\n",
       "0             News Arkansas   News Politics Arkansas      2018-06-30  -0.3400   \n",
       "1                                News Arkansas Crime      2018-06-30  -0.8591   \n",
       "2                                      News Arkansas      2018-06-30  -0.7096   \n",
       "3                News Arkansas   News Arkansas Crime      2018-06-30  -0.8126   \n",
       "4  None Recruiting   Sports College Razorbacks Ra...      2018-06-30   0.4588   \n",
       "\n",
       "  h_compound  \n",
       "0   negative  \n",
       "1   negative  \n",
       "2   negative  \n",
       "3   negative  \n",
       "4   positive  "
      ]
     },
     "execution_count": 650,
     "metadata": {},
     "output_type": "execute_result"
    }
   ],
   "source": [
    "train_articles_df.head()"
   ]
  },
  {
   "cell_type": "code",
   "execution_count": 672,
   "metadata": {},
   "outputs": [
    {
     "data": {
      "text/html": [
       "<div>\n",
       "<style scoped>\n",
       "    .dataframe tbody tr th:only-of-type {\n",
       "        vertical-align: middle;\n",
       "    }\n",
       "\n",
       "    .dataframe tbody tr th {\n",
       "        vertical-align: top;\n",
       "    }\n",
       "\n",
       "    .dataframe thead th {\n",
       "        text-align: right;\n",
       "    }\n",
       "</style>\n",
       "<table border=\"1\" class=\"dataframe\">\n",
       "  <thead>\n",
       "    <tr style=\"text-align: right;\">\n",
       "      <th></th>\n",
       "      <th>read_article</th>\n",
       "      <th>visits</th>\n",
       "      <th>visitor</th>\n",
       "    </tr>\n",
       "  </thead>\n",
       "  <tbody>\n",
       "    <tr>\n",
       "      <th>0</th>\n",
       "      <td>www.arkansasonline.com/news/2018/aug/29/food-n...</td>\n",
       "      <td>910</td>\n",
       "      <td>393</td>\n",
       "    </tr>\n",
       "    <tr>\n",
       "      <th>1</th>\n",
       "      <td>www.arkansasonline.com/news/2018/aug/31/former...</td>\n",
       "      <td>734</td>\n",
       "      <td>296</td>\n",
       "    </tr>\n",
       "    <tr>\n",
       "      <th>2</th>\n",
       "      <td>www.arkansasonline.com/news/2018/aug/22/arkans...</td>\n",
       "      <td>656</td>\n",
       "      <td>316</td>\n",
       "    </tr>\n",
       "    <tr>\n",
       "      <th>3</th>\n",
       "      <td>www.arkansasonline.com/news/2018/jul/19/sherif...</td>\n",
       "      <td>594</td>\n",
       "      <td>243</td>\n",
       "    </tr>\n",
       "    <tr>\n",
       "      <th>4</th>\n",
       "      <td>www.arkansasonline.com/news/2018/aug/16/little...</td>\n",
       "      <td>583</td>\n",
       "      <td>268</td>\n",
       "    </tr>\n",
       "    <tr>\n",
       "      <th>...</th>\n",
       "      <td>...</td>\n",
       "      <td>...</td>\n",
       "      <td>...</td>\n",
       "    </tr>\n",
       "    <tr>\n",
       "      <th>8518</th>\n",
       "      <td>www.arkansasonline.com/news/2018/aug/12/look-f...</td>\n",
       "      <td>1</td>\n",
       "      <td>1</td>\n",
       "    </tr>\n",
       "    <tr>\n",
       "      <th>8519</th>\n",
       "      <td>www.arkansasonline.com/news/2018/aug/12/major-...</td>\n",
       "      <td>1</td>\n",
       "      <td>1</td>\n",
       "    </tr>\n",
       "    <tr>\n",
       "      <th>8520</th>\n",
       "      <td>www.arkansasonline.com/news/2018/aug/12/mercy-...</td>\n",
       "      <td>1</td>\n",
       "      <td>1</td>\n",
       "    </tr>\n",
       "    <tr>\n",
       "      <th>8521</th>\n",
       "      <td>www.arkansasonline.com/news/2018/aug/12/new-le...</td>\n",
       "      <td>1</td>\n",
       "      <td>1</td>\n",
       "    </tr>\n",
       "    <tr>\n",
       "      <th>8522</th>\n",
       "      <td>www.arkansasonline.com/news/2018/apr/22/divorc...</td>\n",
       "      <td>1</td>\n",
       "      <td>1</td>\n",
       "    </tr>\n",
       "  </tbody>\n",
       "</table>\n",
       "<p>8523 rows × 3 columns</p>\n",
       "</div>"
      ],
      "text/plain": [
       "                                           read_article  visits  visitor\n",
       "0     www.arkansasonline.com/news/2018/aug/29/food-n...     910      393\n",
       "1     www.arkansasonline.com/news/2018/aug/31/former...     734      296\n",
       "2     www.arkansasonline.com/news/2018/aug/22/arkans...     656      316\n",
       "3     www.arkansasonline.com/news/2018/jul/19/sherif...     594      243\n",
       "4     www.arkansasonline.com/news/2018/aug/16/little...     583      268\n",
       "...                                                 ...     ...      ...\n",
       "8518  www.arkansasonline.com/news/2018/aug/12/look-f...       1        1\n",
       "8519  www.arkansasonline.com/news/2018/aug/12/major-...       1        1\n",
       "8520  www.arkansasonline.com/news/2018/aug/12/mercy-...       1        1\n",
       "8521  www.arkansasonline.com/news/2018/aug/12/new-le...       1        1\n",
       "8522  www.arkansasonline.com/news/2018/apr/22/divorc...       1        1\n",
       "\n",
       "[8523 rows x 3 columns]"
      ]
     },
     "execution_count": 672,
     "metadata": {},
     "output_type": "execute_result"
    }
   ],
   "source": [
    "#  get the dataframe showing the number of page visits and visitors for each article\n",
    "train_article_visit_counts = train_df.groupby(['contentID']).count().sort_values('headline', ascending = False)\n",
    "train_article_visit_counts['contentID'] = train_article_visit_counts.index\n",
    "train_article_visit_counts = train_article_visit_counts.reset_index(drop = True)\n",
    "train_article_visitor_counts = train_df.drop_duplicates(subset = ['contentID', 'visitorID']).groupby(['contentID']).count()\n",
    "train_article_visitor_counts['contentID'] = train_article_visitor_counts.index\n",
    "train_article_visitor_counts = train_article_visitor_counts.reset_index(drop = True)\n",
    "\n",
    "train_article_counts_df = pd.merge(train_article_visit_counts, train_article_visitor_counts, on = 'contentID', how = 'inner')[['contentID', 'headline_x','headline_y']]\n",
    "train_article_counts_df.columns = ['read_article', 'visits', 'visitor']\n",
    "train_article_counts_df"
   ]
  },
  {
   "cell_type": "code",
   "execution_count": 673,
   "metadata": {},
   "outputs": [
    {
     "data": {
      "text/html": [
       "<div>\n",
       "<style scoped>\n",
       "    .dataframe tbody tr th:only-of-type {\n",
       "        vertical-align: middle;\n",
       "    }\n",
       "\n",
       "    .dataframe tbody tr th {\n",
       "        vertical-align: top;\n",
       "    }\n",
       "\n",
       "    .dataframe thead th {\n",
       "        text-align: right;\n",
       "    }\n",
       "</style>\n",
       "<table border=\"1\" class=\"dataframe\">\n",
       "  <thead>\n",
       "    <tr style=\"text-align: right;\">\n",
       "      <th></th>\n",
       "      <th>contentID</th>\n",
       "      <th>headline</th>\n",
       "      <th>categories</th>\n",
       "      <th>releaseDateTime</th>\n",
       "    </tr>\n",
       "  </thead>\n",
       "  <tbody>\n",
       "    <tr>\n",
       "      <th>0</th>\n",
       "      <td>www.arkansasonline.com/news/2018/sep/03/trump-...</td>\n",
       "      <td>trump attack union leader labor day</td>\n",
       "      <td>News National   News Politics National</td>\n",
       "      <td>2018-09-03</td>\n",
       "    </tr>\n",
       "    <tr>\n",
       "      <th>1</th>\n",
       "      <td>www.arkansasonline.com/news/2018/sep/03/injuri...</td>\n",
       "      <td>injury force merrick football retirement</td>\n",
       "      <td>Sports College Razorbacks RazobacksCollegeFoo...</td>\n",
       "      <td>2018-09-03</td>\n",
       "    </tr>\n",
       "    <tr>\n",
       "      <th>2</th>\n",
       "      <td>www.arkansasonline.com/news/2018/sep/03/galler...</td>\n",
       "      <td>gallery annual national championship chuckwago...</td>\n",
       "      <td>News Arkansas</td>\n",
       "      <td>2018-09-03</td>\n",
       "    </tr>\n",
       "    <tr>\n",
       "      <th>3</th>\n",
       "      <td>www.arkansasonline.com/news/2018/sep/03/33-yea...</td>\n",
       "      <td>arkansan dy wreck involve peterbilt truck</td>\n",
       "      <td>News Arkansas   News Fatalwrecks</td>\n",
       "      <td>2018-09-03</td>\n",
       "    </tr>\n",
       "    <tr>\n",
       "      <th>4</th>\n",
       "      <td>www.arkansasonline.com/news/2018/sep/03/arkans...</td>\n",
       "      <td>arkansas cinema society support local filmmake...</td>\n",
       "      <td>None Lr   News Arkansas   News Arkansas Entert...</td>\n",
       "      <td>2018-09-03</td>\n",
       "    </tr>\n",
       "  </tbody>\n",
       "</table>\n",
       "</div>"
      ],
      "text/plain": [
       "                                           contentID  \\\n",
       "0  www.arkansasonline.com/news/2018/sep/03/trump-...   \n",
       "1  www.arkansasonline.com/news/2018/sep/03/injuri...   \n",
       "2  www.arkansasonline.com/news/2018/sep/03/galler...   \n",
       "3  www.arkansasonline.com/news/2018/sep/03/33-yea...   \n",
       "4  www.arkansasonline.com/news/2018/sep/03/arkans...   \n",
       "\n",
       "                                            headline  \\\n",
       "0                trump attack union leader labor day   \n",
       "1           injury force merrick football retirement   \n",
       "2  gallery annual national championship chuckwago...   \n",
       "3          arkansan dy wreck involve peterbilt truck   \n",
       "4  arkansas cinema society support local filmmake...   \n",
       "\n",
       "                                          categories releaseDateTime  \n",
       "0             News National   News Politics National      2018-09-03  \n",
       "1   Sports College Razorbacks RazobacksCollegeFoo...      2018-09-03  \n",
       "2                                      News Arkansas      2018-09-03  \n",
       "3                   News Arkansas   News Fatalwrecks      2018-09-03  \n",
       "4  None Lr   News Arkansas   News Arkansas Entert...      2018-09-03  "
      ]
     },
     "execution_count": 673,
     "metadata": {},
     "output_type": "execute_result"
    }
   ],
   "source": [
    "val_articles_df.head()"
   ]
  },
  {
   "cell_type": "code",
   "execution_count": 674,
   "metadata": {},
   "outputs": [],
   "source": [
    "train_visitors = train_df['visitorID'].unique().tolist() # 2884\n",
    "val_visitors = valid_df['visitorID'].unique().tolist() # 1868"
   ]
  },
  {
   "cell_type": "code",
   "execution_count": 675,
   "metadata": {},
   "outputs": [
    {
     "data": {
      "text/html": [
       "<div>\n",
       "<style scoped>\n",
       "    .dataframe tbody tr th:only-of-type {\n",
       "        vertical-align: middle;\n",
       "    }\n",
       "\n",
       "    .dataframe tbody tr th {\n",
       "        vertical-align: top;\n",
       "    }\n",
       "\n",
       "    .dataframe thead th {\n",
       "        text-align: right;\n",
       "    }\n",
       "</style>\n",
       "<table border=\"1\" class=\"dataframe\">\n",
       "  <thead>\n",
       "    <tr style=\"text-align: right;\">\n",
       "      <th></th>\n",
       "      <th>contentID</th>\n",
       "      <th>visitorID</th>\n",
       "    </tr>\n",
       "  </thead>\n",
       "  <tbody>\n",
       "    <tr>\n",
       "      <th>0</th>\n",
       "      <td>www.arkansasonline.com/news/2018/jul/17/author...</td>\n",
       "      <td>2.011047e+14</td>\n",
       "    </tr>\n",
       "    <tr>\n",
       "      <th>1</th>\n",
       "      <td>www.arkansasonline.com/news/2017/may/25/patti-...</td>\n",
       "      <td>2.011047e+14</td>\n",
       "    </tr>\n",
       "    <tr>\n",
       "      <th>2</th>\n",
       "      <td>www.arkansasonline.com/news/2018/aug/09/arkans...</td>\n",
       "      <td>2.011047e+14</td>\n",
       "    </tr>\n",
       "    <tr>\n",
       "      <th>3</th>\n",
       "      <td>www.arkansasonline.com/news/2018/aug/09/banana...</td>\n",
       "      <td>2.011047e+14</td>\n",
       "    </tr>\n",
       "    <tr>\n",
       "      <th>4</th>\n",
       "      <td>www.arkansasonline.com/news/2018/aug/01/blaze-...</td>\n",
       "      <td>2.011047e+14</td>\n",
       "    </tr>\n",
       "    <tr>\n",
       "      <th>...</th>\n",
       "      <td>...</td>\n",
       "      <td>...</td>\n",
       "    </tr>\n",
       "    <tr>\n",
       "      <th>102876</th>\n",
       "      <td>www.arkansasonline.com/news/2018/aug/19/legisl...</td>\n",
       "      <td>1.805825e+19</td>\n",
       "    </tr>\n",
       "    <tr>\n",
       "      <th>102877</th>\n",
       "      <td>www.arkansasonline.com/news/2018/aug/29/food-n...</td>\n",
       "      <td>1.805825e+19</td>\n",
       "    </tr>\n",
       "    <tr>\n",
       "      <th>102878</th>\n",
       "      <td>www.arkansasonline.com/news/2018/aug/24/missou...</td>\n",
       "      <td>1.805825e+19</td>\n",
       "    </tr>\n",
       "    <tr>\n",
       "      <th>102879</th>\n",
       "      <td>www.arkansasonline.com/news/2018/aug/24/channe...</td>\n",
       "      <td>1.805825e+19</td>\n",
       "    </tr>\n",
       "    <tr>\n",
       "      <th>102880</th>\n",
       "      <td>www.arkansasonline.com/news/2018/aug/24/bail-s...</td>\n",
       "      <td>1.805825e+19</td>\n",
       "    </tr>\n",
       "  </tbody>\n",
       "</table>\n",
       "<p>102881 rows × 2 columns</p>\n",
       "</div>"
      ],
      "text/plain": [
       "                                                contentID     visitorID\n",
       "0       www.arkansasonline.com/news/2018/jul/17/author...  2.011047e+14\n",
       "1       www.arkansasonline.com/news/2017/may/25/patti-...  2.011047e+14\n",
       "2       www.arkansasonline.com/news/2018/aug/09/arkans...  2.011047e+14\n",
       "3       www.arkansasonline.com/news/2018/aug/09/banana...  2.011047e+14\n",
       "4       www.arkansasonline.com/news/2018/aug/01/blaze-...  2.011047e+14\n",
       "...                                                   ...           ...\n",
       "102876  www.arkansasonline.com/news/2018/aug/19/legisl...  1.805825e+19\n",
       "102877  www.arkansasonline.com/news/2018/aug/29/food-n...  1.805825e+19\n",
       "102878  www.arkansasonline.com/news/2018/aug/24/missou...  1.805825e+19\n",
       "102879  www.arkansasonline.com/news/2018/aug/24/channe...  1.805825e+19\n",
       "102880  www.arkansasonline.com/news/2018/aug/24/bail-s...  1.805825e+19\n",
       "\n",
       "[102881 rows x 2 columns]"
      ]
     },
     "execution_count": 675,
     "metadata": {},
     "output_type": "execute_result"
    }
   ],
   "source": [
    "# the page visits info in training set\n",
    "# which we could refer to in order to find similar new articles for former visitors\n",
    "train_visits = train_df.drop_duplicates(subset = ['contentID', 'visitorID'])[['contentID', 'visitorID']]\n",
    "train_visits = train_visits.sort_values('visitorID').reset_index(drop = True)\n",
    "train_visits"
   ]
  },
  {
   "cell_type": "code",
   "execution_count": 676,
   "metadata": {},
   "outputs": [
    {
     "data": {
      "text/html": [
       "<div>\n",
       "<style scoped>\n",
       "    .dataframe tbody tr th:only-of-type {\n",
       "        vertical-align: middle;\n",
       "    }\n",
       "\n",
       "    .dataframe tbody tr th {\n",
       "        vertical-align: top;\n",
       "    }\n",
       "\n",
       "    .dataframe thead th {\n",
       "        text-align: right;\n",
       "    }\n",
       "</style>\n",
       "<table border=\"1\" class=\"dataframe\">\n",
       "  <thead>\n",
       "    <tr style=\"text-align: right;\">\n",
       "      <th></th>\n",
       "      <th>contentID</th>\n",
       "      <th>visitorID</th>\n",
       "    </tr>\n",
       "  </thead>\n",
       "  <tbody>\n",
       "    <tr>\n",
       "      <th>0</th>\n",
       "      <td>www.arkansasonline.com/news/2018/sep/12/bigger...</td>\n",
       "      <td>2.011047e+14</td>\n",
       "    </tr>\n",
       "    <tr>\n",
       "      <th>1</th>\n",
       "      <td>www.arkansasonline.com/news/2018/sep/12/morris...</td>\n",
       "      <td>2.011047e+14</td>\n",
       "    </tr>\n",
       "    <tr>\n",
       "      <th>2</th>\n",
       "      <td>www.arkansasonline.com/news/2018/sep/12/video-...</td>\n",
       "      <td>2.011047e+14</td>\n",
       "    </tr>\n",
       "    <tr>\n",
       "      <th>3</th>\n",
       "      <td>www.arkansasonline.com/news/2018/sep/06/jury-t...</td>\n",
       "      <td>4.259291e+15</td>\n",
       "    </tr>\n",
       "    <tr>\n",
       "      <th>4</th>\n",
       "      <td>www.arkansasonline.com/news/2018/sep/07/confro...</td>\n",
       "      <td>4.259291e+15</td>\n",
       "    </tr>\n",
       "    <tr>\n",
       "      <th>...</th>\n",
       "      <td>...</td>\n",
       "      <td>...</td>\n",
       "    </tr>\n",
       "    <tr>\n",
       "      <th>25188</th>\n",
       "      <td>www.arkansasonline.com/news/2018/sep/12/fronti...</td>\n",
       "      <td>1.805825e+19</td>\n",
       "    </tr>\n",
       "    <tr>\n",
       "      <th>25189</th>\n",
       "      <td>www.arkansasonline.com/news/2018/sep/13/board-...</td>\n",
       "      <td>1.805825e+19</td>\n",
       "    </tr>\n",
       "    <tr>\n",
       "      <th>25190</th>\n",
       "      <td>www.arkansasonline.com/news/2018/sep/15/key-pi...</td>\n",
       "      <td>1.805825e+19</td>\n",
       "    </tr>\n",
       "    <tr>\n",
       "      <th>25191</th>\n",
       "      <td>www.arkansasonline.com/news/2018/sep/05/judge-...</td>\n",
       "      <td>1.805825e+19</td>\n",
       "    </tr>\n",
       "    <tr>\n",
       "      <th>25192</th>\n",
       "      <td>www.arkansasonline.com/news/2018/sep/12/former...</td>\n",
       "      <td>1.805825e+19</td>\n",
       "    </tr>\n",
       "  </tbody>\n",
       "</table>\n",
       "<p>25193 rows × 2 columns</p>\n",
       "</div>"
      ],
      "text/plain": [
       "                                               contentID     visitorID\n",
       "0      www.arkansasonline.com/news/2018/sep/12/bigger...  2.011047e+14\n",
       "1      www.arkansasonline.com/news/2018/sep/12/morris...  2.011047e+14\n",
       "2      www.arkansasonline.com/news/2018/sep/12/video-...  2.011047e+14\n",
       "3      www.arkansasonline.com/news/2018/sep/06/jury-t...  4.259291e+15\n",
       "4      www.arkansasonline.com/news/2018/sep/07/confro...  4.259291e+15\n",
       "...                                                  ...           ...\n",
       "25188  www.arkansasonline.com/news/2018/sep/12/fronti...  1.805825e+19\n",
       "25189  www.arkansasonline.com/news/2018/sep/13/board-...  1.805825e+19\n",
       "25190  www.arkansasonline.com/news/2018/sep/15/key-pi...  1.805825e+19\n",
       "25191  www.arkansasonline.com/news/2018/sep/05/judge-...  1.805825e+19\n",
       "25192  www.arkansasonline.com/news/2018/sep/12/former...  1.805825e+19\n",
       "\n",
       "[25193 rows x 2 columns]"
      ]
     },
     "execution_count": 676,
     "metadata": {},
     "output_type": "execute_result"
    }
   ],
   "source": [
    "# the unique page visits in validatio set, \n",
    "# which we could use to evaluate the recommendation system\n",
    "valid_visits = valid_df.drop_duplicates(subset = ['contentID', 'visitorID']).sort_values('visitorID').reset_index(drop = True)[['contentID', 'visitorID']]\n",
    "valid_visits"
   ]
  },
  {
   "cell_type": "markdown",
   "metadata": {},
   "source": [
    "First we can have a look at how the random recommendation model performs."
   ]
  },
  {
   "cell_type": "code",
   "execution_count": 677,
   "metadata": {},
   "outputs": [],
   "source": [
    "# define a function to recommend n artciels from new articles in validation set randomly to visitors\n",
    "# and also calculate the precision/recall confidence interval for random recommendation\n",
    "def random_recom_result(n):\n",
    "    precision_list = []\n",
    "    recall_list = []\n",
    "    avg_precision_list = []\n",
    "    avg_recall_list = []\n",
    "    \n",
    "    for j in range(0,100):\n",
    "        print('Cycle', j)\n",
    "        nv_df = pd.DataFrame({'visitorID': [], 'contentID': []})\n",
    "        i = 0\n",
    "        randomlist = random.sample(range(0, 1399), n)\n",
    "        new_article = val_new_articles_df.iloc[randomlist]['contentID'].tolist()\n",
    "\n",
    "        for visitor in val_visitors:\n",
    "            i += 1\n",
    "            one_new_visitor_df = pd.DataFrame({'visitorID': visitor, 'contentID': new_article})\n",
    "            nv_df = nv_df.append(one_new_visitor_df)\n",
    "    \n",
    "        precision_recall_list = precision_recall(n, nv_df)\n",
    "        avg_precision_recall_list = avg_precision_recall(n, nv_df)\n",
    "        precision_list.append(precision_recall_list[0])\n",
    "        recall_list.append(precision_recall_list[1])\n",
    "        avg_precision_list.append(avg_precision_recall_list[0])\n",
    "        avg_recall_list.append(avg_precision_recall_list[1])\n",
    "    \n",
    "    return [precision_list, recall_list, avg_precision_list, avg_recall_list]"
   ]
  },
  {
   "cell_type": "code",
   "execution_count": 678,
   "metadata": {},
   "outputs": [],
   "source": [
    "def CI(result_list, n): \n",
    "    precision_list = result_list[0]\n",
    "    recall_list = result_list[1]\n",
    "    avg_precision_list = result_list[2]\n",
    "    avg_recall_list = result_list[3]\n",
    "    print(f\"{n} random recommendation precision mean (100 cycles):\", round(sum(precision_list), 2), '%' )\n",
    "    CI1 = st.t.interval(alpha=0.95, df=len(precision_list)-1, loc=np.mean(precision_list), scale=st.sem(precision_list))\n",
    "    print(\"CI: \", f\"[{round(max(CI1[0],0)*100,2)}%,{round(CI1[1]*100, 2)}%]\" )\n",
    "    print(f\"{n} random recommendation recall mean (100 cycles):\", round(sum(recall_list), 2), '%' )\n",
    "    CI2 = st.t.interval(alpha=0.95, df=len(recall_list)-1, loc=np.mean(recall_list), scale=st.sem(recall_list)) \n",
    "    print(\"CI: \", f\"[{round(max(CI2[0],0)*100,2)}%,{round(CI2[1]*100, 2)}%]\" )\n",
    "    print(f\"{n} random recommendation average precision for each visitor (100 cycles):\", round(sum(avg_precision_list), 2), '%' )\n",
    "    CI3 = st.t.interval(alpha=0.95, df=len(avg_precision_list)-1, loc=np.mean(avg_precision_list), scale=st.sem(avg_precision_list))\n",
    "    print(\"CI: \", f\"[{round(max(CI3[0],0)*100,2)}%,{round(CI3[1]*100, 2)}%]\" )\n",
    "    print(f\"{n} random recommendation average recall for each visitor (100 cycles):\", round(sum(avg_recall_list), 2), '%' )\n",
    "    CI4 = st.t.interval(alpha=0.95, df=len(avg_recall_list)-1, loc=np.mean(avg_recall_list), scale=st.sem(avg_recall_list))\n",
    "    print(\"CI: \", f\"[{round(max(CI4[0],0)*100,2)}%,{round(CI4[1]*100, 2)}%]\" )\n",
    "    \n",
    "    return [CI1, CI2, CI3, CI4]"
   ]
  },
  {
   "cell_type": "code",
   "execution_count": 616,
   "metadata": {},
   "outputs": [
    {
     "name": "stdout",
     "output_type": "stream",
     "text": [
      "5 random recommendation precision mean (100 cycles): 0.83 %\n",
      "CI:  [0.68%,0.97%]\n",
      "5 random recommendation recall mean (100 cycles): 0.31 %\n",
      "CI:  [0.25%,0.36%]\n",
      "5 random recommendation average precision for each visitor (100 cycles): 0.83 %\n",
      "CI:  [0.68%,0.97%]\n",
      "5 random recommendation average recall for each visitor (100 cycles): 0.31 %\n",
      "CI:  [0.24%,0.38%]\n"
     ]
    }
   ],
   "source": [
    "random_results5 = random_recom_result(5)\n",
    "CI5 = CI(random_results5, 5)"
   ]
  },
  {
   "cell_type": "code",
   "execution_count": 641,
   "metadata": {},
   "outputs": [
    {
     "name": "stdout",
     "output_type": "stream",
     "text": [
      "10 random recommendation precision mean (100 cycles): 0.8 %\n",
      "CI:  [0.7%,0.91%]\n",
      "10 random recommendation recall mean (100 cycles): 0.59 %\n",
      "CI:  [0.52%,0.67%]\n",
      "10 random recommendation average precision for each visitor (100 cycles): 0.8 %\n",
      "CI:  [0.7%,0.91%]\n",
      "10 random recommendation average recall for each visitor (100 cycles): 0.58 %\n",
      "CI:  [0.48%,0.68%]\n"
     ]
    }
   ],
   "source": [
    "random_results10 = random_recom_result(10)\n",
    "CI10 = CI(random_results10, 10)"
   ]
  },
  {
   "cell_type": "code",
   "execution_count": 640,
   "metadata": {},
   "outputs": [
    {
     "name": "stdout",
     "output_type": "stream",
     "text": [
      "15 random recommendation precision mean (100 cycles): 0.8 %\n",
      "CI:  [0.7%,0.91%]\n",
      "15 random recommendation recall mean (100 cycles): 0.59 %\n",
      "CI:  [0.52%,0.67%]\n",
      "15 random recommendation average precision for each visitor (100 cycles): 0.8 %\n",
      "CI:  [0.7%,0.91%]\n",
      "15 random recommendation average recall for each visitor (100 cycles): 0.58 %\n",
      "CI:  [0.48%,0.68%]\n"
     ]
    }
   ],
   "source": [
    "random_results15 = random_recom_result(15)\n",
    "CI15 = CI(random_results10, 15)"
   ]
  },
  {
   "cell_type": "code",
   "execution_count": 622,
   "metadata": {},
   "outputs": [
    {
     "name": "stdout",
     "output_type": "stream",
     "text": [
      "20 random recommendation precision mean (100 cycles): 0.81 %\n",
      "CI:  [0.74%,0.88%]\n",
      "20 random recommendation recall mean (100 cycles): 1.2 %\n",
      "CI:  [1.1%,1.3%]\n",
      "20 random recommendation average precision for each visitor (100 cycles): 0.81 %\n",
      "CI:  [0.74%,0.88%]\n",
      "20 random recommendation average recall for each visitor (100 cycles): 1.18 %\n",
      "CI:  [1.05%,1.31%]\n"
     ]
    }
   ],
   "source": [
    "random_results20 = random_recom_result(20)\n",
    "CI20 = CI(random_results20, 20)"
   ]
  },
  {
   "cell_type": "code",
   "execution_count": 646,
   "metadata": {},
   "outputs": [
    {
     "name": "stdout",
     "output_type": "stream",
     "text": [
      "30 random recommendation precision mean (100 cycles): 0.91 %\n",
      "CI:  [0.85%,0.97%]\n",
      "30 random recommendation recall mean (100 cycles): 2.02 %\n",
      "CI:  [1.88%,2.15%]\n",
      "30 random recommendation average precision for each visitor (100 cycles): 0.91 %\n",
      "CI:  [0.85%,0.97%]\n",
      "30 random recommendation average recall for each visitor (100 cycles): 1.98 %\n",
      "CI:  [1.81%,2.16%]\n"
     ]
    }
   ],
   "source": [
    "random_results30 = random_recom_result(30)\n",
    "CI30 = CI(random_results30, 30)"
   ]
  },
  {
   "cell_type": "code",
   "execution_count": 648,
   "metadata": {},
   "outputs": [
    {
     "name": "stdout",
     "output_type": "stream",
     "text": [
      "35 random recommendation precision mean (100 cycles): 0.93 %\n",
      "CI:  [0.87%,0.99%]\n",
      "35 random recommendation recall mean (100 cycles): 2.42 %\n",
      "CI:  [2.26%,2.58%]\n",
      "35 random recommendation average precision for each visitor (100 cycles): 0.93 %\n",
      "CI:  [0.87%,0.99%]\n",
      "35 random recommendation average recall for each visitor (100 cycles): 2.45 %\n",
      "CI:  [2.24%,2.67%]\n"
     ]
    }
   ],
   "source": [
    "random_results35 = random_recom_result(35)\n",
    "CI35 = CI(random_results35, 35)"
   ]
  },
  {
   "cell_type": "code",
   "execution_count": 624,
   "metadata": {},
   "outputs": [
    {
     "name": "stdout",
     "output_type": "stream",
     "text": [
      "40 random recommendation precision mean (100 cycles): 0.83 %\n",
      "CI:  [0.78%,0.88%]\n",
      "40 random recommendation recall mean (100 cycles): 2.46 %\n",
      "CI:  [2.31%,2.6%]\n",
      "40 random recommendation average precision for each visitor (100 cycles): 0.83 %\n",
      "CI:  [0.78%,0.88%]\n",
      "40 random recommendation average recall for each visitor (100 cycles): 2.44 %\n",
      "CI:  [2.25%,2.63%]\n"
     ]
    }
   ],
   "source": [
    "random_results40 = random_recom_result(40)\n",
    "CI40 = CI(random_results40, 40)"
   ]
  },
  {
   "cell_type": "markdown",
   "metadata": {},
   "source": [
    "Both precision and recall are very low no matter how many new articles are randomly recommended. <br>\n",
    "Randomly recommending 35 articles (1.34%) seems to be slightly better than recommending 20/30/40 articles, according to the f-1 score."
   ]
  },
  {
   "cell_type": "markdown",
   "metadata": {},
   "source": [
    "#### a. Access the category information from new articles in validation set"
   ]
  },
  {
   "cell_type": "code",
   "execution_count": 644,
   "metadata": {},
   "outputs": [
    {
     "data": {
      "text/html": [
       "<div>\n",
       "<style scoped>\n",
       "    .dataframe tbody tr th:only-of-type {\n",
       "        vertical-align: middle;\n",
       "    }\n",
       "\n",
       "    .dataframe tbody tr th {\n",
       "        vertical-align: top;\n",
       "    }\n",
       "\n",
       "    .dataframe thead th {\n",
       "        text-align: right;\n",
       "    }\n",
       "</style>\n",
       "<table border=\"1\" class=\"dataframe\">\n",
       "  <thead>\n",
       "    <tr style=\"text-align: right;\">\n",
       "      <th></th>\n",
       "      <th>contentID</th>\n",
       "    </tr>\n",
       "  </thead>\n",
       "  <tbody>\n",
       "    <tr>\n",
       "      <th>count</th>\n",
       "      <td>1868.000000</td>\n",
       "    </tr>\n",
       "    <tr>\n",
       "      <th>mean</th>\n",
       "      <td>13.486617</td>\n",
       "    </tr>\n",
       "    <tr>\n",
       "      <th>std</th>\n",
       "      <td>23.609784</td>\n",
       "    </tr>\n",
       "    <tr>\n",
       "      <th>min</th>\n",
       "      <td>1.000000</td>\n",
       "    </tr>\n",
       "    <tr>\n",
       "      <th>25%</th>\n",
       "      <td>2.000000</td>\n",
       "    </tr>\n",
       "    <tr>\n",
       "      <th>50%</th>\n",
       "      <td>7.000000</td>\n",
       "    </tr>\n",
       "    <tr>\n",
       "      <th>75%</th>\n",
       "      <td>15.000000</td>\n",
       "    </tr>\n",
       "    <tr>\n",
       "      <th>max</th>\n",
       "      <td>356.000000</td>\n",
       "    </tr>\n",
       "  </tbody>\n",
       "</table>\n",
       "</div>"
      ],
      "text/plain": [
       "         contentID\n",
       "count  1868.000000\n",
       "mean     13.486617\n",
       "std      23.609784\n",
       "min       1.000000\n",
       "25%       2.000000\n",
       "50%       7.000000\n",
       "75%      15.000000\n",
       "max     356.000000"
      ]
     },
     "execution_count": 644,
     "metadata": {},
     "output_type": "execute_result"
    }
   ],
   "source": [
    "valid_visits.groupby('visitorID').count().describe()"
   ]
  },
  {
   "cell_type": "markdown",
   "metadata": {
    "jupyter": {
     "outputs_hidden": true
    }
   },
   "source": [
    "The upper limit of the number of unique visitors for each article can be calculated by Q3+1.5IQR = 34.5, which give us a reference of how many articles should be recommended to each visitor."
   ]
  },
  {
   "cell_type": "markdown",
   "metadata": {
    "jupyter": {
     "outputs_hidden": true
    }
   },
   "source": [
    "In validation set, I will use the contentID to decide if an article is a new article or not"
   ]
  },
  {
   "cell_type": "code",
   "execution_count": 679,
   "metadata": {},
   "outputs": [
    {
     "data": {
      "text/html": [
       "<div>\n",
       "<style scoped>\n",
       "    .dataframe tbody tr th:only-of-type {\n",
       "        vertical-align: middle;\n",
       "    }\n",
       "\n",
       "    .dataframe tbody tr th {\n",
       "        vertical-align: top;\n",
       "    }\n",
       "\n",
       "    .dataframe thead th {\n",
       "        text-align: right;\n",
       "    }\n",
       "</style>\n",
       "<table border=\"1\" class=\"dataframe\">\n",
       "  <thead>\n",
       "    <tr style=\"text-align: right;\">\n",
       "      <th></th>\n",
       "      <th>contentID</th>\n",
       "      <th>headline</th>\n",
       "      <th>categories</th>\n",
       "      <th>releaseDateTime</th>\n",
       "    </tr>\n",
       "  </thead>\n",
       "  <tbody>\n",
       "    <tr>\n",
       "      <th>0</th>\n",
       "      <td>www.arkansasonline.com/news/2018/sep/04/homele...</td>\n",
       "      <td>homelessness battle fight samaritan open door</td>\n",
       "      <td>News Arkansas</td>\n",
       "      <td>2018-09-04</td>\n",
       "    </tr>\n",
       "    <tr>\n",
       "      <th>1</th>\n",
       "      <td>www.arkansasonline.com/news/2018/sep/04/south-...</td>\n",
       "      <td>south lr site shop soccer table</td>\n",
       "      <td>News Arkansas</td>\n",
       "      <td>2018-09-04</td>\n",
       "    </tr>\n",
       "    <tr>\n",
       "      <th>2</th>\n",
       "      <td>www.arkansasonline.com/news/2018/sep/04/herita...</td>\n",
       "      <td>heritage teacher recognize physic instruction</td>\n",
       "      <td>News Arkansas</td>\n",
       "      <td>2018-09-04</td>\n",
       "    </tr>\n",
       "    <tr>\n",
       "      <th>3</th>\n",
       "      <td>www.arkansasonline.com/news/2018/sep/04/traffi...</td>\n",
       "      <td>traffic stop net steal police gun</td>\n",
       "      <td>News Arkansas   News Arkansas Crime</td>\n",
       "      <td>2018-09-04</td>\n",
       "    </tr>\n",
       "    <tr>\n",
       "      <th>4</th>\n",
       "      <td>www.arkansasonline.com/news/2018/sep/04/letter...</td>\n",
       "      <td>letter</td>\n",
       "      <td>Editorial   Editorial Letters</td>\n",
       "      <td>2018-09-04</td>\n",
       "    </tr>\n",
       "  </tbody>\n",
       "</table>\n",
       "</div>"
      ],
      "text/plain": [
       "                                           contentID  \\\n",
       "0  www.arkansasonline.com/news/2018/sep/04/homele...   \n",
       "1  www.arkansasonline.com/news/2018/sep/04/south-...   \n",
       "2  www.arkansasonline.com/news/2018/sep/04/herita...   \n",
       "3  www.arkansasonline.com/news/2018/sep/04/traffi...   \n",
       "4  www.arkansasonline.com/news/2018/sep/04/letter...   \n",
       "\n",
       "                                        headline  \\\n",
       "0  homelessness battle fight samaritan open door   \n",
       "1                south lr site shop soccer table   \n",
       "2  heritage teacher recognize physic instruction   \n",
       "3              traffic stop net steal police gun   \n",
       "4                                         letter   \n",
       "\n",
       "                             categories releaseDateTime  \n",
       "0                         News Arkansas      2018-09-04  \n",
       "1                         News Arkansas      2018-09-04  \n",
       "2                         News Arkansas      2018-09-04  \n",
       "3   News Arkansas   News Arkansas Crime      2018-09-04  \n",
       "4         Editorial   Editorial Letters      2018-09-04  "
      ]
     },
     "execution_count": 679,
     "metadata": {},
     "output_type": "execute_result"
    }
   ],
   "source": [
    "# info about new articles in validation set\n",
    "val_new_articles_df = val_articles_df[(val_articles_df['releaseDateTime'] > end5) & (val_articles_df['releaseDateTime'] <= end6)][['contentID','headline', 'categories', 'releaseDateTime']].reset_index(drop = True)\n",
    "val_new_articles_df.head() # 1399 new articles"
   ]
  },
  {
   "cell_type": "code",
   "execution_count": 680,
   "metadata": {},
   "outputs": [],
   "source": [
    "# compare two lists\n",
    "def notintersection(lst1, lst2): \n",
    "    lst3 = [value for value in lst2 if value not in lst1] \n",
    "    return lst3 \n",
    "\n",
    "def intersection(lst1, lst2): \n",
    "    lst3 = [value for value in lst2 if value in lst1] \n",
    "    return lst3 "
   ]
  },
  {
   "cell_type": "code",
   "execution_count": 681,
   "metadata": {},
   "outputs": [
    {
     "data": {
      "text/html": [
       "<div>\n",
       "<style scoped>\n",
       "    .dataframe tbody tr th:only-of-type {\n",
       "        vertical-align: middle;\n",
       "    }\n",
       "\n",
       "    .dataframe tbody tr th {\n",
       "        vertical-align: top;\n",
       "    }\n",
       "\n",
       "    .dataframe thead th {\n",
       "        text-align: right;\n",
       "    }\n",
       "</style>\n",
       "<table border=\"1\" class=\"dataframe\">\n",
       "  <thead>\n",
       "    <tr style=\"text-align: right;\">\n",
       "      <th></th>\n",
       "      <th>contentID</th>\n",
       "      <th>visitorID</th>\n",
       "    </tr>\n",
       "  </thead>\n",
       "  <tbody>\n",
       "    <tr>\n",
       "      <th>0</th>\n",
       "      <td>www.arkansasonline.com/news/2018/sep/11/pedest...</td>\n",
       "      <td>1.284325e+16</td>\n",
       "    </tr>\n",
       "    <tr>\n",
       "      <th>1</th>\n",
       "      <td>www.arkansasonline.com/news/2018/sep/10/health...</td>\n",
       "      <td>1.284325e+16</td>\n",
       "    </tr>\n",
       "    <tr>\n",
       "      <th>2</th>\n",
       "      <td>www.arkansasonline.com/news/2018/sep/10/wwi-ca...</td>\n",
       "      <td>1.284325e+16</td>\n",
       "    </tr>\n",
       "    <tr>\n",
       "      <th>3</th>\n",
       "      <td>www.arkansasonline.com/news/2018/sep/13/2-cent...</td>\n",
       "      <td>1.284325e+16</td>\n",
       "    </tr>\n",
       "    <tr>\n",
       "      <th>4</th>\n",
       "      <td>www.arkansasonline.com/news/2018/sep/12/jonesb...</td>\n",
       "      <td>1.284325e+16</td>\n",
       "    </tr>\n",
       "  </tbody>\n",
       "</table>\n",
       "</div>"
      ],
      "text/plain": [
       "                                           contentID     visitorID\n",
       "0  www.arkansasonline.com/news/2018/sep/11/pedest...  1.284325e+16\n",
       "1  www.arkansasonline.com/news/2018/sep/10/health...  1.284325e+16\n",
       "2  www.arkansasonline.com/news/2018/sep/10/wwi-ca...  1.284325e+16\n",
       "3  www.arkansasonline.com/news/2018/sep/13/2-cent...  1.284325e+16\n",
       "4  www.arkansasonline.com/news/2018/sep/12/jonesb...  1.284325e+16"
      ]
     },
     "execution_count": 681,
     "metadata": {},
     "output_type": "execute_result"
    }
   ],
   "source": [
    "# validation visits about new visitors\n",
    "val_new_visitors = notintersection(train_visitors, val_visitors)\n",
    "val_new_visitors_df = valid_visits[valid_visits['visitorID'].isin(val_new_visitors)].reset_index(drop= True)\n",
    "val_new_visitors_df.head() # 1488"
   ]
  },
  {
   "cell_type": "code",
   "execution_count": 682,
   "metadata": {},
   "outputs": [
    {
     "data": {
      "text/html": [
       "<div>\n",
       "<style scoped>\n",
       "    .dataframe tbody tr th:only-of-type {\n",
       "        vertical-align: middle;\n",
       "    }\n",
       "\n",
       "    .dataframe tbody tr th {\n",
       "        vertical-align: top;\n",
       "    }\n",
       "\n",
       "    .dataframe thead th {\n",
       "        text-align: right;\n",
       "    }\n",
       "</style>\n",
       "<table border=\"1\" class=\"dataframe\">\n",
       "  <thead>\n",
       "    <tr style=\"text-align: right;\">\n",
       "      <th></th>\n",
       "      <th>contentID</th>\n",
       "      <th>visitorID</th>\n",
       "    </tr>\n",
       "  </thead>\n",
       "  <tbody>\n",
       "    <tr>\n",
       "      <th>0</th>\n",
       "      <td>www.arkansasonline.com/news/2018/sep/12/bigger...</td>\n",
       "      <td>2.011047e+14</td>\n",
       "    </tr>\n",
       "    <tr>\n",
       "      <th>1</th>\n",
       "      <td>www.arkansasonline.com/news/2018/sep/12/morris...</td>\n",
       "      <td>2.011047e+14</td>\n",
       "    </tr>\n",
       "    <tr>\n",
       "      <th>2</th>\n",
       "      <td>www.arkansasonline.com/news/2018/sep/12/video-...</td>\n",
       "      <td>2.011047e+14</td>\n",
       "    </tr>\n",
       "    <tr>\n",
       "      <th>3</th>\n",
       "      <td>www.arkansasonline.com/news/2018/sep/06/jury-t...</td>\n",
       "      <td>4.259291e+15</td>\n",
       "    </tr>\n",
       "    <tr>\n",
       "      <th>4</th>\n",
       "      <td>www.arkansasonline.com/news/2018/sep/07/confro...</td>\n",
       "      <td>4.259291e+15</td>\n",
       "    </tr>\n",
       "  </tbody>\n",
       "</table>\n",
       "</div>"
      ],
      "text/plain": [
       "                                           contentID     visitorID\n",
       "0  www.arkansasonline.com/news/2018/sep/12/bigger...  2.011047e+14\n",
       "1  www.arkansasonline.com/news/2018/sep/12/morris...  2.011047e+14\n",
       "2  www.arkansasonline.com/news/2018/sep/12/video-...  2.011047e+14\n",
       "3  www.arkansasonline.com/news/2018/sep/06/jury-t...  4.259291e+15\n",
       "4  www.arkansasonline.com/news/2018/sep/07/confro...  4.259291e+15"
      ]
     },
     "execution_count": 682,
     "metadata": {},
     "output_type": "execute_result"
    }
   ],
   "source": [
    "# validation information about former visitors\n",
    "val_former_visitors = intersection(train_visitors, val_visitors)\n",
    "val_former_visitors_df = valid_visits[valid_visits['visitorID'].isin(val_former_visitors)].reset_index(drop= True)\n",
    "val_former_visitors_df.head()  # 23705"
   ]
  },
  {
   "cell_type": "markdown",
   "metadata": {},
   "source": [
    "#### b. Get two feature TF-IDF matrixes for previous articles and new articels respectively"
   ]
  },
  {
   "cell_type": "markdown",
   "metadata": {},
   "source": [
    "#### category features"
   ]
  },
  {
   "cell_type": "code",
   "execution_count": 683,
   "metadata": {},
   "outputs": [],
   "source": [
    "# convert into TF-IDF featuer matrixes\n",
    "tfidf = TfidfVectorizer() # min_df = 2, max_df = 0.4 norm = 'l2'\n",
    "train_tfidf = tfidf.fit_transform(train_articles_df['categories'])\n",
    "val_tfidf = tfidf.transform(val_new_articles_df['categories'])"
   ]
  },
  {
   "cell_type": "code",
   "execution_count": 684,
   "metadata": {},
   "outputs": [],
   "source": [
    "# define a function to create the article-feature dataframe for previous articles and new articles\n",
    "def feature_df(tfidf, articleIDlist, train_features):\n",
    "    '''Convert the input TF-IDF matrix into TF-IDF data frame whose index is article ID and column names are feature names '''\n",
    "    df = pd.DataFrame(tfidf.toarray())\n",
    "    df['contentID'] = articleIDlist\n",
    "    df = df.set_index('contentID')\n",
    "    df.columns = train_features\n",
    "    return df"
   ]
  },
  {
   "cell_type": "code",
   "execution_count": 686,
   "metadata": {},
   "outputs": [
    {
     "data": {
      "text/html": [
       "<div>\n",
       "<style scoped>\n",
       "    .dataframe tbody tr th:only-of-type {\n",
       "        vertical-align: middle;\n",
       "    }\n",
       "\n",
       "    .dataframe tbody tr th {\n",
       "        vertical-align: top;\n",
       "    }\n",
       "\n",
       "    .dataframe thead th {\n",
       "        text-align: right;\n",
       "    }\n",
       "</style>\n",
       "<table border=\"1\" class=\"dataframe\">\n",
       "  <thead>\n",
       "    <tr style=\"text-align: right;\">\n",
       "      <th></th>\n",
       "      <th>2010election</th>\n",
       "      <th>activestyle</th>\n",
       "      <th>activities</th>\n",
       "      <th>acxiom</th>\n",
       "      <th>adgbreaking</th>\n",
       "      <th>adghighschool</th>\n",
       "      <th>adgpolitics</th>\n",
       "      <th>adgsports</th>\n",
       "      <th>ambushschoolyard</th>\n",
       "      <th>americanidol</th>\n",
       "      <th>...</th>\n",
       "      <th>whats</th>\n",
       "      <th>windstream</th>\n",
       "      <th>world</th>\n",
       "      <th>worldbusiness</th>\n",
       "      <th>zballot18</th>\n",
       "      <th>zcongress18</th>\n",
       "      <th>zeditorial2018</th>\n",
       "      <th>zgovernor18</th>\n",
       "      <th>zstatehouse18</th>\n",
       "      <th>zsupremecourt</th>\n",
       "    </tr>\n",
       "    <tr>\n",
       "      <th>contentID</th>\n",
       "      <th></th>\n",
       "      <th></th>\n",
       "      <th></th>\n",
       "      <th></th>\n",
       "      <th></th>\n",
       "      <th></th>\n",
       "      <th></th>\n",
       "      <th></th>\n",
       "      <th></th>\n",
       "      <th></th>\n",
       "      <th></th>\n",
       "      <th></th>\n",
       "      <th></th>\n",
       "      <th></th>\n",
       "      <th></th>\n",
       "      <th></th>\n",
       "      <th></th>\n",
       "      <th></th>\n",
       "      <th></th>\n",
       "      <th></th>\n",
       "      <th></th>\n",
       "    </tr>\n",
       "  </thead>\n",
       "  <tbody>\n",
       "    <tr>\n",
       "      <th>www.arkansasonline.com/news/2018/sep/04/homelessness-battle-fought-by-samaritan/</th>\n",
       "      <td>0.0</td>\n",
       "      <td>0.0</td>\n",
       "      <td>0.0</td>\n",
       "      <td>0.0</td>\n",
       "      <td>0.0</td>\n",
       "      <td>0.0</td>\n",
       "      <td>0.0</td>\n",
       "      <td>0.0</td>\n",
       "      <td>0.0</td>\n",
       "      <td>0.0</td>\n",
       "      <td>...</td>\n",
       "      <td>0.0</td>\n",
       "      <td>0.0</td>\n",
       "      <td>0.0</td>\n",
       "      <td>0.0</td>\n",
       "      <td>0.0</td>\n",
       "      <td>0.0</td>\n",
       "      <td>0.0</td>\n",
       "      <td>0.0</td>\n",
       "      <td>0.0</td>\n",
       "      <td>0.0</td>\n",
       "    </tr>\n",
       "    <tr>\n",
       "      <th>www.arkansasonline.com/news/2018/sep/04/south-lr-site-for-shopping-soccer-on-ta/</th>\n",
       "      <td>0.0</td>\n",
       "      <td>0.0</td>\n",
       "      <td>0.0</td>\n",
       "      <td>0.0</td>\n",
       "      <td>0.0</td>\n",
       "      <td>0.0</td>\n",
       "      <td>0.0</td>\n",
       "      <td>0.0</td>\n",
       "      <td>0.0</td>\n",
       "      <td>0.0</td>\n",
       "      <td>...</td>\n",
       "      <td>0.0</td>\n",
       "      <td>0.0</td>\n",
       "      <td>0.0</td>\n",
       "      <td>0.0</td>\n",
       "      <td>0.0</td>\n",
       "      <td>0.0</td>\n",
       "      <td>0.0</td>\n",
       "      <td>0.0</td>\n",
       "      <td>0.0</td>\n",
       "      <td>0.0</td>\n",
       "    </tr>\n",
       "    <tr>\n",
       "      <th>www.arkansasonline.com/news/2018/sep/04/heritage-teacher-recognized-for-physics/</th>\n",
       "      <td>0.0</td>\n",
       "      <td>0.0</td>\n",
       "      <td>0.0</td>\n",
       "      <td>0.0</td>\n",
       "      <td>0.0</td>\n",
       "      <td>0.0</td>\n",
       "      <td>0.0</td>\n",
       "      <td>0.0</td>\n",
       "      <td>0.0</td>\n",
       "      <td>0.0</td>\n",
       "      <td>...</td>\n",
       "      <td>0.0</td>\n",
       "      <td>0.0</td>\n",
       "      <td>0.0</td>\n",
       "      <td>0.0</td>\n",
       "      <td>0.0</td>\n",
       "      <td>0.0</td>\n",
       "      <td>0.0</td>\n",
       "      <td>0.0</td>\n",
       "      <td>0.0</td>\n",
       "      <td>0.0</td>\n",
       "    </tr>\n",
       "    <tr>\n",
       "      <th>www.arkansasonline.com/news/2018/sep/04/traffic-stop-nets-stolen-police-gun-201/</th>\n",
       "      <td>0.0</td>\n",
       "      <td>0.0</td>\n",
       "      <td>0.0</td>\n",
       "      <td>0.0</td>\n",
       "      <td>0.0</td>\n",
       "      <td>0.0</td>\n",
       "      <td>0.0</td>\n",
       "      <td>0.0</td>\n",
       "      <td>0.0</td>\n",
       "      <td>0.0</td>\n",
       "      <td>...</td>\n",
       "      <td>0.0</td>\n",
       "      <td>0.0</td>\n",
       "      <td>0.0</td>\n",
       "      <td>0.0</td>\n",
       "      <td>0.0</td>\n",
       "      <td>0.0</td>\n",
       "      <td>0.0</td>\n",
       "      <td>0.0</td>\n",
       "      <td>0.0</td>\n",
       "      <td>0.0</td>\n",
       "    </tr>\n",
       "    <tr>\n",
       "      <th>www.arkansasonline.com/news/2018/sep/04/letters-20180904/</th>\n",
       "      <td>0.0</td>\n",
       "      <td>0.0</td>\n",
       "      <td>0.0</td>\n",
       "      <td>0.0</td>\n",
       "      <td>0.0</td>\n",
       "      <td>0.0</td>\n",
       "      <td>0.0</td>\n",
       "      <td>0.0</td>\n",
       "      <td>0.0</td>\n",
       "      <td>0.0</td>\n",
       "      <td>...</td>\n",
       "      <td>0.0</td>\n",
       "      <td>0.0</td>\n",
       "      <td>0.0</td>\n",
       "      <td>0.0</td>\n",
       "      <td>0.0</td>\n",
       "      <td>0.0</td>\n",
       "      <td>0.0</td>\n",
       "      <td>0.0</td>\n",
       "      <td>0.0</td>\n",
       "      <td>0.0</td>\n",
       "    </tr>\n",
       "  </tbody>\n",
       "</table>\n",
       "<p>5 rows × 234 columns</p>\n",
       "</div>"
      ],
      "text/plain": [
       "                                                    2010election  activestyle  \\\n",
       "contentID                                                                       \n",
       "www.arkansasonline.com/news/2018/sep/04/homeles...           0.0          0.0   \n",
       "www.arkansasonline.com/news/2018/sep/04/south-l...           0.0          0.0   \n",
       "www.arkansasonline.com/news/2018/sep/04/heritag...           0.0          0.0   \n",
       "www.arkansasonline.com/news/2018/sep/04/traffic...           0.0          0.0   \n",
       "www.arkansasonline.com/news/2018/sep/04/letters...           0.0          0.0   \n",
       "\n",
       "                                                    activities  acxiom  \\\n",
       "contentID                                                                \n",
       "www.arkansasonline.com/news/2018/sep/04/homeles...         0.0     0.0   \n",
       "www.arkansasonline.com/news/2018/sep/04/south-l...         0.0     0.0   \n",
       "www.arkansasonline.com/news/2018/sep/04/heritag...         0.0     0.0   \n",
       "www.arkansasonline.com/news/2018/sep/04/traffic...         0.0     0.0   \n",
       "www.arkansasonline.com/news/2018/sep/04/letters...         0.0     0.0   \n",
       "\n",
       "                                                    adgbreaking  \\\n",
       "contentID                                                         \n",
       "www.arkansasonline.com/news/2018/sep/04/homeles...          0.0   \n",
       "www.arkansasonline.com/news/2018/sep/04/south-l...          0.0   \n",
       "www.arkansasonline.com/news/2018/sep/04/heritag...          0.0   \n",
       "www.arkansasonline.com/news/2018/sep/04/traffic...          0.0   \n",
       "www.arkansasonline.com/news/2018/sep/04/letters...          0.0   \n",
       "\n",
       "                                                    adghighschool  \\\n",
       "contentID                                                           \n",
       "www.arkansasonline.com/news/2018/sep/04/homeles...            0.0   \n",
       "www.arkansasonline.com/news/2018/sep/04/south-l...            0.0   \n",
       "www.arkansasonline.com/news/2018/sep/04/heritag...            0.0   \n",
       "www.arkansasonline.com/news/2018/sep/04/traffic...            0.0   \n",
       "www.arkansasonline.com/news/2018/sep/04/letters...            0.0   \n",
       "\n",
       "                                                    adgpolitics  adgsports  \\\n",
       "contentID                                                                    \n",
       "www.arkansasonline.com/news/2018/sep/04/homeles...          0.0        0.0   \n",
       "www.arkansasonline.com/news/2018/sep/04/south-l...          0.0        0.0   \n",
       "www.arkansasonline.com/news/2018/sep/04/heritag...          0.0        0.0   \n",
       "www.arkansasonline.com/news/2018/sep/04/traffic...          0.0        0.0   \n",
       "www.arkansasonline.com/news/2018/sep/04/letters...          0.0        0.0   \n",
       "\n",
       "                                                    ambushschoolyard  \\\n",
       "contentID                                                              \n",
       "www.arkansasonline.com/news/2018/sep/04/homeles...               0.0   \n",
       "www.arkansasonline.com/news/2018/sep/04/south-l...               0.0   \n",
       "www.arkansasonline.com/news/2018/sep/04/heritag...               0.0   \n",
       "www.arkansasonline.com/news/2018/sep/04/traffic...               0.0   \n",
       "www.arkansasonline.com/news/2018/sep/04/letters...               0.0   \n",
       "\n",
       "                                                    americanidol  ...  whats  \\\n",
       "contentID                                                         ...          \n",
       "www.arkansasonline.com/news/2018/sep/04/homeles...           0.0  ...    0.0   \n",
       "www.arkansasonline.com/news/2018/sep/04/south-l...           0.0  ...    0.0   \n",
       "www.arkansasonline.com/news/2018/sep/04/heritag...           0.0  ...    0.0   \n",
       "www.arkansasonline.com/news/2018/sep/04/traffic...           0.0  ...    0.0   \n",
       "www.arkansasonline.com/news/2018/sep/04/letters...           0.0  ...    0.0   \n",
       "\n",
       "                                                    windstream  world  \\\n",
       "contentID                                                               \n",
       "www.arkansasonline.com/news/2018/sep/04/homeles...         0.0    0.0   \n",
       "www.arkansasonline.com/news/2018/sep/04/south-l...         0.0    0.0   \n",
       "www.arkansasonline.com/news/2018/sep/04/heritag...         0.0    0.0   \n",
       "www.arkansasonline.com/news/2018/sep/04/traffic...         0.0    0.0   \n",
       "www.arkansasonline.com/news/2018/sep/04/letters...         0.0    0.0   \n",
       "\n",
       "                                                    worldbusiness  zballot18  \\\n",
       "contentID                                                                      \n",
       "www.arkansasonline.com/news/2018/sep/04/homeles...            0.0        0.0   \n",
       "www.arkansasonline.com/news/2018/sep/04/south-l...            0.0        0.0   \n",
       "www.arkansasonline.com/news/2018/sep/04/heritag...            0.0        0.0   \n",
       "www.arkansasonline.com/news/2018/sep/04/traffic...            0.0        0.0   \n",
       "www.arkansasonline.com/news/2018/sep/04/letters...            0.0        0.0   \n",
       "\n",
       "                                                    zcongress18  \\\n",
       "contentID                                                         \n",
       "www.arkansasonline.com/news/2018/sep/04/homeles...          0.0   \n",
       "www.arkansasonline.com/news/2018/sep/04/south-l...          0.0   \n",
       "www.arkansasonline.com/news/2018/sep/04/heritag...          0.0   \n",
       "www.arkansasonline.com/news/2018/sep/04/traffic...          0.0   \n",
       "www.arkansasonline.com/news/2018/sep/04/letters...          0.0   \n",
       "\n",
       "                                                    zeditorial2018  \\\n",
       "contentID                                                            \n",
       "www.arkansasonline.com/news/2018/sep/04/homeles...             0.0   \n",
       "www.arkansasonline.com/news/2018/sep/04/south-l...             0.0   \n",
       "www.arkansasonline.com/news/2018/sep/04/heritag...             0.0   \n",
       "www.arkansasonline.com/news/2018/sep/04/traffic...             0.0   \n",
       "www.arkansasonline.com/news/2018/sep/04/letters...             0.0   \n",
       "\n",
       "                                                    zgovernor18  \\\n",
       "contentID                                                         \n",
       "www.arkansasonline.com/news/2018/sep/04/homeles...          0.0   \n",
       "www.arkansasonline.com/news/2018/sep/04/south-l...          0.0   \n",
       "www.arkansasonline.com/news/2018/sep/04/heritag...          0.0   \n",
       "www.arkansasonline.com/news/2018/sep/04/traffic...          0.0   \n",
       "www.arkansasonline.com/news/2018/sep/04/letters...          0.0   \n",
       "\n",
       "                                                    zstatehouse18  \\\n",
       "contentID                                                           \n",
       "www.arkansasonline.com/news/2018/sep/04/homeles...            0.0   \n",
       "www.arkansasonline.com/news/2018/sep/04/south-l...            0.0   \n",
       "www.arkansasonline.com/news/2018/sep/04/heritag...            0.0   \n",
       "www.arkansasonline.com/news/2018/sep/04/traffic...            0.0   \n",
       "www.arkansasonline.com/news/2018/sep/04/letters...            0.0   \n",
       "\n",
       "                                                    zsupremecourt  \n",
       "contentID                                                          \n",
       "www.arkansasonline.com/news/2018/sep/04/homeles...            0.0  \n",
       "www.arkansasonline.com/news/2018/sep/04/south-l...            0.0  \n",
       "www.arkansasonline.com/news/2018/sep/04/heritag...            0.0  \n",
       "www.arkansasonline.com/news/2018/sep/04/traffic...            0.0  \n",
       "www.arkansasonline.com/news/2018/sep/04/letters...            0.0  \n",
       "\n",
       "[5 rows x 234 columns]"
      ]
     },
     "execution_count": 686,
     "metadata": {},
     "output_type": "execute_result"
    }
   ],
   "source": [
    "previous_articleID = train_articles_df['contentID'].tolist()\n",
    "val_new_articleID = val_new_articles_df['contentID'].tolist()\n",
    "train_features = tfidf.get_feature_names()\n",
    "train_tfidf_df = feature_df(train_tfidf, previous_articleID, train_features)\n",
    "val_tfidf_df = feature_df(val_tfidf, val_new_articleID, train_features)\n",
    "val_tfidf_df.head() # 1399*234"
   ]
  },
  {
   "cell_type": "markdown",
   "metadata": {},
   "source": [
    "#### c. Compute the cosine similarity bewtween previous articles and new articles"
   ]
  },
  {
   "cell_type": "code",
   "execution_count": null,
   "metadata": {},
   "outputs": [],
   "source": [
    "# create similarity matrix between all the articles and test articles\n",
    "from sklearn.metrics import pairwise_distances\n",
    "from scipy.spatial.distance import cosine\n",
    "# the similarity dataframe between previous articles and new articles\n",
    "# the index names stand for new articles and column names stand for previous articles\n",
    "similarity_df = pd.DataFrame(1- pairwise_distances(np.array(val_tfidf_df), np.array(train_tfidf_df), metric = 'cosine'))\n",
    "similarity_df.index = val_tfidf_df.index\n",
    "similarity_df.columns = train_tfidf_df.index\n",
    "# 1399*8529"
   ]
  },
  {
   "cell_type": "markdown",
   "metadata": {},
   "source": [
    "#### d. Modelling"
   ]
  },
  {
   "cell_type": "code",
   "execution_count": 688,
   "metadata": {},
   "outputs": [],
   "source": [
    "# find top recommendation for former visitors\n",
    "def fv(n, similarity_df):\n",
    "    '''Takes an integer n and gives the top-n article recommendation from new articles for former visitors'''\n",
    "    blank_df = pd.DataFrame({'visitorID':[], 'read_article':[],'contentID': [], 'similarity':[]})\n",
    "    fv_df = blank_df\n",
    "    i = 0\n",
    "    # if the visitor is not a new visitor\n",
    "    for visitor in val_former_visitors:\n",
    "        # filtered out the artilces visitors have already read\n",
    "        read_articles = list(train_visits.loc[train_visits['visitorID'] == visitor]['contentID'])\n",
    "        i += 1\n",
    "        print(i)\n",
    "        # calculate the similarity between unread articles and read articles\n",
    "        new_articles = blank_df\n",
    "        for article in read_articles:\n",
    "            # select similar articles for one article that former visitor had read: \n",
    "            one_article = pd.DataFrame({'visitorID': visitor, 'read_article': article,'contentID': similarity_df.index, 'similarity': similarity_df[article]})\n",
    "            one_article.index = similarity_df.index\n",
    "            one_article = one_article[one_article['similarity'] != 0]\n",
    "            # combine all the similar articles for former visitor: \n",
    "            new_articles = new_articles.append(one_article) \n",
    "\n",
    "        # similar articles results for one former visitor\n",
    "        new_articles = new_articles.drop_duplicates(subset = ['read_article', 'contentID']).sort_values('similarity', ascending=False)\n",
    "    #     print(f\"find {len(new_articles)} new articles combinations\")\n",
    "        new_articles = pd.merge(new_articles, train_article_counts_df, on = 'read_article', how = 'left')\n",
    "        new_articles = new_articles.sort_values(['similarity', 'visitor'], ascending = False).head(n)\n",
    "        new_articles = new_articles[['visitorID', 'contentID']]\n",
    "    #     print(new_articles_5)\n",
    "\n",
    "        # combine the similarity results for all visitors\n",
    "        fv_df = fv_df.append(new_articles)\n",
    "        fv_df = fv_df.reset_index(drop = True)\n",
    "        \n",
    "    return fv_df"
   ]
  },
  {
   "cell_type": "code",
   "execution_count": 689,
   "metadata": {},
   "outputs": [],
   "source": [
    "# find top recommendation for new visitors\n",
    "def nv(n, fv_df):\n",
    "    new_article_top = fv_df.groupby('contentID').count().sort_values('visitorID', ascending = False)\n",
    "    new_article_top = new_article_top.head(n).index.tolist()\n",
    "    nv_df = pd.DataFrame({'visitorID':[], 'contentID':[]})\n",
    "    i = 0\n",
    "    for visitor in val_new_visitors:\n",
    "        print(visitor)\n",
    "        i += 1\n",
    "        print(i)\n",
    "        one_new_visitor_df = pd.DataFrame({'visitorID': visitor, 'contentID': new_article_top})\n",
    "        nv_df = nv_df.append(one_new_visitor_df)\n",
    "    \n",
    "    return nv_df"
   ]
  },
  {
   "cell_type": "code",
   "execution_count": 690,
   "metadata": {},
   "outputs": [],
   "source": [
    "# compare recommendation with actural condition\n",
    "def precision_recall(n, fv_nv_df):\n",
    "    prediction_count = len(fv_nv_df)\n",
    "    actual_count = len(valid_visits)\n",
    "    TP = pd.merge(valid_visits, fv_nv_df, on=['visitorID','contentID'], how = 'inner')\n",
    "    TP_count = len(TP)\n",
    "    precision = TP_count/prediction_count\n",
    "    recall = TP_count/actual_count\n",
    "    print(f\"Number of true positive cases: {TP_count}\")\n",
    "    print(f\"Top-{n} recommendation precision: {round(precision*100)}%\")\n",
    "    print(f\"Top-{n} recommendation recall: {round(recall*100)}%\")\n",
    "    return [precision, recall]\n",
    "    "
   ]
  },
  {
   "cell_type": "code",
   "execution_count": 691,
   "metadata": {},
   "outputs": [],
   "source": [
    "# compare recommendation with actural condition\n",
    "def avg_precision_recall(n, fv_nv_df):\n",
    "    recommendation = fv_nv_df[['visitorID', 'contentID']]\n",
    "    recommendation['predicted'] = recommendation['contentID']\n",
    "    actual = valid_visits\n",
    "    actual['actual'] = actual['contentID']\n",
    "\n",
    "    results = pd.merge(actual, recommendation, on = ['visitorID','contentID'], how = 'left')\n",
    "    results['match'] = np.where(results['predicted'] == results['actual'], 1, 0)\n",
    "\n",
    "    val_visitor_counts = results.groupby('visitorID').count()['contentID']\n",
    "    val_visitor_counts.columns = ['counts']\n",
    "\n",
    "    val_TP = results.groupby('visitorID').sum()\n",
    "    val_TP.columns = ['TP']\n",
    "\n",
    "    results_calculation = pd.merge(val_visitor_counts, val_TP, left_index=True, right_index=True)\n",
    "    results_calculation['precision'] = results_calculation['TP']/n\n",
    "    results_calculation['recall'] = results_calculation['TP']/results_calculation['contentID']\n",
    "\n",
    "    avg_precision = results_calculation['precision'].mean()\n",
    "    avg_recall = results_calculation['recall'].mean()\n",
    "\n",
    "    print(f\"Top-{n} recommendation average precision: {round(avg_precision*100,2)}%\")\n",
    "    print(f\"Top-{n} recommendation average recall: {round(avg_recall*100,2)}%\")\n",
    "    return [avg_precision, avg_recall]\n",
    "    "
   ]
  },
  {
   "cell_type": "markdown",
   "metadata": {},
   "source": [
    "### 2. Model optimization\n"
   ]
  },
  {
   "cell_type": "code",
   "execution_count": 692,
   "metadata": {},
   "outputs": [],
   "source": [
    "# convert into TF-IDF featuer matrixes\n",
    "def tfidf(tfidf, ID):\n",
    "    train_tfidf = tfidf.fit_transform(train_articles_df[ID])\n",
    "    val_tfidf = tfidf.transform(val_new_articles_df[ID])\n",
    "    \n",
    "    previous_articleID = train_articles_df['contentID'].tolist()\n",
    "    val_new_articleID = val_new_articles_df['contentID'].tolist()\n",
    "\n",
    "    train_features = tfidf.get_feature_names()\n",
    "\n",
    "    train_tfidf_df = feature_df(train_tfidf, previous_articleID, train_features) \n",
    "    val_tfidf_df = feature_df(val_tfidf, val_new_articleID, train_features)\n",
    "    val_tfidf_df.head() # 1399*234\n",
    "\n",
    "    similarity_df = pd.DataFrame(1- pairwise_distances(np.array(val_tfidf_df), np.array(train_tfidf_df), metric = 'cosine'))\n",
    "    similarity_df.index = val_tfidf_df.index\n",
    "    similarity_df.columns = train_tfidf_df.index\n",
    "\n",
    "    return similarity_df"
   ]
  },
  {
   "cell_type": "markdown",
   "metadata": {},
   "source": [
    "### Category\n"
   ]
  },
  {
   "cell_type": "code",
   "execution_count": 696,
   "metadata": {},
   "outputs": [],
   "source": [
    "tfidf1 = TfidfVectorizer() # min_df = 2, max_df = 0.4 norm = 'l2'\n",
    "similarity_df1 = tfidf(tfidf1, 'categories')"
   ]
  },
  {
   "cell_type": "markdown",
   "metadata": {
    "jupyter": {
     "outputs_hidden": true
    }
   },
   "source": [
    "#### Optimization on the number of articles recommendation"
   ]
  },
  {
   "cell_type": "code",
   "execution_count": 698,
   "metadata": {},
   "outputs": [
    {
     "name": "stdout",
     "output_type": "stream",
     "text": [
      "Number of true positive cases: 247\n",
      "Top-5 recommendation precision: 3%\n",
      "Top-5 recommendation recall: 1%\n",
      "Top-5 recommendation average precision: 2.64%\n",
      "Top-5 recommendation average recall: 1.35%\n"
     ]
    },
    {
     "name": "stderr",
     "output_type": "stream",
     "text": [
      "<ipython-input-691-5464207bcda0>:4: SettingWithCopyWarning: \n",
      "A value is trying to be set on a copy of a slice from a DataFrame.\n",
      "Try using .loc[row_indexer,col_indexer] = value instead\n",
      "\n",
      "See the caveats in the documentation: https://pandas.pydata.org/pandas-docs/stable/user_guide/indexing.html#returning-a-view-versus-a-copy\n",
      "  recommendation['predicted'] = recommendation['contentID']\n"
     ]
    },
    {
     "data": {
      "text/plain": [
       "[0.026445396145610315, 0.013489572106964231]"
      ]
     },
     "execution_count": 698,
     "metadata": {},
     "output_type": "execute_result"
    }
   ],
   "source": [
    "fv_df_51 = fv(5, similarity_df1)\n",
    "nv_df_51 = nv(5, fv_df_51)\n",
    "fv_nv_df_51 = fv_df_51.append(nv_df_51).reset_index(drop = True)\n",
    "precision_recall(5, fv_nv_df_51)\n",
    "avg_precision_recall(5, fv_nv_df_51)"
   ]
  },
  {
   "cell_type": "markdown",
   "metadata": {
    "jupyter": {
     "outputs_hidden": true
    }
   },
   "source": [
    "n = 30"
   ]
  },
  {
   "cell_type": "code",
   "execution_count": 700,
   "metadata": {},
   "outputs": [
    {
     "name": "stdout",
     "output_type": "stream",
     "text": [
      "Number of true positive cases: 1130\n",
      "Top-30 recommendation precision: 2%\n",
      "Top-30 recommendation recall: 4%\n",
      "Top-30 recommendation average precision: 2.02%\n",
      "Top-30 recommendation average recall: 4.91%\n"
     ]
    },
    {
     "name": "stderr",
     "output_type": "stream",
     "text": [
      "<ipython-input-691-5464207bcda0>:4: SettingWithCopyWarning: \n",
      "A value is trying to be set on a copy of a slice from a DataFrame.\n",
      "Try using .loc[row_indexer,col_indexer] = value instead\n",
      "\n",
      "See the caveats in the documentation: https://pandas.pydata.org/pandas-docs/stable/user_guide/indexing.html#returning-a-view-versus-a-copy\n",
      "  recommendation['predicted'] = recommendation['contentID']\n"
     ]
    },
    {
     "data": {
      "text/plain": [
       "[0.020164168451106457, 0.049066651069215664]"
      ]
     },
     "execution_count": 700,
     "metadata": {},
     "output_type": "execute_result"
    }
   ],
   "source": [
    "fv_df_301 = fv(30, similarity_df1)\n",
    "nv_df_301 = nv(30, fv_df_301)\n",
    "fv_nv_df_301 = fv_df_301.append(nv_df_301).reset_index(drop = True)\n",
    "precision_recall(30, fv_nv_df_301)\n",
    "avg_precision_recall(30, fv_nv_df_301)"
   ]
  },
  {
   "cell_type": "markdown",
   "metadata": {
    "jupyter": {
     "outputs_hidden": true
    }
   },
   "source": [
    "n = 35"
   ]
  },
  {
   "cell_type": "code",
   "execution_count": 703,
   "metadata": {},
   "outputs": [
    {
     "name": "stdout",
     "output_type": "stream",
     "text": [
      "Number of true positive cases: 1299\n",
      "Top-35 recommendation precision: 2%\n",
      "Top-35 recommendation recall: 5%\n",
      "Top-35 recommendation average precision: 1.99%\n",
      "Top-35 recommendation average recall: 5.85%\n"
     ]
    },
    {
     "name": "stderr",
     "output_type": "stream",
     "text": [
      "<ipython-input-691-5464207bcda0>:4: SettingWithCopyWarning: \n",
      "A value is trying to be set on a copy of a slice from a DataFrame.\n",
      "Try using .loc[row_indexer,col_indexer] = value instead\n",
      "\n",
      "See the caveats in the documentation: https://pandas.pydata.org/pandas-docs/stable/user_guide/indexing.html#returning-a-view-versus-a-copy\n",
      "  recommendation['predicted'] = recommendation['contentID']\n"
     ]
    },
    {
     "data": {
      "text/plain": [
       "[0.01986846130315086, 0.05851095410454944]"
      ]
     },
     "execution_count": 703,
     "metadata": {},
     "output_type": "execute_result"
    }
   ],
   "source": [
    "fv_df_351 = fv(35, similarity_df1)\n",
    "nv_df_351 = nv(35, fv_df_351)\n",
    "fv_nv_df_351 = fv_df_351.append(nv_df_351).reset_index(drop = True)\n",
    "precision_recall(35, fv_nv_df_351)\n",
    "avg_precision_recall(35, fv_nv_df_351)"
   ]
  },
  {
   "cell_type": "markdown",
   "metadata": {},
   "source": [
    "n = 40"
   ]
  },
  {
   "cell_type": "code",
   "execution_count": 705,
   "metadata": {},
   "outputs": [
    {
     "name": "stdout",
     "output_type": "stream",
     "text": [
      "Number of true positive cases: 1424\n",
      "Top-40 recommendation precision: 2%\n",
      "Top-40 recommendation recall: 6%\n",
      "Top-40 recommendation average precision: 1.91%\n",
      "Top-40 recommendation average recall: 6.41%\n"
     ]
    },
    {
     "name": "stderr",
     "output_type": "stream",
     "text": [
      "<ipython-input-691-5464207bcda0>:4: SettingWithCopyWarning: \n",
      "A value is trying to be set on a copy of a slice from a DataFrame.\n",
      "Try using .loc[row_indexer,col_indexer] = value instead\n",
      "\n",
      "See the caveats in the documentation: https://pandas.pydata.org/pandas-docs/stable/user_guide/indexing.html#returning-a-view-versus-a-copy\n",
      "  recommendation['predicted'] = recommendation['contentID']\n"
     ]
    },
    {
     "data": {
      "text/plain": [
       "[0.019057815845824347, 0.0640928890400027]"
      ]
     },
     "execution_count": 705,
     "metadata": {},
     "output_type": "execute_result"
    }
   ],
   "source": [
    "fv_df_401 = fv(40, similarity_df1)\n",
    "nv_df_401 = nv(40, fv_df_401)\n",
    "fv_nv_df_401 = fv_df_401.append(nv_df_401).reset_index(drop = True)\n",
    "precision_recall(40, fv_nv_df_401)\n",
    "avg_precision_recall(40, fv_nv_df_401)"
   ]
  },
  {
   "cell_type": "markdown",
   "metadata": {},
   "source": [
    "Recommending 35 articles has slightly higher f-1 score than recommending 40 articles."
   ]
  },
  {
   "cell_type": "markdown",
   "metadata": {},
   "source": [
    "#### Optimization on category features"
   ]
  },
  {
   "cell_type": "markdown",
   "metadata": {},
   "source": [
    "min_df = 2"
   ]
  },
  {
   "cell_type": "code",
   "execution_count": 709,
   "metadata": {},
   "outputs": [
    {
     "name": "stdout",
     "output_type": "stream",
     "text": [
      "Number of true positive cases: 1312\n",
      "Top-35 recommendation precision: 2%\n",
      "Top-35 recommendation recall: 5%\n",
      "Top-35 recommendation average precision: 2.01%\n",
      "Top-35 recommendation average recall: 5.93%\n"
     ]
    },
    {
     "name": "stderr",
     "output_type": "stream",
     "text": [
      "<ipython-input-691-5464207bcda0>:4: SettingWithCopyWarning: \n",
      "A value is trying to be set on a copy of a slice from a DataFrame.\n",
      "Try using .loc[row_indexer,col_indexer] = value instead\n",
      "\n",
      "See the caveats in the documentation: https://pandas.pydata.org/pandas-docs/stable/user_guide/indexing.html#returning-a-view-versus-a-copy\n",
      "  recommendation['predicted'] = recommendation['contentID']\n"
     ]
    },
    {
     "data": {
      "text/plain": [
       "[0.020067298868155455, 0.05927369733555289]"
      ]
     },
     "execution_count": 709,
     "metadata": {},
     "output_type": "execute_result"
    }
   ],
   "source": [
    "tfidf2 = TfidfVectorizer(min_df = 2) # min_df = 2, max_df = 0.4 norm = 'l2'\n",
    "similarity_df2 = tfidf(tfidf2, 'categories')\n",
    "fv_df_352 = fv(35, similarity_df2)\n",
    "nv_df_352 = nv(35, fv_df_352)\n",
    "fv_nv_df_352 = fv_df_351.append(nv_df_352).reset_index(drop = True)\n",
    "precision_recall(35, fv_nv_df_352)\n",
    "avg_precision_recall(35, fv_nv_df_352)"
   ]
  },
  {
   "cell_type": "markdown",
   "metadata": {},
   "source": [
    "min_df = 4"
   ]
  },
  {
   "cell_type": "code",
   "execution_count": 713,
   "metadata": {},
   "outputs": [
    {
     "name": "stdout",
     "output_type": "stream",
     "text": [
      "Number of true positive cases: 1202\n",
      "Top-35 recommendation precision: 2%\n",
      "Top-35 recommendation recall: 5%\n",
      "Top-35 recommendation average precision: 1.84%\n",
      "Top-35 recommendation average recall: 5.33%\n"
     ]
    },
    {
     "name": "stderr",
     "output_type": "stream",
     "text": [
      "<ipython-input-691-5464207bcda0>:4: SettingWithCopyWarning: \n",
      "A value is trying to be set on a copy of a slice from a DataFrame.\n",
      "Try using .loc[row_indexer,col_indexer] = value instead\n",
      "\n",
      "See the caveats in the documentation: https://pandas.pydata.org/pandas-docs/stable/user_guide/indexing.html#returning-a-view-versus-a-copy\n",
      "  recommendation['predicted'] = recommendation['contentID']\n"
     ]
    },
    {
     "data": {
      "text/plain": [
       "[0.01838482716427042, 0.0533129173498512]"
      ]
     },
     "execution_count": 713,
     "metadata": {},
     "output_type": "execute_result"
    }
   ],
   "source": [
    "tfidf4 = TfidfVectorizer(min_df = 4)\n",
    "similarity_df4 = tfidf(tfidf4, 'categories')\n",
    "fv_df_354 = fv(35, similarity_df4)\n",
    "nv_df_354 = nv(35, fv_df_354)\n",
    "fv_nv_df_354 = fv_df_354.append(nv_df_354).reset_index(drop = True)\n",
    "precision_recall(35, fv_nv_df_354)\n",
    "avg_precision_recall(35, fv_nv_df_354)"
   ]
  },
  {
   "cell_type": "markdown",
   "metadata": {},
   "source": [
    "min_df = 3"
   ]
  },
  {
   "cell_type": "code",
   "execution_count": 717,
   "metadata": {},
   "outputs": [
    {
     "name": "stdout",
     "output_type": "stream",
     "text": [
      "Number of true positive cases: 1192\n",
      "Top-35 recommendation precision: 2%\n",
      "Top-35 recommendation recall: 5%\n",
      "Top-35 recommendation average precision: 1.82%\n",
      "Top-35 recommendation average recall: 5.2%\n"
     ]
    },
    {
     "name": "stderr",
     "output_type": "stream",
     "text": [
      "<ipython-input-691-5464207bcda0>:4: SettingWithCopyWarning: \n",
      "A value is trying to be set on a copy of a slice from a DataFrame.\n",
      "Try using .loc[row_indexer,col_indexer] = value instead\n",
      "\n",
      "See the caveats in the documentation: https://pandas.pydata.org/pandas-docs/stable/user_guide/indexing.html#returning-a-view-versus-a-copy\n",
      "  recommendation['predicted'] = recommendation['contentID']\n"
     ]
    },
    {
     "data": {
      "text/plain": [
       "[0.018231875191189958, 0.051964721635227196]"
      ]
     },
     "execution_count": 717,
     "metadata": {},
     "output_type": "execute_result"
    }
   ],
   "source": [
    "tfidf3 = TfidfVectorizer(min_df = 3) # min_df = 4, max_df = 0.4 norm = 'l2'\n",
    "similarity_df3 = tfidf(tfidf3)\n",
    "fv_df_353 = fv(35, similarity_df3)\n",
    "nv_df_353 = nv(35, fv_df_353)\n",
    "fv_nv_df_353 = fv_df_354.append(nv_df_353).reset_index(drop = True)\n",
    "precision_recall(35, fv_nv_df_353)\n",
    "avg_precision_recall(35, fv_nv_df_353)"
   ]
  },
  {
   "cell_type": "markdown",
   "metadata": {},
   "source": [
    "The recommendation system performs the best when min_df = 2"
   ]
  },
  {
   "cell_type": "markdown",
   "metadata": {},
   "source": [
    "### Headline features optimization\n",
    "\n",
    "There are over 8000 features in the headlines from articles in training set. As a result, we need to select features"
   ]
  },
  {
   "cell_type": "markdown",
   "metadata": {},
   "source": []
  }
 ],
 "metadata": {
  "kernelspec": {
   "display_name": "Python 3",
   "language": "python",
   "name": "python3"
  },
  "language_info": {
   "codemirror_mode": {
    "name": "ipython",
    "version": 3
   },
   "file_extension": ".py",
   "mimetype": "text/x-python",
   "name": "python",
   "nbconvert_exporter": "python",
   "pygments_lexer": "ipython3",
   "version": "3.8.3"
  }
 },
 "nbformat": 4,
 "nbformat_minor": 4
}
