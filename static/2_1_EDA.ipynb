{
 "cells": [
  {
   "cell_type": "markdown",
   "metadata": {},
   "source": [
    "# Exploratory Data Analysis"
   ]
  },
  {
   "cell_type": "markdown",
   "metadata": {},
   "source": [
    "### The exploratory data ananlysis consists of 4 parts as shown below: <br>\n",
    "\n",
    "Assumption: The first record of each article occurs on the day when the article is released. <br>\n",
    "\n",
    "0. General Exploration on all articles and visitors<br>\n",
    "a. The page visits pattern <br>\n",
    "b. The numbers of and page visits from new/former articles/visitors in every 13 days in the training set <br>\n",
    "c. The 4 compositions of page visits in every 13 days\n",
    "\n",
    "1. Popularity (page visits) analysis on individual articles<br>\n",
    "a. Page visits of each articles<br>\n",
    "How many page visits could an article have during the first 65 days? <br>\n",
    "b. Page visits of each articles for individual visitors <br>\n",
    "How many times does an individual visitor read the same article during the first 65 days?\n",
    "\n",
    "2. Popularity span (number of days between first visit ~ last visit) on individual articles <br>\n",
    "a. Popularity span distribution for articles whose last records are before 2018-09-03 <br>\n",
    "b. Popularity span distribution for articles whose last records are 2018-09-03 <br>\n",
    "c. Popularity span distribution for popular articles (page visits > 57) <br>\n",
    "d. Popularity span distribution for common articles (page visits < 57) <br>\n",
    "\n",
    "\n",
    "4. Article content ananlysis <br>\n",
    "a. Article headline features: the information in the article headlines <br>\n",
    "b. Article category features: the information in the article categories <br>"
   ]
  },
  {
   "cell_type": "code",
   "execution_count": 661,
   "metadata": {},
   "outputs": [],
   "source": [
    "import pandas as pd\n",
    "import numpy as np\n",
    "from datetime import datetime, timedelta\n",
    "import math\n",
    "import matplotlib.pyplot as plt\n",
    "from wordcloud import WordCloud\n",
    "import seaborn as sns\n",
    "import re\n",
    "import string\n",
    "import nltk\n",
    "from nltk.corpus import stopwords\n",
    "from nltk.stem import WordNetLemmatizer\n",
    "from sklearn.feature_extraction.text import CountVectorizer,TfidfVectorizer"
   ]
  },
  {
   "cell_type": "code",
   "execution_count": 597,
   "metadata": {},
   "outputs": [],
   "source": [
    "# train_df = pd.read_csv('../data/cleaned/train_df.csv')\n",
    "# train_df['visitDateTime'] = pd.to_datetime(train_df['visitDateTime'])\n",
    "# train_df.head()\n",
    "%store -r train_df"
   ]
  },
  {
   "cell_type": "code",
   "execution_count": 598,
   "metadata": {},
   "outputs": [
    {
     "data": {
      "text/html": [
       "<div>\n",
       "<style scoped>\n",
       "    .dataframe tbody tr th:only-of-type {\n",
       "        vertical-align: middle;\n",
       "    }\n",
       "\n",
       "    .dataframe tbody tr th {\n",
       "        vertical-align: top;\n",
       "    }\n",
       "\n",
       "    .dataframe thead th {\n",
       "        text-align: right;\n",
       "    }\n",
       "</style>\n",
       "<table border=\"1\" class=\"dataframe\">\n",
       "  <thead>\n",
       "    <tr style=\"text-align: right;\">\n",
       "      <th></th>\n",
       "      <th>contentID</th>\n",
       "      <th>headline</th>\n",
       "      <th>categories</th>\n",
       "      <th>visitID</th>\n",
       "      <th>visitorID</th>\n",
       "      <th>visitDateTime</th>\n",
       "      <th>releaseDateTime</th>\n",
       "    </tr>\n",
       "  </thead>\n",
       "  <tbody>\n",
       "    <tr>\n",
       "      <th>0</th>\n",
       "      <td>www.arkansasonline.com/news/2018/jun/30/arrest...</td>\n",
       "      <td>Arrested state legislator urged to quit post</td>\n",
       "      <td>/News/Arkansas, /News/Politics/Arkansas</td>\n",
       "      <td>1530421855</td>\n",
       "      <td>5.364833e+18</td>\n",
       "      <td>2018-07-01</td>\n",
       "      <td>2018-06-30</td>\n",
       "    </tr>\n",
       "    <tr>\n",
       "      <th>1</th>\n",
       "      <td>www.arkansasonline.com/news/2018/jun/30/arrest...</td>\n",
       "      <td>Arrested state legislator urged to quit post</td>\n",
       "      <td>/News/Arkansas, /News/Politics/Arkansas</td>\n",
       "      <td>1530421855</td>\n",
       "      <td>5.364833e+18</td>\n",
       "      <td>2018-07-01</td>\n",
       "      <td>2018-06-30</td>\n",
       "    </tr>\n",
       "    <tr>\n",
       "      <th>2</th>\n",
       "      <td>www.arkansasonline.com/news/2018/jun/30/arrest...</td>\n",
       "      <td>Arrested state legislator urged to quit post</td>\n",
       "      <td>/News/Arkansas, /News/Politics/Arkansas</td>\n",
       "      <td>1530421855</td>\n",
       "      <td>5.364833e+18</td>\n",
       "      <td>2018-07-01</td>\n",
       "      <td>2018-06-30</td>\n",
       "    </tr>\n",
       "    <tr>\n",
       "      <th>3</th>\n",
       "      <td>www.arkansasonline.com/news/2018/jun/30/arrest...</td>\n",
       "      <td>Arrested state legislator urged to quit post</td>\n",
       "      <td>/News/Arkansas, /News/Politics/Arkansas</td>\n",
       "      <td>1530421855</td>\n",
       "      <td>5.364833e+18</td>\n",
       "      <td>2018-07-01</td>\n",
       "      <td>2018-06-30</td>\n",
       "    </tr>\n",
       "    <tr>\n",
       "      <th>4</th>\n",
       "      <td>www.arkansasonline.com/news/2018/jun/30/suspec...</td>\n",
       "      <td>Suspect arrested in fatal shooting in Pulaski ...</td>\n",
       "      <td>/News/Arkansas/Crime</td>\n",
       "      <td>1530422162</td>\n",
       "      <td>9.015515e+18</td>\n",
       "      <td>2018-07-01</td>\n",
       "      <td>2018-06-30</td>\n",
       "    </tr>\n",
       "  </tbody>\n",
       "</table>\n",
       "</div>"
      ],
      "text/plain": [
       "                                           contentID  \\\n",
       "0  www.arkansasonline.com/news/2018/jun/30/arrest...   \n",
       "1  www.arkansasonline.com/news/2018/jun/30/arrest...   \n",
       "2  www.arkansasonline.com/news/2018/jun/30/arrest...   \n",
       "3  www.arkansasonline.com/news/2018/jun/30/arrest...   \n",
       "4  www.arkansasonline.com/news/2018/jun/30/suspec...   \n",
       "\n",
       "                                            headline  \\\n",
       "0       Arrested state legislator urged to quit post   \n",
       "1       Arrested state legislator urged to quit post   \n",
       "2       Arrested state legislator urged to quit post   \n",
       "3       Arrested state legislator urged to quit post   \n",
       "4  Suspect arrested in fatal shooting in Pulaski ...   \n",
       "\n",
       "                                categories     visitID     visitorID  \\\n",
       "0  /News/Arkansas, /News/Politics/Arkansas  1530421855  5.364833e+18   \n",
       "1  /News/Arkansas, /News/Politics/Arkansas  1530421855  5.364833e+18   \n",
       "2  /News/Arkansas, /News/Politics/Arkansas  1530421855  5.364833e+18   \n",
       "3  /News/Arkansas, /News/Politics/Arkansas  1530421855  5.364833e+18   \n",
       "4                     /News/Arkansas/Crime  1530422162  9.015515e+18   \n",
       "\n",
       "  visitDateTime releaseDateTime  \n",
       "0    2018-07-01      2018-06-30  \n",
       "1    2018-07-01      2018-06-30  \n",
       "2    2018-07-01      2018-06-30  \n",
       "3    2018-07-01      2018-06-30  \n",
       "4    2018-07-01      2018-06-30  "
      ]
     },
     "execution_count": 598,
     "metadata": {},
     "output_type": "execute_result"
    }
   ],
   "source": [
    "train_df.head()"
   ]
  },
  {
   "cell_type": "code",
   "execution_count": 599,
   "metadata": {},
   "outputs": [
    {
     "name": "stdout",
     "output_type": "stream",
     "text": [
      "<class 'pandas.core.frame.DataFrame'>\n",
      "RangeIndex: 199663 entries, 0 to 199662\n",
      "Data columns (total 7 columns):\n",
      " #   Column           Non-Null Count   Dtype  \n",
      "---  ------           --------------   -----  \n",
      " 0   contentID        199663 non-null  object \n",
      " 1   headline         199663 non-null  object \n",
      " 2   categories       199663 non-null  object \n",
      " 3   visitID          199663 non-null  int64  \n",
      " 4   visitorID        199663 non-null  float64\n",
      " 5   visitDateTime    199663 non-null  object \n",
      " 6   releaseDateTime  199663 non-null  object \n",
      "dtypes: float64(1), int64(1), object(5)\n",
      "memory usage: 10.7+ MB\n"
     ]
    }
   ],
   "source": [
    "train_df.info()"
   ]
  },
  {
   "cell_type": "code",
   "execution_count": 600,
   "metadata": {},
   "outputs": [
    {
     "data": {
      "text/plain": [
       "2884"
      ]
     },
     "execution_count": 600,
     "metadata": {},
     "output_type": "execute_result"
    }
   ],
   "source": [
    "train_df['visitorID'].nunique()"
   ]
  },
  {
   "cell_type": "code",
   "execution_count": 656,
   "metadata": {},
   "outputs": [
    {
     "data": {
      "text/plain": [
       "datetime.date(2000, 5, 10)"
      ]
     },
     "execution_count": 656,
     "metadata": {},
     "output_type": "execute_result"
    }
   ],
   "source": [
    "min(train_df['releaseDateTime'])"
   ]
  },
  {
   "cell_type": "code",
   "execution_count": 601,
   "metadata": {},
   "outputs": [
    {
     "data": {
      "text/html": [
       "<div>\n",
       "<style scoped>\n",
       "    .dataframe tbody tr th:only-of-type {\n",
       "        vertical-align: middle;\n",
       "    }\n",
       "\n",
       "    .dataframe tbody tr th {\n",
       "        vertical-align: top;\n",
       "    }\n",
       "\n",
       "    .dataframe thead th {\n",
       "        text-align: right;\n",
       "    }\n",
       "</style>\n",
       "<table border=\"1\" class=\"dataframe\">\n",
       "  <thead>\n",
       "    <tr style=\"text-align: right;\">\n",
       "      <th></th>\n",
       "      <th>visitorID</th>\n",
       "      <th>contentID</th>\n",
       "      <th>visitDateTime</th>\n",
       "      <th>releaseDateTime</th>\n",
       "    </tr>\n",
       "  </thead>\n",
       "  <tbody>\n",
       "    <tr>\n",
       "      <th>0</th>\n",
       "      <td>5.364833e+18</td>\n",
       "      <td>www.arkansasonline.com/news/2018/jun/30/arrest...</td>\n",
       "      <td>2018-07-01</td>\n",
       "      <td>2018-06-30</td>\n",
       "    </tr>\n",
       "    <tr>\n",
       "      <th>1</th>\n",
       "      <td>5.364833e+18</td>\n",
       "      <td>www.arkansasonline.com/news/2018/jun/30/arrest...</td>\n",
       "      <td>2018-07-01</td>\n",
       "      <td>2018-06-30</td>\n",
       "    </tr>\n",
       "    <tr>\n",
       "      <th>2</th>\n",
       "      <td>5.364833e+18</td>\n",
       "      <td>www.arkansasonline.com/news/2018/jun/30/arrest...</td>\n",
       "      <td>2018-07-01</td>\n",
       "      <td>2018-06-30</td>\n",
       "    </tr>\n",
       "    <tr>\n",
       "      <th>3</th>\n",
       "      <td>5.364833e+18</td>\n",
       "      <td>www.arkansasonline.com/news/2018/jun/30/arrest...</td>\n",
       "      <td>2018-07-01</td>\n",
       "      <td>2018-06-30</td>\n",
       "    </tr>\n",
       "    <tr>\n",
       "      <th>4</th>\n",
       "      <td>9.015515e+18</td>\n",
       "      <td>www.arkansasonline.com/news/2018/jun/30/suspec...</td>\n",
       "      <td>2018-07-01</td>\n",
       "      <td>2018-06-30</td>\n",
       "    </tr>\n",
       "  </tbody>\n",
       "</table>\n",
       "</div>"
      ],
      "text/plain": [
       "      visitorID                                          contentID  \\\n",
       "0  5.364833e+18  www.arkansasonline.com/news/2018/jun/30/arrest...   \n",
       "1  5.364833e+18  www.arkansasonline.com/news/2018/jun/30/arrest...   \n",
       "2  5.364833e+18  www.arkansasonline.com/news/2018/jun/30/arrest...   \n",
       "3  5.364833e+18  www.arkansasonline.com/news/2018/jun/30/arrest...   \n",
       "4  9.015515e+18  www.arkansasonline.com/news/2018/jun/30/suspec...   \n",
       "\n",
       "  visitDateTime releaseDateTime  \n",
       "0    2018-07-01      2018-06-30  \n",
       "1    2018-07-01      2018-06-30  \n",
       "2    2018-07-01      2018-06-30  \n",
       "3    2018-07-01      2018-06-30  \n",
       "4    2018-07-01      2018-06-30  "
      ]
     },
     "execution_count": 601,
     "metadata": {},
     "output_type": "execute_result"
    }
   ],
   "source": [
    "# user profile for train set\n",
    "train_utility = train_df[['visitorID','contentID','visitDateTime', 'releaseDateTime']]\n",
    "train_utility.head()"
   ]
  },
  {
   "cell_type": "markdown",
   "metadata": {},
   "source": [
    "## 0. General exploration <br>\n",
    "### a. The page visits pattern"
   ]
  },
  {
   "cell_type": "code",
   "execution_count": 602,
   "metadata": {},
   "outputs": [
    {
     "name": "stderr",
     "output_type": "stream",
     "text": [
      "<ipython-input-602-c4ab0af8000a>:1: SettingWithCopyWarning: \n",
      "A value is trying to be set on a copy of a slice from a DataFrame.\n",
      "Try using .loc[row_indexer,col_indexer] = value instead\n",
      "\n",
      "See the caveats in the documentation: https://pandas.pydata.org/pandas-docs/stable/user_guide/indexing.html#returning-a-view-versus-a-copy\n",
      "  train_utility['weekday'] = pd.to_datetime(train_utility['visitDateTime']).dt.day_name().tolist()\n"
     ]
    },
    {
     "data": {
      "text/html": [
       "<div>\n",
       "<style scoped>\n",
       "    .dataframe tbody tr th:only-of-type {\n",
       "        vertical-align: middle;\n",
       "    }\n",
       "\n",
       "    .dataframe tbody tr th {\n",
       "        vertical-align: top;\n",
       "    }\n",
       "\n",
       "    .dataframe thead th {\n",
       "        text-align: right;\n",
       "    }\n",
       "</style>\n",
       "<table border=\"1\" class=\"dataframe\">\n",
       "  <thead>\n",
       "    <tr style=\"text-align: right;\">\n",
       "      <th></th>\n",
       "      <th>weekday</th>\n",
       "      <th>visitorID</th>\n",
       "      <th>contentID</th>\n",
       "      <th>releaseDateTime</th>\n",
       "    </tr>\n",
       "    <tr>\n",
       "      <th>visitDateTime</th>\n",
       "      <th></th>\n",
       "      <th></th>\n",
       "      <th></th>\n",
       "      <th></th>\n",
       "    </tr>\n",
       "  </thead>\n",
       "  <tbody>\n",
       "    <tr>\n",
       "      <th>2018-07-06</th>\n",
       "      <td>Friday</td>\n",
       "      <td>2448</td>\n",
       "      <td>2448</td>\n",
       "      <td>2448</td>\n",
       "    </tr>\n",
       "    <tr>\n",
       "      <th>2018-07-13</th>\n",
       "      <td>Friday</td>\n",
       "      <td>3588</td>\n",
       "      <td>3588</td>\n",
       "      <td>3588</td>\n",
       "    </tr>\n",
       "    <tr>\n",
       "      <th>2018-07-20</th>\n",
       "      <td>Friday</td>\n",
       "      <td>3954</td>\n",
       "      <td>3954</td>\n",
       "      <td>3954</td>\n",
       "    </tr>\n",
       "    <tr>\n",
       "      <th>2018-07-27</th>\n",
       "      <td>Friday</td>\n",
       "      <td>3520</td>\n",
       "      <td>3520</td>\n",
       "      <td>3520</td>\n",
       "    </tr>\n",
       "    <tr>\n",
       "      <th>2018-08-03</th>\n",
       "      <td>Friday</td>\n",
       "      <td>3769</td>\n",
       "      <td>3769</td>\n",
       "      <td>3769</td>\n",
       "    </tr>\n",
       "    <tr>\n",
       "      <th>...</th>\n",
       "      <td>...</td>\n",
       "      <td>...</td>\n",
       "      <td>...</td>\n",
       "      <td>...</td>\n",
       "    </tr>\n",
       "    <tr>\n",
       "      <th>2018-08-01</th>\n",
       "      <td>Wednesday</td>\n",
       "      <td>3895</td>\n",
       "      <td>3895</td>\n",
       "      <td>3895</td>\n",
       "    </tr>\n",
       "    <tr>\n",
       "      <th>2018-08-08</th>\n",
       "      <td>Wednesday</td>\n",
       "      <td>3790</td>\n",
       "      <td>3790</td>\n",
       "      <td>3790</td>\n",
       "    </tr>\n",
       "    <tr>\n",
       "      <th>2018-08-15</th>\n",
       "      <td>Wednesday</td>\n",
       "      <td>3215</td>\n",
       "      <td>3215</td>\n",
       "      <td>3215</td>\n",
       "    </tr>\n",
       "    <tr>\n",
       "      <th>2018-08-22</th>\n",
       "      <td>Wednesday</td>\n",
       "      <td>4610</td>\n",
       "      <td>4610</td>\n",
       "      <td>4610</td>\n",
       "    </tr>\n",
       "    <tr>\n",
       "      <th>2018-08-29</th>\n",
       "      <td>Wednesday</td>\n",
       "      <td>5125</td>\n",
       "      <td>5125</td>\n",
       "      <td>5125</td>\n",
       "    </tr>\n",
       "  </tbody>\n",
       "</table>\n",
       "<p>65 rows × 4 columns</p>\n",
       "</div>"
      ],
      "text/plain": [
       "                 weekday  visitorID  contentID  releaseDateTime\n",
       "visitDateTime                                                  \n",
       "2018-07-06        Friday       2448       2448             2448\n",
       "2018-07-13        Friday       3588       3588             3588\n",
       "2018-07-20        Friday       3954       3954             3954\n",
       "2018-07-27        Friday       3520       3520             3520\n",
       "2018-08-03        Friday       3769       3769             3769\n",
       "...                  ...        ...        ...              ...\n",
       "2018-08-01     Wednesday       3895       3895             3895\n",
       "2018-08-08     Wednesday       3790       3790             3790\n",
       "2018-08-15     Wednesday       3215       3215             3215\n",
       "2018-08-22     Wednesday       4610       4610             4610\n",
       "2018-08-29     Wednesday       5125       5125             5125\n",
       "\n",
       "[65 rows x 4 columns]"
      ]
     },
     "execution_count": 602,
     "metadata": {},
     "output_type": "execute_result"
    }
   ],
   "source": [
    "train_utility['weekday'] = pd.to_datetime(train_utility['visitDateTime']).dt.day_name().tolist()\n",
    "\n",
    "daily_df = train_utility.groupby(['weekday','visitDateTime']).count()\n",
    "daily_df.reset_index(inplace=True)\n",
    "daily_df = daily_df.set_index('visitDateTime')\n",
    "daily_df"
   ]
  },
  {
   "cell_type": "code",
   "execution_count": 603,
   "metadata": {},
   "outputs": [
    {
     "data": {
      "text/html": [
       "<div>\n",
       "<style scoped>\n",
       "    .dataframe tbody tr th:only-of-type {\n",
       "        vertical-align: middle;\n",
       "    }\n",
       "\n",
       "    .dataframe tbody tr th {\n",
       "        vertical-align: top;\n",
       "    }\n",
       "\n",
       "    .dataframe thead th {\n",
       "        text-align: right;\n",
       "    }\n",
       "</style>\n",
       "<table border=\"1\" class=\"dataframe\">\n",
       "  <thead>\n",
       "    <tr style=\"text-align: right;\">\n",
       "      <th></th>\n",
       "      <th>visitorID</th>\n",
       "      <th>contentID</th>\n",
       "      <th>releaseDateTime</th>\n",
       "    </tr>\n",
       "    <tr>\n",
       "      <th>weekday</th>\n",
       "      <th></th>\n",
       "      <th></th>\n",
       "      <th></th>\n",
       "    </tr>\n",
       "  </thead>\n",
       "  <tbody>\n",
       "    <tr>\n",
       "      <th>Sunday</th>\n",
       "      <td>1765.700000</td>\n",
       "      <td>1765.700000</td>\n",
       "      <td>1765.700000</td>\n",
       "    </tr>\n",
       "    <tr>\n",
       "      <th>Monday</th>\n",
       "      <td>3234.500000</td>\n",
       "      <td>3234.500000</td>\n",
       "      <td>3234.500000</td>\n",
       "    </tr>\n",
       "    <tr>\n",
       "      <th>Tuesday</th>\n",
       "      <td>3484.222222</td>\n",
       "      <td>3484.222222</td>\n",
       "      <td>3484.222222</td>\n",
       "    </tr>\n",
       "    <tr>\n",
       "      <th>Wednesday</th>\n",
       "      <td>3751.777778</td>\n",
       "      <td>3751.777778</td>\n",
       "      <td>3751.777778</td>\n",
       "    </tr>\n",
       "    <tr>\n",
       "      <th>Thursday</th>\n",
       "      <td>3858.888889</td>\n",
       "      <td>3858.888889</td>\n",
       "      <td>3858.888889</td>\n",
       "    </tr>\n",
       "    <tr>\n",
       "      <th>Friday</th>\n",
       "      <td>3635.000000</td>\n",
       "      <td>3635.000000</td>\n",
       "      <td>3635.000000</td>\n",
       "    </tr>\n",
       "    <tr>\n",
       "      <th>Saturday</th>\n",
       "      <td>1899.111111</td>\n",
       "      <td>1899.111111</td>\n",
       "      <td>1899.111111</td>\n",
       "    </tr>\n",
       "  </tbody>\n",
       "</table>\n",
       "</div>"
      ],
      "text/plain": [
       "             visitorID    contentID  releaseDateTime\n",
       "weekday                                             \n",
       "Sunday     1765.700000  1765.700000      1765.700000\n",
       "Monday     3234.500000  3234.500000      3234.500000\n",
       "Tuesday    3484.222222  3484.222222      3484.222222\n",
       "Wednesday  3751.777778  3751.777778      3751.777778\n",
       "Thursday   3858.888889  3858.888889      3858.888889\n",
       "Friday     3635.000000  3635.000000      3635.000000\n",
       "Saturday   1899.111111  1899.111111      1899.111111"
      ]
     },
     "execution_count": 603,
     "metadata": {},
     "output_type": "execute_result"
    }
   ],
   "source": [
    "weekdays = ['Sunday', 'Monday', 'Tuesday', 'Wednesday', 'Thursday', 'Friday','Saturday']\n",
    "weeday_mean = daily_df.groupby('weekday').mean().reindex(weekdays) \n",
    "weeday_mean"
   ]
  },
  {
   "cell_type": "code",
   "execution_count": 604,
   "metadata": {},
   "outputs": [
    {
     "data": {
      "text/plain": [
       "Text(0.5, 1.0, 'Average page visits during a week')"
      ]
     },
     "execution_count": 604,
     "metadata": {},
     "output_type": "execute_result"
    },
    {
     "data": {
      "image/png": "[encoded data removed]",
      "text/plain": [
       "<Figure size 432x288 with 1 Axes>"
      ]
     },
     "metadata": {
      "needs_background": "light"
     },
     "output_type": "display_data"
    }
   ],
   "source": [
    "weekday_visits = weeday_mean['visitorID'] \n",
    "weekday_visits.plot(kind = 'bar')\n",
    "plt.xticks(rotation = 45)\n",
    "plt.ylabel('Page visits')\n",
    "plt.title('Average page visits during a week')"
   ]
  },
  {
   "cell_type": "markdown",
   "metadata": {},
   "source": [
    "Generally speaking, page visits are lower during the weekends and are highest on Thursday."
   ]
  },
  {
   "cell_type": "code",
   "execution_count": 605,
   "metadata": {},
   "outputs": [
    {
     "data": {
      "text/plain": [
       "Text(0.5, 1.0, 'Daily page visits')"
      ]
     },
     "execution_count": 605,
     "metadata": {},
     "output_type": "execute_result"
    },
    {
     "data": {
      "image/png": "[encoded data removed]",
      "text/plain": [
       "<Figure size 1080x360 with 1 Axes>"
      ]
     },
     "metadata": {
      "needs_background": "light"
     },
     "output_type": "display_data"
    }
   ],
   "source": [
    "daily_visits = daily_df['visitorID']\n",
    "daily_visits.plot(figsize = (15,5),marker=\"o\")\n",
    "plt.title(\"Daily page visits\")"
   ]
  },
  {
   "cell_type": "markdown",
   "metadata": {},
   "source": [
    "We can notice that the page visits follow a weekly and seasonal pattern.\n",
    "We can try to find the variations during a week in general."
   ]
  },
  {
   "cell_type": "markdown",
   "metadata": {},
   "source": [
    "### b. The numbers of and page visits from new/former articles/visitors in every 13 days in the training set \n",
    "Next, I want to see, in every 13 days, how many page visits are from new articles and new visitors."
   ]
  },
  {
   "cell_type": "code",
   "execution_count": 606,
   "metadata": {},
   "outputs": [],
   "source": [
    "# define a function to split the training set into 5 intervals\n",
    "end0 = pd.to_datetime('2018-07-01')\n",
    "end1 = pd.to_datetime('2018-07-13')\n",
    "end2 = pd.to_datetime('2018-07-26')\n",
    "end3 = pd.to_datetime('2018-08-08')\n",
    "end4 = pd.to_datetime('2018-08-21')\n",
    "end5 = pd.to_datetime('2018-09-03')\n",
    "end_dates = [end0, end1, end2, end3, end4, end5]\n",
    "\n",
    "def interval(train_df):\n",
    "    interval_1 = train_df[train_df['visitDateTime'] <= end1].reset_index(drop = True)\n",
    "    interval_2 = train_df[(train_df['visitDateTime'] <= end2) & (train_df['visitDateTime'] > end1)].reset_index(drop = True).reset_index(drop = True)\n",
    "    interval_3 = train_df[(train_df['visitDateTime'] <= end3) & (train_df['visitDateTime'] > end2)].reset_index(drop = True).reset_index(drop = True)\n",
    "    interval_4 = train_df[(train_df['visitDateTime'] <= end4) & (train_df['visitDateTime'] > end3)].reset_index(drop = True).reset_index(drop = True)\n",
    "    interval_5 = train_df[(train_df['visitDateTime'] <= end5) & (train_df['visitDateTime'] > end4)].reset_index(drop = True).reset_index(drop = True)\n",
    "    interval_lists = [interval_1, interval_2, interval_3, interval_4, interval_5]\n",
    "    return interval_lists"
   ]
  },
  {
   "cell_type": "code",
   "execution_count": 607,
   "metadata": {},
   "outputs": [],
   "source": [
    "# define a function that finds the intersection between two lists\n",
    "def intersection(lst1, lst2): \n",
    "    lst3 = [value for value in lst2 if value in lst1] \n",
    "    return lst3 "
   ]
  },
  {
   "cell_type": "markdown",
   "metadata": {},
   "source": [
    "Have a look at the number of new/former articles and corresponding page visits"
   ]
  },
  {
   "cell_type": "code",
   "execution_count": 685,
   "metadata": {},
   "outputs": [],
   "source": [
    "# define a function to find the number of new articles/visitors and corresponding page visitis in every 13 days \n",
    "def new_former(interval_lists, ID, item):\n",
    "    \n",
    "    former_a = interval_lists[0][ID].unique().tolist()\n",
    "    \n",
    "    former_a_counts = []\n",
    "    new_a_counts = []\n",
    "    former_ap_counts = []\n",
    "    new_ap_counts = []\n",
    "\n",
    "    print(f\"There are {len(interval_lists[0][ID].unique())} {item} in interval {1}\")\n",
    "    print(f\"There are {len(interval_lists[0])} visits in interval {1}\")\n",
    "    print('---------------')\n",
    "    if ID == 'contentID':\n",
    "        for i in range(1,5):\n",
    "            interval_df = interval_lists[i]\n",
    "            \n",
    "            start_date = end_dates[i]\n",
    "            end_date = end_dates[i+1]\n",
    "            print('start:', start_date)\n",
    "            print('end:', end_date)\n",
    "            \n",
    "            # select new artciels released in this time interval\n",
    "            new_a = interval_df[(interval_df['releaseDateTime'] <= end_date) & (interval_df['releaseDateTime'] >= start_date)]['contentID'].unique().tolist()\n",
    "            new_a_count = len(new_a)\n",
    "            \n",
    "            total_a_count = len(interval_df['contentID'].unique().tolist())\n",
    "            former_a_count = total_a_count - new_a_count\n",
    "\n",
    "            # the number of new articles and former articles in this time interval\n",
    "            former_a_counts.append(former_a_count)\n",
    "            new_a_counts.append(new_a_count)\n",
    "\n",
    "            # the number of page visits from new articles and former articles in this time interval\n",
    "            new_ap_count = len(interval_df[interval_df[ID].isin(new_a)])\n",
    "            former_ap_count = len(interval_df) - new_ap_count\n",
    "            \n",
    "            former_ap_counts.append(former_ap_count)\n",
    "            new_ap_counts.append(new_ap_count)\n",
    "\n",
    "            print(f\"There are {len(interval_df[ID].unique())} {item} in interval {i+1}\")\n",
    "            print(f\"{former_a_count} former {item}, bringing {former_ap_count} visits; \\n{new_a_count} new {item}, bringing {new_ap_count} visits\")\n",
    "            print('---------------')\n",
    "            \n",
    "    elif ID == 'visitorID':\n",
    "        for i in range(1,5):\n",
    "            interval_df = interval_lists[i]\n",
    "            last_interval_df = interval_lists[i-1]\n",
    "\n",
    "            former_a = former_a + last_interval_df[ID].unique().tolist()\n",
    "            former_a = intersection(former_a, interval_df[ID].unique().tolist())\n",
    "            former_a_count = len(former_a)\n",
    "            new_a_count = interval_df[ID].nunique() - former_a_count\n",
    "\n",
    "\n",
    "            # the number of new articles and former articles in this time interval\n",
    "            former_a_counts.append(former_a_count)\n",
    "            new_a_counts.append(new_a_count)\n",
    "\n",
    "            # the number of page visits from new articles and former articles in this time interval\n",
    "            former_ap_count = len(interval_df[interval_df[ID].isin(former_a)])\n",
    "            new_ap_count = len(interval_df) - former_ap_count\n",
    "            former_ap_counts.append(former_ap_count)\n",
    "            new_ap_counts.append(new_ap_count)\n",
    "\n",
    "            print(f\"There are {len(interval_df[ID].unique())} {item} in interval {i+1}\")\n",
    "            print(f\"{former_a_count} former {item}, bringing {former_ap_count} visits; \\n{new_a_count} new {item}, bringing {new_ap_count} visits\")\n",
    "            print('---------------')\n",
    "        \n",
    "    return [former_a_counts, new_a_counts, former_ap_counts, new_ap_counts]"
   ]
  },
  {
   "cell_type": "code",
   "execution_count": 686,
   "metadata": {},
   "outputs": [],
   "source": [
    "interval_lists = interval(train_df)"
   ]
  },
  {
   "cell_type": "code",
   "execution_count": 687,
   "metadata": {},
   "outputs": [
    {
     "name": "stdout",
     "output_type": "stream",
     "text": [
      "Stored 'interval_lists' (list)\n"
     ]
    }
   ],
   "source": [
    "%store interval_lists"
   ]
  },
  {
   "cell_type": "code",
   "execution_count": 688,
   "metadata": {},
   "outputs": [
    {
     "name": "stdout",
     "output_type": "stream",
     "text": [
      "There are 1931 articles in interval 1\n",
      "There are 31635 visits in interval 1\n",
      "---------------\n",
      "start: 2018-07-13 00:00:00\n",
      "end: 2018-07-26 00:00:00\n",
      "There are 2150 articles in interval 2\n",
      "781 former articles, bringing 1653 visits; \n",
      "1369 new articles, bringing 38044 visits\n",
      "---------------\n",
      "start: 2018-07-26 00:00:00\n",
      "end: 2018-08-08 00:00:00\n",
      "There are 2132 articles in interval 3\n",
      "773 former articles, bringing 1871 visits; \n",
      "1359 new articles, bringing 39089 visits\n",
      "---------------\n",
      "start: 2018-08-08 00:00:00\n",
      "end: 2018-08-21 00:00:00\n",
      "There are 1917 articles in interval 4\n",
      "582 former articles, bringing 1219 visits; \n",
      "1335 new articles, bringing 37903 visits\n",
      "---------------\n",
      "start: 2018-08-21 00:00:00\n",
      "end: 2018-09-03 00:00:00\n",
      "There are 1840 articles in interval 5\n",
      "455 former articles, bringing 1061 visits; \n",
      "1385 new articles, bringing 47188 visits\n",
      "---------------\n",
      "There are 1352 visitors in interval 1\n",
      "There are 31635 visits in interval 1\n",
      "---------------\n",
      "There are 1502 visitors in interval 2\n",
      "1012 former visitors, bringing 33987 visits; \n",
      "490 new visitors, bringing 5710 visits\n",
      "---------------\n",
      "There are 1514 visitors in interval 3\n",
      "1107 former visitors, bringing 35777 visits; \n",
      "407 new visitors, bringing 5183 visits\n",
      "---------------\n",
      "There are 1677 visitors in interval 4\n",
      "1118 former visitors, bringing 32985 visits; \n",
      "559 new visitors, bringing 6137 visits\n",
      "---------------\n",
      "There are 1760 visitors in interval 5\n",
      "1240 former visitors, bringing 42159 visits; \n",
      "520 new visitors, bringing 6090 visits\n",
      "---------------\n"
     ]
    }
   ],
   "source": [
    "article_lists = new_former(interval_lists, 'contentID', 'articles')\n",
    "visitor_lists = new_former(interval_lists, 'visitorID', 'visitors')"
   ]
  },
  {
   "cell_type": "code",
   "execution_count": 689,
   "metadata": {},
   "outputs": [],
   "source": [
    "# define a function to convert the data into dataframe\n",
    "def DF(article_first_lists, articles):\n",
    "    df = pd.DataFrame({f'Former {articles}':article_first_lists[0], \n",
    "                       f'New {articles}':article_first_lists[1], \n",
    "                       f'{articles.capitalize()} ratio (Former/New)':[round(i/j, 2) for i, j in zip(article_first_lists[0], article_first_lists[1])], \n",
    "                       f'Page visits from former {articles}':article_first_lists[2], \n",
    "                       f'Page visits from new {articles}':article_first_lists[3],\n",
    "                      f'Page vitists ratio (Former/New visitors)':[round(i/j, 2) for i, j in zip(article_first_lists[2], article_first_lists[3])]})\n",
    "    return df"
   ]
  },
  {
   "cell_type": "code",
   "execution_count": 690,
   "metadata": {},
   "outputs": [
    {
     "name": "stdout",
     "output_type": "stream",
     "text": [
      "0.68 of the articles are new articels on average\n",
      "0.97 of the pages visits are from new articles on average\n"
     ]
    },
    {
     "data": {
      "text/html": [
       "<div>\n",
       "<style scoped>\n",
       "    .dataframe tbody tr th:only-of-type {\n",
       "        vertical-align: middle;\n",
       "    }\n",
       "\n",
       "    .dataframe tbody tr th {\n",
       "        vertical-align: top;\n",
       "    }\n",
       "\n",
       "    .dataframe thead th {\n",
       "        text-align: right;\n",
       "    }\n",
       "</style>\n",
       "<table border=\"1\" class=\"dataframe\">\n",
       "  <thead>\n",
       "    <tr style=\"text-align: right;\">\n",
       "      <th></th>\n",
       "      <th>Former articles</th>\n",
       "      <th>New articles</th>\n",
       "      <th>Articles ratio (Former/New)</th>\n",
       "      <th>Page visits from former articles</th>\n",
       "      <th>Page visits from new articles</th>\n",
       "      <th>Page vitists ratio (Former/New visitors)</th>\n",
       "    </tr>\n",
       "  </thead>\n",
       "  <tbody>\n",
       "    <tr>\n",
       "      <th>0</th>\n",
       "      <td>781</td>\n",
       "      <td>1369</td>\n",
       "      <td>0.57</td>\n",
       "      <td>1653</td>\n",
       "      <td>38044</td>\n",
       "      <td>0.04</td>\n",
       "    </tr>\n",
       "    <tr>\n",
       "      <th>1</th>\n",
       "      <td>773</td>\n",
       "      <td>1359</td>\n",
       "      <td>0.57</td>\n",
       "      <td>1871</td>\n",
       "      <td>39089</td>\n",
       "      <td>0.05</td>\n",
       "    </tr>\n",
       "    <tr>\n",
       "      <th>2</th>\n",
       "      <td>582</td>\n",
       "      <td>1335</td>\n",
       "      <td>0.44</td>\n",
       "      <td>1219</td>\n",
       "      <td>37903</td>\n",
       "      <td>0.03</td>\n",
       "    </tr>\n",
       "    <tr>\n",
       "      <th>3</th>\n",
       "      <td>455</td>\n",
       "      <td>1385</td>\n",
       "      <td>0.33</td>\n",
       "      <td>1061</td>\n",
       "      <td>47188</td>\n",
       "      <td>0.02</td>\n",
       "    </tr>\n",
       "  </tbody>\n",
       "</table>\n",
       "</div>"
      ],
      "text/plain": [
       "   Former articles  New articles  Articles ratio (Former/New)  \\\n",
       "0              781          1369                         0.57   \n",
       "1              773          1359                         0.57   \n",
       "2              582          1335                         0.44   \n",
       "3              455          1385                         0.33   \n",
       "\n",
       "   Page visits from former articles  Page visits from new articles  \\\n",
       "0                              1653                          38044   \n",
       "1                              1871                          39089   \n",
       "2                              1219                          37903   \n",
       "3                              1061                          47188   \n",
       "\n",
       "   Page vitists ratio (Former/New visitors)  \n",
       "0                                      0.04  \n",
       "1                                      0.05  \n",
       "2                                      0.03  \n",
       "3                                      0.02  "
      ]
     },
     "execution_count": 690,
     "metadata": {},
     "output_type": "execute_result"
    }
   ],
   "source": [
    "print(f'{round(sum(article_lists[1])/(sum(article_lists[0])+sum(article_lists[1])),2)} of the articles are new articels on average')\n",
    "print(f'{round(sum(article_lists[3])/(sum(article_lists[2])+sum(article_lists[3])),2)} of the pages visits are from new articles on average')\n",
    "DF(article_lists, 'articles')"
   ]
  },
  {
   "cell_type": "code",
   "execution_count": 691,
   "metadata": {},
   "outputs": [
    {
     "name": "stdout",
     "output_type": "stream",
     "text": [
      "30.62% of the visitor are new visitors on average\n",
      "13.76% of the pages visits are from new visitors on average\n"
     ]
    },
    {
     "data": {
      "text/html": [
       "<div>\n",
       "<style scoped>\n",
       "    .dataframe tbody tr th:only-of-type {\n",
       "        vertical-align: middle;\n",
       "    }\n",
       "\n",
       "    .dataframe tbody tr th {\n",
       "        vertical-align: top;\n",
       "    }\n",
       "\n",
       "    .dataframe thead th {\n",
       "        text-align: right;\n",
       "    }\n",
       "</style>\n",
       "<table border=\"1\" class=\"dataframe\">\n",
       "  <thead>\n",
       "    <tr style=\"text-align: right;\">\n",
       "      <th></th>\n",
       "      <th>Former visitors</th>\n",
       "      <th>New visitors</th>\n",
       "      <th>Visitors ratio (Former/New)</th>\n",
       "      <th>Page visits from former visitors</th>\n",
       "      <th>Page visits from new visitors</th>\n",
       "      <th>Page vitists ratio (Former/New visitors)</th>\n",
       "    </tr>\n",
       "  </thead>\n",
       "  <tbody>\n",
       "    <tr>\n",
       "      <th>0</th>\n",
       "      <td>1012</td>\n",
       "      <td>490</td>\n",
       "      <td>2.07</td>\n",
       "      <td>33987</td>\n",
       "      <td>5710</td>\n",
       "      <td>5.95</td>\n",
       "    </tr>\n",
       "    <tr>\n",
       "      <th>1</th>\n",
       "      <td>1107</td>\n",
       "      <td>407</td>\n",
       "      <td>2.72</td>\n",
       "      <td>35777</td>\n",
       "      <td>5183</td>\n",
       "      <td>6.90</td>\n",
       "    </tr>\n",
       "    <tr>\n",
       "      <th>2</th>\n",
       "      <td>1118</td>\n",
       "      <td>559</td>\n",
       "      <td>2.00</td>\n",
       "      <td>32985</td>\n",
       "      <td>6137</td>\n",
       "      <td>5.37</td>\n",
       "    </tr>\n",
       "    <tr>\n",
       "      <th>3</th>\n",
       "      <td>1240</td>\n",
       "      <td>520</td>\n",
       "      <td>2.38</td>\n",
       "      <td>42159</td>\n",
       "      <td>6090</td>\n",
       "      <td>6.92</td>\n",
       "    </tr>\n",
       "  </tbody>\n",
       "</table>\n",
       "</div>"
      ],
      "text/plain": [
       "   Former visitors  New visitors  Visitors ratio (Former/New)  \\\n",
       "0             1012           490                         2.07   \n",
       "1             1107           407                         2.72   \n",
       "2             1118           559                         2.00   \n",
       "3             1240           520                         2.38   \n",
       "\n",
       "   Page visits from former visitors  Page visits from new visitors  \\\n",
       "0                             33987                           5710   \n",
       "1                             35777                           5183   \n",
       "2                             32985                           6137   \n",
       "3                             42159                           6090   \n",
       "\n",
       "   Page vitists ratio (Former/New visitors)  \n",
       "0                                      5.95  \n",
       "1                                      6.90  \n",
       "2                                      5.37  \n",
       "3                                      6.92  "
      ]
     },
     "execution_count": 691,
     "metadata": {},
     "output_type": "execute_result"
    }
   ],
   "source": [
    "print(f'{round(sum(visitor_lists[1])/(sum(visitor_lists[0])+sum(visitor_lists[1]))*100,2)}% of the visitor are new visitors on average')\n",
    "print(f'{round(sum(visitor_lists[3])/(sum(visitor_lists[2])+sum(visitor_lists[3]))*100,2)}% of the pages visits are from new visitors on average')\n",
    "DF(visitor_lists, 'visitors')"
   ]
  },
  {
   "cell_type": "code",
   "execution_count": 692,
   "metadata": {},
   "outputs": [],
   "source": [
    "str((end1 + timedelta(days=1)).date())"
   ]
  },
  {
   "cell_type": "code",
   "execution_count": 733,
   "metadata": {},
   "outputs": [],
   "source": [
    "# define a function to draw bar charts to compare the number of new articles/visitors and contributed page visits\n",
    "labels = [f'{str((end1 + timedelta(days=1)).date())} ~ {end2.date()}',f'{str((end2 + timedelta(days=1)).date())} ~ {end3.date()}',f'{str((end3 + timedelta(days=1)).date())} ~ {end4.date()}',f'{str((end4 + timedelta(days=1)).date())} ~ {end5.date()}']\n",
    "\n",
    "def new_former_plot(article_lists, visitor_lists):\n",
    "    former_v_counts = visitor_lists[0]\n",
    "    new_v_counts = visitor_lists[1]\n",
    "    former_vp_counts = visitor_lists[2]\n",
    "    new_vp_counts = visitor_lists[3]\n",
    "    \n",
    "    former_a_counts = article_lists[0]\n",
    "    new_a_counts = article_lists[1]\n",
    "    former_ap_counts = article_lists[2]\n",
    "    new_ap_counts = article_lists[3]\n",
    "    \n",
    "    width = 0.35\n",
    "\n",
    "    fig, ((ax1, ax2), (ax3, ax4)) = plt.subplots(2, 2, figsize=(20,15))\n",
    "\n",
    "    ax1.bar(labels, new_a_counts, width, label='New articles')\n",
    "    ax1.bar(labels, former_a_counts, width, bottom = new_a_counts, label='Former articles')\n",
    "    ax1.set_ylabel('Articles')\n",
    "    ax1.set_xlabel('Time intervals (every 13 days)')\n",
    "    ax1.set_title('New articles and former articles in every 13 days (training set)')\n",
    "    ax1.legend()\n",
    "\n",
    "    ax2.bar(labels, new_ap_counts, width, label='New articles visits')\n",
    "    ax2.bar(labels, former_ap_counts, width, bottom = new_ap_counts, label='Former articles visits')\n",
    "    ax2.set_ylabel('Articles page visits')\n",
    "    ax2.set_xlabel('Time intervals (every 13 days)')\n",
    "    ax2.set_title('Page visits from new articles and former articles in every 13 days (training set)')\n",
    "    ax2.legend()\n",
    "\n",
    "    ax3.bar(labels, new_v_counts, width, label='New visitors')\n",
    "    ax3.bar(labels, former_v_counts, width, bottom = new_v_counts, label='Former visitors')\n",
    "    ax3.set_ylabel('Visitors')\n",
    "    ax3.set_title('New visitors and former visitors in every 13 days (training set)')\n",
    "    ax3.legend()\n",
    "\n",
    "    ax4.bar(labels, new_vp_counts, width, label='New visitors visits')\n",
    "    ax4.bar(labels, former_vp_counts, width, bottom = new_vp_counts, label='Former visitors visits')\n",
    "    ax4.set_ylabel('Visitors page visits')\n",
    "    ax4.set_title('Page visits from new visitors and former visitors in every 13 days (training set)')\n",
    "    ax4.legend()\n",
    "\n",
    "    plt.show()"
   ]
  },
  {
   "cell_type": "code",
   "execution_count": 734,
   "metadata": {},
   "outputs": [
    {
     "data": {
      "image/png": "[encoded data removed]",
      "text/plain": [
       "<Figure size 1440x1080 with 4 Axes>"
      ]
     },
     "metadata": {
      "needs_background": "light"
     },
     "output_type": "display_data"
    }
   ],
   "source": [
    "new_former_plot(article_lists, visitor_lists)"
   ]
  },
  {
   "cell_type": "markdown",
   "metadata": {},
   "source": [
    "I also want to see if it will make any difference with only considering the first visit for each visitor to each article"
   ]
  },
  {
   "cell_type": "code",
   "execution_count": 735,
   "metadata": {},
   "outputs": [
    {
     "name": "stdout",
     "output_type": "stream",
     "text": [
      "There are 1931 articles in interval 1\n",
      "There are 17304 visits in interval 1\n",
      "---------------\n",
      "start: 2018-07-13 00:00:00\n",
      "end: 2018-07-26 00:00:00\n",
      "There are 2116 articles in interval 2\n",
      "750 former articles, bringing 977 visits; \n",
      "1366 new articles, bringing 20504 visits\n",
      "---------------\n",
      "start: 2018-07-26 00:00:00\n",
      "end: 2018-08-08 00:00:00\n",
      "There are 2085 articles in interval 3\n",
      "727 former articles, bringing 969 visits; \n",
      "1358 new articles, bringing 20218 visits\n",
      "---------------\n",
      "start: 2018-08-08 00:00:00\n",
      "end: 2018-08-21 00:00:00\n",
      "There are 1870 articles in interval 4\n",
      "538 former articles, bringing 634 visits; \n",
      "1332 new articles, bringing 18915 visits\n",
      "---------------\n",
      "start: 2018-08-21 00:00:00\n",
      "end: 2018-09-03 00:00:00\n",
      "There are 1783 articles in interval 5\n",
      "400 former articles, bringing 526 visits; \n",
      "1383 new articles, bringing 22834 visits\n",
      "---------------\n",
      "There are 1352 visitors in interval 1\n",
      "There are 17304 visits in interval 1\n",
      "---------------\n",
      "There are 1497 visitors in interval 2\n",
      "1007 former visitors, bringing 18368 visits; \n",
      "490 new visitors, bringing 3113 visits\n",
      "---------------\n",
      "There are 1509 visitors in interval 3\n",
      "1099 former visitors, bringing 19061 visits; \n",
      "410 new visitors, bringing 2126 visits\n",
      "---------------\n",
      "There are 1671 visitors in interval 4\n",
      "1111 former visitors, bringing 16136 visits; \n",
      "560 new visitors, bringing 3413 visits\n",
      "---------------\n",
      "There are 1759 visitors in interval 5\n",
      "1238 former visitors, bringing 20271 visits; \n",
      "521 new visitors, bringing 3089 visits\n",
      "---------------\n"
     ]
    }
   ],
   "source": [
    "train_first_df = train_df.drop_duplicates(subset = ['visitorID','contentID'], keep = 'first', inplace = False).reset_index(drop = True)\n",
    "interval_first_lists = interval(train_first_df)\n",
    "\n",
    "article_first_lists = new_former(interval_first_lists, 'contentID', 'articles')\n",
    "visitor_first_lists = new_former(interval_first_lists, 'visitorID', 'visitors')"
   ]
  },
  {
   "cell_type": "code",
   "execution_count": 736,
   "metadata": {},
   "outputs": [
    {
     "data": {
      "text/html": [
       "<div>\n",
       "<style scoped>\n",
       "    .dataframe tbody tr th:only-of-type {\n",
       "        vertical-align: middle;\n",
       "    }\n",
       "\n",
       "    .dataframe tbody tr th {\n",
       "        vertical-align: top;\n",
       "    }\n",
       "\n",
       "    .dataframe thead th {\n",
       "        text-align: right;\n",
       "    }\n",
       "</style>\n",
       "<table border=\"1\" class=\"dataframe\">\n",
       "  <thead>\n",
       "    <tr style=\"text-align: right;\">\n",
       "      <th></th>\n",
       "      <th>Former articles</th>\n",
       "      <th>New articles</th>\n",
       "      <th>Articles ratio (Former/New)</th>\n",
       "      <th>Page visits from former articles</th>\n",
       "      <th>Page visits from new articles</th>\n",
       "      <th>Page vitists ratio (Former/New visitors)</th>\n",
       "    </tr>\n",
       "  </thead>\n",
       "  <tbody>\n",
       "    <tr>\n",
       "      <th>0</th>\n",
       "      <td>750</td>\n",
       "      <td>1366</td>\n",
       "      <td>0.55</td>\n",
       "      <td>977</td>\n",
       "      <td>20504</td>\n",
       "      <td>0.05</td>\n",
       "    </tr>\n",
       "    <tr>\n",
       "      <th>1</th>\n",
       "      <td>727</td>\n",
       "      <td>1358</td>\n",
       "      <td>0.54</td>\n",
       "      <td>969</td>\n",
       "      <td>20218</td>\n",
       "      <td>0.05</td>\n",
       "    </tr>\n",
       "    <tr>\n",
       "      <th>2</th>\n",
       "      <td>538</td>\n",
       "      <td>1332</td>\n",
       "      <td>0.40</td>\n",
       "      <td>634</td>\n",
       "      <td>18915</td>\n",
       "      <td>0.03</td>\n",
       "    </tr>\n",
       "    <tr>\n",
       "      <th>3</th>\n",
       "      <td>400</td>\n",
       "      <td>1383</td>\n",
       "      <td>0.29</td>\n",
       "      <td>526</td>\n",
       "      <td>22834</td>\n",
       "      <td>0.02</td>\n",
       "    </tr>\n",
       "  </tbody>\n",
       "</table>\n",
       "</div>"
      ],
      "text/plain": [
       "   Former articles  New articles  Articles ratio (Former/New)  \\\n",
       "0              750          1366                         0.55   \n",
       "1              727          1358                         0.54   \n",
       "2              538          1332                         0.40   \n",
       "3              400          1383                         0.29   \n",
       "\n",
       "   Page visits from former articles  Page visits from new articles  \\\n",
       "0                               977                          20504   \n",
       "1                               969                          20218   \n",
       "2                               634                          18915   \n",
       "3                               526                          22834   \n",
       "\n",
       "   Page vitists ratio (Former/New visitors)  \n",
       "0                                      0.05  \n",
       "1                                      0.05  \n",
       "2                                      0.03  \n",
       "3                                      0.02  "
      ]
     },
     "execution_count": 736,
     "metadata": {},
     "output_type": "execute_result"
    }
   ],
   "source": [
    "DF(article_first_lists, 'articles')"
   ]
  },
  {
   "cell_type": "code",
   "execution_count": 737,
   "metadata": {},
   "outputs": [
    {
     "data": {
      "text/html": [
       "<div>\n",
       "<style scoped>\n",
       "    .dataframe tbody tr th:only-of-type {\n",
       "        vertical-align: middle;\n",
       "    }\n",
       "\n",
       "    .dataframe tbody tr th {\n",
       "        vertical-align: top;\n",
       "    }\n",
       "\n",
       "    .dataframe thead th {\n",
       "        text-align: right;\n",
       "    }\n",
       "</style>\n",
       "<table border=\"1\" class=\"dataframe\">\n",
       "  <thead>\n",
       "    <tr style=\"text-align: right;\">\n",
       "      <th></th>\n",
       "      <th>Former visitors</th>\n",
       "      <th>New visitors</th>\n",
       "      <th>Visitors ratio (Former/New)</th>\n",
       "      <th>Page visits from former visitors</th>\n",
       "      <th>Page visits from new visitors</th>\n",
       "      <th>Page vitists ratio (Former/New visitors)</th>\n",
       "    </tr>\n",
       "  </thead>\n",
       "  <tbody>\n",
       "    <tr>\n",
       "      <th>0</th>\n",
       "      <td>1007</td>\n",
       "      <td>490</td>\n",
       "      <td>2.06</td>\n",
       "      <td>18368</td>\n",
       "      <td>3113</td>\n",
       "      <td>5.90</td>\n",
       "    </tr>\n",
       "    <tr>\n",
       "      <th>1</th>\n",
       "      <td>1099</td>\n",
       "      <td>410</td>\n",
       "      <td>2.68</td>\n",
       "      <td>19061</td>\n",
       "      <td>2126</td>\n",
       "      <td>8.97</td>\n",
       "    </tr>\n",
       "    <tr>\n",
       "      <th>2</th>\n",
       "      <td>1111</td>\n",
       "      <td>560</td>\n",
       "      <td>1.98</td>\n",
       "      <td>16136</td>\n",
       "      <td>3413</td>\n",
       "      <td>4.73</td>\n",
       "    </tr>\n",
       "    <tr>\n",
       "      <th>3</th>\n",
       "      <td>1238</td>\n",
       "      <td>521</td>\n",
       "      <td>2.38</td>\n",
       "      <td>20271</td>\n",
       "      <td>3089</td>\n",
       "      <td>6.56</td>\n",
       "    </tr>\n",
       "  </tbody>\n",
       "</table>\n",
       "</div>"
      ],
      "text/plain": [
       "   Former visitors  New visitors  Visitors ratio (Former/New)  \\\n",
       "0             1007           490                         2.06   \n",
       "1             1099           410                         2.68   \n",
       "2             1111           560                         1.98   \n",
       "3             1238           521                         2.38   \n",
       "\n",
       "   Page visits from former visitors  Page visits from new visitors  \\\n",
       "0                             18368                           3113   \n",
       "1                             19061                           2126   \n",
       "2                             16136                           3413   \n",
       "3                             20271                           3089   \n",
       "\n",
       "   Page vitists ratio (Former/New visitors)  \n",
       "0                                      5.90  \n",
       "1                                      8.97  \n",
       "2                                      4.73  \n",
       "3                                      6.56  "
      ]
     },
     "execution_count": 737,
     "metadata": {},
     "output_type": "execute_result"
    }
   ],
   "source": [
    "DF(visitor_first_lists, 'visitors')"
   ]
  },
  {
   "cell_type": "code",
   "execution_count": 738,
   "metadata": {},
   "outputs": [
    {
     "data": {
      "image/png": "[encoded data removed]",
      "text/plain": [
       "<Figure size 1440x1080 with 4 Axes>"
      ]
     },
     "metadata": {
      "needs_background": "light"
     },
     "output_type": "display_data"
    }
   ],
   "source": [
    "new_former_plot(article_first_lists, visitor_first_lists)"
   ]
  },
  {
   "cell_type": "markdown",
   "metadata": {},
   "source": [
    "It doesn't make any difference if we only consider the first visit from each visitor to each article from the plot above."
   ]
  },
  {
   "cell_type": "markdown",
   "metadata": {},
   "source": [
    "#### From two plots above, it can be seen:\n",
    "\n",
    "1. In every interval (13 days), most visited articles are new articles. Furthermore, the overwhelming majority of page visits are attributed to new articles. \n",
    "2. In every interval (13 days), most visitors are former visitors (2/3)"
   ]
  },
  {
   "cell_type": "markdown",
   "metadata": {},
   "source": [
    "### c. The 4 compositions of page visits in every 13 days"
   ]
  },
  {
   "cell_type": "code",
   "execution_count": 739,
   "metadata": {},
   "outputs": [],
   "source": [
    "# define a function to get the number of page visits from new/former visitors and new/previous articles in each time interval\n",
    "def four_components(interval_lists):\n",
    "    former_a = interval_lists[0]['contentID'].unique().tolist()\n",
    "    former_v = interval_lists[0]['visitorID'].unique().tolist()\n",
    "    na_nv_s = []\n",
    "    fa_nv_s = []\n",
    "    na_fv_s = []\n",
    "    fa_fv_s = []\n",
    "\n",
    "    print(f\"There are {len(interval_lists[0])} visits in interval 1\")\n",
    "    print('---------------')\n",
    "\n",
    "    for i in range(1,5):\n",
    "        print(i)\n",
    "        interval_df = interval_lists[i]\n",
    "        last_interval_df = interval_lists[i-1]\n",
    "\n",
    "        start_date = end_dates[i]\n",
    "        end_date = end_dates[i+1]\n",
    "        print('start:', start_date)\n",
    "        print('end:', end_date)\n",
    "        new_a = interval_df[(interval_df['releaseDateTime'] <= end_date) & (interval_df['releaseDateTime'] >= start_date)]['contentID'].unique().tolist()\n",
    "\n",
    "        former_v = former_v + last_interval_df['visitorID'].unique().tolist()\n",
    "        former_v = intersection(former_v, interval_df['visitorID'].unique().tolist())\n",
    "\n",
    "        # the number of page visits from new/former articles/visitors in this time interval \n",
    "        total = len(interval_df)\n",
    "        fa_p = len(interval_df[~interval_df['contentID'].isin(new_a)])\n",
    "        fv_p = len(interval_df[interval_df['visitorID'].isin(former_v)])\n",
    "\n",
    "        fa_fv = len(interval_df[~(interval_df['contentID'].isin(new_a)) & (interval_df['visitorID'].isin(former_v))])\n",
    "        fa_nv = fa_p - fa_fv\n",
    "        na_fv = fv_p - fa_fv\n",
    "        na_nv = total - fa_fv - fa_nv - na_fv   \n",
    "\n",
    "        na_nv_s.append(na_nv)\n",
    "        fa_nv_s.append(fa_nv)\n",
    "        na_fv_s.append(na_fv)\n",
    "        fa_fv_s.append(fa_fv)                 \n",
    "\n",
    "        print(f\"{total}, fap{fa_p}, fvp{fv_p}, nanv{na_nv},  fanv{fa_nv}, nafv{na_fv}, fafv{fa_fv}\")\n",
    "        print('---------------')\n",
    "\n",
    "    nfav = [na_nv_s, fa_nv_s, na_fv_s, fa_fv_s]\n",
    "    return nfav"
   ]
  },
  {
   "cell_type": "code",
   "execution_count": 740,
   "metadata": {},
   "outputs": [],
   "source": [
    "# define a function to draw stacked bar charts \n",
    "def four_components_plot(nfav):\n",
    "    level2 = np.add(nfav[0], nfav[1]).tolist()\n",
    "    level3 = np.add(level2, nfav[2]).tolist()\n",
    "\n",
    "    plt.figure(figsize=(15, 8))\n",
    "    plt.bar(labels, nfav[0], width, label=\"new articles + new visitors\")\n",
    "    plt.bar(labels, nfav[1], width, bottom = nfav[0], label=\"previous articles + new visitors\")\n",
    "    plt.bar(labels, nfav[2], width, bottom = level2, label=\"new articles + former visitors\")\n",
    "    plt.bar(labels, nfav[3], width, bottom = level3, label=\"previous articles + former visitors\")\n",
    "    plt.title('Page visits compositions')\n",
    "    plt.xlabel('Intervals')\n",
    "    plt.ylabel('Page visits')\n",
    "    plt.legend()"
   ]
  },
  {
   "cell_type": "code",
   "execution_count": 741,
   "metadata": {},
   "outputs": [],
   "source": [
    "# define a function to compute and to print the percent of page visits from each component\n",
    "def four_components_percent(nfav):\n",
    "    total_visits_sum = sum(nfav[0]) + sum(nfav[1]) + sum(nfav[2]) + sum(nfav[3])\n",
    "\n",
    "    print(f'{round(sum(nfav[0])/(total_visits_sum)*100,2)}% of the page visits are from \"new articles + new visitors\"')\n",
    "    print(f'{round(sum(nfav[1])/(total_visits_sum)*100,2)}% of the page visits are from \"previous articles + new visitors\"')\n",
    "    print(f'{round(sum(nfav[2])/(total_visits_sum)*100,2)}% of the page visits are from \"new articles + former visitors\"')\n",
    "    print(f'{round(sum(nfav[3])/(total_visits_sum)*100,2)}% of the page visits are from \"previous articles + former visitors\"')"
   ]
  },
  {
   "cell_type": "code",
   "execution_count": 742,
   "metadata": {},
   "outputs": [
    {
     "name": "stdout",
     "output_type": "stream",
     "text": [
      "There are 31635 visits in interval 1\n",
      "---------------\n",
      "1\n",
      "start: 2018-07-13 00:00:00\n",
      "end: 2018-07-26 00:00:00\n",
      "39697, fap1653, fvp33987, nanv5355,  fanv355, nafv32689, fafv1298\n",
      "---------------\n",
      "2\n",
      "start: 2018-07-26 00:00:00\n",
      "end: 2018-08-08 00:00:00\n",
      "40960, fap1871, fvp35777, nanv4918,  fanv265, nafv34171, fafv1606\n",
      "---------------\n",
      "3\n",
      "start: 2018-08-08 00:00:00\n",
      "end: 2018-08-21 00:00:00\n",
      "39122, fap1219, fvp32985, nanv5881,  fanv256, nafv32022, fafv963\n",
      "---------------\n",
      "4\n",
      "start: 2018-08-21 00:00:00\n",
      "end: 2018-09-03 00:00:00\n",
      "48249, fap1061, fvp42159, nanv5859,  fanv231, nafv41329, fafv830\n",
      "---------------\n"
     ]
    },
    {
     "data": {
      "image/png": "[encoded data removed]",
      "text/plain": [
       "<Figure size 1080x576 with 1 Axes>"
      ]
     },
     "metadata": {
      "needs_background": "light"
     },
     "output_type": "display_data"
    }
   ],
   "source": [
    "nfav = four_components(interval_lists)\n",
    "four_components_plot(nfav)"
   ]
  },
  {
   "cell_type": "code",
   "execution_count": 743,
   "metadata": {},
   "outputs": [
    {
     "name": "stdout",
     "output_type": "stream",
     "text": [
      "13.1% of the page visits are from \"new articles + new visitors\"\n",
      "0.66% of the page visits are from \"previous articles + new visitors\"\n",
      "83.45% of the page visits are from \"new articles + former visitors\"\n",
      "2.8% of the page visits are from \"previous articles + former visitors\"\n"
     ]
    }
   ],
   "source": [
    "four_components_percent(nfav)"
   ]
  },
  {
   "cell_type": "markdown",
   "metadata": {
    "jupyter": {
     "outputs_hidden": true
    }
   },
   "source": [
    "Let's consider the first record from each visitor to each article only"
   ]
  },
  {
   "cell_type": "code",
   "execution_count": 744,
   "metadata": {},
   "outputs": [
    {
     "name": "stdout",
     "output_type": "stream",
     "text": [
      "There are 17304 visits in interval 1\n",
      "---------------\n",
      "1\n",
      "start: 2018-07-13 00:00:00\n",
      "end: 2018-07-26 00:00:00\n",
      "21481, fap977, fvp18368, nanv2911,  fanv202, nafv17593, fafv775\n",
      "---------------\n",
      "2\n",
      "start: 2018-07-26 00:00:00\n",
      "end: 2018-08-08 00:00:00\n",
      "21187, fap969, fvp19061, nanv1969,  fanv157, nafv18249, fafv812\n",
      "---------------\n",
      "3\n",
      "start: 2018-08-08 00:00:00\n",
      "end: 2018-08-21 00:00:00\n",
      "19549, fap634, fvp16136, nanv3257,  fanv156, nafv15658, fafv478\n",
      "---------------\n",
      "4\n",
      "start: 2018-08-21 00:00:00\n",
      "end: 2018-09-03 00:00:00\n",
      "23360, fap526, fvp20271, nanv2946,  fanv143, nafv19888, fafv383\n",
      "---------------\n"
     ]
    },
    {
     "data": {
      "image/png": "[encoded data removed]",
      "text/plain": [
       "<Figure size 1080x576 with 1 Axes>"
      ]
     },
     "metadata": {
      "needs_background": "light"
     },
     "output_type": "display_data"
    }
   ],
   "source": [
    "nfav_first = four_components(interval_first_lists)\n",
    "four_components_plot(nfav_first)"
   ]
  },
  {
   "cell_type": "code",
   "execution_count": 745,
   "metadata": {},
   "outputs": [
    {
     "name": "stdout",
     "output_type": "stream",
     "text": [
      "12.95% of the page visits are from \"new articles + new visitors\"\n",
      "0.77% of the page visits are from \"previous articles + new visitors\"\n",
      "83.42% of the page visits are from \"new articles + former visitors\"\n",
      "2.86% of the page visits are from \"previous articles + former visitors\"\n"
     ]
    }
   ],
   "source": [
    "four_components_percent(nfav_first)"
   ]
  },
  {
   "cell_type": "markdown",
   "metadata": {},
   "source": [
    "#### The plots above suggetsts that:\n",
    "Around 83% of page visits are from former visitors reading new articles, 13% from new visitors reading new articles, 3% from former visitors reading previous articles, 1% from new visitors reading previous articles. <br>\n",
    "As a result, we should prioritize the recommendations as shown below: \n",
    "\n",
    "1. Recommendation of new articles to former visitors <br> \n",
    "ew articles that are silimilar to the articles the visitor has read (CF)\n",
    "2. Recommendation of new articles to new visitors <br>\n",
    "new articles that are popular among new articels recommended to former visitors (Popular on CF)\n",
    "3. Recommendation of former articles to former visitors <br>\n",
    "formder artiles that are popular or similar to the articles the visitor has read (Popular or CF)\n",
    "4. Recommendation of former articles to new visitors <br> (Popular)\n",
    "formder artiles that are popular\n",
    "\n",
    "\n",
    "#### Next, I want to explore the popularity and popularity time span of each articles"
   ]
  },
  {
   "cell_type": "markdown",
   "metadata": {},
   "source": [
    "### 1. Popularity distribution\n",
    "#### a. Page visits of each articles <br>\n",
    "\n",
    "Let's have a look at the total page views for each article to see how popular an article could get"
   ]
  },
  {
   "cell_type": "code",
   "execution_count": 746,
   "metadata": {},
   "outputs": [
    {
     "data": {
      "text/html": [
       "<div>\n",
       "<style scoped>\n",
       "    .dataframe tbody tr th:only-of-type {\n",
       "        vertical-align: middle;\n",
       "    }\n",
       "\n",
       "    .dataframe tbody tr th {\n",
       "        vertical-align: top;\n",
       "    }\n",
       "\n",
       "    .dataframe thead th {\n",
       "        text-align: right;\n",
       "    }\n",
       "</style>\n",
       "<table border=\"1\" class=\"dataframe\">\n",
       "  <thead>\n",
       "    <tr style=\"text-align: right;\">\n",
       "      <th></th>\n",
       "      <th>count1</th>\n",
       "      <th>count2</th>\n",
       "      <th>count3</th>\n",
       "      <th>count4</th>\n",
       "    </tr>\n",
       "    <tr>\n",
       "      <th>contentID</th>\n",
       "      <th></th>\n",
       "      <th></th>\n",
       "      <th></th>\n",
       "      <th></th>\n",
       "    </tr>\n",
       "  </thead>\n",
       "  <tbody>\n",
       "    <tr>\n",
       "      <th>www.arkansasonline.com/news/2018/aug/29/food-networks-diners-drive-ins-and-dives-stops-lit/</th>\n",
       "      <td>910</td>\n",
       "      <td>910</td>\n",
       "      <td>910</td>\n",
       "      <td>910</td>\n",
       "    </tr>\n",
       "    <tr>\n",
       "      <th>www.arkansasonline.com/news/2018/aug/31/former-arkansas-senator-jeremy-hutchinson-indicted/</th>\n",
       "      <td>734</td>\n",
       "      <td>734</td>\n",
       "      <td>734</td>\n",
       "      <td>734</td>\n",
       "    </tr>\n",
       "    <tr>\n",
       "      <th>www.arkansasonline.com/news/2018/aug/22/arkansas-democrat-gazette-delivery-man-shot-robbed/</th>\n",
       "      <td>656</td>\n",
       "      <td>656</td>\n",
       "      <td>656</td>\n",
       "      <td>656</td>\n",
       "    </tr>\n",
       "    <tr>\n",
       "      <th>www.arkansasonline.com/news/2018/jul/19/sheriff-8-people-dead-after-missouri-tourist-boat-/</th>\n",
       "      <td>594</td>\n",
       "      <td>594</td>\n",
       "      <td>594</td>\n",
       "      <td>594</td>\n",
       "    </tr>\n",
       "    <tr>\n",
       "      <th>www.arkansasonline.com/news/2018/aug/16/little-rock-police-helicopter-crashes-injuries-rep/</th>\n",
       "      <td>583</td>\n",
       "      <td>583</td>\n",
       "      <td>583</td>\n",
       "      <td>583</td>\n",
       "    </tr>\n",
       "    <tr>\n",
       "      <th>...</th>\n",
       "      <td>...</td>\n",
       "      <td>...</td>\n",
       "      <td>...</td>\n",
       "      <td>...</td>\n",
       "    </tr>\n",
       "    <tr>\n",
       "      <th>www.arkansasonline.com/news/2018/aug/12/look-for-1-of-big-3-to-win-in-michigan-/</th>\n",
       "      <td>1</td>\n",
       "      <td>1</td>\n",
       "      <td>1</td>\n",
       "      <td>1</td>\n",
       "    </tr>\n",
       "    <tr>\n",
       "      <th>www.arkansasonline.com/news/2018/aug/12/major-league-baseball-notes-20180812/</th>\n",
       "      <td>1</td>\n",
       "      <td>1</td>\n",
       "      <td>1</td>\n",
       "      <td>1</td>\n",
       "    </tr>\n",
       "    <tr>\n",
       "      <th>www.arkansasonline.com/news/2018/aug/12/mercy-earns-recognition-for-diabetes-pr/</th>\n",
       "      <td>1</td>\n",
       "      <td>1</td>\n",
       "      <td>1</td>\n",
       "      <td>1</td>\n",
       "    </tr>\n",
       "    <tr>\n",
       "      <th>www.arkansasonline.com/news/2018/aug/12/new-lester-elementary-school-open-monday-jacksonvi/</th>\n",
       "      <td>1</td>\n",
       "      <td>1</td>\n",
       "      <td>1</td>\n",
       "      <td>1</td>\n",
       "    </tr>\n",
       "    <tr>\n",
       "      <th>www.arkansasonline.com/news/2018/apr/22/divorces-20180422/</th>\n",
       "      <td>1</td>\n",
       "      <td>1</td>\n",
       "      <td>1</td>\n",
       "      <td>1</td>\n",
       "    </tr>\n",
       "  </tbody>\n",
       "</table>\n",
       "<p>8523 rows × 4 columns</p>\n",
       "</div>"
      ],
      "text/plain": [
       "                                                    count1  count2  count3  \\\n",
       "contentID                                                                    \n",
       "www.arkansasonline.com/news/2018/aug/29/food-ne...     910     910     910   \n",
       "www.arkansasonline.com/news/2018/aug/31/former-...     734     734     734   \n",
       "www.arkansasonline.com/news/2018/aug/22/arkansa...     656     656     656   \n",
       "www.arkansasonline.com/news/2018/jul/19/sheriff...     594     594     594   \n",
       "www.arkansasonline.com/news/2018/aug/16/little-...     583     583     583   \n",
       "...                                                    ...     ...     ...   \n",
       "www.arkansasonline.com/news/2018/aug/12/look-fo...       1       1       1   \n",
       "www.arkansasonline.com/news/2018/aug/12/major-l...       1       1       1   \n",
       "www.arkansasonline.com/news/2018/aug/12/mercy-e...       1       1       1   \n",
       "www.arkansasonline.com/news/2018/aug/12/new-les...       1       1       1   \n",
       "www.arkansasonline.com/news/2018/apr/22/divorce...       1       1       1   \n",
       "\n",
       "                                                    count4  \n",
       "contentID                                                   \n",
       "www.arkansasonline.com/news/2018/aug/29/food-ne...     910  \n",
       "www.arkansasonline.com/news/2018/aug/31/former-...     734  \n",
       "www.arkansasonline.com/news/2018/aug/22/arkansa...     656  \n",
       "www.arkansasonline.com/news/2018/jul/19/sheriff...     594  \n",
       "www.arkansasonline.com/news/2018/aug/16/little-...     583  \n",
       "...                                                    ...  \n",
       "www.arkansasonline.com/news/2018/aug/12/look-fo...       1  \n",
       "www.arkansasonline.com/news/2018/aug/12/major-l...       1  \n",
       "www.arkansasonline.com/news/2018/aug/12/mercy-e...       1  \n",
       "www.arkansasonline.com/news/2018/aug/12/new-les...       1  \n",
       "www.arkansasonline.com/news/2018/apr/22/divorce...       1  \n",
       "\n",
       "[8523 rows x 4 columns]"
      ]
     },
     "execution_count": 746,
     "metadata": {},
     "output_type": "execute_result"
    }
   ],
   "source": [
    "popularity = train_utility.groupby('contentID').count()\n",
    "popularity.columns = ['count1', 'count2', 'count3','count4']\n",
    "popularity.sort_values('count1', ascending = False)"
   ]
  },
  {
   "cell_type": "code",
   "execution_count": 747,
   "metadata": {},
   "outputs": [
    {
     "data": {
      "text/plain": [
       "count    8523.000000\n",
       "mean       23.426376\n",
       "std        47.866476\n",
       "min         1.000000\n",
       "25%         2.000000\n",
       "50%         6.000000\n",
       "75%        24.000000\n",
       "max       910.000000\n",
       "Name: count1, dtype: float64"
      ]
     },
     "execution_count": 747,
     "metadata": {},
     "output_type": "execute_result"
    }
   ],
   "source": [
    "popularity['count1'].describe() #(0,57)"
   ]
  },
  {
   "cell_type": "code",
   "execution_count": 748,
   "metadata": {},
   "outputs": [
    {
     "data": {
      "text/plain": [
       "Text(0.5, 1.0, 'The views distribution for all the articles in the traing set')"
      ]
     },
     "execution_count": 748,
     "metadata": {},
     "output_type": "execute_result"
    },
    {
     "data": {
      "image/png": "[encoded data removed]",
      "text/plain": [
       "<Figure size 432x288 with 1 Axes>"
      ]
     },
     "metadata": {
      "needs_background": "light"
     },
     "output_type": "display_data"
    }
   ],
   "source": [
    "plt.hist(popularity['count1'], bins = range(0,950,50))\n",
    "plt.xlabel('Views')\n",
    "plt.ylabel('Counts of articles')\n",
    "plt.title(\"The views distribution for all the articles in the traing set\")"
   ]
  },
  {
   "cell_type": "markdown",
   "metadata": {},
   "source": [
    "It can be seen that most articles have page visits between 0 and 50. The upperlimit for page visits = Q3+1.5IQR = 24+1.5*22 = 57. As a result, articles with page visits more than 57 could be considered as popular articles."
   ]
  },
  {
   "cell_type": "markdown",
   "metadata": {},
   "source": [
    "#### b. Page visits of each articles for individual visitors <br>\n",
    "How many times does an individual visitor read the same article during the first 65 days?"
   ]
  },
  {
   "cell_type": "code",
   "execution_count": 749,
   "metadata": {},
   "outputs": [
    {
     "data": {
      "text/html": [
       "<div>\n",
       "<style scoped>\n",
       "    .dataframe tbody tr th:only-of-type {\n",
       "        vertical-align: middle;\n",
       "    }\n",
       "\n",
       "    .dataframe tbody tr th {\n",
       "        vertical-align: top;\n",
       "    }\n",
       "\n",
       "    .dataframe thead th {\n",
       "        text-align: right;\n",
       "    }\n",
       "</style>\n",
       "<table border=\"1\" class=\"dataframe\">\n",
       "  <thead>\n",
       "    <tr style=\"text-align: right;\">\n",
       "      <th></th>\n",
       "      <th></th>\n",
       "      <th>headline</th>\n",
       "      <th>categories</th>\n",
       "      <th>visitID</th>\n",
       "      <th>visitDateTime</th>\n",
       "      <th>releaseDateTime</th>\n",
       "    </tr>\n",
       "    <tr>\n",
       "      <th>visitorID</th>\n",
       "      <th>contentID</th>\n",
       "      <th></th>\n",
       "      <th></th>\n",
       "      <th></th>\n",
       "      <th></th>\n",
       "      <th></th>\n",
       "    </tr>\n",
       "  </thead>\n",
       "  <tbody>\n",
       "    <tr>\n",
       "      <th rowspan=\"5\" valign=\"top\">6.335347e+18</th>\n",
       "      <th>www.arkansasonline.com/news/2018/aug/07/a-message-to-democrats-20180807/</th>\n",
       "      <td>196</td>\n",
       "      <td>196</td>\n",
       "      <td>196</td>\n",
       "      <td>196</td>\n",
       "      <td>196</td>\n",
       "    </tr>\n",
       "    <tr>\n",
       "      <th>www.arkansasonline.com/news/2018/sep/02/white-flight-riot-20180902/</th>\n",
       "      <td>180</td>\n",
       "      <td>180</td>\n",
       "      <td>180</td>\n",
       "      <td>180</td>\n",
       "      <td>180</td>\n",
       "    </tr>\n",
       "    <tr>\n",
       "      <th>www.arkansasonline.com/news/2018/aug/03/obama-s-endorsement-list-includes-no-st-1/</th>\n",
       "      <td>132</td>\n",
       "      <td>132</td>\n",
       "      <td>132</td>\n",
       "      <td>132</td>\n",
       "      <td>132</td>\n",
       "    </tr>\n",
       "    <tr>\n",
       "      <th>www.arkansasonline.com/news/2018/aug/10/cotton-s-cautious-of-new-space-force-20-1/</th>\n",
       "      <td>124</td>\n",
       "      <td>124</td>\n",
       "      <td>124</td>\n",
       "      <td>124</td>\n",
       "      <td>124</td>\n",
       "    </tr>\n",
       "    <tr>\n",
       "      <th>www.arkansasonline.com/news/2018/aug/24/cotton-sees-sign-swamp-is-draining-2018/</th>\n",
       "      <td>120</td>\n",
       "      <td>120</td>\n",
       "      <td>120</td>\n",
       "      <td>120</td>\n",
       "      <td>120</td>\n",
       "    </tr>\n",
       "  </tbody>\n",
       "</table>\n",
       "</div>"
      ],
      "text/plain": [
       "                                                                 headline  \\\n",
       "visitorID    contentID                                                      \n",
       "6.335347e+18 www.arkansasonline.com/news/2018/aug/07/a-messa...       196   \n",
       "             www.arkansasonline.com/news/2018/sep/02/white-f...       180   \n",
       "             www.arkansasonline.com/news/2018/aug/03/obama-s...       132   \n",
       "             www.arkansasonline.com/news/2018/aug/10/cotton-...       124   \n",
       "             www.arkansasonline.com/news/2018/aug/24/cotton-...       120   \n",
       "\n",
       "                                                                 categories  \\\n",
       "visitorID    contentID                                                        \n",
       "6.335347e+18 www.arkansasonline.com/news/2018/aug/07/a-messa...         196   \n",
       "             www.arkansasonline.com/news/2018/sep/02/white-f...         180   \n",
       "             www.arkansasonline.com/news/2018/aug/03/obama-s...         132   \n",
       "             www.arkansasonline.com/news/2018/aug/10/cotton-...         124   \n",
       "             www.arkansasonline.com/news/2018/aug/24/cotton-...         120   \n",
       "\n",
       "                                                                 visitID  \\\n",
       "visitorID    contentID                                                     \n",
       "6.335347e+18 www.arkansasonline.com/news/2018/aug/07/a-messa...      196   \n",
       "             www.arkansasonline.com/news/2018/sep/02/white-f...      180   \n",
       "             www.arkansasonline.com/news/2018/aug/03/obama-s...      132   \n",
       "             www.arkansasonline.com/news/2018/aug/10/cotton-...      124   \n",
       "             www.arkansasonline.com/news/2018/aug/24/cotton-...      120   \n",
       "\n",
       "                                                                 visitDateTime  \\\n",
       "visitorID    contentID                                                           \n",
       "6.335347e+18 www.arkansasonline.com/news/2018/aug/07/a-messa...            196   \n",
       "             www.arkansasonline.com/news/2018/sep/02/white-f...            180   \n",
       "             www.arkansasonline.com/news/2018/aug/03/obama-s...            132   \n",
       "             www.arkansasonline.com/news/2018/aug/10/cotton-...            124   \n",
       "             www.arkansasonline.com/news/2018/aug/24/cotton-...            120   \n",
       "\n",
       "                                                                 releaseDateTime  \n",
       "visitorID    contentID                                                            \n",
       "6.335347e+18 www.arkansasonline.com/news/2018/aug/07/a-messa...              196  \n",
       "             www.arkansasonline.com/news/2018/sep/02/white-f...              180  \n",
       "             www.arkansasonline.com/news/2018/aug/03/obama-s...              132  \n",
       "             www.arkansasonline.com/news/2018/aug/10/cotton-...              124  \n",
       "             www.arkansasonline.com/news/2018/aug/24/cotton-...              120  "
      ]
     },
     "execution_count": 749,
     "metadata": {},
     "output_type": "execute_result"
    }
   ],
   "source": [
    "popular_ind = train_df.groupby(['visitorID','contentID']).count().sort_values('headline', ascending = False)\n",
    "popular_ind.head()"
   ]
  },
  {
   "cell_type": "code",
   "execution_count": 750,
   "metadata": {},
   "outputs": [
    {
     "data": {
      "text/html": [
       "<div>\n",
       "<style scoped>\n",
       "    .dataframe tbody tr th:only-of-type {\n",
       "        vertical-align: middle;\n",
       "    }\n",
       "\n",
       "    .dataframe tbody tr th {\n",
       "        vertical-align: top;\n",
       "    }\n",
       "\n",
       "    .dataframe thead th {\n",
       "        text-align: right;\n",
       "    }\n",
       "</style>\n",
       "<table border=\"1\" class=\"dataframe\">\n",
       "  <thead>\n",
       "    <tr style=\"text-align: right;\">\n",
       "      <th></th>\n",
       "      <th>avg_views</th>\n",
       "    </tr>\n",
       "    <tr>\n",
       "      <th>visitorID</th>\n",
       "      <th></th>\n",
       "    </tr>\n",
       "  </thead>\n",
       "  <tbody>\n",
       "    <tr>\n",
       "      <th>5.393418e+18</th>\n",
       "      <td>32.000000</td>\n",
       "    </tr>\n",
       "    <tr>\n",
       "      <th>5.899972e+18</th>\n",
       "      <td>17.454545</td>\n",
       "    </tr>\n",
       "    <tr>\n",
       "      <th>4.720442e+18</th>\n",
       "      <td>16.290323</td>\n",
       "    </tr>\n",
       "    <tr>\n",
       "      <th>4.424965e+18</th>\n",
       "      <td>16.257143</td>\n",
       "    </tr>\n",
       "    <tr>\n",
       "      <th>4.238538e+18</th>\n",
       "      <td>16.000000</td>\n",
       "    </tr>\n",
       "    <tr>\n",
       "      <th>...</th>\n",
       "      <td>...</td>\n",
       "    </tr>\n",
       "    <tr>\n",
       "      <th>2.852333e+18</th>\n",
       "      <td>1.000000</td>\n",
       "    </tr>\n",
       "    <tr>\n",
       "      <th>8.328446e+18</th>\n",
       "      <td>1.000000</td>\n",
       "    </tr>\n",
       "    <tr>\n",
       "      <th>2.856705e+18</th>\n",
       "      <td>1.000000</td>\n",
       "    </tr>\n",
       "    <tr>\n",
       "      <th>2.861615e+18</th>\n",
       "      <td>1.000000</td>\n",
       "    </tr>\n",
       "    <tr>\n",
       "      <th>2.011047e+14</th>\n",
       "      <td>1.000000</td>\n",
       "    </tr>\n",
       "  </tbody>\n",
       "</table>\n",
       "<p>2884 rows × 1 columns</p>\n",
       "</div>"
      ],
      "text/plain": [
       "              avg_views\n",
       "visitorID              \n",
       "5.393418e+18  32.000000\n",
       "5.899972e+18  17.454545\n",
       "4.720442e+18  16.290323\n",
       "4.424965e+18  16.257143\n",
       "4.238538e+18  16.000000\n",
       "...                 ...\n",
       "2.852333e+18   1.000000\n",
       "8.328446e+18   1.000000\n",
       "2.856705e+18   1.000000\n",
       "2.861615e+18   1.000000\n",
       "2.011047e+14   1.000000\n",
       "\n",
       "[2884 rows x 1 columns]"
      ]
     },
     "execution_count": 750,
     "metadata": {},
     "output_type": "execute_result"
    }
   ],
   "source": [
    "popular_ind_avg = pd.DataFrame(popular_ind.groupby('visitorID')['headline'].mean().sort_values(ascending=False))\n",
    "popular_ind_avg.columns = ['avg_views']\n",
    "popular_ind_avg"
   ]
  },
  {
   "cell_type": "code",
   "execution_count": 751,
   "metadata": {},
   "outputs": [
    {
     "data": {
      "text/plain": [
       "count    2884.000000\n",
       "mean        1.877534\n",
       "std         1.705951\n",
       "min         1.000000\n",
       "25%         1.000000\n",
       "50%         1.047810\n",
       "75%         1.539263\n",
       "max        32.000000\n",
       "Name: avg_views, dtype: float64"
      ]
     },
     "execution_count": 751,
     "metadata": {},
     "output_type": "execute_result"
    }
   ],
   "source": [
    "popular_ind_avg['avg_views'].describe()"
   ]
  },
  {
   "cell_type": "code",
   "execution_count": 752,
   "metadata": {},
   "outputs": [
    {
     "data": {
      "text/plain": [
       "Text(0.5, 1.0, 'The average views for individual visitors')"
      ]
     },
     "execution_count": 752,
     "metadata": {},
     "output_type": "execute_result"
    },
    {
     "data": {
      "image/png": "[encoded data removed]",
      "text/plain": [
       "<Figure size 432x288 with 1 Axes>"
      ]
     },
     "metadata": {
      "needs_background": "light"
     },
     "output_type": "display_data"
    }
   ],
   "source": [
    "plt.hist(popular_ind_avg['avg_views'], bins = range(0,33,2))\n",
    "plt.xlabel('Average views')\n",
    "plt.ylabel('Counts of visitors')\n",
    "plt.title(\"The average views for individual visitors\")"
   ]
  },
  {
   "cell_type": "markdown",
   "metadata": {},
   "source": [
    "For each visitor, the average view for each article is 2 views and most visitors don't read the same article for more than 1.5 times. As a result, it is reasonable to recommend articles that individual visitors haven't read instead of repeatedly recommending articles they have read."
   ]
  },
  {
   "cell_type": "markdown",
   "metadata": {},
   "source": [
    "### 2. Popularity span distribution for all the articles\n",
    "\n",
    "We could have a look at the popularity span of all the articles to see how long the effects from each article could last."
   ]
  },
  {
   "cell_type": "code",
   "execution_count": 753,
   "metadata": {},
   "outputs": [
    {
     "data": {
      "text/html": [
       "<div>\n",
       "<style scoped>\n",
       "    .dataframe tbody tr th:only-of-type {\n",
       "        vertical-align: middle;\n",
       "    }\n",
       "\n",
       "    .dataframe tbody tr th {\n",
       "        vertical-align: top;\n",
       "    }\n",
       "\n",
       "    .dataframe thead th {\n",
       "        text-align: right;\n",
       "    }\n",
       "</style>\n",
       "<table border=\"1\" class=\"dataframe\">\n",
       "  <thead>\n",
       "    <tr style=\"text-align: right;\">\n",
       "      <th></th>\n",
       "      <th>lag</th>\n",
       "    </tr>\n",
       "    <tr>\n",
       "      <th>contentID</th>\n",
       "      <th></th>\n",
       "    </tr>\n",
       "  </thead>\n",
       "  <tbody>\n",
       "    <tr>\n",
       "      <th>www.arkansasonline.com/news/2018/jul/01/dad-marches-in-lr-because-son-hides-und/</th>\n",
       "      <td>60 days</td>\n",
       "    </tr>\n",
       "    <tr>\n",
       "      <th>www.arkansasonline.com/news/2018/jul/01/real-estate-transactions-20180701/</th>\n",
       "      <td>59 days</td>\n",
       "    </tr>\n",
       "    <tr>\n",
       "      <th>www.arkansasonline.com/news/2018/jun/20/woman-brandishes-screwdriver-robbery-north-little-/</th>\n",
       "      <td>58 days</td>\n",
       "    </tr>\n",
       "    <tr>\n",
       "      <th>www.arkansasonline.com/news/2018/may/18/traffic-alert-3-vehicle-crash-fire-shuts-part-i-30/</th>\n",
       "      <td>58 days</td>\n",
       "    </tr>\n",
       "    <tr>\n",
       "      <th>www.arkansasonline.com/news/2018/jul/06/outcomes-of-aspire-tests-seen-as-mixed-/</th>\n",
       "      <td>58 days</td>\n",
       "    </tr>\n",
       "  </tbody>\n",
       "</table>\n",
       "</div>"
      ],
      "text/plain": [
       "                                                       lag\n",
       "contentID                                                 \n",
       "www.arkansasonline.com/news/2018/jul/01/dad-mar... 60 days\n",
       "www.arkansasonline.com/news/2018/jul/01/real-es... 59 days\n",
       "www.arkansasonline.com/news/2018/jun/20/woman-b... 58 days\n",
       "www.arkansasonline.com/news/2018/may/18/traffic... 58 days\n",
       "www.arkansasonline.com/news/2018/jul/06/outcome... 58 days"
      ]
     },
     "execution_count": 753,
     "metadata": {},
     "output_type": "execute_result"
    }
   ],
   "source": [
    "article_lag = pd.DataFrame(train_utility.groupby('contentID')['visitDateTime']\n",
    "                           .agg(np.ptp)).sort_values('visitDateTime', ascending = False)\n",
    "article_lag = article_lag.rename(columns={'visitDateTime':'lag'})\n",
    "article_lag.head()"
   ]
  },
  {
   "cell_type": "code",
   "execution_count": 754,
   "metadata": {},
   "outputs": [
    {
     "data": {
      "text/html": [
       "<div>\n",
       "<style scoped>\n",
       "    .dataframe tbody tr th:only-of-type {\n",
       "        vertical-align: middle;\n",
       "    }\n",
       "\n",
       "    .dataframe tbody tr th {\n",
       "        vertical-align: top;\n",
       "    }\n",
       "\n",
       "    .dataframe thead th {\n",
       "        text-align: right;\n",
       "    }\n",
       "</style>\n",
       "<table border=\"1\" class=\"dataframe\">\n",
       "  <thead>\n",
       "    <tr style=\"text-align: right;\">\n",
       "      <th></th>\n",
       "      <th>min</th>\n",
       "      <th>max</th>\n",
       "      <th>count</th>\n",
       "    </tr>\n",
       "    <tr>\n",
       "      <th>contentID</th>\n",
       "      <th></th>\n",
       "      <th></th>\n",
       "      <th></th>\n",
       "    </tr>\n",
       "  </thead>\n",
       "  <tbody>\n",
       "    <tr>\n",
       "      <th>www.arkansasonline.com/news/2000/may/10/gun-maker-grandfather-dropped-school-shooting-suit/</th>\n",
       "      <td>2018-07-18</td>\n",
       "      <td>2018-07-18</td>\n",
       "      <td>2</td>\n",
       "    </tr>\n",
       "    <tr>\n",
       "      <th>www.arkansasonline.com/news/2007/aug/10/restaurants-thrill-grill-fades-butcher-sh-20070810/</th>\n",
       "      <td>2018-07-25</td>\n",
       "      <td>2018-07-25</td>\n",
       "      <td>1</td>\n",
       "    </tr>\n",
       "    <tr>\n",
       "      <th>www.arkansasonline.com/news/2007/dec/15/personal-space-20071215/</th>\n",
       "      <td>2018-08-09</td>\n",
       "      <td>2018-08-09</td>\n",
       "      <td>1</td>\n",
       "    </tr>\n",
       "    <tr>\n",
       "      <th>www.arkansasonline.com/news/2007/feb/17/our-town-north-little-rock-notebook-20070217/</th>\n",
       "      <td>2018-08-09</td>\n",
       "      <td>2018-08-09</td>\n",
       "      <td>1</td>\n",
       "    </tr>\n",
       "    <tr>\n",
       "      <th>www.arkansasonline.com/news/2007/jul/29/summary-2007-general-session-arkansas-legislature/</th>\n",
       "      <td>2018-07-23</td>\n",
       "      <td>2018-07-23</td>\n",
       "      <td>1</td>\n",
       "    </tr>\n",
       "  </tbody>\n",
       "</table>\n",
       "</div>"
      ],
      "text/plain": [
       "                                                           min         max  \\\n",
       "contentID                                                                    \n",
       "www.arkansasonline.com/news/2000/may/10/gun-mak...  2018-07-18  2018-07-18   \n",
       "www.arkansasonline.com/news/2007/aug/10/restaur...  2018-07-25  2018-07-25   \n",
       "www.arkansasonline.com/news/2007/dec/15/persona...  2018-08-09  2018-08-09   \n",
       "www.arkansasonline.com/news/2007/feb/17/our-tow...  2018-08-09  2018-08-09   \n",
       "www.arkansasonline.com/news/2007/jul/29/summary...  2018-07-23  2018-07-23   \n",
       "\n",
       "                                                    count  \n",
       "contentID                                                  \n",
       "www.arkansasonline.com/news/2000/may/10/gun-mak...      2  \n",
       "www.arkansasonline.com/news/2007/aug/10/restaur...      1  \n",
       "www.arkansasonline.com/news/2007/dec/15/persona...      1  \n",
       "www.arkansasonline.com/news/2007/feb/17/our-tow...      1  \n",
       "www.arkansasonline.com/news/2007/jul/29/summary...      1  "
      ]
     },
     "execution_count": 754,
     "metadata": {},
     "output_type": "execute_result"
    }
   ],
   "source": [
    "article_s_e = train_utility.groupby('contentID').agg({'visitDateTime': ['min', 'max', 'count']}) \n",
    "article_s_e.columns = ['min','max','count']\n",
    "article_s_e.head()"
   ]
  },
  {
   "cell_type": "code",
   "execution_count": 755,
   "metadata": {},
   "outputs": [
    {
     "data": {
      "text/html": [
       "<div>\n",
       "<style scoped>\n",
       "    .dataframe tbody tr th:only-of-type {\n",
       "        vertical-align: middle;\n",
       "    }\n",
       "\n",
       "    .dataframe tbody tr th {\n",
       "        vertical-align: top;\n",
       "    }\n",
       "\n",
       "    .dataframe thead th {\n",
       "        text-align: right;\n",
       "    }\n",
       "</style>\n",
       "<table border=\"1\" class=\"dataframe\">\n",
       "  <thead>\n",
       "    <tr style=\"text-align: right;\">\n",
       "      <th></th>\n",
       "      <th>min</th>\n",
       "      <th>max</th>\n",
       "      <th>count</th>\n",
       "    </tr>\n",
       "    <tr>\n",
       "      <th>contentID</th>\n",
       "      <th></th>\n",
       "      <th></th>\n",
       "      <th></th>\n",
       "    </tr>\n",
       "  </thead>\n",
       "  <tbody>\n",
       "    <tr>\n",
       "      <th>www.arkansasonline.com/news/2018/aug/29/food-networks-diners-drive-ins-and-dives-stops-lit/</th>\n",
       "      <td>2018-08-29</td>\n",
       "      <td>2018-09-03</td>\n",
       "      <td>910</td>\n",
       "    </tr>\n",
       "    <tr>\n",
       "      <th>www.arkansasonline.com/news/2018/aug/31/former-arkansas-senator-jeremy-hutchinson-indicted/</th>\n",
       "      <td>2018-08-31</td>\n",
       "      <td>2018-09-03</td>\n",
       "      <td>734</td>\n",
       "    </tr>\n",
       "    <tr>\n",
       "      <th>www.arkansasonline.com/news/2018/aug/22/arkansas-democrat-gazette-delivery-man-shot-robbed/</th>\n",
       "      <td>2018-08-22</td>\n",
       "      <td>2018-08-28</td>\n",
       "      <td>656</td>\n",
       "    </tr>\n",
       "    <tr>\n",
       "      <th>www.arkansasonline.com/news/2018/jul/19/sheriff-8-people-dead-after-missouri-tourist-boat-/</th>\n",
       "      <td>2018-07-20</td>\n",
       "      <td>2018-08-01</td>\n",
       "      <td>594</td>\n",
       "    </tr>\n",
       "    <tr>\n",
       "      <th>www.arkansasonline.com/news/2018/aug/16/little-rock-police-helicopter-crashes-injuries-rep/</th>\n",
       "      <td>2018-08-16</td>\n",
       "      <td>2018-08-21</td>\n",
       "      <td>583</td>\n",
       "    </tr>\n",
       "    <tr>\n",
       "      <th>...</th>\n",
       "      <td>...</td>\n",
       "      <td>...</td>\n",
       "      <td>...</td>\n",
       "    </tr>\n",
       "    <tr>\n",
       "      <th>www.arkansasonline.com/news/2018/aug/12/look-for-1-of-big-3-to-win-in-michigan-/</th>\n",
       "      <td>2018-08-12</td>\n",
       "      <td>2018-08-12</td>\n",
       "      <td>1</td>\n",
       "    </tr>\n",
       "    <tr>\n",
       "      <th>www.arkansasonline.com/news/2018/aug/12/major-league-baseball-notes-20180812/</th>\n",
       "      <td>2018-08-12</td>\n",
       "      <td>2018-08-12</td>\n",
       "      <td>1</td>\n",
       "    </tr>\n",
       "    <tr>\n",
       "      <th>www.arkansasonline.com/news/2018/aug/12/mercy-earns-recognition-for-diabetes-pr/</th>\n",
       "      <td>2018-08-13</td>\n",
       "      <td>2018-08-13</td>\n",
       "      <td>1</td>\n",
       "    </tr>\n",
       "    <tr>\n",
       "      <th>www.arkansasonline.com/news/2018/aug/12/new-lester-elementary-school-open-monday-jacksonvi/</th>\n",
       "      <td>2018-08-15</td>\n",
       "      <td>2018-08-15</td>\n",
       "      <td>1</td>\n",
       "    </tr>\n",
       "    <tr>\n",
       "      <th>www.arkansasonline.com/news/2018/apr/22/divorces-20180422/</th>\n",
       "      <td>2018-08-17</td>\n",
       "      <td>2018-08-17</td>\n",
       "      <td>1</td>\n",
       "    </tr>\n",
       "  </tbody>\n",
       "</table>\n",
       "<p>8523 rows × 3 columns</p>\n",
       "</div>"
      ],
      "text/plain": [
       "                                                           min         max  \\\n",
       "contentID                                                                    \n",
       "www.arkansasonline.com/news/2018/aug/29/food-ne...  2018-08-29  2018-09-03   \n",
       "www.arkansasonline.com/news/2018/aug/31/former-...  2018-08-31  2018-09-03   \n",
       "www.arkansasonline.com/news/2018/aug/22/arkansa...  2018-08-22  2018-08-28   \n",
       "www.arkansasonline.com/news/2018/jul/19/sheriff...  2018-07-20  2018-08-01   \n",
       "www.arkansasonline.com/news/2018/aug/16/little-...  2018-08-16  2018-08-21   \n",
       "...                                                        ...         ...   \n",
       "www.arkansasonline.com/news/2018/aug/12/look-fo...  2018-08-12  2018-08-12   \n",
       "www.arkansasonline.com/news/2018/aug/12/major-l...  2018-08-12  2018-08-12   \n",
       "www.arkansasonline.com/news/2018/aug/12/mercy-e...  2018-08-13  2018-08-13   \n",
       "www.arkansasonline.com/news/2018/aug/12/new-les...  2018-08-15  2018-08-15   \n",
       "www.arkansasonline.com/news/2018/apr/22/divorce...  2018-08-17  2018-08-17   \n",
       "\n",
       "                                                    count  \n",
       "contentID                                                  \n",
       "www.arkansasonline.com/news/2018/aug/29/food-ne...    910  \n",
       "www.arkansasonline.com/news/2018/aug/31/former-...    734  \n",
       "www.arkansasonline.com/news/2018/aug/22/arkansa...    656  \n",
       "www.arkansasonline.com/news/2018/jul/19/sheriff...    594  \n",
       "www.arkansasonline.com/news/2018/aug/16/little-...    583  \n",
       "...                                                   ...  \n",
       "www.arkansasonline.com/news/2018/aug/12/look-fo...      1  \n",
       "www.arkansasonline.com/news/2018/aug/12/major-l...      1  \n",
       "www.arkansasonline.com/news/2018/aug/12/mercy-e...      1  \n",
       "www.arkansasonline.com/news/2018/aug/12/new-les...      1  \n",
       "www.arkansasonline.com/news/2018/apr/22/divorce...      1  \n",
       "\n",
       "[8523 rows x 3 columns]"
      ]
     },
     "execution_count": 755,
     "metadata": {},
     "output_type": "execute_result"
    }
   ],
   "source": [
    "# the number of days between the first visit and the last visit, the total visits.\n",
    "article_s_e.sort_values('count', ascending = False)"
   ]
  },
  {
   "cell_type": "code",
   "execution_count": 756,
   "metadata": {},
   "outputs": [
    {
     "data": {
      "text/html": [
       "<div>\n",
       "<style scoped>\n",
       "    .dataframe tbody tr th:only-of-type {\n",
       "        vertical-align: middle;\n",
       "    }\n",
       "\n",
       "    .dataframe tbody tr th {\n",
       "        vertical-align: top;\n",
       "    }\n",
       "\n",
       "    .dataframe thead th {\n",
       "        text-align: right;\n",
       "    }\n",
       "</style>\n",
       "<table border=\"1\" class=\"dataframe\">\n",
       "  <thead>\n",
       "    <tr style=\"text-align: right;\">\n",
       "      <th></th>\n",
       "      <th>lag</th>\n",
       "      <th>min</th>\n",
       "      <th>max</th>\n",
       "      <th>count</th>\n",
       "    </tr>\n",
       "    <tr>\n",
       "      <th>contentID</th>\n",
       "      <th></th>\n",
       "      <th></th>\n",
       "      <th></th>\n",
       "      <th></th>\n",
       "    </tr>\n",
       "  </thead>\n",
       "  <tbody>\n",
       "    <tr>\n",
       "      <th>www.arkansasonline.com/news/2018/aug/29/food-networks-diners-drive-ins-and-dives-stops-lit/</th>\n",
       "      <td>5</td>\n",
       "      <td>2018-08-29</td>\n",
       "      <td>2018-09-03</td>\n",
       "      <td>910</td>\n",
       "    </tr>\n",
       "    <tr>\n",
       "      <th>www.arkansasonline.com/news/2018/aug/31/former-arkansas-senator-jeremy-hutchinson-indicted/</th>\n",
       "      <td>3</td>\n",
       "      <td>2018-08-31</td>\n",
       "      <td>2018-09-03</td>\n",
       "      <td>734</td>\n",
       "    </tr>\n",
       "    <tr>\n",
       "      <th>www.arkansasonline.com/news/2018/aug/22/arkansas-democrat-gazette-delivery-man-shot-robbed/</th>\n",
       "      <td>6</td>\n",
       "      <td>2018-08-22</td>\n",
       "      <td>2018-08-28</td>\n",
       "      <td>656</td>\n",
       "    </tr>\n",
       "    <tr>\n",
       "      <th>www.arkansasonline.com/news/2018/jul/19/sheriff-8-people-dead-after-missouri-tourist-boat-/</th>\n",
       "      <td>12</td>\n",
       "      <td>2018-07-20</td>\n",
       "      <td>2018-08-01</td>\n",
       "      <td>594</td>\n",
       "    </tr>\n",
       "    <tr>\n",
       "      <th>www.arkansasonline.com/news/2018/aug/16/little-rock-police-helicopter-crashes-injuries-rep/</th>\n",
       "      <td>5</td>\n",
       "      <td>2018-08-16</td>\n",
       "      <td>2018-08-21</td>\n",
       "      <td>583</td>\n",
       "    </tr>\n",
       "    <tr>\n",
       "      <th>www.arkansasonline.com/news/2018/aug/25/salt-bowl-game-hold-after-fight-war-memorial-stadi/</th>\n",
       "      <td>7</td>\n",
       "      <td>2018-08-26</td>\n",
       "      <td>2018-09-02</td>\n",
       "      <td>565</td>\n",
       "    </tr>\n",
       "    <tr>\n",
       "      <th>www.arkansasonline.com/news/2018/aug/27/3-inmates-found-dead-arkansas-prison/</th>\n",
       "      <td>4</td>\n",
       "      <td>2018-08-27</td>\n",
       "      <td>2018-08-31</td>\n",
       "      <td>551</td>\n",
       "    </tr>\n",
       "    <tr>\n",
       "      <th>www.arkansasonline.com/news/2018/aug/29/2-more-inmates-die-arkansas-prison-official-says-b/</th>\n",
       "      <td>5</td>\n",
       "      <td>2018-08-29</td>\n",
       "      <td>2018-09-03</td>\n",
       "      <td>506</td>\n",
       "    </tr>\n",
       "    <tr>\n",
       "      <th>www.arkansasonline.com/news/2018/aug/29/2-killed-head-collision-little-rock-car-was-drivin/</th>\n",
       "      <td>4</td>\n",
       "      <td>2018-08-29</td>\n",
       "      <td>2018-09-02</td>\n",
       "      <td>500</td>\n",
       "    </tr>\n",
       "    <tr>\n",
       "      <th>www.arkansasonline.com/news/2018/aug/14/arkansas-school-district-administrator-accused-hav/</th>\n",
       "      <td>6</td>\n",
       "      <td>2018-08-14</td>\n",
       "      <td>2018-08-20</td>\n",
       "      <td>449</td>\n",
       "    </tr>\n",
       "    <tr>\n",
       "      <th>www.arkansasonline.com/news/2018/aug/19/legislator-stalls-20-ua-colleges-projec/</th>\n",
       "      <td>14</td>\n",
       "      <td>2018-08-19</td>\n",
       "      <td>2018-09-02</td>\n",
       "      <td>441</td>\n",
       "    </tr>\n",
       "    <tr>\n",
       "      <th>www.arkansasonline.com/news/2018/aug/29/kansans-arrive-to-find-dogpatch-dark-20/</th>\n",
       "      <td>4</td>\n",
       "      <td>2018-08-29</td>\n",
       "      <td>2018-09-02</td>\n",
       "      <td>438</td>\n",
       "    </tr>\n",
       "    <tr>\n",
       "      <th>www.arkansasonline.com/news/2018/aug/24/channels-for-4-stations-to-change-20180/</th>\n",
       "      <td>3</td>\n",
       "      <td>2018-08-24</td>\n",
       "      <td>2018-08-27</td>\n",
       "      <td>431</td>\n",
       "    </tr>\n",
       "    <tr>\n",
       "      <th>www.arkansasonline.com/news/2018/aug/26/fight-sets-off-panic-empties-stadium-20/</th>\n",
       "      <td>2</td>\n",
       "      <td>2018-08-26</td>\n",
       "      <td>2018-08-28</td>\n",
       "      <td>430</td>\n",
       "    </tr>\n",
       "    <tr>\n",
       "      <th>www.arkansasonline.com/news/2018/aug/24/cotton-sees-sign-swamp-is-draining-2018/</th>\n",
       "      <td>5</td>\n",
       "      <td>2018-08-24</td>\n",
       "      <td>2018-08-29</td>\n",
       "      <td>430</td>\n",
       "    </tr>\n",
       "    <tr>\n",
       "      <th>www.arkansasonline.com/news/2018/aug/02/football-vet-sees-seafood-near-capitol-/</th>\n",
       "      <td>28</td>\n",
       "      <td>2018-08-02</td>\n",
       "      <td>2018-08-30</td>\n",
       "      <td>413</td>\n",
       "    </tr>\n",
       "    <tr>\n",
       "      <th>www.arkansasonline.com/news/2018/jul/11/1-dead-crop-duster-crash-arkansas/</th>\n",
       "      <td>12</td>\n",
       "      <td>2018-07-11</td>\n",
       "      <td>2018-07-23</td>\n",
       "      <td>411</td>\n",
       "    </tr>\n",
       "    <tr>\n",
       "      <th>www.arkansasonline.com/news/2018/aug/27/panic-s-end-leaves-little-relief-201808-1/</th>\n",
       "      <td>6</td>\n",
       "      <td>2018-08-27</td>\n",
       "      <td>2018-09-02</td>\n",
       "      <td>400</td>\n",
       "    </tr>\n",
       "    <tr>\n",
       "      <th>www.arkansasonline.com/news/2018/aug/25/fast-casual-asian-restaurant-chain-closing-outlet-/</th>\n",
       "      <td>8</td>\n",
       "      <td>2018-08-25</td>\n",
       "      <td>2018-09-02</td>\n",
       "      <td>383</td>\n",
       "    </tr>\n",
       "    <tr>\n",
       "      <th>www.arkansasonline.com/news/2018/sep/02/white-flight-riot-20180902/</th>\n",
       "      <td>1</td>\n",
       "      <td>2018-09-02</td>\n",
       "      <td>2018-09-03</td>\n",
       "      <td>380</td>\n",
       "    </tr>\n",
       "  </tbody>\n",
       "</table>\n",
       "</div>"
      ],
      "text/plain": [
       "                                                    lag         min  \\\n",
       "contentID                                                             \n",
       "www.arkansasonline.com/news/2018/aug/29/food-ne...    5  2018-08-29   \n",
       "www.arkansasonline.com/news/2018/aug/31/former-...    3  2018-08-31   \n",
       "www.arkansasonline.com/news/2018/aug/22/arkansa...    6  2018-08-22   \n",
       "www.arkansasonline.com/news/2018/jul/19/sheriff...   12  2018-07-20   \n",
       "www.arkansasonline.com/news/2018/aug/16/little-...    5  2018-08-16   \n",
       "www.arkansasonline.com/news/2018/aug/25/salt-bo...    7  2018-08-26   \n",
       "www.arkansasonline.com/news/2018/aug/27/3-inmat...    4  2018-08-27   \n",
       "www.arkansasonline.com/news/2018/aug/29/2-more-...    5  2018-08-29   \n",
       "www.arkansasonline.com/news/2018/aug/29/2-kille...    4  2018-08-29   \n",
       "www.arkansasonline.com/news/2018/aug/14/arkansa...    6  2018-08-14   \n",
       "www.arkansasonline.com/news/2018/aug/19/legisla...   14  2018-08-19   \n",
       "www.arkansasonline.com/news/2018/aug/29/kansans...    4  2018-08-29   \n",
       "www.arkansasonline.com/news/2018/aug/24/channel...    3  2018-08-24   \n",
       "www.arkansasonline.com/news/2018/aug/26/fight-s...    2  2018-08-26   \n",
       "www.arkansasonline.com/news/2018/aug/24/cotton-...    5  2018-08-24   \n",
       "www.arkansasonline.com/news/2018/aug/02/footbal...   28  2018-08-02   \n",
       "www.arkansasonline.com/news/2018/jul/11/1-dead-...   12  2018-07-11   \n",
       "www.arkansasonline.com/news/2018/aug/27/panic-s...    6  2018-08-27   \n",
       "www.arkansasonline.com/news/2018/aug/25/fast-ca...    8  2018-08-25   \n",
       "www.arkansasonline.com/news/2018/sep/02/white-f...    1  2018-09-02   \n",
       "\n",
       "                                                           max  count  \n",
       "contentID                                                              \n",
       "www.arkansasonline.com/news/2018/aug/29/food-ne...  2018-09-03    910  \n",
       "www.arkansasonline.com/news/2018/aug/31/former-...  2018-09-03    734  \n",
       "www.arkansasonline.com/news/2018/aug/22/arkansa...  2018-08-28    656  \n",
       "www.arkansasonline.com/news/2018/jul/19/sheriff...  2018-08-01    594  \n",
       "www.arkansasonline.com/news/2018/aug/16/little-...  2018-08-21    583  \n",
       "www.arkansasonline.com/news/2018/aug/25/salt-bo...  2018-09-02    565  \n",
       "www.arkansasonline.com/news/2018/aug/27/3-inmat...  2018-08-31    551  \n",
       "www.arkansasonline.com/news/2018/aug/29/2-more-...  2018-09-03    506  \n",
       "www.arkansasonline.com/news/2018/aug/29/2-kille...  2018-09-02    500  \n",
       "www.arkansasonline.com/news/2018/aug/14/arkansa...  2018-08-20    449  \n",
       "www.arkansasonline.com/news/2018/aug/19/legisla...  2018-09-02    441  \n",
       "www.arkansasonline.com/news/2018/aug/29/kansans...  2018-09-02    438  \n",
       "www.arkansasonline.com/news/2018/aug/24/channel...  2018-08-27    431  \n",
       "www.arkansasonline.com/news/2018/aug/26/fight-s...  2018-08-28    430  \n",
       "www.arkansasonline.com/news/2018/aug/24/cotton-...  2018-08-29    430  \n",
       "www.arkansasonline.com/news/2018/aug/02/footbal...  2018-08-30    413  \n",
       "www.arkansasonline.com/news/2018/jul/11/1-dead-...  2018-07-23    411  \n",
       "www.arkansasonline.com/news/2018/aug/27/panic-s...  2018-09-02    400  \n",
       "www.arkansasonline.com/news/2018/aug/25/fast-ca...  2018-09-02    383  \n",
       "www.arkansasonline.com/news/2018/sep/02/white-f...  2018-09-03    380  "
      ]
     },
     "execution_count": 756,
     "metadata": {},
     "output_type": "execute_result"
    }
   ],
   "source": [
    "articles_s_e_l = pd.merge(article_lag, article_s_e, on = ('contentID'), how = 'inner')\n",
    "articles_s_e_l.columns = ['lag','min','max','count']\n",
    "articles_s_e_l['lag'] = pd.to_numeric(articles_s_e_l['lag'].dt.days, downcast='integer')\n",
    "articles_s_e_l.sort_values('count', ascending = False).head(20)"
   ]
  },
  {
   "cell_type": "code",
   "execution_count": 757,
   "metadata": {},
   "outputs": [
    {
     "data": {
      "text/html": [
       "<div>\n",
       "<style scoped>\n",
       "    .dataframe tbody tr th:only-of-type {\n",
       "        vertical-align: middle;\n",
       "    }\n",
       "\n",
       "    .dataframe tbody tr th {\n",
       "        vertical-align: top;\n",
       "    }\n",
       "\n",
       "    .dataframe thead th {\n",
       "        text-align: right;\n",
       "    }\n",
       "</style>\n",
       "<table border=\"1\" class=\"dataframe\">\n",
       "  <thead>\n",
       "    <tr style=\"text-align: right;\">\n",
       "      <th></th>\n",
       "      <th>lag</th>\n",
       "      <th>min</th>\n",
       "      <th>max</th>\n",
       "      <th>count</th>\n",
       "    </tr>\n",
       "    <tr>\n",
       "      <th>contentID</th>\n",
       "      <th></th>\n",
       "      <th></th>\n",
       "      <th></th>\n",
       "      <th></th>\n",
       "    </tr>\n",
       "  </thead>\n",
       "  <tbody>\n",
       "    <tr>\n",
       "      <th>www.arkansasonline.com/news/2018/jul/01/dad-marches-in-lr-because-son-hides-und/</th>\n",
       "      <td>60</td>\n",
       "      <td>2018-07-01</td>\n",
       "      <td>2018-08-30</td>\n",
       "      <td>62</td>\n",
       "    </tr>\n",
       "    <tr>\n",
       "      <th>www.arkansasonline.com/news/2018/jul/01/real-estate-transactions-20180701/</th>\n",
       "      <td>59</td>\n",
       "      <td>2018-07-01</td>\n",
       "      <td>2018-08-29</td>\n",
       "      <td>16</td>\n",
       "    </tr>\n",
       "    <tr>\n",
       "      <th>www.arkansasonline.com/news/2018/jun/20/woman-brandishes-screwdriver-robbery-north-little-/</th>\n",
       "      <td>58</td>\n",
       "      <td>2018-07-02</td>\n",
       "      <td>2018-08-29</td>\n",
       "      <td>5</td>\n",
       "    </tr>\n",
       "    <tr>\n",
       "      <th>www.arkansasonline.com/news/2018/may/18/traffic-alert-3-vehicle-crash-fire-shuts-part-i-30/</th>\n",
       "      <td>58</td>\n",
       "      <td>2018-07-02</td>\n",
       "      <td>2018-08-29</td>\n",
       "      <td>7</td>\n",
       "    </tr>\n",
       "    <tr>\n",
       "      <th>www.arkansasonline.com/news/2018/jul/06/outcomes-of-aspire-tests-seen-as-mixed-/</th>\n",
       "      <td>58</td>\n",
       "      <td>2018-07-06</td>\n",
       "      <td>2018-09-02</td>\n",
       "      <td>99</td>\n",
       "    </tr>\n",
       "    <tr>\n",
       "      <th>...</th>\n",
       "      <td>...</td>\n",
       "      <td>...</td>\n",
       "      <td>...</td>\n",
       "      <td>...</td>\n",
       "    </tr>\n",
       "    <tr>\n",
       "      <th>www.arkansasonline.com/news/2018/jun/18/officials-doctor-worked-arkansas-va-hospital-while/</th>\n",
       "      <td>0</td>\n",
       "      <td>2018-07-13</td>\n",
       "      <td>2018-07-13</td>\n",
       "      <td>1</td>\n",
       "    </tr>\n",
       "    <tr>\n",
       "      <th>www.arkansasonline.com/news/2018/jul/21/golfers-get-kicks-in-after-open-rounds-/</th>\n",
       "      <td>0</td>\n",
       "      <td>2018-07-21</td>\n",
       "      <td>2018-07-21</td>\n",
       "      <td>3</td>\n",
       "    </tr>\n",
       "    <tr>\n",
       "      <th>www.arkansasonline.com/news/2018/jun/21/crawford-calls-tariffs-a-boon-for-farme/</th>\n",
       "      <td>0</td>\n",
       "      <td>2018-07-04</td>\n",
       "      <td>2018-07-04</td>\n",
       "      <td>4</td>\n",
       "    </tr>\n",
       "    <tr>\n",
       "      <th>www.arkansasonline.com/news/2018/jun/21/dear-abby-man-learns-he-s-not-first-to-/</th>\n",
       "      <td>0</td>\n",
       "      <td>2018-07-03</td>\n",
       "      <td>2018-07-03</td>\n",
       "      <td>1</td>\n",
       "    </tr>\n",
       "    <tr>\n",
       "      <th>www.arkansasonline.com/news/2018/sep/03/worker-visa-red-tape-worries-companies-/</th>\n",
       "      <td>0</td>\n",
       "      <td>2018-09-03</td>\n",
       "      <td>2018-09-03</td>\n",
       "      <td>2</td>\n",
       "    </tr>\n",
       "  </tbody>\n",
       "</table>\n",
       "<p>8523 rows × 4 columns</p>\n",
       "</div>"
      ],
      "text/plain": [
       "                                                    lag         min  \\\n",
       "contentID                                                             \n",
       "www.arkansasonline.com/news/2018/jul/01/dad-mar...   60  2018-07-01   \n",
       "www.arkansasonline.com/news/2018/jul/01/real-es...   59  2018-07-01   \n",
       "www.arkansasonline.com/news/2018/jun/20/woman-b...   58  2018-07-02   \n",
       "www.arkansasonline.com/news/2018/may/18/traffic...   58  2018-07-02   \n",
       "www.arkansasonline.com/news/2018/jul/06/outcome...   58  2018-07-06   \n",
       "...                                                 ...         ...   \n",
       "www.arkansasonline.com/news/2018/jun/18/officia...    0  2018-07-13   \n",
       "www.arkansasonline.com/news/2018/jul/21/golfers...    0  2018-07-21   \n",
       "www.arkansasonline.com/news/2018/jun/21/crawfor...    0  2018-07-04   \n",
       "www.arkansasonline.com/news/2018/jun/21/dear-ab...    0  2018-07-03   \n",
       "www.arkansasonline.com/news/2018/sep/03/worker-...    0  2018-09-03   \n",
       "\n",
       "                                                           max  count  \n",
       "contentID                                                              \n",
       "www.arkansasonline.com/news/2018/jul/01/dad-mar...  2018-08-30     62  \n",
       "www.arkansasonline.com/news/2018/jul/01/real-es...  2018-08-29     16  \n",
       "www.arkansasonline.com/news/2018/jun/20/woman-b...  2018-08-29      5  \n",
       "www.arkansasonline.com/news/2018/may/18/traffic...  2018-08-29      7  \n",
       "www.arkansasonline.com/news/2018/jul/06/outcome...  2018-09-02     99  \n",
       "...                                                        ...    ...  \n",
       "www.arkansasonline.com/news/2018/jun/18/officia...  2018-07-13      1  \n",
       "www.arkansasonline.com/news/2018/jul/21/golfers...  2018-07-21      3  \n",
       "www.arkansasonline.com/news/2018/jun/21/crawfor...  2018-07-04      4  \n",
       "www.arkansasonline.com/news/2018/jun/21/dear-ab...  2018-07-03      1  \n",
       "www.arkansasonline.com/news/2018/sep/03/worker-...  2018-09-03      2  \n",
       "\n",
       "[8523 rows x 4 columns]"
      ]
     },
     "execution_count": 757,
     "metadata": {},
     "output_type": "execute_result"
    }
   ],
   "source": [
    "articles_s_e_l.sort_values('lag', ascending = False)"
   ]
  },
  {
   "cell_type": "markdown",
   "metadata": {},
   "source": [
    "\n",
    "It can be inferred that most page visits are attributed to the page visits from popular articles when they are newly released instead of the page visits from less popular articles accumulated during a long time."
   ]
  },
  {
   "cell_type": "markdown",
   "metadata": {},
   "source": [
    "#### a. Popularity span distribution for the articles whose records are before the end day of the training period (2018-09-03)"
   ]
  },
  {
   "cell_type": "markdown",
   "metadata": {},
   "source": [
    "First, have a look at the articles whose last records are before the end day (2018-09-03) of training set "
   ]
  },
  {
   "cell_type": "code",
   "execution_count": 758,
   "metadata": {},
   "outputs": [
    {
     "data": {
      "text/html": [
       "<div>\n",
       "<style scoped>\n",
       "    .dataframe tbody tr th:only-of-type {\n",
       "        vertical-align: middle;\n",
       "    }\n",
       "\n",
       "    .dataframe tbody tr th {\n",
       "        vertical-align: top;\n",
       "    }\n",
       "\n",
       "    .dataframe thead th {\n",
       "        text-align: right;\n",
       "    }\n",
       "</style>\n",
       "<table border=\"1\" class=\"dataframe\">\n",
       "  <thead>\n",
       "    <tr style=\"text-align: right;\">\n",
       "      <th></th>\n",
       "      <th>lag</th>\n",
       "      <th>min</th>\n",
       "      <th>max</th>\n",
       "      <th>count</th>\n",
       "    </tr>\n",
       "    <tr>\n",
       "      <th>contentID</th>\n",
       "      <th></th>\n",
       "      <th></th>\n",
       "      <th></th>\n",
       "      <th></th>\n",
       "    </tr>\n",
       "  </thead>\n",
       "  <tbody>\n",
       "    <tr>\n",
       "      <th>www.arkansasonline.com/news/2018/jul/01/dad-marches-in-lr-because-son-hides-und/</th>\n",
       "      <td>60</td>\n",
       "      <td>2018-07-01</td>\n",
       "      <td>2018-08-30</td>\n",
       "      <td>62</td>\n",
       "    </tr>\n",
       "    <tr>\n",
       "      <th>www.arkansasonline.com/news/2018/jul/01/real-estate-transactions-20180701/</th>\n",
       "      <td>59</td>\n",
       "      <td>2018-07-01</td>\n",
       "      <td>2018-08-29</td>\n",
       "      <td>16</td>\n",
       "    </tr>\n",
       "    <tr>\n",
       "      <th>www.arkansasonline.com/news/2018/jun/20/woman-brandishes-screwdriver-robbery-north-little-/</th>\n",
       "      <td>58</td>\n",
       "      <td>2018-07-02</td>\n",
       "      <td>2018-08-29</td>\n",
       "      <td>5</td>\n",
       "    </tr>\n",
       "    <tr>\n",
       "      <th>www.arkansasonline.com/news/2018/may/18/traffic-alert-3-vehicle-crash-fire-shuts-part-i-30/</th>\n",
       "      <td>58</td>\n",
       "      <td>2018-07-02</td>\n",
       "      <td>2018-08-29</td>\n",
       "      <td>7</td>\n",
       "    </tr>\n",
       "    <tr>\n",
       "      <th>www.arkansasonline.com/news/2018/jul/06/outcomes-of-aspire-tests-seen-as-mixed-/</th>\n",
       "      <td>58</td>\n",
       "      <td>2018-07-06</td>\n",
       "      <td>2018-09-02</td>\n",
       "      <td>99</td>\n",
       "    </tr>\n",
       "    <tr>\n",
       "      <th>...</th>\n",
       "      <td>...</td>\n",
       "      <td>...</td>\n",
       "      <td>...</td>\n",
       "      <td>...</td>\n",
       "    </tr>\n",
       "    <tr>\n",
       "      <th>www.arkansasonline.com/news/2018/aug/26/splitting-dinner-bills-tricky-separate-/</th>\n",
       "      <td>0</td>\n",
       "      <td>2018-08-26</td>\n",
       "      <td>2018-08-26</td>\n",
       "      <td>4</td>\n",
       "    </tr>\n",
       "    <tr>\n",
       "      <th>www.arkansasonline.com/news/2018/aug/26/s-korea-urges-u-s-north-to-keep-talking/</th>\n",
       "      <td>0</td>\n",
       "      <td>2018-08-26</td>\n",
       "      <td>2018-08-26</td>\n",
       "      <td>6</td>\n",
       "    </tr>\n",
       "    <tr>\n",
       "      <th>www.arkansasonline.com/news/2018/aug/26/road-to-becoming-physician-starts-with-/</th>\n",
       "      <td>0</td>\n",
       "      <td>2018-08-26</td>\n",
       "      <td>2018-08-26</td>\n",
       "      <td>15</td>\n",
       "    </tr>\n",
       "    <tr>\n",
       "      <th>www.arkansasonline.com/news/2018/aug/26/records-20180826/</th>\n",
       "      <td>0</td>\n",
       "      <td>2018-08-26</td>\n",
       "      <td>2018-08-26</td>\n",
       "      <td>1</td>\n",
       "    </tr>\n",
       "    <tr>\n",
       "      <th>www.arkansasonline.com/news/2018/aug/26/razorbacks-place-3-scholarship/</th>\n",
       "      <td>0</td>\n",
       "      <td>2018-08-27</td>\n",
       "      <td>2018-08-27</td>\n",
       "      <td>25</td>\n",
       "    </tr>\n",
       "  </tbody>\n",
       "</table>\n",
       "<p>8332 rows × 4 columns</p>\n",
       "</div>"
      ],
      "text/plain": [
       "                                                    lag         min  \\\n",
       "contentID                                                             \n",
       "www.arkansasonline.com/news/2018/jul/01/dad-mar...   60  2018-07-01   \n",
       "www.arkansasonline.com/news/2018/jul/01/real-es...   59  2018-07-01   \n",
       "www.arkansasonline.com/news/2018/jun/20/woman-b...   58  2018-07-02   \n",
       "www.arkansasonline.com/news/2018/may/18/traffic...   58  2018-07-02   \n",
       "www.arkansasonline.com/news/2018/jul/06/outcome...   58  2018-07-06   \n",
       "...                                                 ...         ...   \n",
       "www.arkansasonline.com/news/2018/aug/26/splitti...    0  2018-08-26   \n",
       "www.arkansasonline.com/news/2018/aug/26/s-korea...    0  2018-08-26   \n",
       "www.arkansasonline.com/news/2018/aug/26/road-to...    0  2018-08-26   \n",
       "www.arkansasonline.com/news/2018/aug/26/records...    0  2018-08-26   \n",
       "www.arkansasonline.com/news/2018/aug/26/razorba...    0  2018-08-27   \n",
       "\n",
       "                                                           max  count  \n",
       "contentID                                                              \n",
       "www.arkansasonline.com/news/2018/jul/01/dad-mar...  2018-08-30     62  \n",
       "www.arkansasonline.com/news/2018/jul/01/real-es...  2018-08-29     16  \n",
       "www.arkansasonline.com/news/2018/jun/20/woman-b...  2018-08-29      5  \n",
       "www.arkansasonline.com/news/2018/may/18/traffic...  2018-08-29      7  \n",
       "www.arkansasonline.com/news/2018/jul/06/outcome...  2018-09-02     99  \n",
       "...                                                        ...    ...  \n",
       "www.arkansasonline.com/news/2018/aug/26/splitti...  2018-08-26      4  \n",
       "www.arkansasonline.com/news/2018/aug/26/s-korea...  2018-08-26      6  \n",
       "www.arkansasonline.com/news/2018/aug/26/road-to...  2018-08-26     15  \n",
       "www.arkansasonline.com/news/2018/aug/26/records...  2018-08-26      1  \n",
       "www.arkansasonline.com/news/2018/aug/26/razorba...  2018-08-27     25  \n",
       "\n",
       "[8332 rows x 4 columns]"
      ]
     },
     "execution_count": 758,
     "metadata": {},
     "output_type": "execute_result"
    }
   ],
   "source": [
    "training_before_last_day = articles_s_e_l.loc[articles_s_e_l['max'] < pd.to_datetime('2018-09-03')]\n",
    "training_before_last_day"
   ]
  },
  {
   "cell_type": "code",
   "execution_count": 759,
   "metadata": {},
   "outputs": [],
   "source": [
    "# training_before_last_day.to_csv('../data/cleaned/span.csv')"
   ]
  },
  {
   "cell_type": "code",
   "execution_count": 760,
   "metadata": {},
   "outputs": [
    {
     "data": {
      "text/plain": [
       "count    8332.000000\n",
       "mean        2.950312\n",
       "std         6.952601\n",
       "min         0.000000\n",
       "25%         0.000000\n",
       "50%         0.000000\n",
       "75%         2.000000\n",
       "max        60.000000\n",
       "Name: lag, dtype: float64"
      ]
     },
     "execution_count": 760,
     "metadata": {},
     "output_type": "execute_result"
    }
   ],
   "source": [
    "training_before_last_day['lag'].describe()"
   ]
  },
  {
   "cell_type": "code",
   "execution_count": 761,
   "metadata": {},
   "outputs": [
    {
     "data": {
      "text/plain": [
       "Text(0.5, 1.0, 'The lag distribution for articles whose last records are before 2018-09-03')"
      ]
     },
     "execution_count": 761,
     "metadata": {},
     "output_type": "execute_result"
    },
    {
     "data": {
      "image/png": "[encoded data removed]",
      "text/plain": [
       "<Figure size 432x288 with 1 Axes>"
      ]
     },
     "metadata": {
      "needs_background": "light"
     },
     "output_type": "display_data"
    }
   ],
   "source": [
    "plt.hist(training_before_last_day['lag'], bins = 60)\n",
    "plt.xlabel('Lag')\n",
    "plt.ylabel('Counts of articles')\n",
    "plt.title(\"The lag distribution for articles whose last records are before 2018-09-03\")"
   ]
  },
  {
   "cell_type": "markdown",
   "metadata": {},
   "source": [
    "It is obvious that the effects of most articles last for 0-2 days, which means that users are likely to view new-released articles instead of articles that have published for a long time."
   ]
  },
  {
   "cell_type": "markdown",
   "metadata": {},
   "source": [
    "#### b. Popularity span distribution for the articles whose records are the end day of the training period\n",
    "Then, have a look at the articles whose last records are the end day (2018-09-03) of training set to see if there is any difference. "
   ]
  },
  {
   "cell_type": "code",
   "execution_count": 762,
   "metadata": {},
   "outputs": [
    {
     "data": {
      "text/html": [
       "<div>\n",
       "<style scoped>\n",
       "    .dataframe tbody tr th:only-of-type {\n",
       "        vertical-align: middle;\n",
       "    }\n",
       "\n",
       "    .dataframe tbody tr th {\n",
       "        vertical-align: top;\n",
       "    }\n",
       "\n",
       "    .dataframe thead th {\n",
       "        text-align: right;\n",
       "    }\n",
       "</style>\n",
       "<table border=\"1\" class=\"dataframe\">\n",
       "  <thead>\n",
       "    <tr style=\"text-align: right;\">\n",
       "      <th></th>\n",
       "      <th>lag</th>\n",
       "      <th>min</th>\n",
       "      <th>max</th>\n",
       "      <th>count</th>\n",
       "    </tr>\n",
       "    <tr>\n",
       "      <th>contentID</th>\n",
       "      <th></th>\n",
       "      <th></th>\n",
       "      <th></th>\n",
       "      <th></th>\n",
       "    </tr>\n",
       "  </thead>\n",
       "  <tbody>\n",
       "    <tr>\n",
       "      <th>www.arkansasonline.com/news/2018/jul/24/indiana-man-stabbed-north-little-rock-homeless-cam/</th>\n",
       "      <td>41</td>\n",
       "      <td>2018-07-24</td>\n",
       "      <td>2018-09-03</td>\n",
       "      <td>96</td>\n",
       "    </tr>\n",
       "    <tr>\n",
       "      <th>www.arkansasonline.com/news/2018/jul/29/cannabis-question-is-college-a-school-2-1/</th>\n",
       "      <td>36</td>\n",
       "      <td>2018-07-29</td>\n",
       "      <td>2018-09-03</td>\n",
       "      <td>131</td>\n",
       "    </tr>\n",
       "    <tr>\n",
       "      <th>www.arkansasonline.com/news/2018/aug/05/1-dead-3-injured-after-boat-capsizes-river-arkansa/</th>\n",
       "      <td>29</td>\n",
       "      <td>2018-08-05</td>\n",
       "      <td>2018-09-03</td>\n",
       "      <td>215</td>\n",
       "    </tr>\n",
       "    <tr>\n",
       "      <th>www.arkansasonline.com/news/2018/aug/06/state-s-medicaid-spending-falls-off-201/</th>\n",
       "      <td>28</td>\n",
       "      <td>2018-08-06</td>\n",
       "      <td>2018-09-03</td>\n",
       "      <td>192</td>\n",
       "    </tr>\n",
       "    <tr>\n",
       "      <th>www.arkansasonline.com/news/2018/aug/15/arkansas-man-accused-imprisoning-beating-woman-sen/</th>\n",
       "      <td>19</td>\n",
       "      <td>2018-08-15</td>\n",
       "      <td>2018-09-03</td>\n",
       "      <td>71</td>\n",
       "    </tr>\n",
       "  </tbody>\n",
       "</table>\n",
       "</div>"
      ],
      "text/plain": [
       "                                                    lag         min  \\\n",
       "contentID                                                             \n",
       "www.arkansasonline.com/news/2018/jul/24/indiana...   41  2018-07-24   \n",
       "www.arkansasonline.com/news/2018/jul/29/cannabi...   36  2018-07-29   \n",
       "www.arkansasonline.com/news/2018/aug/05/1-dead-...   29  2018-08-05   \n",
       "www.arkansasonline.com/news/2018/aug/06/state-s...   28  2018-08-06   \n",
       "www.arkansasonline.com/news/2018/aug/15/arkansa...   19  2018-08-15   \n",
       "\n",
       "                                                           max  count  \n",
       "contentID                                                              \n",
       "www.arkansasonline.com/news/2018/jul/24/indiana...  2018-09-03     96  \n",
       "www.arkansasonline.com/news/2018/jul/29/cannabi...  2018-09-03    131  \n",
       "www.arkansasonline.com/news/2018/aug/05/1-dead-...  2018-09-03    215  \n",
       "www.arkansasonline.com/news/2018/aug/06/state-s...  2018-09-03    192  \n",
       "www.arkansasonline.com/news/2018/aug/15/arkansa...  2018-09-03     71  "
      ]
     },
     "execution_count": 762,
     "metadata": {},
     "output_type": "execute_result"
    }
   ],
   "source": [
    "training_last_day = articles_s_e_l.loc[articles_s_e_l['max'] == pd.to_datetime('2018-09-03')]\n",
    "training_last_day.head()"
   ]
  },
  {
   "cell_type": "code",
   "execution_count": 763,
   "metadata": {},
   "outputs": [
    {
     "data": {
      "text/plain": [
       "count    191.000000\n",
       "mean       2.701571\n",
       "std        5.704103\n",
       "min        0.000000\n",
       "25%        0.000000\n",
       "50%        1.000000\n",
       "75%        3.000000\n",
       "max       41.000000\n",
       "Name: lag, dtype: float64"
      ]
     },
     "execution_count": 763,
     "metadata": {},
     "output_type": "execute_result"
    }
   ],
   "source": [
    "training_last_day['lag'].describe()"
   ]
  },
  {
   "cell_type": "code",
   "execution_count": 764,
   "metadata": {},
   "outputs": [
    {
     "data": {
      "text/plain": [
       "Text(0.5, 1.0, 'The lag distribution for articles whose last records are on 2018-09-03')"
      ]
     },
     "execution_count": 764,
     "metadata": {},
     "output_type": "execute_result"
    },
    {
     "data": {
      "image/png": "[encoded data removed]",
      "text/plain": [
       "<Figure size 432x288 with 1 Axes>"
      ]
     },
     "metadata": {
      "needs_background": "light"
     },
     "output_type": "display_data"
    }
   ],
   "source": [
    "plt.hist(training_last_day['lag'], bins = 60)\n",
    "plt.xlabel('Lag')\n",
    "plt.ylabel('Counts of articles')\n",
    "plt.title(\"The lag distribution for articles whose last records are on 2018-09-03\")"
   ]
  },
  {
   "cell_type": "markdown",
   "metadata": {},
   "source": [
    "As can be seen, it still follows the same distribution. <br> As a result, it is safe to say that most articles only have short effects which last for 0-3 days."
   ]
  },
  {
   "cell_type": "markdown",
   "metadata": {},
   "source": [
    "#### c. Polularity span for popular articles"
   ]
  },
  {
   "cell_type": "markdown",
   "metadata": {},
   "source": [
    "Then, let's see if there is any difference in popularity distributions for popular articles and common articles."
   ]
  },
  {
   "cell_type": "code",
   "execution_count": 765,
   "metadata": {},
   "outputs": [
    {
     "data": {
      "text/html": [
       "<div>\n",
       "<style scoped>\n",
       "    .dataframe tbody tr th:only-of-type {\n",
       "        vertical-align: middle;\n",
       "    }\n",
       "\n",
       "    .dataframe tbody tr th {\n",
       "        vertical-align: top;\n",
       "    }\n",
       "\n",
       "    .dataframe thead th {\n",
       "        text-align: right;\n",
       "    }\n",
       "</style>\n",
       "<table border=\"1\" class=\"dataframe\">\n",
       "  <thead>\n",
       "    <tr style=\"text-align: right;\">\n",
       "      <th></th>\n",
       "      <th>lag</th>\n",
       "      <th>min</th>\n",
       "      <th>max</th>\n",
       "      <th>count</th>\n",
       "    </tr>\n",
       "    <tr>\n",
       "      <th>contentID</th>\n",
       "      <th></th>\n",
       "      <th></th>\n",
       "      <th></th>\n",
       "      <th></th>\n",
       "    </tr>\n",
       "  </thead>\n",
       "  <tbody>\n",
       "    <tr>\n",
       "      <th>www.arkansasonline.com/news/2018/jul/01/dad-marches-in-lr-because-son-hides-und/</th>\n",
       "      <td>60</td>\n",
       "      <td>2018-07-01</td>\n",
       "      <td>2018-08-30</td>\n",
       "      <td>62</td>\n",
       "    </tr>\n",
       "    <tr>\n",
       "      <th>www.arkansasonline.com/news/2018/jul/01/real-estate-transactions-20180701/</th>\n",
       "      <td>59</td>\n",
       "      <td>2018-07-01</td>\n",
       "      <td>2018-08-29</td>\n",
       "      <td>16</td>\n",
       "    </tr>\n",
       "    <tr>\n",
       "      <th>www.arkansasonline.com/news/2018/jun/20/woman-brandishes-screwdriver-robbery-north-little-/</th>\n",
       "      <td>58</td>\n",
       "      <td>2018-07-02</td>\n",
       "      <td>2018-08-29</td>\n",
       "      <td>5</td>\n",
       "    </tr>\n",
       "    <tr>\n",
       "      <th>www.arkansasonline.com/news/2018/may/18/traffic-alert-3-vehicle-crash-fire-shuts-part-i-30/</th>\n",
       "      <td>58</td>\n",
       "      <td>2018-07-02</td>\n",
       "      <td>2018-08-29</td>\n",
       "      <td>7</td>\n",
       "    </tr>\n",
       "    <tr>\n",
       "      <th>www.arkansasonline.com/news/2018/jul/06/outcomes-of-aspire-tests-seen-as-mixed-/</th>\n",
       "      <td>58</td>\n",
       "      <td>2018-07-06</td>\n",
       "      <td>2018-09-02</td>\n",
       "      <td>99</td>\n",
       "    </tr>\n",
       "  </tbody>\n",
       "</table>\n",
       "</div>"
      ],
      "text/plain": [
       "                                                    lag         min  \\\n",
       "contentID                                                             \n",
       "www.arkansasonline.com/news/2018/jul/01/dad-mar...   60  2018-07-01   \n",
       "www.arkansasonline.com/news/2018/jul/01/real-es...   59  2018-07-01   \n",
       "www.arkansasonline.com/news/2018/jun/20/woman-b...   58  2018-07-02   \n",
       "www.arkansasonline.com/news/2018/may/18/traffic...   58  2018-07-02   \n",
       "www.arkansasonline.com/news/2018/jul/06/outcome...   58  2018-07-06   \n",
       "\n",
       "                                                           max  count  \n",
       "contentID                                                              \n",
       "www.arkansasonline.com/news/2018/jul/01/dad-mar...  2018-08-30     62  \n",
       "www.arkansasonline.com/news/2018/jul/01/real-es...  2018-08-29     16  \n",
       "www.arkansasonline.com/news/2018/jun/20/woman-b...  2018-08-29      5  \n",
       "www.arkansasonline.com/news/2018/may/18/traffic...  2018-08-29      7  \n",
       "www.arkansasonline.com/news/2018/jul/06/outcome...  2018-09-02     99  "
      ]
     },
     "execution_count": 765,
     "metadata": {},
     "output_type": "execute_result"
    }
   ],
   "source": [
    "articles_s_e_l.head()"
   ]
  },
  {
   "cell_type": "code",
   "execution_count": 766,
   "metadata": {},
   "outputs": [
    {
     "data": {
      "text/html": [
       "<div>\n",
       "<style scoped>\n",
       "    .dataframe tbody tr th:only-of-type {\n",
       "        vertical-align: middle;\n",
       "    }\n",
       "\n",
       "    .dataframe tbody tr th {\n",
       "        vertical-align: top;\n",
       "    }\n",
       "\n",
       "    .dataframe thead th {\n",
       "        text-align: right;\n",
       "    }\n",
       "</style>\n",
       "<table border=\"1\" class=\"dataframe\">\n",
       "  <thead>\n",
       "    <tr style=\"text-align: right;\">\n",
       "      <th></th>\n",
       "      <th>lag</th>\n",
       "      <th>min</th>\n",
       "      <th>max</th>\n",
       "      <th>count</th>\n",
       "    </tr>\n",
       "    <tr>\n",
       "      <th>contentID</th>\n",
       "      <th></th>\n",
       "      <th></th>\n",
       "      <th></th>\n",
       "      <th></th>\n",
       "    </tr>\n",
       "  </thead>\n",
       "  <tbody>\n",
       "    <tr>\n",
       "      <th>www.arkansasonline.com/news/2018/jul/01/dad-marches-in-lr-because-son-hides-und/</th>\n",
       "      <td>60</td>\n",
       "      <td>2018-07-01</td>\n",
       "      <td>2018-08-30</td>\n",
       "      <td>62</td>\n",
       "    </tr>\n",
       "    <tr>\n",
       "      <th>www.arkansasonline.com/news/2018/jul/06/outcomes-of-aspire-tests-seen-as-mixed-/</th>\n",
       "      <td>58</td>\n",
       "      <td>2018-07-06</td>\n",
       "      <td>2018-09-02</td>\n",
       "      <td>99</td>\n",
       "    </tr>\n",
       "    <tr>\n",
       "      <th>www.arkansasonline.com/news/2018/jul/05/photos-blaze-damaged-arkansas-home-was-started-fir/</th>\n",
       "      <td>55</td>\n",
       "      <td>2018-07-05</td>\n",
       "      <td>2018-08-29</td>\n",
       "      <td>63</td>\n",
       "    </tr>\n",
       "    <tr>\n",
       "      <th>www.arkansasonline.com/news/2018/jul/06/burges-opens-third-location-conway/</th>\n",
       "      <td>54</td>\n",
       "      <td>2018-07-06</td>\n",
       "      <td>2018-08-29</td>\n",
       "      <td>168</td>\n",
       "    </tr>\n",
       "    <tr>\n",
       "      <th>www.arkansasonline.com/news/2018/jul/07/hospital-ex-employee-subject-of-data-in/</th>\n",
       "      <td>53</td>\n",
       "      <td>2018-07-07</td>\n",
       "      <td>2018-08-29</td>\n",
       "      <td>109</td>\n",
       "    </tr>\n",
       "    <tr>\n",
       "      <th>...</th>\n",
       "      <td>...</td>\n",
       "      <td>...</td>\n",
       "      <td>...</td>\n",
       "      <td>...</td>\n",
       "    </tr>\n",
       "    <tr>\n",
       "      <th>www.arkansasonline.com/news/2018/aug/02/flight-to-concert-was-intent-of-plane-t/</th>\n",
       "      <td>0</td>\n",
       "      <td>2018-08-02</td>\n",
       "      <td>2018-08-02</td>\n",
       "      <td>73</td>\n",
       "    </tr>\n",
       "    <tr>\n",
       "      <th>www.arkansasonline.com/news/2018/aug/15/lawsuit-filed-on-work-rule-for-medicaid/</th>\n",
       "      <td>0</td>\n",
       "      <td>2018-08-15</td>\n",
       "      <td>2018-08-15</td>\n",
       "      <td>88</td>\n",
       "    </tr>\n",
       "    <tr>\n",
       "      <th>www.arkansasonline.com/news/2018/aug/08/eatery-worker-s-illness-prompts-new-hea-1/</th>\n",
       "      <td>0</td>\n",
       "      <td>2018-08-08</td>\n",
       "      <td>2018-08-08</td>\n",
       "      <td>62</td>\n",
       "    </tr>\n",
       "    <tr>\n",
       "      <th>www.arkansasonline.com/news/2018/aug/10/judge-over-35-year-old-case-tours-3-sch/</th>\n",
       "      <td>0</td>\n",
       "      <td>2018-08-10</td>\n",
       "      <td>2018-08-10</td>\n",
       "      <td>104</td>\n",
       "    </tr>\n",
       "    <tr>\n",
       "      <th>www.arkansasonline.com/news/2018/aug/16/agency-closes-pool-where-boy-drowned-20/</th>\n",
       "      <td>0</td>\n",
       "      <td>2018-08-16</td>\n",
       "      <td>2018-08-16</td>\n",
       "      <td>83</td>\n",
       "    </tr>\n",
       "  </tbody>\n",
       "</table>\n",
       "<p>897 rows × 4 columns</p>\n",
       "</div>"
      ],
      "text/plain": [
       "                                                    lag         min  \\\n",
       "contentID                                                             \n",
       "www.arkansasonline.com/news/2018/jul/01/dad-mar...   60  2018-07-01   \n",
       "www.arkansasonline.com/news/2018/jul/06/outcome...   58  2018-07-06   \n",
       "www.arkansasonline.com/news/2018/jul/05/photos-...   55  2018-07-05   \n",
       "www.arkansasonline.com/news/2018/jul/06/burges-...   54  2018-07-06   \n",
       "www.arkansasonline.com/news/2018/jul/07/hospita...   53  2018-07-07   \n",
       "...                                                 ...         ...   \n",
       "www.arkansasonline.com/news/2018/aug/02/flight-...    0  2018-08-02   \n",
       "www.arkansasonline.com/news/2018/aug/15/lawsuit...    0  2018-08-15   \n",
       "www.arkansasonline.com/news/2018/aug/08/eatery-...    0  2018-08-08   \n",
       "www.arkansasonline.com/news/2018/aug/10/judge-o...    0  2018-08-10   \n",
       "www.arkansasonline.com/news/2018/aug/16/agency-...    0  2018-08-16   \n",
       "\n",
       "                                                           max  count  \n",
       "contentID                                                              \n",
       "www.arkansasonline.com/news/2018/jul/01/dad-mar...  2018-08-30     62  \n",
       "www.arkansasonline.com/news/2018/jul/06/outcome...  2018-09-02     99  \n",
       "www.arkansasonline.com/news/2018/jul/05/photos-...  2018-08-29     63  \n",
       "www.arkansasonline.com/news/2018/jul/06/burges-...  2018-08-29    168  \n",
       "www.arkansasonline.com/news/2018/jul/07/hospita...  2018-08-29    109  \n",
       "...                                                        ...    ...  \n",
       "www.arkansasonline.com/news/2018/aug/02/flight-...  2018-08-02     73  \n",
       "www.arkansasonline.com/news/2018/aug/15/lawsuit...  2018-08-15     88  \n",
       "www.arkansasonline.com/news/2018/aug/08/eatery-...  2018-08-08     62  \n",
       "www.arkansasonline.com/news/2018/aug/10/judge-o...  2018-08-10    104  \n",
       "www.arkansasonline.com/news/2018/aug/16/agency-...  2018-08-16     83  \n",
       "\n",
       "[897 rows x 4 columns]"
      ]
     },
     "execution_count": 766,
     "metadata": {},
     "output_type": "execute_result"
    }
   ],
   "source": [
    "popular_articles = articles_s_e_l.loc[articles_s_e_l['count'] > 57]\n",
    "popular_articles"
   ]
  },
  {
   "cell_type": "markdown",
   "metadata": {},
   "source": [
    "There are 899 popular articles in the training set (page views > 57, which is the upperlimit)"
   ]
  },
  {
   "cell_type": "code",
   "execution_count": 767,
   "metadata": {},
   "outputs": [
    {
     "data": {
      "text/plain": [
       "count    897.000000\n",
       "mean       6.632107\n",
       "std        8.711304\n",
       "min        0.000000\n",
       "25%        1.000000\n",
       "50%        3.000000\n",
       "75%        8.000000\n",
       "max       60.000000\n",
       "Name: lag, dtype: float64"
      ]
     },
     "execution_count": 767,
     "metadata": {},
     "output_type": "execute_result"
    }
   ],
   "source": [
    "popular_des = popular_articles['lag'].describe()\n",
    "popular_des"
   ]
  },
  {
   "cell_type": "code",
   "execution_count": 768,
   "metadata": {},
   "outputs": [
    {
     "data": {
      "text/plain": [
       "Text(0.5, 1.0, 'The lag distribution for popular articles (counts > 57)')"
      ]
     },
     "execution_count": 768,
     "metadata": {},
     "output_type": "execute_result"
    },
    {
     "data": {
      "image/png": "[encoded data removed]",
      "text/plain": [
       "<Figure size 432x288 with 1 Axes>"
      ]
     },
     "metadata": {
      "needs_background": "light"
     },
     "output_type": "display_data"
    }
   ],
   "source": [
    "plt.hist(popular_articles['lag'], bins = 60)\n",
    "plt.xlabel('Lag')\n",
    "plt.ylabel('Counts of popular articles')\n",
    "plt.title(\"The lag distribution for popular articles (counts > 57)\")"
   ]
  },
  {
   "cell_type": "markdown",
   "metadata": {},
   "source": [
    "For popular articles, the average lag is longer, about 7 days, but still not that long."
   ]
  },
  {
   "cell_type": "markdown",
   "metadata": {},
   "source": [
    "#### d. Popularity span for common articles"
   ]
  },
  {
   "cell_type": "code",
   "execution_count": 769,
   "metadata": {},
   "outputs": [
    {
     "data": {
      "text/plain": [
       "count    7626.000000\n",
       "mean        2.511015\n",
       "std         6.551462\n",
       "min         0.000000\n",
       "25%         0.000000\n",
       "50%         0.000000\n",
       "75%         1.000000\n",
       "max        59.000000\n",
       "Name: lag, dtype: float64"
      ]
     },
     "execution_count": 769,
     "metadata": {},
     "output_type": "execute_result"
    }
   ],
   "source": [
    "common_articles = articles_s_e_l.loc[articles_s_e_l['count'] <= 57]\n",
    "common_des = common_articles['lag'].describe()\n",
    "common_des"
   ]
  },
  {
   "cell_type": "code",
   "execution_count": 770,
   "metadata": {},
   "outputs": [
    {
     "data": {
      "text/plain": [
       "Text(0.5, 1.0, 'The lag distribution for common articles (counts <= 57)')"
      ]
     },
     "execution_count": 770,
     "metadata": {},
     "output_type": "execute_result"
    },
    {
     "data": {
      "image/png": "[encoded data removed]",
      "text/plain": [
       "<Figure size 432x288 with 1 Axes>"
      ]
     },
     "metadata": {
      "needs_background": "light"
     },
     "output_type": "display_data"
    }
   ],
   "source": [
    "plt.hist(common_articles['lag'], bins = 60)\n",
    "plt.xlabel('Lag')\n",
    "plt.ylabel('Counts of common articles')\n",
    "plt.title(\"The lag distribution for common articles (counts <= 57)\")"
   ]
  },
  {
   "cell_type": "markdown",
   "metadata": {},
   "source": [
    "Let's see if the lags for popular articles and for common articles follow the same distribution. \n"
   ]
  },
  {
   "cell_type": "code",
   "execution_count": 771,
   "metadata": {},
   "outputs": [
    {
     "name": "stdout",
     "output_type": "stream",
     "text": [
      "The t value is 13.72, which is much larger than the critical t value (1.96). It means that the article views for popular articles and common articles follow different distributions\n"
     ]
    }
   ],
   "source": [
    "common_des\n",
    "popular_des\n",
    "S_p_c = math.sqrt(popular_des['std']**2/popular_des['count']+common_des['std']**2/common_des['count'])\n",
    "t_popularity = abs(popular_des['mean']-common_des['mean'])/S_p_c\n",
    "t_popularity\n",
    "print(f\"The t value is {round(t_popularity,2)}, which is much larger than the critical t value (1.96). It means that the article views for popular articles and common articles follow different distributions\")"
   ]
  },
  {
   "cell_type": "markdown",
   "metadata": {},
   "source": [
    "Aa a result, it may be reasonable to recommend former popular articles even after a week from the day the article is released, but for common articles, the effects normally last only 0-2.5 days."
   ]
  },
  {
   "cell_type": "markdown",
   "metadata": {},
   "source": [
    "PS: please click into '2_2_EDA_NLP.ipynb' to have a look at the 4th part of exploratory data analysis"
   ]
  },
  {
   "cell_type": "code",
   "execution_count": null,
   "metadata": {},
   "outputs": [],
   "source": []
  }
 ],
 "metadata": {
  "kernelspec": {
   "display_name": "Python 3",
   "language": "python",
   "name": "python3"
  },
  "language_info": {
   "codemirror_mode": {
    "name": "ipython",
    "version": 3
   },
   "file_extension": ".py",
   "mimetype": "text/x-python",
   "name": "python",
   "nbconvert_exporter": "python",
   "pygments_lexer": "ipython3",
   "version": "3.8.3"
  }
 },
 "nbformat": 4,
 "nbformat_minor": 4
}
