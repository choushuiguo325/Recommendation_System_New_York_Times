{
 "cells": [
  {
   "cell_type": "code",
   "execution_count": 216,
   "metadata": {},
   "outputs": [],
   "source": [
    "import pandas as pd\n",
    "import numpy as np\n",
    "import math\n",
    "import matplotlib.pyplot as plt\n",
    "from wordcloud import WordCloud\n",
    "import seaborn as sns\n",
    "import re\n",
    "import string\n",
    "import nltk\n",
    "from nltk.corpus import stopwords\n",
    "from nltk.stem import WordNetLemmatizer\n",
    "from sklearn.feature_extraction.text import CountVectorizer,TfidfVectorizer"
   ]
  },
  {
   "cell_type": "code",
   "execution_count": 2,
   "metadata": {
    "collapsed": true,
    "jupyter": {
     "outputs_hidden": true
    }
   },
   "outputs": [
    {
     "data": {
      "text/html": [
       "<div>\n",
       "<style scoped>\n",
       "    .dataframe tbody tr th:only-of-type {\n",
       "        vertical-align: middle;\n",
       "    }\n",
       "\n",
       "    .dataframe tbody tr th {\n",
       "        vertical-align: top;\n",
       "    }\n",
       "\n",
       "    .dataframe thead th {\n",
       "        text-align: right;\n",
       "    }\n",
       "</style>\n",
       "<table border=\"1\" class=\"dataframe\">\n",
       "  <thead>\n",
       "    <tr style=\"text-align: right;\">\n",
       "      <th></th>\n",
       "      <th>contentID</th>\n",
       "      <th>URL</th>\n",
       "      <th>headline</th>\n",
       "      <th>author</th>\n",
       "      <th>cmsCategories</th>\n",
       "      <th>nl_category_structured</th>\n",
       "      <th>nl_category</th>\n",
       "    </tr>\n",
       "  </thead>\n",
       "  <tbody>\n",
       "    <tr>\n",
       "      <th>0</th>\n",
       "      <td>www.arkansasonline.com/news/2018/aug/23/sherif...</td>\n",
       "      <td>https://www.arkansasonline.com/news/2018/aug/2...</td>\n",
       "      <td>14-year-old dies days after being accidentally...</td>\n",
       "      <td>Jaime Dunaway</td>\n",
       "      <td>/News, /News/Arkansas, /News/Arkansas/Southeast</td>\n",
       "      <td>NaN</td>\n",
       "      <td>NaN</td>\n",
       "    </tr>\n",
       "    <tr>\n",
       "      <th>1</th>\n",
       "      <td>www.arkansasonline.com/news/2018/aug/25/woods-...</td>\n",
       "      <td>https://www.arkansasonline.com/news/2018/aug/2...</td>\n",
       "      <td>Woods impresses despite stumbles</td>\n",
       "      <td>Tom Murphy</td>\n",
       "      <td>/Sports, /Sports/College/Football, /Sports/Col...</td>\n",
       "      <td>NaN</td>\n",
       "      <td>NaN</td>\n",
       "    </tr>\n",
       "    <tr>\n",
       "      <th>2</th>\n",
       "      <td>www.arkansasonline.com/news/2018/aug/25/newton...</td>\n",
       "      <td>https://www.arkansasonline.com/news/2018/aug/2...</td>\n",
       "      <td>Newton has injury scare; Panthers win</td>\n",
       "      <td>The Associated Press</td>\n",
       "      <td>/Sports, /Sports/Pros/Football</td>\n",
       "      <td>NaN</td>\n",
       "      <td>NaN</td>\n",
       "    </tr>\n",
       "    <tr>\n",
       "      <th>3</th>\n",
       "      <td>www.arkansasonline.com/news/2018/aug/24/arkans...</td>\n",
       "      <td>https://www.arkansasonline.com/news/2018/aug/2...</td>\n",
       "      <td>North Little Rock man accidentally shoots moth...</td>\n",
       "      <td>Jaime Dunaway</td>\n",
       "      <td>None/Nlr, /News, /News/Arkansas, /News/Arkansa...</td>\n",
       "      <td>NaN</td>\n",
       "      <td>NaN</td>\n",
       "    </tr>\n",
       "    <tr>\n",
       "      <th>4</th>\n",
       "      <td>www.arkansasonline.com/news/2018/aug/25/wolver...</td>\n",
       "      <td>https://www.arkansasonline.com/news/2018/aug/2...</td>\n",
       "      <td>Wolverines depending on ex-Ole Miss QB Patterson</td>\n",
       "      <td>The Associated Press</td>\n",
       "      <td>/Sports, /Sports/College/Football</td>\n",
       "      <td>NaN</td>\n",
       "      <td>NaN</td>\n",
       "    </tr>\n",
       "    <tr>\n",
       "      <th>...</th>\n",
       "      <td>...</td>\n",
       "      <td>...</td>\n",
       "      <td>...</td>\n",
       "      <td>...</td>\n",
       "      <td>...</td>\n",
       "      <td>...</td>\n",
       "      <td>...</td>\n",
       "    </tr>\n",
       "    <tr>\n",
       "      <th>16542</th>\n",
       "      <td>www.arkansasonline.com/news/2018/jun/29/five-m...</td>\n",
       "      <td>https://www.arkansasonline.com/news/2018/jun/2...</td>\n",
       "      <td>Five more movie classics finally screened</td>\n",
       "      <td>PIERS MARCHANT Special to the Democrat-Gazette</td>\n",
       "      <td>/Entertainment/Movies,</td>\n",
       "      <td>/Arts &amp; Entertainment/Movies</td>\n",
       "      <td>/Arts &amp; Entertainment/Movies</td>\n",
       "    </tr>\n",
       "    <tr>\n",
       "      <th>16543</th>\n",
       "      <td>www.arkansasonline.com/news/2018/jul/29/kavana...</td>\n",
       "      <td>https://www.arkansasonline.com/news/2018/jul/2...</td>\n",
       "      <td>Kavanaugh rulings a hit for NRA</td>\n",
       "      <td>MICHAEL KUNZELMAN and LARRY NEUMEISTER The Ass...</td>\n",
       "      <td>/News/National, /News/Politics/National</td>\n",
       "      <td>/Law &amp; Government, /News/Politics</td>\n",
       "      <td>/Law &amp; Government, /News/Politics</td>\n",
       "    </tr>\n",
       "    <tr>\n",
       "      <th>16544</th>\n",
       "      <td>www.arkansasonline.com/news/2018/sep/09/he-s-g...</td>\n",
       "      <td>https://www.arkansasonline.com/news/2018/sep/0...</td>\n",
       "      <td>He's gonna get in trouble with this</td>\n",
       "      <td>The San Diego Union-Tribune</td>\n",
       "      <td>/Editorial, /Editorial/Columns</td>\n",
       "      <td>/News/Politics, /Law &amp; Government</td>\n",
       "      <td>/News/Politics, /Law &amp; Government</td>\n",
       "    </tr>\n",
       "    <tr>\n",
       "      <th>16545</th>\n",
       "      <td>www.arkansasonline.com/news/2017/oct/29/blind-...</td>\n",
       "      <td>https://www.arkansasonline.com/news/2017/oct/2...</td>\n",
       "      <td>RIGHT TIME RIGHT PLACE: RIGHT TIME RIGHT PLACE...</td>\n",
       "      <td>Kimberly Dishongh</td>\n",
       "      <td>/Entertainment/Features/Highprofile</td>\n",
       "      <td>NaN</td>\n",
       "      <td>NaN</td>\n",
       "    </tr>\n",
       "    <tr>\n",
       "      <th>16546</th>\n",
       "      <td>www.arkansasonline.com/news/2018/sep/30/uca-st...</td>\n",
       "      <td>https://www.arkansasonline.com/news/2018/sep/3...</td>\n",
       "      <td>UCA storms back, falls in overtime</td>\n",
       "      <td>Arkansas Democrat-Gazette</td>\n",
       "      <td>/Sports, /Sports/College/Football, /Sports/Col...</td>\n",
       "      <td>NaN</td>\n",
       "      <td>NaN</td>\n",
       "    </tr>\n",
       "  </tbody>\n",
       "</table>\n",
       "<p>16547 rows × 7 columns</p>\n",
       "</div>"
      ],
      "text/plain": [
       "                                               contentID  \\\n",
       "0      www.arkansasonline.com/news/2018/aug/23/sherif...   \n",
       "1      www.arkansasonline.com/news/2018/aug/25/woods-...   \n",
       "2      www.arkansasonline.com/news/2018/aug/25/newton...   \n",
       "3      www.arkansasonline.com/news/2018/aug/24/arkans...   \n",
       "4      www.arkansasonline.com/news/2018/aug/25/wolver...   \n",
       "...                                                  ...   \n",
       "16542  www.arkansasonline.com/news/2018/jun/29/five-m...   \n",
       "16543  www.arkansasonline.com/news/2018/jul/29/kavana...   \n",
       "16544  www.arkansasonline.com/news/2018/sep/09/he-s-g...   \n",
       "16545  www.arkansasonline.com/news/2017/oct/29/blind-...   \n",
       "16546  www.arkansasonline.com/news/2018/sep/30/uca-st...   \n",
       "\n",
       "                                                     URL  \\\n",
       "0      https://www.arkansasonline.com/news/2018/aug/2...   \n",
       "1      https://www.arkansasonline.com/news/2018/aug/2...   \n",
       "2      https://www.arkansasonline.com/news/2018/aug/2...   \n",
       "3      https://www.arkansasonline.com/news/2018/aug/2...   \n",
       "4      https://www.arkansasonline.com/news/2018/aug/2...   \n",
       "...                                                  ...   \n",
       "16542  https://www.arkansasonline.com/news/2018/jun/2...   \n",
       "16543  https://www.arkansasonline.com/news/2018/jul/2...   \n",
       "16544  https://www.arkansasonline.com/news/2018/sep/0...   \n",
       "16545  https://www.arkansasonline.com/news/2017/oct/2...   \n",
       "16546  https://www.arkansasonline.com/news/2018/sep/3...   \n",
       "\n",
       "                                                headline  \\\n",
       "0      14-year-old dies days after being accidentally...   \n",
       "1                       Woods impresses despite stumbles   \n",
       "2                  Newton has injury scare; Panthers win   \n",
       "3      North Little Rock man accidentally shoots moth...   \n",
       "4       Wolverines depending on ex-Ole Miss QB Patterson   \n",
       "...                                                  ...   \n",
       "16542          Five more movie classics finally screened   \n",
       "16543                    Kavanaugh rulings a hit for NRA   \n",
       "16544                He's gonna get in trouble with this   \n",
       "16545  RIGHT TIME RIGHT PLACE: RIGHT TIME RIGHT PLACE...   \n",
       "16546                 UCA storms back, falls in overtime   \n",
       "\n",
       "                                                  author  \\\n",
       "0                                          Jaime Dunaway   \n",
       "1                                             Tom Murphy   \n",
       "2                                   The Associated Press   \n",
       "3                                          Jaime Dunaway   \n",
       "4                                   The Associated Press   \n",
       "...                                                  ...   \n",
       "16542     PIERS MARCHANT Special to the Democrat-Gazette   \n",
       "16543  MICHAEL KUNZELMAN and LARRY NEUMEISTER The Ass...   \n",
       "16544                        The San Diego Union-Tribune   \n",
       "16545                                  Kimberly Dishongh   \n",
       "16546                          Arkansas Democrat-Gazette   \n",
       "\n",
       "                                           cmsCategories  \\\n",
       "0        /News, /News/Arkansas, /News/Arkansas/Southeast   \n",
       "1      /Sports, /Sports/College/Football, /Sports/Col...   \n",
       "2                         /Sports, /Sports/Pros/Football   \n",
       "3      None/Nlr, /News, /News/Arkansas, /News/Arkansa...   \n",
       "4                      /Sports, /Sports/College/Football   \n",
       "...                                                  ...   \n",
       "16542                            /Entertainment/Movies,    \n",
       "16543            /News/National, /News/Politics/National   \n",
       "16544                     /Editorial, /Editorial/Columns   \n",
       "16545                /Entertainment/Features/Highprofile   \n",
       "16546  /Sports, /Sports/College/Football, /Sports/Col...   \n",
       "\n",
       "                  nl_category_structured                        nl_category  \n",
       "0                                    NaN                                NaN  \n",
       "1                                    NaN                                NaN  \n",
       "2                                    NaN                                NaN  \n",
       "3                                    NaN                                NaN  \n",
       "4                                    NaN                                NaN  \n",
       "...                                  ...                                ...  \n",
       "16542       /Arts & Entertainment/Movies       /Arts & Entertainment/Movies  \n",
       "16543  /Law & Government, /News/Politics  /Law & Government, /News/Politics  \n",
       "16544  /News/Politics, /Law & Government  /News/Politics, /Law & Government  \n",
       "16545                                NaN                                NaN  \n",
       "16546                                NaN                                NaN  \n",
       "\n",
       "[16547 rows x 7 columns]"
      ]
     },
     "execution_count": 2,
     "metadata": {},
     "output_type": "execute_result"
    }
   ],
   "source": [
    "raw_df = pd.read_csv(\"../data/content.csv\")\n",
    "pvs = pd.read_csv('../data/pvs.csv')\n",
    "visits = pd.read_csv('../data/visits.csv')"
   ]
  },
  {
   "cell_type": "markdown",
   "metadata": {},
   "source": [
    "# Basic data cleaning and processing\n",
    "### Clean the visit records and page view records"
   ]
  },
  {
   "cell_type": "code",
   "execution_count": 3,
   "metadata": {},
   "outputs": [
    {
     "data": {
      "text/html": [
       "<div>\n",
       "<style scoped>\n",
       "    .dataframe tbody tr th:only-of-type {\n",
       "        vertical-align: middle;\n",
       "    }\n",
       "\n",
       "    .dataframe tbody tr th {\n",
       "        vertical-align: top;\n",
       "    }\n",
       "\n",
       "    .dataframe thead th {\n",
       "        text-align: right;\n",
       "    }\n",
       "</style>\n",
       "<table border=\"1\" class=\"dataframe\">\n",
       "  <thead>\n",
       "    <tr style=\"text-align: right;\">\n",
       "      <th></th>\n",
       "      <th>visitID</th>\n",
       "      <th>visitorID</th>\n",
       "      <th>contentID</th>\n",
       "    </tr>\n",
       "  </thead>\n",
       "  <tbody>\n",
       "    <tr>\n",
       "      <th>0</th>\n",
       "      <td>1531854699</td>\n",
       "      <td>2.011047e+14</td>\n",
       "      <td>www.arkansasonline.com/news/2018/jul/17/author...</td>\n",
       "    </tr>\n",
       "    <tr>\n",
       "      <th>1</th>\n",
       "      <td>1532645198</td>\n",
       "      <td>2.011047e+14</td>\n",
       "      <td>www.arkansasonline.com/news/2011/nov/15/walton...</td>\n",
       "    </tr>\n",
       "    <tr>\n",
       "      <th>2</th>\n",
       "      <td>1533148392</td>\n",
       "      <td>2.011047e+14</td>\n",
       "      <td>www.arkansasonline.com/news/2018/aug/01/blaze-...</td>\n",
       "    </tr>\n",
       "    <tr>\n",
       "      <th>3</th>\n",
       "      <td>1533827139</td>\n",
       "      <td>2.011047e+14</td>\n",
       "      <td>www.arkansasonline.com/news/2018/aug/08/sherif...</td>\n",
       "    </tr>\n",
       "    <tr>\n",
       "      <th>4</th>\n",
       "      <td>1533827139</td>\n",
       "      <td>2.011047e+14</td>\n",
       "      <td>www.arkansasonline.com/news/2018/aug/09/top-6-...</td>\n",
       "    </tr>\n",
       "  </tbody>\n",
       "</table>\n",
       "</div>"
      ],
      "text/plain": [
       "      visitID     visitorID                                          contentID\n",
       "0  1531854699  2.011047e+14  www.arkansasonline.com/news/2018/jul/17/author...\n",
       "1  1532645198  2.011047e+14  www.arkansasonline.com/news/2011/nov/15/walton...\n",
       "2  1533148392  2.011047e+14  www.arkansasonline.com/news/2018/aug/01/blaze-...\n",
       "3  1533827139  2.011047e+14  www.arkansasonline.com/news/2018/aug/08/sherif...\n",
       "4  1533827139  2.011047e+14  www.arkansasonline.com/news/2018/aug/09/top-6-..."
      ]
     },
     "execution_count": 3,
     "metadata": {},
     "output_type": "execute_result"
    }
   ],
   "source": [
    "# There are 346609 page views\n",
    "pvs.head() # 346609 rows × 3 columns"
   ]
  },
  {
   "cell_type": "code",
   "execution_count": 15,
   "metadata": {},
   "outputs": [
    {
     "name": "stdout",
     "output_type": "stream",
     "text": [
      "<class 'pandas.core.frame.DataFrame'>\n",
      "RangeIndex: 346609 entries, 0 to 346608\n",
      "Data columns (total 3 columns):\n",
      " #   Column     Non-Null Count   Dtype  \n",
      "---  ------     --------------   -----  \n",
      " 0   visitID    346609 non-null  int64  \n",
      " 1   visitorID  346609 non-null  float64\n",
      " 2   contentID  293731 non-null  object \n",
      "dtypes: float64(1), int64(1), object(1)\n",
      "memory usage: 7.9+ MB\n"
     ]
    }
   ],
   "source": [
    "pvs.info()"
   ]
  },
  {
   "cell_type": "markdown",
   "metadata": {},
   "source": [
    "A lot of page views are missing `contentID`."
   ]
  },
  {
   "cell_type": "code",
   "execution_count": 4,
   "metadata": {},
   "outputs": [],
   "source": [
    "# There are 256121 visits\n",
    "visits.head() # 256121 rows × 10 columns\n",
    "# keep the 'visitID', 'visitorID' and 'visitDateTime' columns\n",
    "visits = visits[['visitID', 'visitorID', 'visitDateTime']]"
   ]
  },
  {
   "cell_type": "code",
   "execution_count": 31,
   "metadata": {},
   "outputs": [
    {
     "name": "stdout",
     "output_type": "stream",
     "text": [
      "The earlist records: 2018-07-01T05:02:22Z\n",
      "The latest records: 2018-10-01T04:45:18Z\n"
     ]
    }
   ],
   "source": [
    "print(f\"The earlist records: {min(visits['visitDateTime'])}\")\n",
    "print(f\"The latest records: {max(visits['visitDateTime'])}\")"
   ]
  },
  {
   "cell_type": "code",
   "execution_count": 16,
   "metadata": {},
   "outputs": [
    {
     "name": "stdout",
     "output_type": "stream",
     "text": [
      "<class 'pandas.core.frame.DataFrame'>\n",
      "RangeIndex: 256121 entries, 0 to 256120\n",
      "Data columns (total 3 columns):\n",
      " #   Column         Non-Null Count   Dtype  \n",
      "---  ------         --------------   -----  \n",
      " 0   visitID        256121 non-null  int64  \n",
      " 1   visitorID      256121 non-null  float64\n",
      " 2   visitDateTime  256121 non-null  object \n",
      "dtypes: float64(1), int64(1), object(1)\n",
      "memory usage: 5.9+ MB\n"
     ]
    }
   ],
   "source": [
    "visits.info()"
   ]
  },
  {
   "cell_type": "markdown",
   "metadata": {},
   "source": [
    "There are no missing values in visit records.\n",
    "\n",
    "Each visit may have more than one page view.\n",
    "Then, left join the visit records on the page view records and drop incomplete rows to get the complete visit records with visit time. "
   ]
  },
  {
   "cell_type": "code",
   "execution_count": 11,
   "metadata": {},
   "outputs": [
    {
     "data": {
      "text/html": [
       "<div>\n",
       "<style scoped>\n",
       "    .dataframe tbody tr th:only-of-type {\n",
       "        vertical-align: middle;\n",
       "    }\n",
       "\n",
       "    .dataframe tbody tr th {\n",
       "        vertical-align: top;\n",
       "    }\n",
       "\n",
       "    .dataframe thead th {\n",
       "        text-align: right;\n",
       "    }\n",
       "</style>\n",
       "<table border=\"1\" class=\"dataframe\">\n",
       "  <thead>\n",
       "    <tr style=\"text-align: right;\">\n",
       "      <th></th>\n",
       "      <th>visitID</th>\n",
       "      <th>visitorID</th>\n",
       "      <th>contentID</th>\n",
       "      <th>visitDateTime</th>\n",
       "    </tr>\n",
       "  </thead>\n",
       "  <tbody>\n",
       "    <tr>\n",
       "      <th>0</th>\n",
       "      <td>1531854699</td>\n",
       "      <td>2.011047e+14</td>\n",
       "      <td>www.arkansasonline.com/news/2018/jul/17/author...</td>\n",
       "      <td>2018-07-17T19:11:39Z</td>\n",
       "    </tr>\n",
       "    <tr>\n",
       "      <th>1</th>\n",
       "      <td>1532645198</td>\n",
       "      <td>2.011047e+14</td>\n",
       "      <td>www.arkansasonline.com/news/2011/nov/15/walton...</td>\n",
       "      <td>2018-07-26T22:46:38Z</td>\n",
       "    </tr>\n",
       "    <tr>\n",
       "      <th>2</th>\n",
       "      <td>1533148392</td>\n",
       "      <td>2.011047e+14</td>\n",
       "      <td>www.arkansasonline.com/news/2018/aug/01/blaze-...</td>\n",
       "      <td>2018-08-01T18:33:12Z</td>\n",
       "    </tr>\n",
       "    <tr>\n",
       "      <th>3</th>\n",
       "      <td>1533827139</td>\n",
       "      <td>2.011047e+14</td>\n",
       "      <td>www.arkansasonline.com/news/2018/aug/08/sherif...</td>\n",
       "      <td>2018-08-09T15:05:39Z</td>\n",
       "    </tr>\n",
       "    <tr>\n",
       "      <th>4</th>\n",
       "      <td>1533827139</td>\n",
       "      <td>2.011047e+14</td>\n",
       "      <td>www.arkansasonline.com/news/2018/aug/09/top-6-...</td>\n",
       "      <td>2018-08-09T15:05:39Z</td>\n",
       "    </tr>\n",
       "    <tr>\n",
       "      <th>...</th>\n",
       "      <td>...</td>\n",
       "      <td>...</td>\n",
       "      <td>...</td>\n",
       "      <td>...</td>\n",
       "    </tr>\n",
       "    <tr>\n",
       "      <th>293032</th>\n",
       "      <td>1537018622</td>\n",
       "      <td>1.805825e+19</td>\n",
       "      <td>www.arkansasonline.com/news/2018/sep/15/key-pi...</td>\n",
       "      <td>2018-09-15T13:37:02Z</td>\n",
       "    </tr>\n",
       "    <tr>\n",
       "      <th>293033</th>\n",
       "      <td>1537285726</td>\n",
       "      <td>1.805825e+19</td>\n",
       "      <td>www.arkansasonline.com/news/2018/sep/18/distri...</td>\n",
       "      <td>2018-09-18T15:48:46Z</td>\n",
       "    </tr>\n",
       "    <tr>\n",
       "      <th>293034</th>\n",
       "      <td>1537298388</td>\n",
       "      <td>1.805825e+19</td>\n",
       "      <td>www.arkansasonline.com/news/2018/sep/18/little...</td>\n",
       "      <td>2018-09-18T19:19:48Z</td>\n",
       "    </tr>\n",
       "    <tr>\n",
       "      <th>293035</th>\n",
       "      <td>1537318704</td>\n",
       "      <td>1.805825e+19</td>\n",
       "      <td>www.arkansasonline.com/news/2018/sep/18/nation...</td>\n",
       "      <td>2018-09-19T00:58:24Z</td>\n",
       "    </tr>\n",
       "    <tr>\n",
       "      <th>293036</th>\n",
       "      <td>1537318912</td>\n",
       "      <td>1.805825e+19</td>\n",
       "      <td>www.arkansasonline.com/news/2018/sep/18/video-...</td>\n",
       "      <td>2018-09-19T01:01:52Z</td>\n",
       "    </tr>\n",
       "  </tbody>\n",
       "</table>\n",
       "<p>293037 rows × 4 columns</p>\n",
       "</div>"
      ],
      "text/plain": [
       "           visitID     visitorID  \\\n",
       "0       1531854699  2.011047e+14   \n",
       "1       1532645198  2.011047e+14   \n",
       "2       1533148392  2.011047e+14   \n",
       "3       1533827139  2.011047e+14   \n",
       "4       1533827139  2.011047e+14   \n",
       "...            ...           ...   \n",
       "293032  1537018622  1.805825e+19   \n",
       "293033  1537285726  1.805825e+19   \n",
       "293034  1537298388  1.805825e+19   \n",
       "293035  1537318704  1.805825e+19   \n",
       "293036  1537318912  1.805825e+19   \n",
       "\n",
       "                                                contentID  \\\n",
       "0       www.arkansasonline.com/news/2018/jul/17/author...   \n",
       "1       www.arkansasonline.com/news/2011/nov/15/walton...   \n",
       "2       www.arkansasonline.com/news/2018/aug/01/blaze-...   \n",
       "3       www.arkansasonline.com/news/2018/aug/08/sherif...   \n",
       "4       www.arkansasonline.com/news/2018/aug/09/top-6-...   \n",
       "...                                                   ...   \n",
       "293032  www.arkansasonline.com/news/2018/sep/15/key-pi...   \n",
       "293033  www.arkansasonline.com/news/2018/sep/18/distri...   \n",
       "293034  www.arkansasonline.com/news/2018/sep/18/little...   \n",
       "293035  www.arkansasonline.com/news/2018/sep/18/nation...   \n",
       "293036  www.arkansasonline.com/news/2018/sep/18/video-...   \n",
       "\n",
       "               visitDateTime  \n",
       "0       2018-07-17T19:11:39Z  \n",
       "1       2018-07-26T22:46:38Z  \n",
       "2       2018-08-01T18:33:12Z  \n",
       "3       2018-08-09T15:05:39Z  \n",
       "4       2018-08-09T15:05:39Z  \n",
       "...                      ...  \n",
       "293032  2018-09-15T13:37:02Z  \n",
       "293033  2018-09-18T15:48:46Z  \n",
       "293034  2018-09-18T19:19:48Z  \n",
       "293035  2018-09-19T00:58:24Z  \n",
       "293036  2018-09-19T01:01:52Z  \n",
       "\n",
       "[293037 rows x 4 columns]"
      ]
     },
     "execution_count": 11,
     "metadata": {},
     "output_type": "execute_result"
    }
   ],
   "source": [
    "# join the page views and visits together to know the time for each page view\n",
    "user_visits = pd.merge(pvs,visits, on = ('visitorID','visitID'), how='left').dropna().reset_index(drop=True)\n",
    "user_visits"
   ]
  },
  {
   "cell_type": "markdown",
   "metadata": {},
   "source": [
    "### Basic cleaning on the article features"
   ]
  },
  {
   "cell_type": "code",
   "execution_count": 17,
   "metadata": {},
   "outputs": [
    {
     "data": {
      "text/html": [
       "<div>\n",
       "<style scoped>\n",
       "    .dataframe tbody tr th:only-of-type {\n",
       "        vertical-align: middle;\n",
       "    }\n",
       "\n",
       "    .dataframe tbody tr th {\n",
       "        vertical-align: top;\n",
       "    }\n",
       "\n",
       "    .dataframe thead th {\n",
       "        text-align: right;\n",
       "    }\n",
       "</style>\n",
       "<table border=\"1\" class=\"dataframe\">\n",
       "  <thead>\n",
       "    <tr style=\"text-align: right;\">\n",
       "      <th></th>\n",
       "      <th>contentID</th>\n",
       "      <th>URL</th>\n",
       "      <th>headline</th>\n",
       "      <th>author</th>\n",
       "      <th>cmsCategories</th>\n",
       "      <th>nl_category_structured</th>\n",
       "      <th>nl_category</th>\n",
       "    </tr>\n",
       "  </thead>\n",
       "  <tbody>\n",
       "    <tr>\n",
       "      <th>0</th>\n",
       "      <td>www.arkansasonline.com/news/2018/aug/23/sherif...</td>\n",
       "      <td>https://www.arkansasonline.com/news/2018/aug/2...</td>\n",
       "      <td>14-year-old dies days after being accidentally...</td>\n",
       "      <td>Jaime Dunaway</td>\n",
       "      <td>/News, /News/Arkansas, /News/Arkansas/Southeast</td>\n",
       "      <td>NaN</td>\n",
       "      <td>NaN</td>\n",
       "    </tr>\n",
       "    <tr>\n",
       "      <th>1</th>\n",
       "      <td>www.arkansasonline.com/news/2018/aug/25/woods-...</td>\n",
       "      <td>https://www.arkansasonline.com/news/2018/aug/2...</td>\n",
       "      <td>Woods impresses despite stumbles</td>\n",
       "      <td>Tom Murphy</td>\n",
       "      <td>/Sports, /Sports/College/Football, /Sports/Col...</td>\n",
       "      <td>NaN</td>\n",
       "      <td>NaN</td>\n",
       "    </tr>\n",
       "    <tr>\n",
       "      <th>2</th>\n",
       "      <td>www.arkansasonline.com/news/2018/aug/25/newton...</td>\n",
       "      <td>https://www.arkansasonline.com/news/2018/aug/2...</td>\n",
       "      <td>Newton has injury scare; Panthers win</td>\n",
       "      <td>The Associated Press</td>\n",
       "      <td>/Sports, /Sports/Pros/Football</td>\n",
       "      <td>NaN</td>\n",
       "      <td>NaN</td>\n",
       "    </tr>\n",
       "    <tr>\n",
       "      <th>3</th>\n",
       "      <td>www.arkansasonline.com/news/2018/aug/24/arkans...</td>\n",
       "      <td>https://www.arkansasonline.com/news/2018/aug/2...</td>\n",
       "      <td>North Little Rock man accidentally shoots moth...</td>\n",
       "      <td>Jaime Dunaway</td>\n",
       "      <td>None/Nlr, /News, /News/Arkansas, /News/Arkansa...</td>\n",
       "      <td>NaN</td>\n",
       "      <td>NaN</td>\n",
       "    </tr>\n",
       "    <tr>\n",
       "      <th>4</th>\n",
       "      <td>www.arkansasonline.com/news/2018/aug/25/wolver...</td>\n",
       "      <td>https://www.arkansasonline.com/news/2018/aug/2...</td>\n",
       "      <td>Wolverines depending on ex-Ole Miss QB Patterson</td>\n",
       "      <td>The Associated Press</td>\n",
       "      <td>/Sports, /Sports/College/Football</td>\n",
       "      <td>NaN</td>\n",
       "      <td>NaN</td>\n",
       "    </tr>\n",
       "  </tbody>\n",
       "</table>\n",
       "</div>"
      ],
      "text/plain": [
       "                                           contentID  \\\n",
       "0  www.arkansasonline.com/news/2018/aug/23/sherif...   \n",
       "1  www.arkansasonline.com/news/2018/aug/25/woods-...   \n",
       "2  www.arkansasonline.com/news/2018/aug/25/newton...   \n",
       "3  www.arkansasonline.com/news/2018/aug/24/arkans...   \n",
       "4  www.arkansasonline.com/news/2018/aug/25/wolver...   \n",
       "\n",
       "                                                 URL  \\\n",
       "0  https://www.arkansasonline.com/news/2018/aug/2...   \n",
       "1  https://www.arkansasonline.com/news/2018/aug/2...   \n",
       "2  https://www.arkansasonline.com/news/2018/aug/2...   \n",
       "3  https://www.arkansasonline.com/news/2018/aug/2...   \n",
       "4  https://www.arkansasonline.com/news/2018/aug/2...   \n",
       "\n",
       "                                            headline                author  \\\n",
       "0  14-year-old dies days after being accidentally...         Jaime Dunaway   \n",
       "1                   Woods impresses despite stumbles            Tom Murphy   \n",
       "2              Newton has injury scare; Panthers win  The Associated Press   \n",
       "3  North Little Rock man accidentally shoots moth...         Jaime Dunaway   \n",
       "4   Wolverines depending on ex-Ole Miss QB Patterson  The Associated Press   \n",
       "\n",
       "                                       cmsCategories nl_category_structured  \\\n",
       "0    /News, /News/Arkansas, /News/Arkansas/Southeast                    NaN   \n",
       "1  /Sports, /Sports/College/Football, /Sports/Col...                    NaN   \n",
       "2                     /Sports, /Sports/Pros/Football                    NaN   \n",
       "3  None/Nlr, /News, /News/Arkansas, /News/Arkansa...                    NaN   \n",
       "4                  /Sports, /Sports/College/Football                    NaN   \n",
       "\n",
       "  nl_category  \n",
       "0         NaN  \n",
       "1         NaN  \n",
       "2         NaN  \n",
       "3         NaN  \n",
       "4         NaN  "
      ]
     },
     "execution_count": 17,
     "metadata": {},
     "output_type": "execute_result"
    }
   ],
   "source": [
    "# Remove redundant article titles and only keep one title for each article\n",
    "content_df = raw_df.drop_duplicates(subset='contentID', keep='first', inplace=False)  # 12491 rows × 7 columns\n",
    "content_df.head()"
   ]
  },
  {
   "cell_type": "markdown",
   "metadata": {},
   "source": [
    "There are 12491 articles from browsing records."
   ]
  },
  {
   "cell_type": "code",
   "execution_count": 25,
   "metadata": {},
   "outputs": [
    {
     "data": {
      "text/plain": [
       "The Associated Press                                                        687\n",
       "The Associated Press                                                        514\n",
       "Arkansas Democrat-Gazette                                                   371\n",
       "Jaime Dunaway                                                               328\n",
       "Abigail Van Buren                                                           303\n",
       "                                                                           ... \n",
       "Special to NWA Democrat-Gazette                                               1\n",
       "Phyllis Brandon                                                               1\n",
       "LOLITA C. BALDOR, AHN YOUNG-JOON and KIM TONG-HYUNG The Associated Press      1\n",
       "STUART LEAVENWORTH TRIBUNE NEWS SERVICE                                       1\n",
       "BROOKS BARNES THE NEW YORK TIMES                                              1\n",
       "Name: author, Length: 1436, dtype: int64"
      ]
     },
     "execution_count": 25,
     "metadata": {},
     "output_type": "execute_result"
    }
   ],
   "source": [
    "content_df['author'].value_counts() # There are 1436 authors\n",
    "content_df['author'].isnull().sum() # There are 1519 articles with missing author records"
   ]
  },
  {
   "cell_type": "code",
   "execution_count": 18,
   "metadata": {},
   "outputs": [
    {
     "name": "stdout",
     "output_type": "stream",
     "text": [
      "<class 'pandas.core.frame.DataFrame'>\n",
      "Int64Index: 12491 entries, 0 to 16546\n",
      "Data columns (total 7 columns):\n",
      " #   Column                  Non-Null Count  Dtype \n",
      "---  ------                  --------------  ----- \n",
      " 0   contentID               12491 non-null  object\n",
      " 1   URL                     12491 non-null  object\n",
      " 2   headline                12491 non-null  object\n",
      " 3   author                  10972 non-null  object\n",
      " 4   cmsCategories           12485 non-null  object\n",
      " 5   nl_category_structured  2200 non-null   object\n",
      " 6   nl_category             2200 non-null   object\n",
      "dtypes: object(7)\n",
      "memory usage: 780.7+ KB\n"
     ]
    }
   ],
   "source": [
    "content_df.info()"
   ]
  },
  {
   "cell_type": "markdown",
   "metadata": {},
   "source": [
    "There are a lot null values in `nl_category_structured` and `nl_category` columns so I will drop these two columns"
   ]
  },
  {
   "cell_type": "code",
   "execution_count": 19,
   "metadata": {},
   "outputs": [],
   "source": [
    "# replace the null values in the categories with spaces\n",
    "# build the article profile based on article titles and article types \n",
    "# combine all the categories into one column and remove the rest category columns\n",
    "content_df = content_df.fillna(' ')\n",
    "content_df['categories'] = content_df['cmsCategories']+ content_df['nl_category_structured']+content_df['nl_category']\n",
    "del content_df['cmsCategories']\n",
    "del content_df['nl_category_structured']\n",
    "del content_df['nl_category']\n",
    "del content_df['URL']\n",
    "del content_df['author']\n",
    "content_df = content_df.reset_index(drop=True)"
   ]
  },
  {
   "cell_type": "code",
   "execution_count": 20,
   "metadata": {},
   "outputs": [
    {
     "data": {
      "text/html": [
       "<div>\n",
       "<style scoped>\n",
       "    .dataframe tbody tr th:only-of-type {\n",
       "        vertical-align: middle;\n",
       "    }\n",
       "\n",
       "    .dataframe tbody tr th {\n",
       "        vertical-align: top;\n",
       "    }\n",
       "\n",
       "    .dataframe thead th {\n",
       "        text-align: right;\n",
       "    }\n",
       "</style>\n",
       "<table border=\"1\" class=\"dataframe\">\n",
       "  <thead>\n",
       "    <tr style=\"text-align: right;\">\n",
       "      <th></th>\n",
       "      <th>contentID</th>\n",
       "      <th>headline</th>\n",
       "      <th>categories</th>\n",
       "    </tr>\n",
       "  </thead>\n",
       "  <tbody>\n",
       "    <tr>\n",
       "      <th>0</th>\n",
       "      <td>www.arkansasonline.com/news/2018/aug/23/sherif...</td>\n",
       "      <td>14-year-old dies days after being accidentally...</td>\n",
       "      <td>/News, /News/Arkansas, /News/Arkansas/Southeast</td>\n",
       "    </tr>\n",
       "    <tr>\n",
       "      <th>1</th>\n",
       "      <td>www.arkansasonline.com/news/2018/aug/25/woods-...</td>\n",
       "      <td>Woods impresses despite stumbles</td>\n",
       "      <td>/Sports, /Sports/College/Football, /Sports/Col...</td>\n",
       "    </tr>\n",
       "    <tr>\n",
       "      <th>2</th>\n",
       "      <td>www.arkansasonline.com/news/2018/aug/25/newton...</td>\n",
       "      <td>Newton has injury scare; Panthers win</td>\n",
       "      <td>/Sports, /Sports/Pros/Football</td>\n",
       "    </tr>\n",
       "    <tr>\n",
       "      <th>3</th>\n",
       "      <td>www.arkansasonline.com/news/2018/aug/24/arkans...</td>\n",
       "      <td>North Little Rock man accidentally shoots moth...</td>\n",
       "      <td>None/Nlr, /News, /News/Arkansas, /News/Arkansa...</td>\n",
       "    </tr>\n",
       "    <tr>\n",
       "      <th>4</th>\n",
       "      <td>www.arkansasonline.com/news/2018/aug/25/wolver...</td>\n",
       "      <td>Wolverines depending on ex-Ole Miss QB Patterson</td>\n",
       "      <td>/Sports, /Sports/College/Football</td>\n",
       "    </tr>\n",
       "    <tr>\n",
       "      <th>...</th>\n",
       "      <td>...</td>\n",
       "      <td>...</td>\n",
       "      <td>...</td>\n",
       "    </tr>\n",
       "    <tr>\n",
       "      <th>12486</th>\n",
       "      <td>www.arkansasonline.com/news/2018/jun/29/five-m...</td>\n",
       "      <td>Five more movie classics finally screened</td>\n",
       "      <td>/Entertainment/Movies, /Arts &amp; Entertainment/M...</td>\n",
       "    </tr>\n",
       "    <tr>\n",
       "      <th>12487</th>\n",
       "      <td>www.arkansasonline.com/news/2018/jul/29/kavana...</td>\n",
       "      <td>Kavanaugh rulings a hit for NRA</td>\n",
       "      <td>/News/National, /News/Politics/National/Law &amp; ...</td>\n",
       "    </tr>\n",
       "    <tr>\n",
       "      <th>12488</th>\n",
       "      <td>www.arkansasonline.com/news/2018/sep/09/he-s-g...</td>\n",
       "      <td>He's gonna get in trouble with this</td>\n",
       "      <td>/Editorial, /Editorial/Columns/News/Politics, ...</td>\n",
       "    </tr>\n",
       "    <tr>\n",
       "      <th>12489</th>\n",
       "      <td>www.arkansasonline.com/news/2017/oct/29/blind-...</td>\n",
       "      <td>RIGHT TIME RIGHT PLACE: RIGHT TIME RIGHT PLACE...</td>\n",
       "      <td>/Entertainment/Features/Highprofile</td>\n",
       "    </tr>\n",
       "    <tr>\n",
       "      <th>12490</th>\n",
       "      <td>www.arkansasonline.com/news/2018/sep/30/uca-st...</td>\n",
       "      <td>UCA storms back, falls in overtime</td>\n",
       "      <td>/Sports, /Sports/College/Football, /Sports/Col...</td>\n",
       "    </tr>\n",
       "  </tbody>\n",
       "</table>\n",
       "<p>12491 rows × 3 columns</p>\n",
       "</div>"
      ],
      "text/plain": [
       "                                               contentID  \\\n",
       "0      www.arkansasonline.com/news/2018/aug/23/sherif...   \n",
       "1      www.arkansasonline.com/news/2018/aug/25/woods-...   \n",
       "2      www.arkansasonline.com/news/2018/aug/25/newton...   \n",
       "3      www.arkansasonline.com/news/2018/aug/24/arkans...   \n",
       "4      www.arkansasonline.com/news/2018/aug/25/wolver...   \n",
       "...                                                  ...   \n",
       "12486  www.arkansasonline.com/news/2018/jun/29/five-m...   \n",
       "12487  www.arkansasonline.com/news/2018/jul/29/kavana...   \n",
       "12488  www.arkansasonline.com/news/2018/sep/09/he-s-g...   \n",
       "12489  www.arkansasonline.com/news/2017/oct/29/blind-...   \n",
       "12490  www.arkansasonline.com/news/2018/sep/30/uca-st...   \n",
       "\n",
       "                                                headline  \\\n",
       "0      14-year-old dies days after being accidentally...   \n",
       "1                       Woods impresses despite stumbles   \n",
       "2                  Newton has injury scare; Panthers win   \n",
       "3      North Little Rock man accidentally shoots moth...   \n",
       "4       Wolverines depending on ex-Ole Miss QB Patterson   \n",
       "...                                                  ...   \n",
       "12486          Five more movie classics finally screened   \n",
       "12487                    Kavanaugh rulings a hit for NRA   \n",
       "12488                He's gonna get in trouble with this   \n",
       "12489  RIGHT TIME RIGHT PLACE: RIGHT TIME RIGHT PLACE...   \n",
       "12490                 UCA storms back, falls in overtime   \n",
       "\n",
       "                                              categories  \n",
       "0      /News, /News/Arkansas, /News/Arkansas/Southeast    \n",
       "1      /Sports, /Sports/College/Football, /Sports/Col...  \n",
       "2                       /Sports, /Sports/Pros/Football    \n",
       "3      None/Nlr, /News, /News/Arkansas, /News/Arkansa...  \n",
       "4                    /Sports, /Sports/College/Football    \n",
       "...                                                  ...  \n",
       "12486  /Entertainment/Movies, /Arts & Entertainment/M...  \n",
       "12487  /News/National, /News/Politics/National/Law & ...  \n",
       "12488  /Editorial, /Editorial/Columns/News/Politics, ...  \n",
       "12489              /Entertainment/Features/Highprofile    \n",
       "12490  /Sports, /Sports/College/Football, /Sports/Col...  \n",
       "\n",
       "[12491 rows x 3 columns]"
      ]
     },
     "execution_count": 20,
     "metadata": {},
     "output_type": "execute_result"
    }
   ],
   "source": [
    "content_df"
   ]
  },
  {
   "cell_type": "markdown",
   "metadata": {},
   "source": [
    "### Completed records\n",
    "Inner join the article content records with visit records"
   ]
  },
  {
   "cell_type": "code",
   "execution_count": 35,
   "metadata": {},
   "outputs": [
    {
     "data": {
      "text/html": [
       "<div>\n",
       "<style scoped>\n",
       "    .dataframe tbody tr th:only-of-type {\n",
       "        vertical-align: middle;\n",
       "    }\n",
       "\n",
       "    .dataframe tbody tr th {\n",
       "        vertical-align: top;\n",
       "    }\n",
       "\n",
       "    .dataframe thead th {\n",
       "        text-align: right;\n",
       "    }\n",
       "</style>\n",
       "<table border=\"1\" class=\"dataframe\">\n",
       "  <thead>\n",
       "    <tr style=\"text-align: right;\">\n",
       "      <th></th>\n",
       "      <th>contentID</th>\n",
       "      <th>headline</th>\n",
       "      <th>categories</th>\n",
       "      <th>visitID</th>\n",
       "      <th>visitorID</th>\n",
       "      <th>visitDateTime</th>\n",
       "    </tr>\n",
       "  </thead>\n",
       "  <tbody>\n",
       "    <tr>\n",
       "      <th>0</th>\n",
       "      <td>www.arkansasonline.com/news/2018/jun/30/arrest...</td>\n",
       "      <td>Arrested state legislator urged to quit post</td>\n",
       "      <td>/News/Arkansas, /News/Politics/Arkansas/Law &amp; ...</td>\n",
       "      <td>1530421855</td>\n",
       "      <td>5.364833e+18</td>\n",
       "      <td>2018-07-01</td>\n",
       "    </tr>\n",
       "    <tr>\n",
       "      <th>1</th>\n",
       "      <td>www.arkansasonline.com/news/2018/jun/30/arrest...</td>\n",
       "      <td>Arrested state legislator urged to quit post</td>\n",
       "      <td>/News/Arkansas, /News/Politics/Arkansas/Law &amp; ...</td>\n",
       "      <td>1530421855</td>\n",
       "      <td>5.364833e+18</td>\n",
       "      <td>2018-07-01</td>\n",
       "    </tr>\n",
       "    <tr>\n",
       "      <th>2</th>\n",
       "      <td>www.arkansasonline.com/news/2018/jun/30/arrest...</td>\n",
       "      <td>Arrested state legislator urged to quit post</td>\n",
       "      <td>/News/Arkansas, /News/Politics/Arkansas/Law &amp; ...</td>\n",
       "      <td>1530421855</td>\n",
       "      <td>5.364833e+18</td>\n",
       "      <td>2018-07-01</td>\n",
       "    </tr>\n",
       "    <tr>\n",
       "      <th>3</th>\n",
       "      <td>www.arkansasonline.com/news/2018/jun/30/arrest...</td>\n",
       "      <td>Arrested state legislator urged to quit post</td>\n",
       "      <td>/News/Arkansas, /News/Politics/Arkansas/Law &amp; ...</td>\n",
       "      <td>1530421855</td>\n",
       "      <td>5.364833e+18</td>\n",
       "      <td>2018-07-01</td>\n",
       "    </tr>\n",
       "    <tr>\n",
       "      <th>4</th>\n",
       "      <td>www.arkansasonline.com/news/2018/jun/30/suspec...</td>\n",
       "      <td>Suspect arrested in fatal shooting in Pulaski ...</td>\n",
       "      <td>/News/Arkansas/Crime</td>\n",
       "      <td>1530422162</td>\n",
       "      <td>9.015515e+18</td>\n",
       "      <td>2018-07-01</td>\n",
       "    </tr>\n",
       "  </tbody>\n",
       "</table>\n",
       "</div>"
      ],
      "text/plain": [
       "                                           contentID  \\\n",
       "0  www.arkansasonline.com/news/2018/jun/30/arrest...   \n",
       "1  www.arkansasonline.com/news/2018/jun/30/arrest...   \n",
       "2  www.arkansasonline.com/news/2018/jun/30/arrest...   \n",
       "3  www.arkansasonline.com/news/2018/jun/30/arrest...   \n",
       "4  www.arkansasonline.com/news/2018/jun/30/suspec...   \n",
       "\n",
       "                                            headline  \\\n",
       "0       Arrested state legislator urged to quit post   \n",
       "1       Arrested state legislator urged to quit post   \n",
       "2       Arrested state legislator urged to quit post   \n",
       "3       Arrested state legislator urged to quit post   \n",
       "4  Suspect arrested in fatal shooting in Pulaski ...   \n",
       "\n",
       "                                          categories     visitID  \\\n",
       "0  /News/Arkansas, /News/Politics/Arkansas/Law & ...  1530421855   \n",
       "1  /News/Arkansas, /News/Politics/Arkansas/Law & ...  1530421855   \n",
       "2  /News/Arkansas, /News/Politics/Arkansas/Law & ...  1530421855   \n",
       "3  /News/Arkansas, /News/Politics/Arkansas/Law & ...  1530421855   \n",
       "4                             /News/Arkansas/Crime    1530422162   \n",
       "\n",
       "      visitorID visitDateTime  \n",
       "0  5.364833e+18    2018-07-01  \n",
       "1  5.364833e+18    2018-07-01  \n",
       "2  5.364833e+18    2018-07-01  \n",
       "3  5.364833e+18    2018-07-01  \n",
       "4  9.015515e+18    2018-07-01  "
      ]
     },
     "execution_count": 35,
     "metadata": {},
     "output_type": "execute_result"
    }
   ],
   "source": [
    "total_info = pd.merge(content_df,user_visits, on = ('contentID'), how='inner').sort_values('visitDateTime').reset_index(drop=True)\n",
    "total_info['visitDateTime'] = pd.to_datetime(total_info['visitDateTime']).dt.date\n",
    "total_info.head()"
   ]
  },
  {
   "cell_type": "code",
   "execution_count": 231,
   "metadata": {},
   "outputs": [
    {
     "data": {
      "text/html": [
       "<div>\n",
       "<style scoped>\n",
       "    .dataframe tbody tr th:only-of-type {\n",
       "        vertical-align: middle;\n",
       "    }\n",
       "\n",
       "    .dataframe tbody tr th {\n",
       "        vertical-align: top;\n",
       "    }\n",
       "\n",
       "    .dataframe thead th {\n",
       "        text-align: right;\n",
       "    }\n",
       "</style>\n",
       "<table border=\"1\" class=\"dataframe\">\n",
       "  <thead>\n",
       "    <tr style=\"text-align: right;\">\n",
       "      <th></th>\n",
       "      <th>contentID</th>\n",
       "      <th>headline</th>\n",
       "      <th>categories</th>\n",
       "      <th>visitID</th>\n",
       "      <th>visitorID</th>\n",
       "      <th>visitDateTime</th>\n",
       "    </tr>\n",
       "  </thead>\n",
       "  <tbody>\n",
       "    <tr>\n",
       "      <th>0</th>\n",
       "      <td>www.arkansasonline.com/news/2018/jun/30/arrest...</td>\n",
       "      <td>Arrested state legislator urged to quit post</td>\n",
       "      <td>/News/Arkansas, /News/Politics/Arkansas/Law &amp; ...</td>\n",
       "      <td>1530421855</td>\n",
       "      <td>5.364833e+18</td>\n",
       "      <td>2018-07-01</td>\n",
       "    </tr>\n",
       "    <tr>\n",
       "      <th>1</th>\n",
       "      <td>www.arkansasonline.com/news/2018/jun/30/arrest...</td>\n",
       "      <td>Arrested state legislator urged to quit post</td>\n",
       "      <td>/News/Arkansas, /News/Politics/Arkansas/Law &amp; ...</td>\n",
       "      <td>1530421855</td>\n",
       "      <td>5.364833e+18</td>\n",
       "      <td>2018-07-01</td>\n",
       "    </tr>\n",
       "    <tr>\n",
       "      <th>2</th>\n",
       "      <td>www.arkansasonline.com/news/2018/jun/30/arrest...</td>\n",
       "      <td>Arrested state legislator urged to quit post</td>\n",
       "      <td>/News/Arkansas, /News/Politics/Arkansas/Law &amp; ...</td>\n",
       "      <td>1530421855</td>\n",
       "      <td>5.364833e+18</td>\n",
       "      <td>2018-07-01</td>\n",
       "    </tr>\n",
       "    <tr>\n",
       "      <th>3</th>\n",
       "      <td>www.arkansasonline.com/news/2018/jun/30/arrest...</td>\n",
       "      <td>Arrested state legislator urged to quit post</td>\n",
       "      <td>/News/Arkansas, /News/Politics/Arkansas/Law &amp; ...</td>\n",
       "      <td>1530421855</td>\n",
       "      <td>5.364833e+18</td>\n",
       "      <td>2018-07-01</td>\n",
       "    </tr>\n",
       "    <tr>\n",
       "      <th>4</th>\n",
       "      <td>www.arkansasonline.com/news/2018/jun/30/suspec...</td>\n",
       "      <td>Suspect arrested in fatal shooting in Pulaski ...</td>\n",
       "      <td>/News/Arkansas/Crime</td>\n",
       "      <td>1530422162</td>\n",
       "      <td>9.015515e+18</td>\n",
       "      <td>2018-07-01</td>\n",
       "    </tr>\n",
       "    <tr>\n",
       "      <th>...</th>\n",
       "      <td>...</td>\n",
       "      <td>...</td>\n",
       "      <td>...</td>\n",
       "      <td>...</td>\n",
       "      <td>...</td>\n",
       "      <td>...</td>\n",
       "    </tr>\n",
       "    <tr>\n",
       "      <th>292779</th>\n",
       "      <td>www.arkansasonline.com/news/2018/sep/30/buffal...</td>\n",
       "      <td>Buffalo ribs with Cam</td>\n",
       "      <td>/Editorial, /Editorial/Columns, /Editorial/Col...</td>\n",
       "      <td>1538367030</td>\n",
       "      <td>3.903908e+18</td>\n",
       "      <td>2018-10-01</td>\n",
       "    </tr>\n",
       "    <tr>\n",
       "      <th>292780</th>\n",
       "      <td>www.arkansasonline.com/news/2018/sep/30/foster...</td>\n",
       "      <td>In Arkansas, foster youths who age out often a...</td>\n",
       "      <td>/News/Arkansas/People &amp; Society/People &amp; Society</td>\n",
       "      <td>1538367692</td>\n",
       "      <td>6.027405e+16</td>\n",
       "      <td>2018-10-01</td>\n",
       "    </tr>\n",
       "    <tr>\n",
       "      <th>292781</th>\n",
       "      <td>www.arkansasonline.com/news/2018/sep/30/foster...</td>\n",
       "      <td>In Arkansas, foster youths who age out often a...</td>\n",
       "      <td>/News/Arkansas/People &amp; Society/People &amp; Society</td>\n",
       "      <td>1538367692</td>\n",
       "      <td>6.027405e+16</td>\n",
       "      <td>2018-10-01</td>\n",
       "    </tr>\n",
       "    <tr>\n",
       "      <th>292782</th>\n",
       "      <td>www.arkansasonline.com/news/2018/sep/30/foster...</td>\n",
       "      <td>In Arkansas, foster youths who age out often a...</td>\n",
       "      <td>/News/Arkansas/People &amp; Society/People &amp; Society</td>\n",
       "      <td>1538367692</td>\n",
       "      <td>6.027405e+16</td>\n",
       "      <td>2018-10-01</td>\n",
       "    </tr>\n",
       "    <tr>\n",
       "      <th>292783</th>\n",
       "      <td>www.arkansasonline.com/news/2018/sep/30/foster...</td>\n",
       "      <td>In Arkansas, foster youths who age out often a...</td>\n",
       "      <td>/News/Arkansas/People &amp; Society/People &amp; Society</td>\n",
       "      <td>1538367692</td>\n",
       "      <td>6.027405e+16</td>\n",
       "      <td>2018-10-01</td>\n",
       "    </tr>\n",
       "  </tbody>\n",
       "</table>\n",
       "<p>292784 rows × 6 columns</p>\n",
       "</div>"
      ],
      "text/plain": [
       "                                                contentID  \\\n",
       "0       www.arkansasonline.com/news/2018/jun/30/arrest...   \n",
       "1       www.arkansasonline.com/news/2018/jun/30/arrest...   \n",
       "2       www.arkansasonline.com/news/2018/jun/30/arrest...   \n",
       "3       www.arkansasonline.com/news/2018/jun/30/arrest...   \n",
       "4       www.arkansasonline.com/news/2018/jun/30/suspec...   \n",
       "...                                                   ...   \n",
       "292779  www.arkansasonline.com/news/2018/sep/30/buffal...   \n",
       "292780  www.arkansasonline.com/news/2018/sep/30/foster...   \n",
       "292781  www.arkansasonline.com/news/2018/sep/30/foster...   \n",
       "292782  www.arkansasonline.com/news/2018/sep/30/foster...   \n",
       "292783  www.arkansasonline.com/news/2018/sep/30/foster...   \n",
       "\n",
       "                                                 headline  \\\n",
       "0            Arrested state legislator urged to quit post   \n",
       "1            Arrested state legislator urged to quit post   \n",
       "2            Arrested state legislator urged to quit post   \n",
       "3            Arrested state legislator urged to quit post   \n",
       "4       Suspect arrested in fatal shooting in Pulaski ...   \n",
       "...                                                   ...   \n",
       "292779                              Buffalo ribs with Cam   \n",
       "292780  In Arkansas, foster youths who age out often a...   \n",
       "292781  In Arkansas, foster youths who age out often a...   \n",
       "292782  In Arkansas, foster youths who age out often a...   \n",
       "292783  In Arkansas, foster youths who age out often a...   \n",
       "\n",
       "                                               categories     visitID  \\\n",
       "0       /News/Arkansas, /News/Politics/Arkansas/Law & ...  1530421855   \n",
       "1       /News/Arkansas, /News/Politics/Arkansas/Law & ...  1530421855   \n",
       "2       /News/Arkansas, /News/Politics/Arkansas/Law & ...  1530421855   \n",
       "3       /News/Arkansas, /News/Politics/Arkansas/Law & ...  1530421855   \n",
       "4                                  /News/Arkansas/Crime    1530422162   \n",
       "...                                                   ...         ...   \n",
       "292779  /Editorial, /Editorial/Columns, /Editorial/Col...  1538367030   \n",
       "292780   /News/Arkansas/People & Society/People & Society  1538367692   \n",
       "292781   /News/Arkansas/People & Society/People & Society  1538367692   \n",
       "292782   /News/Arkansas/People & Society/People & Society  1538367692   \n",
       "292783   /News/Arkansas/People & Society/People & Society  1538367692   \n",
       "\n",
       "           visitorID visitDateTime  \n",
       "0       5.364833e+18    2018-07-01  \n",
       "1       5.364833e+18    2018-07-01  \n",
       "2       5.364833e+18    2018-07-01  \n",
       "3       5.364833e+18    2018-07-01  \n",
       "4       9.015515e+18    2018-07-01  \n",
       "...              ...           ...  \n",
       "292779  3.903908e+18    2018-10-01  \n",
       "292780  6.027405e+16    2018-10-01  \n",
       "292781  6.027405e+16    2018-10-01  \n",
       "292782  6.027405e+16    2018-10-01  \n",
       "292783  6.027405e+16    2018-10-01  \n",
       "\n",
       "[292784 rows x 6 columns]"
      ]
     },
     "execution_count": 231,
     "metadata": {},
     "output_type": "execute_result"
    }
   ],
   "source": [
    "total_info"
   ]
  },
  {
   "cell_type": "code",
   "execution_count": 36,
   "metadata": {},
   "outputs": [
    {
     "name": "stdout",
     "output_type": "stream",
     "text": [
      "<class 'pandas.core.frame.DataFrame'>\n",
      "RangeIndex: 292784 entries, 0 to 292783\n",
      "Data columns (total 6 columns):\n",
      " #   Column         Non-Null Count   Dtype  \n",
      "---  ------         --------------   -----  \n",
      " 0   contentID      292784 non-null  object \n",
      " 1   headline       292784 non-null  object \n",
      " 2   categories     292784 non-null  object \n",
      " 3   visitID        292784 non-null  int64  \n",
      " 4   visitorID      292784 non-null  float64\n",
      " 5   visitDateTime  292784 non-null  object \n",
      "dtypes: float64(1), int64(1), object(4)\n",
      "memory usage: 13.4+ MB\n"
     ]
    }
   ],
   "source": [
    "total_info.info()"
   ]
  },
  {
   "cell_type": "code",
   "execution_count": 37,
   "metadata": {},
   "outputs": [
    {
     "data": {
      "text/plain": [
       "contentID         11455\n",
       "headline          10280\n",
       "categories         2221\n",
       "visitID          106555\n",
       "visitorID          3421\n",
       "visitDateTime        93\n",
       "dtype: int64"
      ]
     },
     "execution_count": 37,
     "metadata": {},
     "output_type": "execute_result"
    }
   ],
   "source": [
    "total_info.nunique()"
   ]
  },
  {
   "cell_type": "code",
   "execution_count": 38,
   "metadata": {},
   "outputs": [
    {
     "name": "stdout",
     "output_type": "stream",
     "text": [
      "The earlist records: 2018-07-01\n",
      "The latest records: 2018-10-01\n"
     ]
    }
   ],
   "source": [
    "print(f\"The earlist records: {min(total_info['visitDateTime'])}\")\n",
    "print(f\"The latest records: {max(total_info['visitDateTime'])}\")"
   ]
  },
  {
   "cell_type": "code",
   "execution_count": 230,
   "metadata": {},
   "outputs": [
    {
     "data": {
      "text/html": [
       "<div>\n",
       "<style scoped>\n",
       "    .dataframe tbody tr th:only-of-type {\n",
       "        vertical-align: middle;\n",
       "    }\n",
       "\n",
       "    .dataframe tbody tr th {\n",
       "        vertical-align: top;\n",
       "    }\n",
       "\n",
       "    .dataframe thead th {\n",
       "        text-align: right;\n",
       "    }\n",
       "</style>\n",
       "<table border=\"1\" class=\"dataframe\">\n",
       "  <thead>\n",
       "    <tr style=\"text-align: right;\">\n",
       "      <th></th>\n",
       "      <th>contentID</th>\n",
       "      <th>headline</th>\n",
       "      <th>categories</th>\n",
       "      <th>visitID</th>\n",
       "      <th>visitorID</th>\n",
       "      <th>visitDateTime</th>\n",
       "    </tr>\n",
       "  </thead>\n",
       "  <tbody>\n",
       "    <tr>\n",
       "      <th>0</th>\n",
       "      <td>www.arkansasonline.com/news/2018/jun/30/arrest...</td>\n",
       "      <td>Arrested state legislator urged to quit post</td>\n",
       "      <td>/News/Arkansas, /News/Politics/Arkansas/Law &amp; ...</td>\n",
       "      <td>1530421855</td>\n",
       "      <td>5.364833e+18</td>\n",
       "      <td>2018-07-01</td>\n",
       "    </tr>\n",
       "    <tr>\n",
       "      <th>4</th>\n",
       "      <td>www.arkansasonline.com/news/2018/jun/30/suspec...</td>\n",
       "      <td>Suspect arrested in fatal shooting in Pulaski ...</td>\n",
       "      <td>/News/Arkansas/Crime</td>\n",
       "      <td>1530422162</td>\n",
       "      <td>9.015515e+18</td>\n",
       "      <td>2018-07-01</td>\n",
       "    </tr>\n",
       "    <tr>\n",
       "      <th>5</th>\n",
       "      <td>www.arkansasonline.com/news/2018/jun/30/police...</td>\n",
       "      <td>Police: Officer fatally shoots self at central...</td>\n",
       "      <td>/News/Arkansas/Law &amp; Government/Public Safety/...</td>\n",
       "      <td>1530423657</td>\n",
       "      <td>1.343160e+18</td>\n",
       "      <td>2018-07-01</td>\n",
       "    </tr>\n",
       "    <tr>\n",
       "      <th>9</th>\n",
       "      <td>www.arkansasonline.com/news/2018/may/03/1-kill...</td>\n",
       "      <td>Driver dies after losing control of Corvette i...</td>\n",
       "      <td>/News/Arkansas, /News/Fatalwrecks, /Social</td>\n",
       "      <td>1530423935</td>\n",
       "      <td>4.705169e+18</td>\n",
       "      <td>2018-07-01</td>\n",
       "    </tr>\n",
       "    <tr>\n",
       "      <th>13</th>\n",
       "      <td>www.arkansasonline.com/news/2018/apr/24/facebo...</td>\n",
       "      <td>Facebook profile lands Arkansas sex offender i...</td>\n",
       "      <td>/News/Arkansas, /News/Arkansas/Crime/Law &amp; Gov...</td>\n",
       "      <td>1530424161</td>\n",
       "      <td>4.705169e+18</td>\n",
       "      <td>2018-07-01</td>\n",
       "    </tr>\n",
       "    <tr>\n",
       "      <th>...</th>\n",
       "      <td>...</td>\n",
       "      <td>...</td>\n",
       "      <td>...</td>\n",
       "      <td>...</td>\n",
       "      <td>...</td>\n",
       "      <td>...</td>\n",
       "    </tr>\n",
       "    <tr>\n",
       "      <th>292773</th>\n",
       "      <td>www.arkansasonline.com/news/2018/sep/30/deadli...</td>\n",
       "      <td>Deadline looms; health coverage at risk for many</td>\n",
       "      <td>/News/Arkansas, /News/Healthcare</td>\n",
       "      <td>1538366477</td>\n",
       "      <td>9.595882e+15</td>\n",
       "      <td>2018-10-01</td>\n",
       "    </tr>\n",
       "    <tr>\n",
       "      <th>292774</th>\n",
       "      <td>www.arkansasonline.com/news/2018/sep/29/texas-...</td>\n",
       "      <td>Texas A&amp;M;'s six-year reign</td>\n",
       "      <td>/Sports, /Sports/College/Razorbacks/Razobacks-...</td>\n",
       "      <td>1538366670</td>\n",
       "      <td>5.290775e+17</td>\n",
       "      <td>2018-10-01</td>\n",
       "    </tr>\n",
       "    <tr>\n",
       "      <th>292778</th>\n",
       "      <td>www.arkansasonline.com/news/2018/sep/30/means-...</td>\n",
       "      <td>Means to an end</td>\n",
       "      <td>/Editorial, /Editorial/Columns, /Editorial/Col...</td>\n",
       "      <td>1538367023</td>\n",
       "      <td>3.903908e+18</td>\n",
       "      <td>2018-10-01</td>\n",
       "    </tr>\n",
       "    <tr>\n",
       "      <th>292779</th>\n",
       "      <td>www.arkansasonline.com/news/2018/sep/30/buffal...</td>\n",
       "      <td>Buffalo ribs with Cam</td>\n",
       "      <td>/Editorial, /Editorial/Columns, /Editorial/Col...</td>\n",
       "      <td>1538367030</td>\n",
       "      <td>3.903908e+18</td>\n",
       "      <td>2018-10-01</td>\n",
       "    </tr>\n",
       "    <tr>\n",
       "      <th>292780</th>\n",
       "      <td>www.arkansasonline.com/news/2018/sep/30/foster...</td>\n",
       "      <td>In Arkansas, foster youths who age out often a...</td>\n",
       "      <td>/News/Arkansas/People &amp; Society/People &amp; Society</td>\n",
       "      <td>1538367692</td>\n",
       "      <td>6.027405e+16</td>\n",
       "      <td>2018-10-01</td>\n",
       "    </tr>\n",
       "  </tbody>\n",
       "</table>\n",
       "<p>108067 rows × 6 columns</p>\n",
       "</div>"
      ],
      "text/plain": [
       "                                                contentID  \\\n",
       "0       www.arkansasonline.com/news/2018/jun/30/arrest...   \n",
       "4       www.arkansasonline.com/news/2018/jun/30/suspec...   \n",
       "5       www.arkansasonline.com/news/2018/jun/30/police...   \n",
       "9       www.arkansasonline.com/news/2018/may/03/1-kill...   \n",
       "13      www.arkansasonline.com/news/2018/apr/24/facebo...   \n",
       "...                                                   ...   \n",
       "292773  www.arkansasonline.com/news/2018/sep/30/deadli...   \n",
       "292774  www.arkansasonline.com/news/2018/sep/29/texas-...   \n",
       "292778  www.arkansasonline.com/news/2018/sep/30/means-...   \n",
       "292779  www.arkansasonline.com/news/2018/sep/30/buffal...   \n",
       "292780  www.arkansasonline.com/news/2018/sep/30/foster...   \n",
       "\n",
       "                                                 headline  \\\n",
       "0            Arrested state legislator urged to quit post   \n",
       "4       Suspect arrested in fatal shooting in Pulaski ...   \n",
       "5       Police: Officer fatally shoots self at central...   \n",
       "9       Driver dies after losing control of Corvette i...   \n",
       "13      Facebook profile lands Arkansas sex offender i...   \n",
       "...                                                   ...   \n",
       "292773   Deadline looms; health coverage at risk for many   \n",
       "292774                        Texas A&M;'s six-year reign   \n",
       "292778                                    Means to an end   \n",
       "292779                              Buffalo ribs with Cam   \n",
       "292780  In Arkansas, foster youths who age out often a...   \n",
       "\n",
       "                                               categories     visitID  \\\n",
       "0       /News/Arkansas, /News/Politics/Arkansas/Law & ...  1530421855   \n",
       "4                                  /News/Arkansas/Crime    1530422162   \n",
       "5       /News/Arkansas/Law & Government/Public Safety/...  1530423657   \n",
       "9            /News/Arkansas, /News/Fatalwrecks, /Social    1530423935   \n",
       "13      /News/Arkansas, /News/Arkansas/Crime/Law & Gov...  1530424161   \n",
       "...                                                   ...         ...   \n",
       "292773                 /News/Arkansas, /News/Healthcare    1538366477   \n",
       "292774  /Sports, /Sports/College/Razorbacks/Razobacks-...  1538366670   \n",
       "292778  /Editorial, /Editorial/Columns, /Editorial/Col...  1538367023   \n",
       "292779  /Editorial, /Editorial/Columns, /Editorial/Col...  1538367030   \n",
       "292780   /News/Arkansas/People & Society/People & Society  1538367692   \n",
       "\n",
       "           visitorID visitDateTime  \n",
       "0       5.364833e+18    2018-07-01  \n",
       "4       9.015515e+18    2018-07-01  \n",
       "5       1.343160e+18    2018-07-01  \n",
       "9       4.705169e+18    2018-07-01  \n",
       "13      4.705169e+18    2018-07-01  \n",
       "...              ...           ...  \n",
       "292773  9.595882e+15    2018-10-01  \n",
       "292774  5.290775e+17    2018-10-01  \n",
       "292778  3.903908e+18    2018-10-01  \n",
       "292779  3.903908e+18    2018-10-01  \n",
       "292780  6.027405e+16    2018-10-01  \n",
       "\n",
       "[108067 rows x 6 columns]"
      ]
     },
     "execution_count": 230,
     "metadata": {},
     "output_type": "execute_result"
    }
   ],
   "source": [
    "# total_info.to_csv(\"../data/total_info.csv\")\n",
    "total_info.drop_duplicates(subset=('visitID','visitorID','visitDateTime'), keep='first', inplace=False)"
   ]
  },
  {
   "cell_type": "markdown",
   "metadata": {},
   "source": [
    "### Split the records into training set, validation set and test set\n",
    "\n",
    "As the records are collected during 3 months (93 days). I will split the record  into training set, validation set and test set according to the ratio of 70:15:15."
   ]
  },
  {
   "cell_type": "code",
   "execution_count": 60,
   "metadata": {},
   "outputs": [],
   "source": [
    "train_df = total_info.loc[total_info['visitDateTime'] <= pd.to_datetime('2018-09-03')]\n",
    "valid_df = total_info.loc[(total_info['visitDateTime'] > pd.to_datetime('2018-09-03')) & (total_info['visitDateTime'] <= pd.to_datetime('2018-09-17'))]\n",
    "test_df = total_info.loc[total_info['visitDateTime'] > pd.to_datetime('2018-09-17')]"
   ]
  },
  {
   "cell_type": "code",
   "execution_count": 69,
   "metadata": {},
   "outputs": [
    {
     "name": "stdout",
     "output_type": "stream",
     "text": [
      "train set\n",
      "2018-07-01 - 2018-09-03\n",
      "65 days\n",
      "8529 articles\n",
      "2884 visitors\n",
      "------------------\n",
      "valid set\n",
      "2018-09-04 - 2018-09-17\n",
      "14 days\n",
      "1853 articles\n",
      "1868 visitors\n",
      "------------------\n",
      "test set\n",
      "2018-09-18 - 2018-10-01\n",
      "14 days\n",
      "1773 articles\n",
      "1625 visitors\n"
     ]
    }
   ],
   "source": [
    "print(\"train set\")\n",
    "print(f\"{min(train_df['visitDateTime'])} - {max(train_df['visitDateTime'])}\")\n",
    "print(f\"{(train_df['visitDateTime']).nunique()} days\")\n",
    "print(f\"{(train_df['contentID']).nunique()} articles\")\n",
    "print(f\"{(train_df['visitorID']).nunique()} visitors\")\n",
    "print(\"------------------\")\n",
    "print(\"valid set\")\n",
    "print(f\"{min(valid_df['visitDateTime'])} - {max(valid_df['visitDateTime'])}\")\n",
    "print(f\"{(valid_df['visitDateTime']).nunique()} days\")\n",
    "print(f\"{(valid_df['contentID']).nunique()} articles\")\n",
    "print(f\"{(valid_df['visitorID']).nunique()} visitors\")\n",
    "print(\"------------------\")\n",
    "print(\"test set\")\n",
    "print(f\"{min(test_df['visitDateTime'])} - {max(test_df['visitDateTime'])}\")\n",
    "print(f\"{(test_df['visitDateTime']).nunique()} days\")\n",
    "print(f\"{(test_df['contentID']).nunique()} articles\")\n",
    "print(f\"{(test_df['visitorID']).nunique()} visitors\")"
   ]
  },
  {
   "cell_type": "markdown",
   "metadata": {},
   "source": [
    "# Exploratory Data Analysis\n",
    "\n",
    " "
   ]
  },
  {
   "cell_type": "markdown",
   "metadata": {},
   "source": [
    "### The exploratory data ananlysis consists of 3 parts as shown below: </br>\n",
    "1. Popularity (page visits) analysis </br>\n",
    "a. Page visits of each articles</br>\n",
    "How many page visits could an article have during the first 65 days? </br>\n",
    "b. Page visits of each articles for individual visitors </br>\n",
    "How many times does an individual visitor read the same article during the first 65 days?\n",
    "\n",
    "2. Time lag (number of days between first visit ~ last visit)  effects </br>\n",
    "a. Time lag distribution for articles whose last records are before 2018-09-03 </br>\n",
    "b. Time lag distribution for articles whose last records are 2018-09-03 </br>\n",
    "c. Time lag distribution for popular articles (page visits > 57) </br>\n",
    "d. Time lag distribution for common articles (page visits < 57) </br>\n",
    "\n",
    "3. Article content ananlysis </br>\n",
    "a. Article headline features: the information in the article headlines </br>\n",
    "b. Article category features: the information in the article categories </br>"
   ]
  },
  {
   "cell_type": "code",
   "execution_count": 84,
   "metadata": {},
   "outputs": [
    {
     "data": {
      "text/html": [
       "<div>\n",
       "<style scoped>\n",
       "    .dataframe tbody tr th:only-of-type {\n",
       "        vertical-align: middle;\n",
       "    }\n",
       "\n",
       "    .dataframe tbody tr th {\n",
       "        vertical-align: top;\n",
       "    }\n",
       "\n",
       "    .dataframe thead th {\n",
       "        text-align: right;\n",
       "    }\n",
       "</style>\n",
       "<table border=\"1\" class=\"dataframe\">\n",
       "  <thead>\n",
       "    <tr style=\"text-align: right;\">\n",
       "      <th></th>\n",
       "      <th>visitorID</th>\n",
       "      <th>contentID</th>\n",
       "      <th>visitDateTime</th>\n",
       "    </tr>\n",
       "  </thead>\n",
       "  <tbody>\n",
       "    <tr>\n",
       "      <th>0</th>\n",
       "      <td>5.364833e+18</td>\n",
       "      <td>www.arkansasonline.com/news/2018/jun/30/arrest...</td>\n",
       "      <td>2018-07-01</td>\n",
       "    </tr>\n",
       "    <tr>\n",
       "      <th>1</th>\n",
       "      <td>5.364833e+18</td>\n",
       "      <td>www.arkansasonline.com/news/2018/jun/30/arrest...</td>\n",
       "      <td>2018-07-01</td>\n",
       "    </tr>\n",
       "    <tr>\n",
       "      <th>2</th>\n",
       "      <td>5.364833e+18</td>\n",
       "      <td>www.arkansasonline.com/news/2018/jun/30/arrest...</td>\n",
       "      <td>2018-07-01</td>\n",
       "    </tr>\n",
       "    <tr>\n",
       "      <th>3</th>\n",
       "      <td>5.364833e+18</td>\n",
       "      <td>www.arkansasonline.com/news/2018/jun/30/arrest...</td>\n",
       "      <td>2018-07-01</td>\n",
       "    </tr>\n",
       "    <tr>\n",
       "      <th>4</th>\n",
       "      <td>9.015515e+18</td>\n",
       "      <td>www.arkansasonline.com/news/2018/jun/30/suspec...</td>\n",
       "      <td>2018-07-01</td>\n",
       "    </tr>\n",
       "    <tr>\n",
       "      <th>...</th>\n",
       "      <td>...</td>\n",
       "      <td>...</td>\n",
       "      <td>...</td>\n",
       "    </tr>\n",
       "    <tr>\n",
       "      <th>199931</th>\n",
       "      <td>3.796077e+18</td>\n",
       "      <td>www.arkansasonline.com/news/2018/sep/03/arkans...</td>\n",
       "      <td>2018-09-03</td>\n",
       "    </tr>\n",
       "    <tr>\n",
       "      <th>199932</th>\n",
       "      <td>2.077413e+18</td>\n",
       "      <td>www.arkansasonline.com/news/2018/sep/03/in-the...</td>\n",
       "      <td>2018-09-03</td>\n",
       "    </tr>\n",
       "    <tr>\n",
       "      <th>199933</th>\n",
       "      <td>2.149975e+18</td>\n",
       "      <td>www.arkansasonline.com/news/2018/sep/03/trump-...</td>\n",
       "      <td>2018-09-03</td>\n",
       "    </tr>\n",
       "    <tr>\n",
       "      <th>199934</th>\n",
       "      <td>8.539255e+18</td>\n",
       "      <td>www.arkansasonline.com/news/2018/sep/03/live-u...</td>\n",
       "      <td>2018-09-03</td>\n",
       "    </tr>\n",
       "    <tr>\n",
       "      <th>199935</th>\n",
       "      <td>2.424563e+18</td>\n",
       "      <td>www.arkansasonline.com/news/2018/sep/02/missou...</td>\n",
       "      <td>2018-09-03</td>\n",
       "    </tr>\n",
       "  </tbody>\n",
       "</table>\n",
       "<p>199936 rows × 3 columns</p>\n",
       "</div>"
      ],
      "text/plain": [
       "           visitorID                                          contentID  \\\n",
       "0       5.364833e+18  www.arkansasonline.com/news/2018/jun/30/arrest...   \n",
       "1       5.364833e+18  www.arkansasonline.com/news/2018/jun/30/arrest...   \n",
       "2       5.364833e+18  www.arkansasonline.com/news/2018/jun/30/arrest...   \n",
       "3       5.364833e+18  www.arkansasonline.com/news/2018/jun/30/arrest...   \n",
       "4       9.015515e+18  www.arkansasonline.com/news/2018/jun/30/suspec...   \n",
       "...              ...                                                ...   \n",
       "199931  3.796077e+18  www.arkansasonline.com/news/2018/sep/03/arkans...   \n",
       "199932  2.077413e+18  www.arkansasonline.com/news/2018/sep/03/in-the...   \n",
       "199933  2.149975e+18  www.arkansasonline.com/news/2018/sep/03/trump-...   \n",
       "199934  8.539255e+18  www.arkansasonline.com/news/2018/sep/03/live-u...   \n",
       "199935  2.424563e+18  www.arkansasonline.com/news/2018/sep/02/missou...   \n",
       "\n",
       "       visitDateTime  \n",
       "0         2018-07-01  \n",
       "1         2018-07-01  \n",
       "2         2018-07-01  \n",
       "3         2018-07-01  \n",
       "4         2018-07-01  \n",
       "...              ...  \n",
       "199931    2018-09-03  \n",
       "199932    2018-09-03  \n",
       "199933    2018-09-03  \n",
       "199934    2018-09-03  \n",
       "199935    2018-09-03  \n",
       "\n",
       "[199936 rows x 3 columns]"
      ]
     },
     "execution_count": 84,
     "metadata": {},
     "output_type": "execute_result"
    }
   ],
   "source": [
    "# user profile for train set\n",
    "train_utility = train_df[['visitorID','contentID','visitDateTime']]\n",
    "train_utility"
   ]
  },
  {
   "cell_type": "markdown",
   "metadata": {},
   "source": [
    "### 1. Popularity distribution\n",
    "#### a. Let's have a look at the total page views for each article to see how popular an article could get?"
   ]
  },
  {
   "cell_type": "code",
   "execution_count": 188,
   "metadata": {},
   "outputs": [
    {
     "data": {
      "text/html": [
       "<div>\n",
       "<style scoped>\n",
       "    .dataframe tbody tr th:only-of-type {\n",
       "        vertical-align: middle;\n",
       "    }\n",
       "\n",
       "    .dataframe tbody tr th {\n",
       "        vertical-align: top;\n",
       "    }\n",
       "\n",
       "    .dataframe thead th {\n",
       "        text-align: right;\n",
       "    }\n",
       "</style>\n",
       "<table border=\"1\" class=\"dataframe\">\n",
       "  <thead>\n",
       "    <tr style=\"text-align: right;\">\n",
       "      <th></th>\n",
       "      <th>count1</th>\n",
       "      <th>count2</th>\n",
       "    </tr>\n",
       "    <tr>\n",
       "      <th>contentID</th>\n",
       "      <th></th>\n",
       "      <th></th>\n",
       "    </tr>\n",
       "  </thead>\n",
       "  <tbody>\n",
       "    <tr>\n",
       "      <th>www.arkansasonline.com/news/2018/aug/29/food-networks-diners-drive-ins-and-dives-stops-lit/</th>\n",
       "      <td>910</td>\n",
       "      <td>910</td>\n",
       "    </tr>\n",
       "    <tr>\n",
       "      <th>www.arkansasonline.com/news/2018/aug/31/former-arkansas-senator-jeremy-hutchinson-indicted/</th>\n",
       "      <td>734</td>\n",
       "      <td>734</td>\n",
       "    </tr>\n",
       "    <tr>\n",
       "      <th>www.arkansasonline.com/news/2018/aug/22/arkansas-democrat-gazette-delivery-man-shot-robbed/</th>\n",
       "      <td>656</td>\n",
       "      <td>656</td>\n",
       "    </tr>\n",
       "    <tr>\n",
       "      <th>www.arkansasonline.com/news/2018/jul/19/sheriff-8-people-dead-after-missouri-tourist-boat-/</th>\n",
       "      <td>594</td>\n",
       "      <td>594</td>\n",
       "    </tr>\n",
       "    <tr>\n",
       "      <th>www.arkansasonline.com/news/2018/aug/16/little-rock-police-helicopter-crashes-injuries-rep/</th>\n",
       "      <td>583</td>\n",
       "      <td>583</td>\n",
       "    </tr>\n",
       "    <tr>\n",
       "      <th>...</th>\n",
       "      <td>...</td>\n",
       "      <td>...</td>\n",
       "    </tr>\n",
       "    <tr>\n",
       "      <th>www.arkansasonline.com/news/2018/aug/12/look-for-1-of-big-3-to-win-in-michigan-/</th>\n",
       "      <td>1</td>\n",
       "      <td>1</td>\n",
       "    </tr>\n",
       "    <tr>\n",
       "      <th>www.arkansasonline.com/news/2018/aug/12/major-league-baseball-notes-20180812/</th>\n",
       "      <td>1</td>\n",
       "      <td>1</td>\n",
       "    </tr>\n",
       "    <tr>\n",
       "      <th>www.arkansasonline.com/news/2018/aug/12/mercy-earns-recognition-for-diabetes-pr/</th>\n",
       "      <td>1</td>\n",
       "      <td>1</td>\n",
       "    </tr>\n",
       "    <tr>\n",
       "      <th>www.arkansasonline.com/news/2018/aug/12/new-lester-elementary-school-open-monday-jacksonvi/</th>\n",
       "      <td>1</td>\n",
       "      <td>1</td>\n",
       "    </tr>\n",
       "    <tr>\n",
       "      <th>www.arkansasonline.com/news/2018/apr/22/divorces-20180422/</th>\n",
       "      <td>1</td>\n",
       "      <td>1</td>\n",
       "    </tr>\n",
       "  </tbody>\n",
       "</table>\n",
       "<p>8529 rows × 2 columns</p>\n",
       "</div>"
      ],
      "text/plain": [
       "                                                    count1  count2\n",
       "contentID                                                         \n",
       "www.arkansasonline.com/news/2018/aug/29/food-ne...     910     910\n",
       "www.arkansasonline.com/news/2018/aug/31/former-...     734     734\n",
       "www.arkansasonline.com/news/2018/aug/22/arkansa...     656     656\n",
       "www.arkansasonline.com/news/2018/jul/19/sheriff...     594     594\n",
       "www.arkansasonline.com/news/2018/aug/16/little-...     583     583\n",
       "...                                                    ...     ...\n",
       "www.arkansasonline.com/news/2018/aug/12/look-fo...       1       1\n",
       "www.arkansasonline.com/news/2018/aug/12/major-l...       1       1\n",
       "www.arkansasonline.com/news/2018/aug/12/mercy-e...       1       1\n",
       "www.arkansasonline.com/news/2018/aug/12/new-les...       1       1\n",
       "www.arkansasonline.com/news/2018/apr/22/divorce...       1       1\n",
       "\n",
       "[8529 rows x 2 columns]"
      ]
     },
     "execution_count": 188,
     "metadata": {},
     "output_type": "execute_result"
    }
   ],
   "source": [
    "popularity = train_utility.groupby('contentID').count()\n",
    "popularity.columns = ['count1', 'count2']\n",
    "popularity.sort_values('count1', ascending = False)"
   ]
  },
  {
   "cell_type": "code",
   "execution_count": 190,
   "metadata": {},
   "outputs": [
    {
     "data": {
      "text/plain": [
       "count    8529.000000\n",
       "mean       23.441904\n",
       "std        47.857095\n",
       "min         1.000000\n",
       "25%         2.000000\n",
       "50%         6.000000\n",
       "75%        24.000000\n",
       "max       910.000000\n",
       "Name: count1, dtype: float64"
      ]
     },
     "execution_count": 190,
     "metadata": {},
     "output_type": "execute_result"
    }
   ],
   "source": [
    "popularity['count1'].describe() #(0,57)"
   ]
  },
  {
   "cell_type": "code",
   "execution_count": 193,
   "metadata": {},
   "outputs": [
    {
     "data": {
      "text/plain": [
       "Text(0.5, 1.0, 'The views distribution for all the articles in the traing set')"
      ]
     },
     "execution_count": 193,
     "metadata": {},
     "output_type": "execute_result"
    },
    {
     "data": {
      "image/png": "[encoded data removed]",
      "text/plain": [
       "<Figure size 432x288 with 1 Axes>"
      ]
     },
     "metadata": {
      "needs_background": "light"
     },
     "output_type": "display_data"
    }
   ],
   "source": [
    "plt.hist(popularity['count1'], bins = range(0,950,50))\n",
    "plt.xlabel('Views')\n",
    "plt.ylabel('Counts of articles')\n",
    "plt.title(\"The views distribution for all the articles in the traing set\")"
   ]
  },
  {
   "cell_type": "markdown",
   "metadata": {},
   "source": [
    "It can be seen that most articles have page visits between 0 and 50. The upperlimit for page visits = Q3+1.5IQR = 24+1.5*22 = 57. As a result, articles with page visits more than 57 could be taken as popular articles."
   ]
  },
  {
   "cell_type": "markdown",
   "metadata": {},
   "source": [
    "#### b. Then, have a look at the total page views for each article for each user"
   ]
  },
  {
   "cell_type": "code",
   "execution_count": 237,
   "metadata": {},
   "outputs": [
    {
     "data": {
      "text/html": [
       "<div>\n",
       "<style scoped>\n",
       "    .dataframe tbody tr th:only-of-type {\n",
       "        vertical-align: middle;\n",
       "    }\n",
       "\n",
       "    .dataframe tbody tr th {\n",
       "        vertical-align: top;\n",
       "    }\n",
       "\n",
       "    .dataframe thead th {\n",
       "        text-align: right;\n",
       "    }\n",
       "</style>\n",
       "<table border=\"1\" class=\"dataframe\">\n",
       "  <thead>\n",
       "    <tr style=\"text-align: right;\">\n",
       "      <th></th>\n",
       "      <th></th>\n",
       "      <th>headline</th>\n",
       "      <th>categories</th>\n",
       "      <th>visitID</th>\n",
       "      <th>visitDateTime</th>\n",
       "    </tr>\n",
       "    <tr>\n",
       "      <th>visitorID</th>\n",
       "      <th>contentID</th>\n",
       "      <th></th>\n",
       "      <th></th>\n",
       "      <th></th>\n",
       "      <th></th>\n",
       "    </tr>\n",
       "  </thead>\n",
       "  <tbody>\n",
       "    <tr>\n",
       "      <th rowspan=\"5\" valign=\"top\">6.335347e+18</th>\n",
       "      <th>www.arkansasonline.com/news/2018/aug/07/a-message-to-democrats-20180807/</th>\n",
       "      <td>196</td>\n",
       "      <td>196</td>\n",
       "      <td>196</td>\n",
       "      <td>196</td>\n",
       "    </tr>\n",
       "    <tr>\n",
       "      <th>www.arkansasonline.com/news/2018/sep/02/white-flight-riot-20180902/</th>\n",
       "      <td>180</td>\n",
       "      <td>180</td>\n",
       "      <td>180</td>\n",
       "      <td>180</td>\n",
       "    </tr>\n",
       "    <tr>\n",
       "      <th>www.arkansasonline.com/news/2018/aug/03/obama-s-endorsement-list-includes-no-st-1/</th>\n",
       "      <td>132</td>\n",
       "      <td>132</td>\n",
       "      <td>132</td>\n",
       "      <td>132</td>\n",
       "    </tr>\n",
       "    <tr>\n",
       "      <th>www.arkansasonline.com/news/2018/aug/10/cotton-s-cautious-of-new-space-force-20-1/</th>\n",
       "      <td>124</td>\n",
       "      <td>124</td>\n",
       "      <td>124</td>\n",
       "      <td>124</td>\n",
       "    </tr>\n",
       "    <tr>\n",
       "      <th>www.arkansasonline.com/news/2018/aug/24/cotton-sees-sign-swamp-is-draining-2018/</th>\n",
       "      <td>120</td>\n",
       "      <td>120</td>\n",
       "      <td>120</td>\n",
       "      <td>120</td>\n",
       "    </tr>\n",
       "  </tbody>\n",
       "</table>\n",
       "</div>"
      ],
      "text/plain": [
       "                                                                 headline  \\\n",
       "visitorID    contentID                                                      \n",
       "6.335347e+18 www.arkansasonline.com/news/2018/aug/07/a-messa...       196   \n",
       "             www.arkansasonline.com/news/2018/sep/02/white-f...       180   \n",
       "             www.arkansasonline.com/news/2018/aug/03/obama-s...       132   \n",
       "             www.arkansasonline.com/news/2018/aug/10/cotton-...       124   \n",
       "             www.arkansasonline.com/news/2018/aug/24/cotton-...       120   \n",
       "\n",
       "                                                                 categories  \\\n",
       "visitorID    contentID                                                        \n",
       "6.335347e+18 www.arkansasonline.com/news/2018/aug/07/a-messa...         196   \n",
       "             www.arkansasonline.com/news/2018/sep/02/white-f...         180   \n",
       "             www.arkansasonline.com/news/2018/aug/03/obama-s...         132   \n",
       "             www.arkansasonline.com/news/2018/aug/10/cotton-...         124   \n",
       "             www.arkansasonline.com/news/2018/aug/24/cotton-...         120   \n",
       "\n",
       "                                                                 visitID  \\\n",
       "visitorID    contentID                                                     \n",
       "6.335347e+18 www.arkansasonline.com/news/2018/aug/07/a-messa...      196   \n",
       "             www.arkansasonline.com/news/2018/sep/02/white-f...      180   \n",
       "             www.arkansasonline.com/news/2018/aug/03/obama-s...      132   \n",
       "             www.arkansasonline.com/news/2018/aug/10/cotton-...      124   \n",
       "             www.arkansasonline.com/news/2018/aug/24/cotton-...      120   \n",
       "\n",
       "                                                                 visitDateTime  \n",
       "visitorID    contentID                                                          \n",
       "6.335347e+18 www.arkansasonline.com/news/2018/aug/07/a-messa...            196  \n",
       "             www.arkansasonline.com/news/2018/sep/02/white-f...            180  \n",
       "             www.arkansasonline.com/news/2018/aug/03/obama-s...            132  \n",
       "             www.arkansasonline.com/news/2018/aug/10/cotton-...            124  \n",
       "             www.arkansasonline.com/news/2018/aug/24/cotton-...            120  "
      ]
     },
     "execution_count": 237,
     "metadata": {},
     "output_type": "execute_result"
    }
   ],
   "source": [
    "popular_ind = train_df.groupby(['visitorID','contentID']).count().sort_values('headline', ascending = False)\n",
    "popular_ind.head()"
   ]
  },
  {
   "cell_type": "code",
   "execution_count": 258,
   "metadata": {},
   "outputs": [
    {
     "data": {
      "text/html": [
       "<div>\n",
       "<style scoped>\n",
       "    .dataframe tbody tr th:only-of-type {\n",
       "        vertical-align: middle;\n",
       "    }\n",
       "\n",
       "    .dataframe tbody tr th {\n",
       "        vertical-align: top;\n",
       "    }\n",
       "\n",
       "    .dataframe thead th {\n",
       "        text-align: right;\n",
       "    }\n",
       "</style>\n",
       "<table border=\"1\" class=\"dataframe\">\n",
       "  <thead>\n",
       "    <tr style=\"text-align: right;\">\n",
       "      <th></th>\n",
       "      <th>avg_views</th>\n",
       "    </tr>\n",
       "    <tr>\n",
       "      <th>visitorID</th>\n",
       "      <th></th>\n",
       "    </tr>\n",
       "  </thead>\n",
       "  <tbody>\n",
       "    <tr>\n",
       "      <th>5.393418e+18</th>\n",
       "      <td>32.000000</td>\n",
       "    </tr>\n",
       "    <tr>\n",
       "      <th>5.899972e+18</th>\n",
       "      <td>17.454545</td>\n",
       "    </tr>\n",
       "    <tr>\n",
       "      <th>4.720442e+18</th>\n",
       "      <td>16.290323</td>\n",
       "    </tr>\n",
       "    <tr>\n",
       "      <th>4.424965e+18</th>\n",
       "      <td>16.257143</td>\n",
       "    </tr>\n",
       "    <tr>\n",
       "      <th>4.238538e+18</th>\n",
       "      <td>16.000000</td>\n",
       "    </tr>\n",
       "    <tr>\n",
       "      <th>...</th>\n",
       "      <td>...</td>\n",
       "    </tr>\n",
       "    <tr>\n",
       "      <th>8.328446e+18</th>\n",
       "      <td>1.000000</td>\n",
       "    </tr>\n",
       "    <tr>\n",
       "      <th>2.856705e+18</th>\n",
       "      <td>1.000000</td>\n",
       "    </tr>\n",
       "    <tr>\n",
       "      <th>2.861615e+18</th>\n",
       "      <td>1.000000</td>\n",
       "    </tr>\n",
       "    <tr>\n",
       "      <th>2.868135e+18</th>\n",
       "      <td>1.000000</td>\n",
       "    </tr>\n",
       "    <tr>\n",
       "      <th>2.011047e+14</th>\n",
       "      <td>1.000000</td>\n",
       "    </tr>\n",
       "  </tbody>\n",
       "</table>\n",
       "<p>2884 rows × 1 columns</p>\n",
       "</div>"
      ],
      "text/plain": [
       "              avg_views\n",
       "visitorID              \n",
       "5.393418e+18  32.000000\n",
       "5.899972e+18  17.454545\n",
       "4.720442e+18  16.290323\n",
       "4.424965e+18  16.257143\n",
       "4.238538e+18  16.000000\n",
       "...                 ...\n",
       "8.328446e+18   1.000000\n",
       "2.856705e+18   1.000000\n",
       "2.861615e+18   1.000000\n",
       "2.868135e+18   1.000000\n",
       "2.011047e+14   1.000000\n",
       "\n",
       "[2884 rows x 1 columns]"
      ]
     },
     "execution_count": 258,
     "metadata": {},
     "output_type": "execute_result"
    }
   ],
   "source": [
    "popular_ind_avg = pd.DataFrame(popular_ind.groupby('visitorID')['headline'].mean().sort_values(ascending=False))\n",
    "popular_ind_avg.columns = ['avg_views']\n",
    "popular_ind_avg"
   ]
  },
  {
   "cell_type": "code",
   "execution_count": 260,
   "metadata": {},
   "outputs": [
    {
     "data": {
      "text/plain": [
       "count    2884.000000\n",
       "mean        1.877603\n",
       "std         1.705857\n",
       "min         1.000000\n",
       "25%         1.000000\n",
       "50%         1.048074\n",
       "75%         1.539263\n",
       "max        32.000000\n",
       "Name: avg_views, dtype: float64"
      ]
     },
     "execution_count": 260,
     "metadata": {},
     "output_type": "execute_result"
    }
   ],
   "source": [
    "popular_ind_avg['avg_views'].describe()"
   ]
  },
  {
   "cell_type": "code",
   "execution_count": 262,
   "metadata": {},
   "outputs": [
    {
     "data": {
      "text/plain": [
       "Text(0.5, 1.0, 'The average views for individual visitors')"
      ]
     },
     "execution_count": 262,
     "metadata": {},
     "output_type": "execute_result"
    },
    {
     "data": {
      "image/png": "[encoded data removed]",
      "text/plain": [
       "<Figure size 432x288 with 1 Axes>"
      ]
     },
     "metadata": {
      "needs_background": "light"
     },
     "output_type": "display_data"
    }
   ],
   "source": [
    "plt.hist(popular_ind_avg['avg_views'], bins = range(0,33,2))\n",
    "plt.xlabel('Average views')\n",
    "plt.ylabel('Counts of visitors')\n",
    "plt.title(\"The average views for individual visitors\")"
   ]
  },
  {
   "cell_type": "markdown",
   "metadata": {},
   "source": [
    "For each visitor, the average view for each article is 2 views and most visitors don't read the same article for more than 1.5 times. As a result, it is reasonable to recommend articles that individual visitors haven't read."
   ]
  },
  {
   "cell_type": "markdown",
   "metadata": {},
   "source": [
    "### 2. Time lag distribution for all the articles\n",
    "In this section, it is assumed that the first record of each article occurs on the day when the article is first released. </br>\n",
    "Let's see the time effects on all the article views to decide whether users are more likely view new article than old articles. "
   ]
  },
  {
   "cell_type": "code",
   "execution_count": 194,
   "metadata": {},
   "outputs": [
    {
     "data": {
      "text/html": [
       "<div>\n",
       "<style scoped>\n",
       "    .dataframe tbody tr th:only-of-type {\n",
       "        vertical-align: middle;\n",
       "    }\n",
       "\n",
       "    .dataframe tbody tr th {\n",
       "        vertical-align: top;\n",
       "    }\n",
       "\n",
       "    .dataframe thead th {\n",
       "        text-align: right;\n",
       "    }\n",
       "</style>\n",
       "<table border=\"1\" class=\"dataframe\">\n",
       "  <thead>\n",
       "    <tr style=\"text-align: right;\">\n",
       "      <th></th>\n",
       "      <th>lag</th>\n",
       "    </tr>\n",
       "    <tr>\n",
       "      <th>contentID</th>\n",
       "      <th></th>\n",
       "    </tr>\n",
       "  </thead>\n",
       "  <tbody>\n",
       "    <tr>\n",
       "      <th>www.arkansasonline.com/news/2018/jul/01/dad-marches-in-lr-because-son-hides-und/</th>\n",
       "      <td>60 days</td>\n",
       "    </tr>\n",
       "    <tr>\n",
       "      <th>www.arkansasonline.com/news/2018/jul/01/real-estate-transactions-20180701/</th>\n",
       "      <td>59 days</td>\n",
       "    </tr>\n",
       "    <tr>\n",
       "      <th>www.arkansasonline.com/news/2018/may/18/traffic-alert-3-vehicle-crash-fire-shuts-part-i-30/</th>\n",
       "      <td>58 days</td>\n",
       "    </tr>\n",
       "    <tr>\n",
       "      <th>www.arkansasonline.com/news/2018/jun/20/woman-brandishes-screwdriver-robbery-north-little-/</th>\n",
       "      <td>58 days</td>\n",
       "    </tr>\n",
       "    <tr>\n",
       "      <th>www.arkansasonline.com/news/2018/jul/06/outcomes-of-aspire-tests-seen-as-mixed-/</th>\n",
       "      <td>58 days</td>\n",
       "    </tr>\n",
       "  </tbody>\n",
       "</table>\n",
       "</div>"
      ],
      "text/plain": [
       "                                                       lag\n",
       "contentID                                                 \n",
       "www.arkansasonline.com/news/2018/jul/01/dad-mar... 60 days\n",
       "www.arkansasonline.com/news/2018/jul/01/real-es... 59 days\n",
       "www.arkansasonline.com/news/2018/may/18/traffic... 58 days\n",
       "www.arkansasonline.com/news/2018/jun/20/woman-b... 58 days\n",
       "www.arkansasonline.com/news/2018/jul/06/outcome... 58 days"
      ]
     },
     "execution_count": 194,
     "metadata": {},
     "output_type": "execute_result"
    }
   ],
   "source": [
    "article_lag = pd.DataFrame(train_utility.groupby('contentID')['visitDateTime']\n",
    "                           .agg(np.ptp)).sort_values('visitDateTime', ascending = False)\n",
    "article_lag = article_lag.rename(columns={'visitDateTime':'lag'})\n",
    "article_lag.head()"
   ]
  },
  {
   "cell_type": "code",
   "execution_count": 195,
   "metadata": {},
   "outputs": [
    {
     "data": {
      "text/html": [
       "<div>\n",
       "<style scoped>\n",
       "    .dataframe tbody tr th:only-of-type {\n",
       "        vertical-align: middle;\n",
       "    }\n",
       "\n",
       "    .dataframe tbody tr th {\n",
       "        vertical-align: top;\n",
       "    }\n",
       "\n",
       "    .dataframe thead th {\n",
       "        text-align: right;\n",
       "    }\n",
       "</style>\n",
       "<table border=\"1\" class=\"dataframe\">\n",
       "  <thead>\n",
       "    <tr style=\"text-align: right;\">\n",
       "      <th></th>\n",
       "      <th>min</th>\n",
       "      <th>max</th>\n",
       "      <th>count</th>\n",
       "    </tr>\n",
       "    <tr>\n",
       "      <th>contentID</th>\n",
       "      <th></th>\n",
       "      <th></th>\n",
       "      <th></th>\n",
       "    </tr>\n",
       "  </thead>\n",
       "  <tbody>\n",
       "    <tr>\n",
       "      <th>www.arkansasonline.com/news/2000/may/10/gun-maker-grandfather-dropped-school-shooting-suit/</th>\n",
       "      <td>2018-07-18</td>\n",
       "      <td>2018-07-18</td>\n",
       "      <td>2</td>\n",
       "    </tr>\n",
       "    <tr>\n",
       "      <th>www.arkansasonline.com/news/2007/aug/10/restaurants-thrill-grill-fades-butcher-sh-20070810/</th>\n",
       "      <td>2018-07-25</td>\n",
       "      <td>2018-07-25</td>\n",
       "      <td>1</td>\n",
       "    </tr>\n",
       "    <tr>\n",
       "      <th>www.arkansasonline.com/news/2007/dec/15/personal-space-20071215/</th>\n",
       "      <td>2018-08-09</td>\n",
       "      <td>2018-08-09</td>\n",
       "      <td>1</td>\n",
       "    </tr>\n",
       "    <tr>\n",
       "      <th>www.arkansasonline.com/news/2007/feb/17/our-town-north-little-rock-notebook-20070217/</th>\n",
       "      <td>2018-08-09</td>\n",
       "      <td>2018-08-09</td>\n",
       "      <td>1</td>\n",
       "    </tr>\n",
       "    <tr>\n",
       "      <th>www.arkansasonline.com/news/2007/jul/29/summary-2007-general-session-arkansas-legislature/</th>\n",
       "      <td>2018-07-23</td>\n",
       "      <td>2018-07-23</td>\n",
       "      <td>1</td>\n",
       "    </tr>\n",
       "  </tbody>\n",
       "</table>\n",
       "</div>"
      ],
      "text/plain": [
       "                                                           min         max  \\\n",
       "contentID                                                                    \n",
       "www.arkansasonline.com/news/2000/may/10/gun-mak...  2018-07-18  2018-07-18   \n",
       "www.arkansasonline.com/news/2007/aug/10/restaur...  2018-07-25  2018-07-25   \n",
       "www.arkansasonline.com/news/2007/dec/15/persona...  2018-08-09  2018-08-09   \n",
       "www.arkansasonline.com/news/2007/feb/17/our-tow...  2018-08-09  2018-08-09   \n",
       "www.arkansasonline.com/news/2007/jul/29/summary...  2018-07-23  2018-07-23   \n",
       "\n",
       "                                                    count  \n",
       "contentID                                                  \n",
       "www.arkansasonline.com/news/2000/may/10/gun-mak...      2  \n",
       "www.arkansasonline.com/news/2007/aug/10/restaur...      1  \n",
       "www.arkansasonline.com/news/2007/dec/15/persona...      1  \n",
       "www.arkansasonline.com/news/2007/feb/17/our-tow...      1  \n",
       "www.arkansasonline.com/news/2007/jul/29/summary...      1  "
      ]
     },
     "execution_count": 195,
     "metadata": {},
     "output_type": "execute_result"
    }
   ],
   "source": [
    "article_s_e = train_utility.groupby('contentID').agg({'visitDateTime': ['min', 'max', 'count']}) \n",
    "article_s_e.columns = ['min','max','count']\n",
    "article_s_e.head()"
   ]
  },
  {
   "cell_type": "code",
   "execution_count": 196,
   "metadata": {},
   "outputs": [
    {
     "data": {
      "text/html": [
       "<div>\n",
       "<style scoped>\n",
       "    .dataframe tbody tr th:only-of-type {\n",
       "        vertical-align: middle;\n",
       "    }\n",
       "\n",
       "    .dataframe tbody tr th {\n",
       "        vertical-align: top;\n",
       "    }\n",
       "\n",
       "    .dataframe thead th {\n",
       "        text-align: right;\n",
       "    }\n",
       "</style>\n",
       "<table border=\"1\" class=\"dataframe\">\n",
       "  <thead>\n",
       "    <tr style=\"text-align: right;\">\n",
       "      <th></th>\n",
       "      <th>min</th>\n",
       "      <th>max</th>\n",
       "      <th>count</th>\n",
       "    </tr>\n",
       "    <tr>\n",
       "      <th>contentID</th>\n",
       "      <th></th>\n",
       "      <th></th>\n",
       "      <th></th>\n",
       "    </tr>\n",
       "  </thead>\n",
       "  <tbody>\n",
       "    <tr>\n",
       "      <th>www.arkansasonline.com/news/2018/aug/29/food-networks-diners-drive-ins-and-dives-stops-lit/</th>\n",
       "      <td>2018-08-29</td>\n",
       "      <td>2018-09-03</td>\n",
       "      <td>910</td>\n",
       "    </tr>\n",
       "    <tr>\n",
       "      <th>www.arkansasonline.com/news/2018/aug/31/former-arkansas-senator-jeremy-hutchinson-indicted/</th>\n",
       "      <td>2018-08-31</td>\n",
       "      <td>2018-09-03</td>\n",
       "      <td>734</td>\n",
       "    </tr>\n",
       "    <tr>\n",
       "      <th>www.arkansasonline.com/news/2018/aug/22/arkansas-democrat-gazette-delivery-man-shot-robbed/</th>\n",
       "      <td>2018-08-22</td>\n",
       "      <td>2018-08-28</td>\n",
       "      <td>656</td>\n",
       "    </tr>\n",
       "    <tr>\n",
       "      <th>www.arkansasonline.com/news/2018/jul/19/sheriff-8-people-dead-after-missouri-tourist-boat-/</th>\n",
       "      <td>2018-07-20</td>\n",
       "      <td>2018-08-01</td>\n",
       "      <td>594</td>\n",
       "    </tr>\n",
       "    <tr>\n",
       "      <th>www.arkansasonline.com/news/2018/aug/16/little-rock-police-helicopter-crashes-injuries-rep/</th>\n",
       "      <td>2018-08-16</td>\n",
       "      <td>2018-08-21</td>\n",
       "      <td>583</td>\n",
       "    </tr>\n",
       "    <tr>\n",
       "      <th>...</th>\n",
       "      <td>...</td>\n",
       "      <td>...</td>\n",
       "      <td>...</td>\n",
       "    </tr>\n",
       "    <tr>\n",
       "      <th>www.arkansasonline.com/news/2018/aug/12/look-for-1-of-big-3-to-win-in-michigan-/</th>\n",
       "      <td>2018-08-12</td>\n",
       "      <td>2018-08-12</td>\n",
       "      <td>1</td>\n",
       "    </tr>\n",
       "    <tr>\n",
       "      <th>www.arkansasonline.com/news/2018/aug/12/major-league-baseball-notes-20180812/</th>\n",
       "      <td>2018-08-12</td>\n",
       "      <td>2018-08-12</td>\n",
       "      <td>1</td>\n",
       "    </tr>\n",
       "    <tr>\n",
       "      <th>www.arkansasonline.com/news/2018/aug/12/mercy-earns-recognition-for-diabetes-pr/</th>\n",
       "      <td>2018-08-13</td>\n",
       "      <td>2018-08-13</td>\n",
       "      <td>1</td>\n",
       "    </tr>\n",
       "    <tr>\n",
       "      <th>www.arkansasonline.com/news/2018/aug/12/new-lester-elementary-school-open-monday-jacksonvi/</th>\n",
       "      <td>2018-08-15</td>\n",
       "      <td>2018-08-15</td>\n",
       "      <td>1</td>\n",
       "    </tr>\n",
       "    <tr>\n",
       "      <th>www.arkansasonline.com/news/2018/apr/22/divorces-20180422/</th>\n",
       "      <td>2018-08-17</td>\n",
       "      <td>2018-08-17</td>\n",
       "      <td>1</td>\n",
       "    </tr>\n",
       "  </tbody>\n",
       "</table>\n",
       "<p>8529 rows × 3 columns</p>\n",
       "</div>"
      ],
      "text/plain": [
       "                                                           min         max  \\\n",
       "contentID                                                                    \n",
       "www.arkansasonline.com/news/2018/aug/29/food-ne...  2018-08-29  2018-09-03   \n",
       "www.arkansasonline.com/news/2018/aug/31/former-...  2018-08-31  2018-09-03   \n",
       "www.arkansasonline.com/news/2018/aug/22/arkansa...  2018-08-22  2018-08-28   \n",
       "www.arkansasonline.com/news/2018/jul/19/sheriff...  2018-07-20  2018-08-01   \n",
       "www.arkansasonline.com/news/2018/aug/16/little-...  2018-08-16  2018-08-21   \n",
       "...                                                        ...         ...   \n",
       "www.arkansasonline.com/news/2018/aug/12/look-fo...  2018-08-12  2018-08-12   \n",
       "www.arkansasonline.com/news/2018/aug/12/major-l...  2018-08-12  2018-08-12   \n",
       "www.arkansasonline.com/news/2018/aug/12/mercy-e...  2018-08-13  2018-08-13   \n",
       "www.arkansasonline.com/news/2018/aug/12/new-les...  2018-08-15  2018-08-15   \n",
       "www.arkansasonline.com/news/2018/apr/22/divorce...  2018-08-17  2018-08-17   \n",
       "\n",
       "                                                    count  \n",
       "contentID                                                  \n",
       "www.arkansasonline.com/news/2018/aug/29/food-ne...    910  \n",
       "www.arkansasonline.com/news/2018/aug/31/former-...    734  \n",
       "www.arkansasonline.com/news/2018/aug/22/arkansa...    656  \n",
       "www.arkansasonline.com/news/2018/jul/19/sheriff...    594  \n",
       "www.arkansasonline.com/news/2018/aug/16/little-...    583  \n",
       "...                                                   ...  \n",
       "www.arkansasonline.com/news/2018/aug/12/look-fo...      1  \n",
       "www.arkansasonline.com/news/2018/aug/12/major-l...      1  \n",
       "www.arkansasonline.com/news/2018/aug/12/mercy-e...      1  \n",
       "www.arkansasonline.com/news/2018/aug/12/new-les...      1  \n",
       "www.arkansasonline.com/news/2018/apr/22/divorce...      1  \n",
       "\n",
       "[8529 rows x 3 columns]"
      ]
     },
     "execution_count": 196,
     "metadata": {},
     "output_type": "execute_result"
    }
   ],
   "source": [
    "article_s_e.sort_values('count', ascending = False)"
   ]
  },
  {
   "cell_type": "code",
   "execution_count": 197,
   "metadata": {},
   "outputs": [
    {
     "data": {
      "text/html": [
       "<div>\n",
       "<style scoped>\n",
       "    .dataframe tbody tr th:only-of-type {\n",
       "        vertical-align: middle;\n",
       "    }\n",
       "\n",
       "    .dataframe tbody tr th {\n",
       "        vertical-align: top;\n",
       "    }\n",
       "\n",
       "    .dataframe thead th {\n",
       "        text-align: right;\n",
       "    }\n",
       "</style>\n",
       "<table border=\"1\" class=\"dataframe\">\n",
       "  <thead>\n",
       "    <tr style=\"text-align: right;\">\n",
       "      <th></th>\n",
       "      <th>lag</th>\n",
       "      <th>min</th>\n",
       "      <th>max</th>\n",
       "      <th>count</th>\n",
       "    </tr>\n",
       "    <tr>\n",
       "      <th>contentID</th>\n",
       "      <th></th>\n",
       "      <th></th>\n",
       "      <th></th>\n",
       "      <th></th>\n",
       "    </tr>\n",
       "  </thead>\n",
       "  <tbody>\n",
       "    <tr>\n",
       "      <th>www.arkansasonline.com/news/2018/jul/01/dad-marches-in-lr-because-son-hides-und/</th>\n",
       "      <td>60</td>\n",
       "      <td>2018-07-01</td>\n",
       "      <td>2018-08-30</td>\n",
       "      <td>62</td>\n",
       "    </tr>\n",
       "    <tr>\n",
       "      <th>www.arkansasonline.com/news/2018/jul/01/real-estate-transactions-20180701/</th>\n",
       "      <td>59</td>\n",
       "      <td>2018-07-01</td>\n",
       "      <td>2018-08-29</td>\n",
       "      <td>16</td>\n",
       "    </tr>\n",
       "    <tr>\n",
       "      <th>www.arkansasonline.com/news/2018/may/18/traffic-alert-3-vehicle-crash-fire-shuts-part-i-30/</th>\n",
       "      <td>58</td>\n",
       "      <td>2018-07-02</td>\n",
       "      <td>2018-08-29</td>\n",
       "      <td>7</td>\n",
       "    </tr>\n",
       "    <tr>\n",
       "      <th>www.arkansasonline.com/news/2018/jun/20/woman-brandishes-screwdriver-robbery-north-little-/</th>\n",
       "      <td>58</td>\n",
       "      <td>2018-07-02</td>\n",
       "      <td>2018-08-29</td>\n",
       "      <td>5</td>\n",
       "    </tr>\n",
       "    <tr>\n",
       "      <th>www.arkansasonline.com/news/2018/jul/06/outcomes-of-aspire-tests-seen-as-mixed-/</th>\n",
       "      <td>58</td>\n",
       "      <td>2018-07-06</td>\n",
       "      <td>2018-09-02</td>\n",
       "      <td>99</td>\n",
       "    </tr>\n",
       "  </tbody>\n",
       "</table>\n",
       "</div>"
      ],
      "text/plain": [
       "                                                    lag         min  \\\n",
       "contentID                                                             \n",
       "www.arkansasonline.com/news/2018/jul/01/dad-mar...   60  2018-07-01   \n",
       "www.arkansasonline.com/news/2018/jul/01/real-es...   59  2018-07-01   \n",
       "www.arkansasonline.com/news/2018/may/18/traffic...   58  2018-07-02   \n",
       "www.arkansasonline.com/news/2018/jun/20/woman-b...   58  2018-07-02   \n",
       "www.arkansasonline.com/news/2018/jul/06/outcome...   58  2018-07-06   \n",
       "\n",
       "                                                           max  count  \n",
       "contentID                                                              \n",
       "www.arkansasonline.com/news/2018/jul/01/dad-mar...  2018-08-30     62  \n",
       "www.arkansasonline.com/news/2018/jul/01/real-es...  2018-08-29     16  \n",
       "www.arkansasonline.com/news/2018/may/18/traffic...  2018-08-29      7  \n",
       "www.arkansasonline.com/news/2018/jun/20/woman-b...  2018-08-29      5  \n",
       "www.arkansasonline.com/news/2018/jul/06/outcome...  2018-09-02     99  "
      ]
     },
     "execution_count": 197,
     "metadata": {},
     "output_type": "execute_result"
    }
   ],
   "source": [
    "articles_s_e_l = pd.merge(article_lag, article_s_e, on = ('contentID'), how = 'inner')\n",
    "articles_s_e_l.columns = ['lag','min','max','count']\n",
    "articles_s_e_l['lag'] = pd.to_numeric(articles_s_e_l['lag'].dt.days, downcast='integer')\n",
    "articles_s_e_l.head()"
   ]
  },
  {
   "cell_type": "markdown",
   "metadata": {},
   "source": [
    "\n",
    "#### a. Time lag distribution for the articles whose records are before the end day of the training period (2018-09-03)"
   ]
  },
  {
   "cell_type": "markdown",
   "metadata": {},
   "source": [
    "First, have a look at the articles whose last records are before the end day (2018-09-03) of training set "
   ]
  },
  {
   "cell_type": "code",
   "execution_count": 179,
   "metadata": {},
   "outputs": [
    {
     "data": {
      "text/html": [
       "<div>\n",
       "<style scoped>\n",
       "    .dataframe tbody tr th:only-of-type {\n",
       "        vertical-align: middle;\n",
       "    }\n",
       "\n",
       "    .dataframe tbody tr th {\n",
       "        vertical-align: top;\n",
       "    }\n",
       "\n",
       "    .dataframe thead th {\n",
       "        text-align: right;\n",
       "    }\n",
       "</style>\n",
       "<table border=\"1\" class=\"dataframe\">\n",
       "  <thead>\n",
       "    <tr style=\"text-align: right;\">\n",
       "      <th></th>\n",
       "      <th>lag</th>\n",
       "      <th>min</th>\n",
       "      <th>max</th>\n",
       "      <th>count</th>\n",
       "    </tr>\n",
       "    <tr>\n",
       "      <th>contentID</th>\n",
       "      <th></th>\n",
       "      <th></th>\n",
       "      <th></th>\n",
       "      <th></th>\n",
       "    </tr>\n",
       "  </thead>\n",
       "  <tbody>\n",
       "    <tr>\n",
       "      <th>www.arkansasonline.com/news/2018/jul/01/dad-marches-in-lr-because-son-hides-und/</th>\n",
       "      <td>60</td>\n",
       "      <td>2018-07-01</td>\n",
       "      <td>2018-08-30</td>\n",
       "      <td>62</td>\n",
       "    </tr>\n",
       "    <tr>\n",
       "      <th>www.arkansasonline.com/news/2018/jul/01/real-estate-transactions-20180701/</th>\n",
       "      <td>59</td>\n",
       "      <td>2018-07-01</td>\n",
       "      <td>2018-08-29</td>\n",
       "      <td>16</td>\n",
       "    </tr>\n",
       "    <tr>\n",
       "      <th>www.arkansasonline.com/news/2018/may/18/traffic-alert-3-vehicle-crash-fire-shuts-part-i-30/</th>\n",
       "      <td>58</td>\n",
       "      <td>2018-07-02</td>\n",
       "      <td>2018-08-29</td>\n",
       "      <td>7</td>\n",
       "    </tr>\n",
       "    <tr>\n",
       "      <th>www.arkansasonline.com/news/2018/jun/20/woman-brandishes-screwdriver-robbery-north-little-/</th>\n",
       "      <td>58</td>\n",
       "      <td>2018-07-02</td>\n",
       "      <td>2018-08-29</td>\n",
       "      <td>5</td>\n",
       "    </tr>\n",
       "    <tr>\n",
       "      <th>www.arkansasonline.com/news/2018/jul/06/outcomes-of-aspire-tests-seen-as-mixed-/</th>\n",
       "      <td>58</td>\n",
       "      <td>2018-07-06</td>\n",
       "      <td>2018-09-02</td>\n",
       "      <td>99</td>\n",
       "    </tr>\n",
       "    <tr>\n",
       "      <th>...</th>\n",
       "      <td>...</td>\n",
       "      <td>...</td>\n",
       "      <td>...</td>\n",
       "      <td>...</td>\n",
       "    </tr>\n",
       "    <tr>\n",
       "      <th>www.arkansasonline.com/news/2018/aug/26/splitting-dinner-bills-tricky-separate-/</th>\n",
       "      <td>0</td>\n",
       "      <td>2018-08-26</td>\n",
       "      <td>2018-08-26</td>\n",
       "      <td>4</td>\n",
       "    </tr>\n",
       "    <tr>\n",
       "      <th>www.arkansasonline.com/news/2018/aug/26/s-korea-urges-u-s-north-to-keep-talking/</th>\n",
       "      <td>0</td>\n",
       "      <td>2018-08-26</td>\n",
       "      <td>2018-08-26</td>\n",
       "      <td>6</td>\n",
       "    </tr>\n",
       "    <tr>\n",
       "      <th>www.arkansasonline.com/news/2018/aug/26/road-to-becoming-physician-starts-with-/</th>\n",
       "      <td>0</td>\n",
       "      <td>2018-08-26</td>\n",
       "      <td>2018-08-26</td>\n",
       "      <td>15</td>\n",
       "    </tr>\n",
       "    <tr>\n",
       "      <th>www.arkansasonline.com/news/2018/aug/26/records-20180826/</th>\n",
       "      <td>0</td>\n",
       "      <td>2018-08-26</td>\n",
       "      <td>2018-08-26</td>\n",
       "      <td>1</td>\n",
       "    </tr>\n",
       "    <tr>\n",
       "      <th>www.arkansasonline.com/news/2018/aug/26/razorbacks-place-3-scholarship/</th>\n",
       "      <td>0</td>\n",
       "      <td>2018-08-27</td>\n",
       "      <td>2018-08-27</td>\n",
       "      <td>25</td>\n",
       "    </tr>\n",
       "  </tbody>\n",
       "</table>\n",
       "<p>8338 rows × 4 columns</p>\n",
       "</div>"
      ],
      "text/plain": [
       "                                                    lag         min  \\\n",
       "contentID                                                             \n",
       "www.arkansasonline.com/news/2018/jul/01/dad-mar...   60  2018-07-01   \n",
       "www.arkansasonline.com/news/2018/jul/01/real-es...   59  2018-07-01   \n",
       "www.arkansasonline.com/news/2018/may/18/traffic...   58  2018-07-02   \n",
       "www.arkansasonline.com/news/2018/jun/20/woman-b...   58  2018-07-02   \n",
       "www.arkansasonline.com/news/2018/jul/06/outcome...   58  2018-07-06   \n",
       "...                                                 ...         ...   \n",
       "www.arkansasonline.com/news/2018/aug/26/splitti...    0  2018-08-26   \n",
       "www.arkansasonline.com/news/2018/aug/26/s-korea...    0  2018-08-26   \n",
       "www.arkansasonline.com/news/2018/aug/26/road-to...    0  2018-08-26   \n",
       "www.arkansasonline.com/news/2018/aug/26/records...    0  2018-08-26   \n",
       "www.arkansasonline.com/news/2018/aug/26/razorba...    0  2018-08-27   \n",
       "\n",
       "                                                           max  count  \n",
       "contentID                                                              \n",
       "www.arkansasonline.com/news/2018/jul/01/dad-mar...  2018-08-30     62  \n",
       "www.arkansasonline.com/news/2018/jul/01/real-es...  2018-08-29     16  \n",
       "www.arkansasonline.com/news/2018/may/18/traffic...  2018-08-29      7  \n",
       "www.arkansasonline.com/news/2018/jun/20/woman-b...  2018-08-29      5  \n",
       "www.arkansasonline.com/news/2018/jul/06/outcome...  2018-09-02     99  \n",
       "...                                                        ...    ...  \n",
       "www.arkansasonline.com/news/2018/aug/26/splitti...  2018-08-26      4  \n",
       "www.arkansasonline.com/news/2018/aug/26/s-korea...  2018-08-26      6  \n",
       "www.arkansasonline.com/news/2018/aug/26/road-to...  2018-08-26     15  \n",
       "www.arkansasonline.com/news/2018/aug/26/records...  2018-08-26      1  \n",
       "www.arkansasonline.com/news/2018/aug/26/razorba...  2018-08-27     25  \n",
       "\n",
       "[8338 rows x 4 columns]"
      ]
     },
     "execution_count": 179,
     "metadata": {},
     "output_type": "execute_result"
    }
   ],
   "source": [
    "training_before_last_day = articles_s_e_l.loc[articles_s_e_l['max'] < pd.to_datetime('2018-09-03')]\n",
    "training_before_last_day"
   ]
  },
  {
   "cell_type": "code",
   "execution_count": 180,
   "metadata": {},
   "outputs": [
    {
     "data": {
      "text/plain": [
       "count    8338.000000\n",
       "mean        2.948909\n",
       "std         6.950313\n",
       "min         0.000000\n",
       "25%         0.000000\n",
       "50%         0.000000\n",
       "75%         2.000000\n",
       "max        60.000000\n",
       "Name: lag, dtype: float64"
      ]
     },
     "execution_count": 180,
     "metadata": {},
     "output_type": "execute_result"
    }
   ],
   "source": [
    "training_before_last_day['lag'].describe()"
   ]
  },
  {
   "cell_type": "code",
   "execution_count": 165,
   "metadata": {},
   "outputs": [
    {
     "data": {
      "text/plain": [
       "Text(0.5, 1.0, 'The lag distribution for articles whose last records are before 2018-09-03')"
      ]
     },
     "execution_count": 165,
     "metadata": {},
     "output_type": "execute_result"
    },
    {
     "data": {
      "image/png": "[encoded data removed]",
      "text/plain": [
       "<Figure size 432x288 with 1 Axes>"
      ]
     },
     "metadata": {
      "needs_background": "light"
     },
     "output_type": "display_data"
    }
   ],
   "source": [
    "plt.hist(training_before_last_day['lag'], bins = 60)\n",
    "plt.xlabel('Lag')\n",
    "plt.ylabel('Counts of articles')\n",
    "plt.title(\"The lag distribution for articles whose last records are before 2018-09-03\")"
   ]
  },
  {
   "cell_type": "markdown",
   "metadata": {},
   "source": [
    "It is obvious that the effects of most articles last for 0-2 days, which means that users are likely to view new-released articles instead of articles that have published for a long time."
   ]
  },
  {
   "cell_type": "markdown",
   "metadata": {},
   "source": [
    "#### b. Time lag distribution for the articles whose records are the end day of the training period\n",
    "Then, have a look at the articles whose last records are the end day (2018-09-03) of training set to see if there is any difference. "
   ]
  },
  {
   "cell_type": "code",
   "execution_count": 198,
   "metadata": {},
   "outputs": [
    {
     "data": {
      "text/html": [
       "<div>\n",
       "<style scoped>\n",
       "    .dataframe tbody tr th:only-of-type {\n",
       "        vertical-align: middle;\n",
       "    }\n",
       "\n",
       "    .dataframe tbody tr th {\n",
       "        vertical-align: top;\n",
       "    }\n",
       "\n",
       "    .dataframe thead th {\n",
       "        text-align: right;\n",
       "    }\n",
       "</style>\n",
       "<table border=\"1\" class=\"dataframe\">\n",
       "  <thead>\n",
       "    <tr style=\"text-align: right;\">\n",
       "      <th></th>\n",
       "      <th>lag</th>\n",
       "      <th>min</th>\n",
       "      <th>max</th>\n",
       "      <th>count</th>\n",
       "    </tr>\n",
       "    <tr>\n",
       "      <th>contentID</th>\n",
       "      <th></th>\n",
       "      <th></th>\n",
       "      <th></th>\n",
       "      <th></th>\n",
       "    </tr>\n",
       "  </thead>\n",
       "  <tbody>\n",
       "    <tr>\n",
       "      <th>www.arkansasonline.com/news/2018/jul/24/indiana-man-stabbed-north-little-rock-homeless-cam/</th>\n",
       "      <td>41</td>\n",
       "      <td>2018-07-24</td>\n",
       "      <td>2018-09-03</td>\n",
       "      <td>96</td>\n",
       "    </tr>\n",
       "    <tr>\n",
       "      <th>www.arkansasonline.com/news/2018/jul/29/cannabis-question-is-college-a-school-2-1/</th>\n",
       "      <td>36</td>\n",
       "      <td>2018-07-29</td>\n",
       "      <td>2018-09-03</td>\n",
       "      <td>131</td>\n",
       "    </tr>\n",
       "    <tr>\n",
       "      <th>www.arkansasonline.com/news/2018/aug/05/1-dead-3-injured-after-boat-capsizes-river-arkansa/</th>\n",
       "      <td>29</td>\n",
       "      <td>2018-08-05</td>\n",
       "      <td>2018-09-03</td>\n",
       "      <td>215</td>\n",
       "    </tr>\n",
       "    <tr>\n",
       "      <th>www.arkansasonline.com/news/2018/aug/06/state-s-medicaid-spending-falls-off-201/</th>\n",
       "      <td>28</td>\n",
       "      <td>2018-08-06</td>\n",
       "      <td>2018-09-03</td>\n",
       "      <td>192</td>\n",
       "    </tr>\n",
       "    <tr>\n",
       "      <th>www.arkansasonline.com/news/2018/aug/15/arkansas-man-accused-imprisoning-beating-woman-sen/</th>\n",
       "      <td>19</td>\n",
       "      <td>2018-08-15</td>\n",
       "      <td>2018-09-03</td>\n",
       "      <td>71</td>\n",
       "    </tr>\n",
       "  </tbody>\n",
       "</table>\n",
       "</div>"
      ],
      "text/plain": [
       "                                                    lag         min  \\\n",
       "contentID                                                             \n",
       "www.arkansasonline.com/news/2018/jul/24/indiana...   41  2018-07-24   \n",
       "www.arkansasonline.com/news/2018/jul/29/cannabi...   36  2018-07-29   \n",
       "www.arkansasonline.com/news/2018/aug/05/1-dead-...   29  2018-08-05   \n",
       "www.arkansasonline.com/news/2018/aug/06/state-s...   28  2018-08-06   \n",
       "www.arkansasonline.com/news/2018/aug/15/arkansa...   19  2018-08-15   \n",
       "\n",
       "                                                           max  count  \n",
       "contentID                                                              \n",
       "www.arkansasonline.com/news/2018/jul/24/indiana...  2018-09-03     96  \n",
       "www.arkansasonline.com/news/2018/jul/29/cannabi...  2018-09-03    131  \n",
       "www.arkansasonline.com/news/2018/aug/05/1-dead-...  2018-09-03    215  \n",
       "www.arkansasonline.com/news/2018/aug/06/state-s...  2018-09-03    192  \n",
       "www.arkansasonline.com/news/2018/aug/15/arkansa...  2018-09-03     71  "
      ]
     },
     "execution_count": 198,
     "metadata": {},
     "output_type": "execute_result"
    }
   ],
   "source": [
    "training_last_day = articles_s_e_l.loc[articles_s_e_l['max'] == pd.to_datetime('2018-09-03')]\n",
    "training_last_day.head()"
   ]
  },
  {
   "cell_type": "code",
   "execution_count": 167,
   "metadata": {},
   "outputs": [
    {
     "data": {
      "text/plain": [
       "count    191.000000\n",
       "mean       2.701571\n",
       "std        5.704103\n",
       "min        0.000000\n",
       "25%        0.000000\n",
       "50%        1.000000\n",
       "75%        3.000000\n",
       "max       41.000000\n",
       "Name: lag, dtype: float64"
      ]
     },
     "execution_count": 167,
     "metadata": {},
     "output_type": "execute_result"
    }
   ],
   "source": [
    "training_last_day['lag'].describe()"
   ]
  },
  {
   "cell_type": "code",
   "execution_count": 169,
   "metadata": {},
   "outputs": [
    {
     "data": {
      "text/plain": [
       "Text(0.5, 1.0, 'The lag distribution for articles whose last records are on 2018-09-03')"
      ]
     },
     "execution_count": 169,
     "metadata": {},
     "output_type": "execute_result"
    },
    {
     "data": {
      "image/png": "[encoded data removed]",
      "text/plain": [
       "<Figure size 432x288 with 1 Axes>"
      ]
     },
     "metadata": {
      "needs_background": "light"
     },
     "output_type": "display_data"
    }
   ],
   "source": [
    "plt.hist(training_last_day['lag'], bins = 60)\n",
    "plt.xlabel('Lag')\n",
    "plt.ylabel('Counts of articles')\n",
    "plt.title(\"The lag distribution for articles whose last records are on 2018-09-03\")"
   ]
  },
  {
   "cell_type": "markdown",
   "metadata": {},
   "source": [
    "As can seen, it still follows the same distribution. </br> As a result, it is safe to say that most articles only have short effects which last for 0-3 days."
   ]
  },
  {
   "cell_type": "markdown",
   "metadata": {},
   "source": [
    "#### c. Time lags for popular articles"
   ]
  },
  {
   "cell_type": "markdown",
   "metadata": {},
   "source": [
    "Then, let's see if there is any difference in lag distribution for popular articles and common articles."
   ]
  },
  {
   "cell_type": "code",
   "execution_count": 199,
   "metadata": {},
   "outputs": [
    {
     "data": {
      "text/html": [
       "<div>\n",
       "<style scoped>\n",
       "    .dataframe tbody tr th:only-of-type {\n",
       "        vertical-align: middle;\n",
       "    }\n",
       "\n",
       "    .dataframe tbody tr th {\n",
       "        vertical-align: top;\n",
       "    }\n",
       "\n",
       "    .dataframe thead th {\n",
       "        text-align: right;\n",
       "    }\n",
       "</style>\n",
       "<table border=\"1\" class=\"dataframe\">\n",
       "  <thead>\n",
       "    <tr style=\"text-align: right;\">\n",
       "      <th></th>\n",
       "      <th>lag</th>\n",
       "      <th>min</th>\n",
       "      <th>max</th>\n",
       "      <th>count</th>\n",
       "    </tr>\n",
       "    <tr>\n",
       "      <th>contentID</th>\n",
       "      <th></th>\n",
       "      <th></th>\n",
       "      <th></th>\n",
       "      <th></th>\n",
       "    </tr>\n",
       "  </thead>\n",
       "  <tbody>\n",
       "    <tr>\n",
       "      <th>www.arkansasonline.com/news/2018/jul/01/dad-marches-in-lr-because-son-hides-und/</th>\n",
       "      <td>60</td>\n",
       "      <td>2018-07-01</td>\n",
       "      <td>2018-08-30</td>\n",
       "      <td>62</td>\n",
       "    </tr>\n",
       "    <tr>\n",
       "      <th>www.arkansasonline.com/news/2018/jul/01/real-estate-transactions-20180701/</th>\n",
       "      <td>59</td>\n",
       "      <td>2018-07-01</td>\n",
       "      <td>2018-08-29</td>\n",
       "      <td>16</td>\n",
       "    </tr>\n",
       "    <tr>\n",
       "      <th>www.arkansasonline.com/news/2018/may/18/traffic-alert-3-vehicle-crash-fire-shuts-part-i-30/</th>\n",
       "      <td>58</td>\n",
       "      <td>2018-07-02</td>\n",
       "      <td>2018-08-29</td>\n",
       "      <td>7</td>\n",
       "    </tr>\n",
       "    <tr>\n",
       "      <th>www.arkansasonline.com/news/2018/jun/20/woman-brandishes-screwdriver-robbery-north-little-/</th>\n",
       "      <td>58</td>\n",
       "      <td>2018-07-02</td>\n",
       "      <td>2018-08-29</td>\n",
       "      <td>5</td>\n",
       "    </tr>\n",
       "    <tr>\n",
       "      <th>www.arkansasonline.com/news/2018/jul/06/outcomes-of-aspire-tests-seen-as-mixed-/</th>\n",
       "      <td>58</td>\n",
       "      <td>2018-07-06</td>\n",
       "      <td>2018-09-02</td>\n",
       "      <td>99</td>\n",
       "    </tr>\n",
       "  </tbody>\n",
       "</table>\n",
       "</div>"
      ],
      "text/plain": [
       "                                                    lag         min  \\\n",
       "contentID                                                             \n",
       "www.arkansasonline.com/news/2018/jul/01/dad-mar...   60  2018-07-01   \n",
       "www.arkansasonline.com/news/2018/jul/01/real-es...   59  2018-07-01   \n",
       "www.arkansasonline.com/news/2018/may/18/traffic...   58  2018-07-02   \n",
       "www.arkansasonline.com/news/2018/jun/20/woman-b...   58  2018-07-02   \n",
       "www.arkansasonline.com/news/2018/jul/06/outcome...   58  2018-07-06   \n",
       "\n",
       "                                                           max  count  \n",
       "contentID                                                              \n",
       "www.arkansasonline.com/news/2018/jul/01/dad-mar...  2018-08-30     62  \n",
       "www.arkansasonline.com/news/2018/jul/01/real-es...  2018-08-29     16  \n",
       "www.arkansasonline.com/news/2018/may/18/traffic...  2018-08-29      7  \n",
       "www.arkansasonline.com/news/2018/jun/20/woman-b...  2018-08-29      5  \n",
       "www.arkansasonline.com/news/2018/jul/06/outcome...  2018-09-02     99  "
      ]
     },
     "execution_count": 199,
     "metadata": {},
     "output_type": "execute_result"
    }
   ],
   "source": [
    "articles_s_e_l.head()"
   ]
  },
  {
   "cell_type": "code",
   "execution_count": 204,
   "metadata": {},
   "outputs": [
    {
     "data": {
      "text/html": [
       "<div>\n",
       "<style scoped>\n",
       "    .dataframe tbody tr th:only-of-type {\n",
       "        vertical-align: middle;\n",
       "    }\n",
       "\n",
       "    .dataframe tbody tr th {\n",
       "        vertical-align: top;\n",
       "    }\n",
       "\n",
       "    .dataframe thead th {\n",
       "        text-align: right;\n",
       "    }\n",
       "</style>\n",
       "<table border=\"1\" class=\"dataframe\">\n",
       "  <thead>\n",
       "    <tr style=\"text-align: right;\">\n",
       "      <th></th>\n",
       "      <th>lag</th>\n",
       "      <th>min</th>\n",
       "      <th>max</th>\n",
       "      <th>count</th>\n",
       "    </tr>\n",
       "    <tr>\n",
       "      <th>contentID</th>\n",
       "      <th></th>\n",
       "      <th></th>\n",
       "      <th></th>\n",
       "      <th></th>\n",
       "    </tr>\n",
       "  </thead>\n",
       "  <tbody>\n",
       "    <tr>\n",
       "      <th>www.arkansasonline.com/news/2018/jul/01/dad-marches-in-lr-because-son-hides-und/</th>\n",
       "      <td>60</td>\n",
       "      <td>2018-07-01</td>\n",
       "      <td>2018-08-30</td>\n",
       "      <td>62</td>\n",
       "    </tr>\n",
       "    <tr>\n",
       "      <th>www.arkansasonline.com/news/2018/jul/06/outcomes-of-aspire-tests-seen-as-mixed-/</th>\n",
       "      <td>58</td>\n",
       "      <td>2018-07-06</td>\n",
       "      <td>2018-09-02</td>\n",
       "      <td>99</td>\n",
       "    </tr>\n",
       "    <tr>\n",
       "      <th>www.arkansasonline.com/news/2018/jul/05/photos-blaze-damaged-arkansas-home-was-started-fir/</th>\n",
       "      <td>55</td>\n",
       "      <td>2018-07-05</td>\n",
       "      <td>2018-08-29</td>\n",
       "      <td>63</td>\n",
       "    </tr>\n",
       "    <tr>\n",
       "      <th>www.arkansasonline.com/news/2018/jul/06/burges-opens-third-location-conway/</th>\n",
       "      <td>54</td>\n",
       "      <td>2018-07-06</td>\n",
       "      <td>2018-08-29</td>\n",
       "      <td>168</td>\n",
       "    </tr>\n",
       "    <tr>\n",
       "      <th>www.arkansasonline.com/news/2018/jul/07/hospital-ex-employee-subject-of-data-in/</th>\n",
       "      <td>53</td>\n",
       "      <td>2018-07-07</td>\n",
       "      <td>2018-08-29</td>\n",
       "      <td>109</td>\n",
       "    </tr>\n",
       "    <tr>\n",
       "      <th>...</th>\n",
       "      <td>...</td>\n",
       "      <td>...</td>\n",
       "      <td>...</td>\n",
       "      <td>...</td>\n",
       "    </tr>\n",
       "    <tr>\n",
       "      <th>www.arkansasonline.com/news/2018/aug/02/flight-to-concert-was-intent-of-plane-t/</th>\n",
       "      <td>0</td>\n",
       "      <td>2018-08-02</td>\n",
       "      <td>2018-08-02</td>\n",
       "      <td>73</td>\n",
       "    </tr>\n",
       "    <tr>\n",
       "      <th>www.arkansasonline.com/news/2018/aug/15/lawsuit-filed-on-work-rule-for-medicaid/</th>\n",
       "      <td>0</td>\n",
       "      <td>2018-08-15</td>\n",
       "      <td>2018-08-15</td>\n",
       "      <td>88</td>\n",
       "    </tr>\n",
       "    <tr>\n",
       "      <th>www.arkansasonline.com/news/2018/aug/08/eatery-worker-s-illness-prompts-new-hea-1/</th>\n",
       "      <td>0</td>\n",
       "      <td>2018-08-08</td>\n",
       "      <td>2018-08-08</td>\n",
       "      <td>62</td>\n",
       "    </tr>\n",
       "    <tr>\n",
       "      <th>www.arkansasonline.com/news/2018/aug/10/judge-over-35-year-old-case-tours-3-sch/</th>\n",
       "      <td>0</td>\n",
       "      <td>2018-08-10</td>\n",
       "      <td>2018-08-10</td>\n",
       "      <td>104</td>\n",
       "    </tr>\n",
       "    <tr>\n",
       "      <th>www.arkansasonline.com/news/2018/aug/16/agency-closes-pool-where-boy-drowned-20/</th>\n",
       "      <td>0</td>\n",
       "      <td>2018-08-16</td>\n",
       "      <td>2018-08-16</td>\n",
       "      <td>83</td>\n",
       "    </tr>\n",
       "  </tbody>\n",
       "</table>\n",
       "<p>899 rows × 4 columns</p>\n",
       "</div>"
      ],
      "text/plain": [
       "                                                    lag         min  \\\n",
       "contentID                                                             \n",
       "www.arkansasonline.com/news/2018/jul/01/dad-mar...   60  2018-07-01   \n",
       "www.arkansasonline.com/news/2018/jul/06/outcome...   58  2018-07-06   \n",
       "www.arkansasonline.com/news/2018/jul/05/photos-...   55  2018-07-05   \n",
       "www.arkansasonline.com/news/2018/jul/06/burges-...   54  2018-07-06   \n",
       "www.arkansasonline.com/news/2018/jul/07/hospita...   53  2018-07-07   \n",
       "...                                                 ...         ...   \n",
       "www.arkansasonline.com/news/2018/aug/02/flight-...    0  2018-08-02   \n",
       "www.arkansasonline.com/news/2018/aug/15/lawsuit...    0  2018-08-15   \n",
       "www.arkansasonline.com/news/2018/aug/08/eatery-...    0  2018-08-08   \n",
       "www.arkansasonline.com/news/2018/aug/10/judge-o...    0  2018-08-10   \n",
       "www.arkansasonline.com/news/2018/aug/16/agency-...    0  2018-08-16   \n",
       "\n",
       "                                                           max  count  \n",
       "contentID                                                              \n",
       "www.arkansasonline.com/news/2018/jul/01/dad-mar...  2018-08-30     62  \n",
       "www.arkansasonline.com/news/2018/jul/06/outcome...  2018-09-02     99  \n",
       "www.arkansasonline.com/news/2018/jul/05/photos-...  2018-08-29     63  \n",
       "www.arkansasonline.com/news/2018/jul/06/burges-...  2018-08-29    168  \n",
       "www.arkansasonline.com/news/2018/jul/07/hospita...  2018-08-29    109  \n",
       "...                                                        ...    ...  \n",
       "www.arkansasonline.com/news/2018/aug/02/flight-...  2018-08-02     73  \n",
       "www.arkansasonline.com/news/2018/aug/15/lawsuit...  2018-08-15     88  \n",
       "www.arkansasonline.com/news/2018/aug/08/eatery-...  2018-08-08     62  \n",
       "www.arkansasonline.com/news/2018/aug/10/judge-o...  2018-08-10    104  \n",
       "www.arkansasonline.com/news/2018/aug/16/agency-...  2018-08-16     83  \n",
       "\n",
       "[899 rows x 4 columns]"
      ]
     },
     "execution_count": 204,
     "metadata": {},
     "output_type": "execute_result"
    }
   ],
   "source": [
    "popular_articles = articles_s_e_l.loc[articles_s_e_l['count'] > 57]\n",
    "popular_articles"
   ]
  },
  {
   "cell_type": "markdown",
   "metadata": {},
   "source": [
    "There are 899 popular articles in the training set (page views > 57, which is the upperlimit)"
   ]
  },
  {
   "cell_type": "code",
   "execution_count": 213,
   "metadata": {},
   "outputs": [
    {
     "data": {
      "text/plain": [
       "count    899.000000\n",
       "mean       6.620690\n",
       "std        8.704993\n",
       "min        0.000000\n",
       "25%        1.000000\n",
       "50%        3.000000\n",
       "75%        7.500000\n",
       "max       60.000000\n",
       "Name: lag, dtype: float64"
      ]
     },
     "execution_count": 213,
     "metadata": {},
     "output_type": "execute_result"
    }
   ],
   "source": [
    "popular_des = popular_articles['lag'].describe()\n",
    "popular_des"
   ]
  },
  {
   "cell_type": "code",
   "execution_count": 206,
   "metadata": {},
   "outputs": [
    {
     "data": {
      "text/plain": [
       "Text(0.5, 1.0, 'The lag distribution for popular articles (counts > 57)')"
      ]
     },
     "execution_count": 206,
     "metadata": {},
     "output_type": "execute_result"
    },
    {
     "data": {
      "image/png": "[encoded data removed]",
      "text/plain": [
       "<Figure size 432x288 with 1 Axes>"
      ]
     },
     "metadata": {
      "needs_background": "light"
     },
     "output_type": "display_data"
    }
   ],
   "source": [
    "plt.hist(popular_articles['lag'], bins = 60)\n",
    "plt.xlabel('Lag')\n",
    "plt.ylabel('Counts of popular articles')\n",
    "plt.title(\"The lag distribution for popular articles (counts > 57)\")"
   ]
  },
  {
   "cell_type": "markdown",
   "metadata": {},
   "source": [
    "For popular articles, the average lag is longer, about 7 days."
   ]
  },
  {
   "cell_type": "markdown",
   "metadata": {},
   "source": [
    "#### d. Time lags for common articles"
   ]
  },
  {
   "cell_type": "code",
   "execution_count": 212,
   "metadata": {},
   "outputs": [
    {
     "data": {
      "text/plain": [
       "count    7630.000000\n",
       "mean        2.510092\n",
       "std         6.549875\n",
       "min         0.000000\n",
       "25%         0.000000\n",
       "50%         0.000000\n",
       "75%         1.000000\n",
       "max        59.000000\n",
       "Name: lag, dtype: float64"
      ]
     },
     "execution_count": 212,
     "metadata": {},
     "output_type": "execute_result"
    }
   ],
   "source": [
    "common_articles = articles_s_e_l.loc[articles_s_e_l['count'] <= 57]\n",
    "common_des = common_articles['lag'].describe()\n",
    "common_des"
   ]
  },
  {
   "cell_type": "code",
   "execution_count": 208,
   "metadata": {},
   "outputs": [
    {
     "data": {
      "text/plain": [
       "Text(0.5, 1.0, 'The lag distribution for common articles (counts <= 57)')"
      ]
     },
     "execution_count": 208,
     "metadata": {},
     "output_type": "execute_result"
    },
    {
     "data": {
      "image/png": "[encoded data removed]",
      "text/plain": [
       "<Figure size 432x288 with 1 Axes>"
      ]
     },
     "metadata": {
      "needs_background": "light"
     },
     "output_type": "display_data"
    }
   ],
   "source": [
    "plt.hist(common_articles['lag'], bins = 60)\n",
    "plt.xlabel('Lag')\n",
    "plt.ylabel('Counts of common articles')\n",
    "plt.title(\"The lag distribution for common articles (counts <= 57)\")"
   ]
  },
  {
   "cell_type": "markdown",
   "metadata": {},
   "source": [
    "Let's see if the lags for popular articles and for common articles follow the same distribution. \n"
   ]
  },
  {
   "cell_type": "code",
   "execution_count": 228,
   "metadata": {},
   "outputs": [
    {
     "name": "stdout",
     "output_type": "stream",
     "text": [
      "The t value is 13.71, which is much larger than the critical t value (1.96). It means that the article views for popular articles and common articles follow different distributions\n"
     ]
    }
   ],
   "source": [
    "common_des\n",
    "popular_des\n",
    "S_p_c = math.sqrt(popular_des['std']**2/popular_des['count']+common_des['std']**2/common_des['count'])\n",
    "t_popularity = abs(popular_des['mean']-common_des['mean'])/S_p_c\n",
    "t_popularity\n",
    "print(f\"The t value is {round(t_popularity,2)}, which is much larger than the critical t value (1.96). It means that the article views for popular articles and common articles follow different distributions\")"
   ]
  },
  {
   "cell_type": "markdown",
   "metadata": {},
   "source": [
    "Aa a result, it may be reasonable to recommend previous popular articles even after a week from the day the article is released, but for common articles, the effects normally last only 0-2.5 days."
   ]
  },
  {
   "cell_type": "markdown",
   "metadata": {},
   "source": [
    "### 3. Articles Content Analysis"
   ]
  },
  {
   "cell_type": "markdown",
   "metadata": {},
   "source": [
    "a. Articles headline analysis"
   ]
  },
  {
   "cell_type": "code",
   "execution_count": 269,
   "metadata": {},
   "outputs": [],
   "source": [
    "content_df"
   ]
  },
  {
   "cell_type": "code",
   "execution_count": 269,
   "metadata": {},
   "outputs": [
    {
     "data": {
      "text/plain": [
       "0              Arrested state legislator urged to quit post\n",
       "1              Arrested state legislator urged to quit post\n",
       "2              Arrested state legislator urged to quit post\n",
       "3              Arrested state legislator urged to quit post\n",
       "4         Suspect arrested in fatal shooting in Pulaski ...\n",
       "                                ...                        \n",
       "199931    Arkansas man killed after pickup overturns, hi...\n",
       "199932    IN THE NEWS: Tattoo artists officers free cove...\n",
       "199933              Trump attacks union leader on Labor Day\n",
       "199934    What Chad Morris, coordinators said reviewing ...\n",
       "199935    Missouri-based doughnut chain opening shop in ...\n",
       "Name: headline, Length: 199936, dtype: object"
      ]
     },
     "execution_count": 269,
     "metadata": {},
     "output_type": "execute_result"
    }
   ],
   "source": [
    "train_df['headline']."
   ]
  },
  {
   "cell_type": "code",
   "execution_count": 268,
   "metadata": {},
   "outputs": [
    {
     "data": {
      "text/plain": [
       "count    199936.000000\n",
       "mean         62.273683\n",
       "std          25.650943\n",
       "min           2.000000\n",
       "25%          42.000000\n",
       "50%          61.000000\n",
       "75%          80.000000\n",
       "max         178.000000\n",
       "Name: headline, dtype: float64"
      ]
     },
     "execution_count": 268,
     "metadata": {},
     "output_type": "execute_result"
    }
   ],
   "source": [
    "len_headline_train = train_df['headline'].str.len()\n",
    "len_headline_train.describe()"
   ]
  },
  {
   "cell_type": "code",
   "execution_count": 267,
   "metadata": {},
   "outputs": [
    {
     "data": {
      "text/plain": [
       "Text(0, 0.5, 'Counts of articles')"
      ]
     },
     "execution_count": 267,
     "metadata": {},
     "output_type": "execute_result"
    },
    {
     "data": {
      "image/png": "[encoded data removed]",
      "text/plain": [
       "<Figure size 432x288 with 1 Axes>"
      ]
     },
     "metadata": {
      "needs_background": "light"
     },
     "output_type": "display_data"
    }
   ],
   "source": [
    "plt.hist(len_headline_train) \n",
    "plt.title(\"Headline length distribution\")\n",
    "plt.xlabel(\"Length\")\n",
    "plt.ylabel(\"Counts of articles\")"
   ]
  },
  {
   "cell_type": "code",
   "execution_count": 78,
   "metadata": {},
   "outputs": [],
   "source": []
  },
  {
   "cell_type": "code",
   "execution_count": 78,
   "metadata": {},
   "outputs": [],
   "source": []
  },
  {
   "cell_type": "code",
   "execution_count": 78,
   "metadata": {},
   "outputs": [],
   "source": [
    "train_utility = train_utility.groupby(['visitorID','contentID']).count()\n",
    "train_utility = train_utility.reset_index()\n",
    "train_utility = train_utility.rename(columns={'visitID':'visitCount'})\n",
    "train_utility"
   ]
  },
  {
   "cell_type": "code",
   "execution_count": 76,
   "metadata": {},
   "outputs": [],
   "source": []
  },
  {
   "cell_type": "code",
   "execution_count": 76,
   "metadata": {},
   "outputs": [],
   "source": []
  },
  {
   "cell_type": "code",
   "execution_count": 76,
   "metadata": {},
   "outputs": [],
   "source": [
    "visitor_article_counts = train_utility[['visitorID','contentID','visitCount']].sort_values('visitCount', ascending = False)"
   ]
  },
  {
   "cell_type": "code",
   "execution_count": 75,
   "metadata": {},
   "outputs": [],
   "source": [
    "plt.bar('')"
   ]
  },
  {
   "cell_type": "code",
   "execution_count": 75,
   "metadata": {},
   "outputs": [
    {
     "name": "stdout",
     "output_type": "stream",
     "text": [
      "There are 338 overlapped articles in training set and validation set\n"
     ]
    }
   ],
   "source": []
  },
  {
   "cell_type": "markdown",
   "metadata": {},
   "source": [
    "It can be noticed that "
   ]
  },
  {
   "cell_type": "code",
   "execution_count": 28,
   "metadata": {},
   "outputs": [],
   "source": []
  },
  {
   "cell_type": "code",
   "execution_count": 28,
   "metadata": {},
   "outputs": [],
   "source": []
  },
  {
   "cell_type": "code",
   "execution_count": 28,
   "metadata": {},
   "outputs": [],
   "source": []
  },
  {
   "cell_type": "code",
   "execution_count": 28,
   "metadata": {},
   "outputs": [],
   "source": [
    "titles_df = content_df[['contentID','headline']]\n",
    "types_df = content_df[['contentID','categories']]"
   ]
  },
  {
   "cell_type": "code",
   "execution_count": 29,
   "metadata": {},
   "outputs": [
    {
     "data": {
      "text/html": [
       "<div>\n",
       "<style scoped>\n",
       "    .dataframe tbody tr th:only-of-type {\n",
       "        vertical-align: middle;\n",
       "    }\n",
       "\n",
       "    .dataframe tbody tr th {\n",
       "        vertical-align: top;\n",
       "    }\n",
       "\n",
       "    .dataframe thead th {\n",
       "        text-align: right;\n",
       "    }\n",
       "</style>\n",
       "<table border=\"1\" class=\"dataframe\">\n",
       "  <thead>\n",
       "    <tr style=\"text-align: right;\">\n",
       "      <th></th>\n",
       "      <th>contentID</th>\n",
       "      <th>headline</th>\n",
       "    </tr>\n",
       "  </thead>\n",
       "  <tbody>\n",
       "    <tr>\n",
       "      <th>0</th>\n",
       "      <td>www.arkansasonline.com/news/2018/aug/23/sherif...</td>\n",
       "      <td>14-year-old dies days after being accidentally...</td>\n",
       "    </tr>\n",
       "    <tr>\n",
       "      <th>1</th>\n",
       "      <td>www.arkansasonline.com/news/2018/aug/25/woods-...</td>\n",
       "      <td>Woods impresses despite stumbles</td>\n",
       "    </tr>\n",
       "    <tr>\n",
       "      <th>2</th>\n",
       "      <td>www.arkansasonline.com/news/2018/aug/25/newton...</td>\n",
       "      <td>Newton has injury scare; Panthers win</td>\n",
       "    </tr>\n",
       "    <tr>\n",
       "      <th>3</th>\n",
       "      <td>www.arkansasonline.com/news/2018/aug/24/arkans...</td>\n",
       "      <td>North Little Rock man accidentally shoots moth...</td>\n",
       "    </tr>\n",
       "    <tr>\n",
       "      <th>4</th>\n",
       "      <td>www.arkansasonline.com/news/2018/aug/25/wolver...</td>\n",
       "      <td>Wolverines depending on ex-Ole Miss QB Patterson</td>\n",
       "    </tr>\n",
       "    <tr>\n",
       "      <th>...</th>\n",
       "      <td>...</td>\n",
       "      <td>...</td>\n",
       "    </tr>\n",
       "    <tr>\n",
       "      <th>16542</th>\n",
       "      <td>www.arkansasonline.com/news/2018/jun/29/five-m...</td>\n",
       "      <td>Five more movie classics finally screened</td>\n",
       "    </tr>\n",
       "    <tr>\n",
       "      <th>16543</th>\n",
       "      <td>www.arkansasonline.com/news/2018/jul/29/kavana...</td>\n",
       "      <td>Kavanaugh rulings a hit for NRA</td>\n",
       "    </tr>\n",
       "    <tr>\n",
       "      <th>16544</th>\n",
       "      <td>www.arkansasonline.com/news/2018/sep/09/he-s-g...</td>\n",
       "      <td>He's gonna get in trouble with this</td>\n",
       "    </tr>\n",
       "    <tr>\n",
       "      <th>16545</th>\n",
       "      <td>www.arkansasonline.com/news/2017/oct/29/blind-...</td>\n",
       "      <td>RIGHT TIME RIGHT PLACE: RIGHT TIME RIGHT PLACE...</td>\n",
       "    </tr>\n",
       "    <tr>\n",
       "      <th>16546</th>\n",
       "      <td>www.arkansasonline.com/news/2018/sep/30/uca-st...</td>\n",
       "      <td>UCA storms back, falls in overtime</td>\n",
       "    </tr>\n",
       "  </tbody>\n",
       "</table>\n",
       "<p>12491 rows × 2 columns</p>\n",
       "</div>"
      ],
      "text/plain": [
       "                                               contentID  \\\n",
       "0      www.arkansasonline.com/news/2018/aug/23/sherif...   \n",
       "1      www.arkansasonline.com/news/2018/aug/25/woods-...   \n",
       "2      www.arkansasonline.com/news/2018/aug/25/newton...   \n",
       "3      www.arkansasonline.com/news/2018/aug/24/arkans...   \n",
       "4      www.arkansasonline.com/news/2018/aug/25/wolver...   \n",
       "...                                                  ...   \n",
       "16542  www.arkansasonline.com/news/2018/jun/29/five-m...   \n",
       "16543  www.arkansasonline.com/news/2018/jul/29/kavana...   \n",
       "16544  www.arkansasonline.com/news/2018/sep/09/he-s-g...   \n",
       "16545  www.arkansasonline.com/news/2017/oct/29/blind-...   \n",
       "16546  www.arkansasonline.com/news/2018/sep/30/uca-st...   \n",
       "\n",
       "                                                headline  \n",
       "0      14-year-old dies days after being accidentally...  \n",
       "1                       Woods impresses despite stumbles  \n",
       "2                  Newton has injury scare; Panthers win  \n",
       "3      North Little Rock man accidentally shoots moth...  \n",
       "4       Wolverines depending on ex-Ole Miss QB Patterson  \n",
       "...                                                  ...  \n",
       "16542          Five more movie classics finally screened  \n",
       "16543                    Kavanaugh rulings a hit for NRA  \n",
       "16544                He's gonna get in trouble with this  \n",
       "16545  RIGHT TIME RIGHT PLACE: RIGHT TIME RIGHT PLACE...  \n",
       "16546                 UCA storms back, falls in overtime  \n",
       "\n",
       "[12491 rows x 2 columns]"
      ]
     },
     "execution_count": 29,
     "metadata": {},
     "output_type": "execute_result"
    }
   ],
   "source": [
    "titles_df"
   ]
  },
  {
   "cell_type": "code",
   "execution_count": null,
   "metadata": {},
   "outputs": [],
   "source": []
  }
 ],
 "metadata": {
  "kernelspec": {
   "display_name": "Python 3",
   "language": "python",
   "name": "python3"
  },
  "language_info": {
   "codemirror_mode": {
    "name": "ipython",
    "version": 3
   },
   "file_extension": ".py",
   "mimetype": "text/x-python",
   "name": "python",
   "nbconvert_exporter": "python",
   "pygments_lexer": "ipython3",
   "version": "3.8.3"
  }
 },
 "nbformat": 4,
 "nbformat_minor": 4
}
